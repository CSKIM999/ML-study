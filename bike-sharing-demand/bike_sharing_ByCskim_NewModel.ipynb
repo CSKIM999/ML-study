{
 "metadata": {
  "language_info": {
   "codemirror_mode": {
    "name": "ipython",
    "version": 3
   },
   "file_extension": ".py",
   "mimetype": "text/x-python",
   "name": "python",
   "nbconvert_exporter": "python",
   "pygments_lexer": "ipython3",
   "version": "3.9.2"
  },
  "orig_nbformat": 2,
  "kernelspec": {
   "name": "python392jvsc74a57bd063fd5069d213b44bf678585dea6b12cceca9941eaf7f819626cde1f2670de90d",
   "display_name": "Python 3.9.2 64-bit"
  },
  "metadata": {
   "interpreter": {
    "hash": "63fd5069d213b44bf678585dea6b12cceca9941eaf7f819626cde1f2670de90d"
   }
  }
 },
 "nbformat": 4,
 "nbformat_minor": 2,
 "cells": [
  {
   "cell_type": "code",
   "execution_count": 21,
   "metadata": {},
   "outputs": [],
   "source": [
    "import pandas as pd\n",
    "import numpy as np\n",
    "import matplotlib as mpl\n",
    "import matplotlib.pyplot as plt\n",
    "import seaborn as sns \n",
    "import missingno as msno\n",
    "from scipy import stats \n",
    "import matplotlib.font_manager as fm\n",
    "from sklearn.ensemble import RandomForestClassifier\n",
    "from sklearn.metrics import make_scorer\n",
    "from sklearn.model_selection import KFold\n",
    "from sklearn.model_selection import cross_val_score\n",
    "from sklearn.ensemble import RandomForestRegressor\n",
    "\n",
    "\n",
    "\n",
    "k_fold = KFold(n_splits=10,shuffle=True,random_state=0)\n",
    "\n",
    "\n",
    "%matplotlib inline \n",
    "\n",
    "import warnings\n",
    "warnings.filterwarnings('ignore',category=DeprecationWarning)\n",
    "\n",
    "\n",
    "plt.style.use('ggplot')"
   ]
  },
  {
   "cell_type": "code",
   "execution_count": 22,
   "metadata": {},
   "outputs": [
    {
     "output_type": "execute_result",
     "data": {
      "text/plain": [
       "(10886, 16)"
      ]
     },
     "metadata": {},
     "execution_count": 22
    }
   ],
   "source": [
    "train = pd.read_csv('data/train.csv', parse_dates=['datetime'])\n",
    "test = pd.read_csv('data/test.csv', parse_dates=['datetime'])\n",
    "\n",
    "train['year']=train['datetime'].dt.year\n",
    "train['month']=train['datetime'].dt.month\n",
    "train['hour']=train['datetime'].dt.hour\n",
    "train['dayofweek']=train['datetime'].dt.dayofweek\n",
    "train.shape\n"
   ]
  },
  {
   "cell_type": "code",
   "execution_count": 23,
   "metadata": {},
   "outputs": [
    {
     "output_type": "execute_result",
     "data": {
      "text/plain": [
       "(6493, 13)"
      ]
     },
     "metadata": {},
     "execution_count": 23
    }
   ],
   "source": [
    "test['year']=test['datetime'].dt.year\n",
    "test['month']=test['datetime'].dt.month\n",
    "test['hour']=test['datetime'].dt.hour\n",
    "test['dayofweek']=test['datetime'].dt.dayofweek\n",
    "test.shape"
   ]
  },
  {
   "cell_type": "code",
   "execution_count": 24,
   "metadata": {},
   "outputs": [],
   "source": [
    "categorical_feature_names = ['season','holiday','workingday','weather','dayofweek','month','year','hour']\n",
    "\n",
    "\n",
    "for var in categorical_feature_names:\n",
    "    train[var] =train[var].astype('category')\n",
    "    test[var] =test[var].astype('category')"
   ]
  },
  {
   "cell_type": "code",
   "execution_count": 25,
   "metadata": {},
   "outputs": [
    {
     "output_type": "execute_result",
     "data": {
      "text/plain": [
       "['season',\n",
       " 'holiday',\n",
       " 'windspeed',\n",
       " 'temp',\n",
       " 'atemp',\n",
       " 'humidity',\n",
       " 'workingday',\n",
       " 'weather',\n",
       " 'dayofweek',\n",
       " 'year',\n",
       " 'hour']"
      ]
     },
     "metadata": {},
     "execution_count": 25
    }
   ],
   "source": [
    "feature_names = ['season','holiday','windspeed','temp','atemp','humidity','workingday','weather','dayofweek','year','hour']\n",
    "\n",
    "feature_names"
   ]
  },
  {
   "cell_type": "code",
   "execution_count": 26,
   "metadata": {},
   "outputs": [
    {
     "output_type": "stream",
     "name": "stdout",
     "text": [
      "(10886, 11)\n"
     ]
    },
    {
     "output_type": "execute_result",
     "data": {
      "text/plain": [
       "  season holiday  windspeed  temp   atemp  humidity workingday weather  \\\n",
       "0      1       0        0.0  9.84  14.395        81          0       1   \n",
       "1      1       0        0.0  9.02  13.635        80          0       1   \n",
       "2      1       0        0.0  9.02  13.635        80          0       1   \n",
       "3      1       0        0.0  9.84  14.395        75          0       1   \n",
       "4      1       0        0.0  9.84  14.395        75          0       1   \n",
       "\n",
       "  dayofweek  year hour  \n",
       "0         5  2011    0  \n",
       "1         5  2011    1  \n",
       "2         5  2011    2  \n",
       "3         5  2011    3  \n",
       "4         5  2011    4  "
      ],
      "text/html": "<div>\n<style scoped>\n    .dataframe tbody tr th:only-of-type {\n        vertical-align: middle;\n    }\n\n    .dataframe tbody tr th {\n        vertical-align: top;\n    }\n\n    .dataframe thead th {\n        text-align: right;\n    }\n</style>\n<table border=\"1\" class=\"dataframe\">\n  <thead>\n    <tr style=\"text-align: right;\">\n      <th></th>\n      <th>season</th>\n      <th>holiday</th>\n      <th>windspeed</th>\n      <th>temp</th>\n      <th>atemp</th>\n      <th>humidity</th>\n      <th>workingday</th>\n      <th>weather</th>\n      <th>dayofweek</th>\n      <th>year</th>\n      <th>hour</th>\n    </tr>\n  </thead>\n  <tbody>\n    <tr>\n      <th>0</th>\n      <td>1</td>\n      <td>0</td>\n      <td>0.0</td>\n      <td>9.84</td>\n      <td>14.395</td>\n      <td>81</td>\n      <td>0</td>\n      <td>1</td>\n      <td>5</td>\n      <td>2011</td>\n      <td>0</td>\n    </tr>\n    <tr>\n      <th>1</th>\n      <td>1</td>\n      <td>0</td>\n      <td>0.0</td>\n      <td>9.02</td>\n      <td>13.635</td>\n      <td>80</td>\n      <td>0</td>\n      <td>1</td>\n      <td>5</td>\n      <td>2011</td>\n      <td>1</td>\n    </tr>\n    <tr>\n      <th>2</th>\n      <td>1</td>\n      <td>0</td>\n      <td>0.0</td>\n      <td>9.02</td>\n      <td>13.635</td>\n      <td>80</td>\n      <td>0</td>\n      <td>1</td>\n      <td>5</td>\n      <td>2011</td>\n      <td>2</td>\n    </tr>\n    <tr>\n      <th>3</th>\n      <td>1</td>\n      <td>0</td>\n      <td>0.0</td>\n      <td>9.84</td>\n      <td>14.395</td>\n      <td>75</td>\n      <td>0</td>\n      <td>1</td>\n      <td>5</td>\n      <td>2011</td>\n      <td>3</td>\n    </tr>\n    <tr>\n      <th>4</th>\n      <td>1</td>\n      <td>0</td>\n      <td>0.0</td>\n      <td>9.84</td>\n      <td>14.395</td>\n      <td>75</td>\n      <td>0</td>\n      <td>1</td>\n      <td>5</td>\n      <td>2011</td>\n      <td>4</td>\n    </tr>\n  </tbody>\n</table>\n</div>"
     },
     "metadata": {},
     "execution_count": 26
    }
   ],
   "source": [
    "X_train = train[feature_names]\n",
    "\n",
    "print(X_train.shape)\n",
    "X_train.head()"
   ]
  },
  {
   "cell_type": "code",
   "execution_count": 27,
   "metadata": {},
   "outputs": [
    {
     "output_type": "stream",
     "name": "stdout",
     "text": [
      "(6493, 11)\n"
     ]
    },
    {
     "output_type": "execute_result",
     "data": {
      "text/plain": [
       "  season holiday  windspeed   temp   atemp  humidity workingday weather  \\\n",
       "0      1       0    26.0027  10.66  11.365        56          1       1   \n",
       "1      1       0     0.0000  10.66  13.635        56          1       1   \n",
       "2      1       0     0.0000  10.66  13.635        56          1       1   \n",
       "3      1       0    11.0014  10.66  12.880        56          1       1   \n",
       "4      1       0    11.0014  10.66  12.880        56          1       1   \n",
       "\n",
       "  dayofweek  year hour  \n",
       "0         3  2011    0  \n",
       "1         3  2011    1  \n",
       "2         3  2011    2  \n",
       "3         3  2011    3  \n",
       "4         3  2011    4  "
      ],
      "text/html": "<div>\n<style scoped>\n    .dataframe tbody tr th:only-of-type {\n        vertical-align: middle;\n    }\n\n    .dataframe tbody tr th {\n        vertical-align: top;\n    }\n\n    .dataframe thead th {\n        text-align: right;\n    }\n</style>\n<table border=\"1\" class=\"dataframe\">\n  <thead>\n    <tr style=\"text-align: right;\">\n      <th></th>\n      <th>season</th>\n      <th>holiday</th>\n      <th>windspeed</th>\n      <th>temp</th>\n      <th>atemp</th>\n      <th>humidity</th>\n      <th>workingday</th>\n      <th>weather</th>\n      <th>dayofweek</th>\n      <th>year</th>\n      <th>hour</th>\n    </tr>\n  </thead>\n  <tbody>\n    <tr>\n      <th>0</th>\n      <td>1</td>\n      <td>0</td>\n      <td>26.0027</td>\n      <td>10.66</td>\n      <td>11.365</td>\n      <td>56</td>\n      <td>1</td>\n      <td>1</td>\n      <td>3</td>\n      <td>2011</td>\n      <td>0</td>\n    </tr>\n    <tr>\n      <th>1</th>\n      <td>1</td>\n      <td>0</td>\n      <td>0.0000</td>\n      <td>10.66</td>\n      <td>13.635</td>\n      <td>56</td>\n      <td>1</td>\n      <td>1</td>\n      <td>3</td>\n      <td>2011</td>\n      <td>1</td>\n    </tr>\n    <tr>\n      <th>2</th>\n      <td>1</td>\n      <td>0</td>\n      <td>0.0000</td>\n      <td>10.66</td>\n      <td>13.635</td>\n      <td>56</td>\n      <td>1</td>\n      <td>1</td>\n      <td>3</td>\n      <td>2011</td>\n      <td>2</td>\n    </tr>\n    <tr>\n      <th>3</th>\n      <td>1</td>\n      <td>0</td>\n      <td>11.0014</td>\n      <td>10.66</td>\n      <td>12.880</td>\n      <td>56</td>\n      <td>1</td>\n      <td>1</td>\n      <td>3</td>\n      <td>2011</td>\n      <td>3</td>\n    </tr>\n    <tr>\n      <th>4</th>\n      <td>1</td>\n      <td>0</td>\n      <td>11.0014</td>\n      <td>10.66</td>\n      <td>12.880</td>\n      <td>56</td>\n      <td>1</td>\n      <td>1</td>\n      <td>3</td>\n      <td>2011</td>\n      <td>4</td>\n    </tr>\n  </tbody>\n</table>\n</div>"
     },
     "metadata": {},
     "execution_count": 27
    }
   ],
   "source": [
    "X_test = test[feature_names]\n",
    "\n",
    "print(X_test.shape)\n",
    "X_test.head()"
   ]
  },
  {
   "cell_type": "code",
   "execution_count": 28,
   "metadata": {},
   "outputs": [
    {
     "output_type": "stream",
     "name": "stdout",
     "text": [
      "(10886,)\n"
     ]
    },
    {
     "output_type": "execute_result",
     "data": {
      "text/plain": [
       "0    16\n",
       "1    40\n",
       "2    32\n",
       "3    13\n",
       "4     1\n",
       "Name: count, dtype: int64"
      ]
     },
     "metadata": {},
     "execution_count": 28
    }
   ],
   "source": [
    "label_name ='count'\n",
    "\n",
    "y_train = train[label_name]\n",
    "\n",
    "print(y_train.shape)\n",
    "y_train.head()\n"
   ]
  },
  {
   "cell_type": "code",
   "execution_count": 29,
   "metadata": {},
   "outputs": [
    {
     "output_type": "execute_result",
     "data": {
      "text/plain": [
       "make_scorer(rmsle)"
      ]
     },
     "metadata": {},
     "execution_count": 29
    }
   ],
   "source": [
    "def rmsle(predicted_values, actual_values,convertExp=True):\n",
    "    if convertExp:\n",
    "        predicted_values = np.exp(predicted_values),\n",
    "        actual_values = np.exp(actual_values)\n",
    "        \n",
    "    predicted_values = np.array(predicted_values)\n",
    "    actual_values = np.array(actual_values)\n",
    "    \n",
    "    log_predict = np.log(predicted_values + 1)\n",
    "    log_actual = np.log(actual_values + 1)\n",
    "    \n",
    "    difference = log_predict - log_actual\n",
    "    difference = np.square(difference)\n",
    "    \n",
    "    mean_difference = difference.mean()\n",
    "    \n",
    "    score = np.sqrt(mean_difference)\n",
    "    \n",
    "    return score\n",
    "\n",
    "rmsle_scorer = make_scorer(rmsle)\n",
    "rmsle_scorer"
   ]
  },
  {
   "source": [
    "# 선형회귀모델링  Linear Regression Model\n",
    "* 선형회귀는 매개변수가 없는것이 장점이나, 동시에 모델의 복잡도를 제어할 수 없는것이 단점"
   ],
   "cell_type": "markdown",
   "metadata": {}
  },
  {
   "cell_type": "code",
   "execution_count": 30,
   "metadata": {},
   "outputs": [
    {
     "output_type": "stream",
     "name": "stdout",
     "text": [
      "RMSLE Value For Linear Regression :  0.9796533446288495\n"
     ]
    }
   ],
   "source": [
    "from sklearn.linear_model import LinearRegression, Ridge, Lasso\n",
    "from sklearn.model_selection import GridSearchCV\n",
    "from sklearn import metrics\n",
    "pd.options.mode.chained_assignment = None\n",
    "\n",
    "# 선형회귀모델 초기화\n",
    "lModel = LinearRegression()\n",
    "\n",
    "# 모델 학습\n",
    "y_train_log = np.log1p(y_train)\n",
    "lModel.fit(X_train,y_train_log)\n",
    "\n",
    "# 예측하고 정확도 평가\n",
    "preds = lModel.predict(X_train)\n",
    "print('RMSLE Value For Linear Regression : ',rmsle(np.exp(y_train_log),np.exp(preds),False))\n",
    "\n",
    "\n"
   ]
  },
  {
   "source": [
    "# 릿지 모델 Regularization Model - Ridge\n",
    "* 회귀를 위한 선형모델\n",
    "* 가중치 (w) 의 모든 원소가 0에 가깝게 만들어 모든 피처가 주는 영향을 최소화\n",
    "* Regularization(규제) 는 오버피팅되지 않도록 모델을 강제제한 한다는 의미\n",
    "* Max_iter(최대 반복 횟수) 는 3000을 넣어주었음\n"
   ],
   "cell_type": "markdown",
   "metadata": {}
  },
  {
   "cell_type": "code",
   "execution_count": 32,
   "metadata": {},
   "outputs": [
    {
     "output_type": "stream",
     "name": "stdout",
     "text": [
      "{'alpha': 0.01, 'max_iter': 3000}\nRMSLE Value For Ridge Regression:  0.9796533426169115\n"
     ]
    },
    {
     "output_type": "execute_result",
     "data": {
      "text/plain": [
       "   mean_fit_time  std_fit_time  mean_score_time  std_score_time param_alpha  \\\n",
       "0       0.004003  1.907349e-07         0.002002    1.507891e-07        0.01   \n",
       "1       0.003583  4.752634e-04         0.001822    4.124494e-04         0.1   \n",
       "2       0.003803  4.004241e-04         0.001802    4.003287e-04           1   \n",
       "3       0.003391  5.005792e-04         0.001802    4.004002e-04           2   \n",
       "4       0.003603  4.903687e-04         0.001801    4.003049e-04           3   \n",
       "\n",
       "  param_max_iter                             params  split0_test_score  \\\n",
       "0           3000  {'alpha': 0.01, 'max_iter': 3000}          -1.002580   \n",
       "1           3000   {'alpha': 0.1, 'max_iter': 3000}          -1.002583   \n",
       "2           3000     {'alpha': 1, 'max_iter': 3000}          -1.002611   \n",
       "3           3000     {'alpha': 2, 'max_iter': 3000}          -1.002641   \n",
       "4           3000     {'alpha': 3, 'max_iter': 3000}          -1.002672   \n",
       "\n",
       "   split1_test_score  split2_test_score  split3_test_score  split4_test_score  \\\n",
       "0          -0.905357          -1.031529          -1.014918          -0.983504   \n",
       "1          -0.905357          -1.031529          -1.014917          -0.983506   \n",
       "2          -0.905357          -1.031526          -1.014909          -0.983519   \n",
       "3          -0.905356          -1.031523          -1.014900          -0.983534   \n",
       "4          -0.905355          -1.031520          -1.014891          -0.983549   \n",
       "\n",
       "   mean_test_score  std_test_score  rank_test_score  \n",
       "0        -0.987578        0.044002                1  \n",
       "1        -0.987578        0.044003                2  \n",
       "2        -0.987584        0.044003                3  \n",
       "3        -0.987591        0.044003                4  \n",
       "4        -0.987598        0.044003                5  "
      ],
      "text/html": "<div>\n<style scoped>\n    .dataframe tbody tr th:only-of-type {\n        vertical-align: middle;\n    }\n\n    .dataframe tbody tr th {\n        vertical-align: top;\n    }\n\n    .dataframe thead th {\n        text-align: right;\n    }\n</style>\n<table border=\"1\" class=\"dataframe\">\n  <thead>\n    <tr style=\"text-align: right;\">\n      <th></th>\n      <th>mean_fit_time</th>\n      <th>std_fit_time</th>\n      <th>mean_score_time</th>\n      <th>std_score_time</th>\n      <th>param_alpha</th>\n      <th>param_max_iter</th>\n      <th>params</th>\n      <th>split0_test_score</th>\n      <th>split1_test_score</th>\n      <th>split2_test_score</th>\n      <th>split3_test_score</th>\n      <th>split4_test_score</th>\n      <th>mean_test_score</th>\n      <th>std_test_score</th>\n      <th>rank_test_score</th>\n    </tr>\n  </thead>\n  <tbody>\n    <tr>\n      <th>0</th>\n      <td>0.004003</td>\n      <td>1.907349e-07</td>\n      <td>0.002002</td>\n      <td>1.507891e-07</td>\n      <td>0.01</td>\n      <td>3000</td>\n      <td>{'alpha': 0.01, 'max_iter': 3000}</td>\n      <td>-1.002580</td>\n      <td>-0.905357</td>\n      <td>-1.031529</td>\n      <td>-1.014918</td>\n      <td>-0.983504</td>\n      <td>-0.987578</td>\n      <td>0.044002</td>\n      <td>1</td>\n    </tr>\n    <tr>\n      <th>1</th>\n      <td>0.003583</td>\n      <td>4.752634e-04</td>\n      <td>0.001822</td>\n      <td>4.124494e-04</td>\n      <td>0.1</td>\n      <td>3000</td>\n      <td>{'alpha': 0.1, 'max_iter': 3000}</td>\n      <td>-1.002583</td>\n      <td>-0.905357</td>\n      <td>-1.031529</td>\n      <td>-1.014917</td>\n      <td>-0.983506</td>\n      <td>-0.987578</td>\n      <td>0.044003</td>\n      <td>2</td>\n    </tr>\n    <tr>\n      <th>2</th>\n      <td>0.003803</td>\n      <td>4.004241e-04</td>\n      <td>0.001802</td>\n      <td>4.003287e-04</td>\n      <td>1</td>\n      <td>3000</td>\n      <td>{'alpha': 1, 'max_iter': 3000}</td>\n      <td>-1.002611</td>\n      <td>-0.905357</td>\n      <td>-1.031526</td>\n      <td>-1.014909</td>\n      <td>-0.983519</td>\n      <td>-0.987584</td>\n      <td>0.044003</td>\n      <td>3</td>\n    </tr>\n    <tr>\n      <th>3</th>\n      <td>0.003391</td>\n      <td>5.005792e-04</td>\n      <td>0.001802</td>\n      <td>4.004002e-04</td>\n      <td>2</td>\n      <td>3000</td>\n      <td>{'alpha': 2, 'max_iter': 3000}</td>\n      <td>-1.002641</td>\n      <td>-0.905356</td>\n      <td>-1.031523</td>\n      <td>-1.014900</td>\n      <td>-0.983534</td>\n      <td>-0.987591</td>\n      <td>0.044003</td>\n      <td>4</td>\n    </tr>\n    <tr>\n      <th>4</th>\n      <td>0.003603</td>\n      <td>4.903687e-04</td>\n      <td>0.001801</td>\n      <td>4.003049e-04</td>\n      <td>3</td>\n      <td>3000</td>\n      <td>{'alpha': 3, 'max_iter': 3000}</td>\n      <td>-1.002672</td>\n      <td>-0.905355</td>\n      <td>-1.031520</td>\n      <td>-1.014891</td>\n      <td>-0.983549</td>\n      <td>-0.987598</td>\n      <td>0.044003</td>\n      <td>5</td>\n    </tr>\n  </tbody>\n</table>\n</div>"
     },
     "metadata": {},
     "execution_count": 32
    }
   ],
   "source": [
    "ridge_m_ = Ridge()\n",
    "ridge_params_ = { 'max_iter':[3000],'alpha':[0.01, 0.1, 1, 2, 3, 4, 10, 30,100,200,300,400,800,900,1000]}\n",
    "rmsle_scorer = metrics.make_scorer(rmsle, greater_is_better=False)\n",
    "# 주어진  alpha 중 최적의 alpha 를 GridSearch 를 통채 찾아내기\n",
    "grid_ridge_m = GridSearchCV( ridge_m_,ridge_params_,scoring = rmsle_scorer,cv=5)\n",
    "\n",
    "y_train_log = np.log1p(y_train)\n",
    "grid_ridge_m.fit( X_train, y_train_log )\n",
    "preds = grid_ridge_m.predict(X_train)\n",
    "print (grid_ridge_m.best_params_)\n",
    "print (\"RMSLE Value For Ridge Regression: \", rmsle(np.exp(y_train_log),np.exp(preds), False))\n",
    "\n",
    "df = pd.DataFrame(grid_ridge_m.cv_results_)\n",
    "df.head()"
   ]
  },
  {
   "source": [
    "# 라쏘 Reagularization Model - Lasso\n",
    "* 선형 회귀의 규제를 적용하는 대안\n",
    "* 계수를 0 에 가깝게 만들려고 하며, 이를 L1 규제라고 하며, 어떤 계수는 0 이 되기도 하는데 이는 완전히 제외하는 피처가 생긴다는 의미다.\n",
    "* 피처 선택이 자동으로 이루어진다고도 볼 수 있음\n",
    "* 알파값의 기본값은 1.0 이며, 과소적합을 줄이기 위해서는 이 값을 줄여야한다.\n",
    "* 그리드 서치로 아래 라쏘모델을 실행했을 때 베스트 알파값은 0.0025\n",
    "* Max_iter(최대 반복횟수) 는 3000을 넣었음"
   ],
   "cell_type": "markdown",
   "metadata": {}
  },
  {
   "cell_type": "code",
   "execution_count": 33,
   "metadata": {},
   "outputs": [
    {
     "output_type": "stream",
     "name": "stdout",
     "text": [
      "{'alpha': 0.0025, 'max_iter': 3000}\nRMSLE Value For Lasso Regression:  0.9796675216165436\n"
     ]
    },
    {
     "output_type": "execute_result",
     "data": {
      "text/plain": [
       "       alpha     rmsle\n",
       "0  10.000000  1.397124\n",
       "1   1.000000  1.071947\n",
       "2   0.500000  1.062110\n",
       "3   0.333333  1.060815\n",
       "4   0.250000  1.061180"
      ],
      "text/html": "<div>\n<style scoped>\n    .dataframe tbody tr th:only-of-type {\n        vertical-align: middle;\n    }\n\n    .dataframe tbody tr th {\n        vertical-align: top;\n    }\n\n    .dataframe thead th {\n        text-align: right;\n    }\n</style>\n<table border=\"1\" class=\"dataframe\">\n  <thead>\n    <tr style=\"text-align: right;\">\n      <th></th>\n      <th>alpha</th>\n      <th>rmsle</th>\n    </tr>\n  </thead>\n  <tbody>\n    <tr>\n      <th>0</th>\n      <td>10.000000</td>\n      <td>1.397124</td>\n    </tr>\n    <tr>\n      <th>1</th>\n      <td>1.000000</td>\n      <td>1.071947</td>\n    </tr>\n    <tr>\n      <th>2</th>\n      <td>0.500000</td>\n      <td>1.062110</td>\n    </tr>\n    <tr>\n      <th>3</th>\n      <td>0.333333</td>\n      <td>1.060815</td>\n    </tr>\n    <tr>\n      <th>4</th>\n      <td>0.250000</td>\n      <td>1.061180</td>\n    </tr>\n  </tbody>\n</table>\n</div>"
     },
     "metadata": {},
     "execution_count": 33
    }
   ],
   "source": [
    "lasso_m_ = Lasso()\n",
    "\n",
    "alpha  = 1/np.array([0.1, 1, 2, 3, 4, 10, 30,100,200,300,400,800,900,1000])\n",
    "lasso_params_ = { 'max_iter':[3000],'alpha':alpha}\n",
    "\n",
    "grid_lasso_m = GridSearchCV( lasso_m_,lasso_params_,scoring = rmsle_scorer,cv=5)\n",
    "y_train_log = np.log1p(y_train)\n",
    "grid_lasso_m.fit( X_train , y_train_log )\n",
    "preds = grid_lasso_m.predict(X_train)\n",
    "print (grid_lasso_m.best_params_)\n",
    "print (\"RMSLE Value For Lasso Regression: \",rmsle(np.exp(y_train_log),np.exp(preds),False))\n",
    "\n",
    "df = pd.DataFrame(grid_lasso_m.cv_results_)\n",
    "df[\"alpha\"] = df[\"params\"].apply(lambda x:x[\"alpha\"])\n",
    "df[\"rmsle\"] = df[\"mean_test_score\"].apply(lambda x:-x)\n",
    "\n",
    "df[[\"alpha\", \"rmsle\"]].head()"
   ]
  },
  {
   "source": [
    "from sklearn.ensemble import RandomForestRegressor\n",
    "rfModel = RandomForestRegressor(n_estimators=100)\n",
    "\n",
    "y_train_log = np.log1p(y_train)\n",
    "rfModel.fit(X_train, y_train_log)\n",
    "\n",
    "preds = rfModel.predict(X_train)\n",
    "score = rmsle(np.exp(y_train_log),np.exp(preds),False)\n",
    "print (\"RMSLE Value For Random Forest: \",score)"
   ],
   "cell_type": "code",
   "metadata": {},
   "execution_count": 37,
   "outputs": [
    {
     "output_type": "stream",
     "name": "stdout",
     "text": [
      "RMSLE Value For Random Forest:  0.1069280920558958\n"
     ]
    }
   ]
  },
  {
   "cell_type": "code",
   "execution_count": 40,
   "metadata": {},
   "outputs": [
    {
     "output_type": "stream",
     "name": "stderr",
     "text": [
      "C:\\Python39\\lib\\site-packages\\seaborn\\distributions.py:2557: FutureWarning: `distplot` is a deprecated function and will be removed in a future version. Please adapt your code to use either `displot` (a figure-level function with similar flexibility) or `histplot` (an axes-level function for histograms).\n  warnings.warn(msg, FutureWarning)\nC:\\Python39\\lib\\site-packages\\seaborn\\distributions.py:2557: FutureWarning: `distplot` is a deprecated function and will be removed in a future version. Please adapt your code to use either `displot` (a figure-level function with similar flexibility) or `histplot` (an axes-level function for histograms).\n  warnings.warn(msg, FutureWarning)\n"
     ]
    },
    {
     "output_type": "execute_result",
     "data": {
      "text/plain": [
       "<AxesSubplot:ylabel='Density'>"
      ]
     },
     "metadata": {},
     "execution_count": 40
    },
    {
     "output_type": "display_data",
     "data": {
      "text/plain": "<Figure size 864x360 with 2 Axes>",
      "image/svg+xml": "<?xml version=\"1.0\" encoding=\"utf-8\" standalone=\"no\"?>\r\n<!DOCTYPE svg PUBLIC \"-//W3C//DTD SVG 1.1//EN\"\r\n  \"http://www.w3.org/Graphics/SVG/1.1/DTD/svg11.dtd\">\r\n<svg height=\"318.491875pt\" version=\"1.1\" viewBox=\"0 0 735.241875 318.491875\" width=\"735.241875pt\" xmlns=\"http://www.w3.org/2000/svg\" xmlns:xlink=\"http://www.w3.org/1999/xlink\">\r\n <metadata>\r\n  <rdf:RDF xmlns:cc=\"http://creativecommons.org/ns#\" xmlns:dc=\"http://purl.org/dc/elements/1.1/\" xmlns:rdf=\"http://www.w3.org/1999/02/22-rdf-syntax-ns#\">\r\n   <cc:Work>\r\n    <dc:type rdf:resource=\"http://purl.org/dc/dcmitype/StillImage\"/>\r\n    <dc:date>2021-05-03T15:48:29.912392</dc:date>\r\n    <dc:format>image/svg+xml</dc:format>\r\n    <dc:creator>\r\n     <cc:Agent>\r\n      <dc:title>Matplotlib v3.4.1, https://matplotlib.org/</dc:title>\r\n     </cc:Agent>\r\n    </dc:creator>\r\n   </cc:Work>\r\n  </rdf:RDF>\r\n </metadata>\r\n <defs>\r\n  <style type=\"text/css\">*{stroke-linecap:butt;stroke-linejoin:round;}</style>\r\n </defs>\r\n <g id=\"figure_1\">\r\n  <g id=\"patch_1\">\r\n   <path d=\"M 0 318.491875 \r\nL 735.241875 318.491875 \r\nL 735.241875 0 \r\nL 0 0 \r\nz\r\n\" style=\"fill:#ffffff;\"/>\r\n  </g>\r\n  <g id=\"axes_1\">\r\n   <g id=\"patch_2\">\r\n    <path d=\"M 58.441875 279 \r\nL 362.805511 279 \r\nL 362.805511 7.2 \r\nL 58.441875 7.2 \r\nz\r\n\" style=\"fill:#e5e5e5;\"/>\r\n   </g>\r\n   <g id=\"matplotlib.axis_1\">\r\n    <g id=\"xtick_1\">\r\n     <g id=\"line2d_1\">\r\n      <path clip-path=\"url(#p0d076fe9dc)\" d=\"M 92.491534 279 \r\nL 92.491534 7.2 \r\n\" style=\"fill:none;stroke:#ffffff;stroke-linecap:square;stroke-width:0.8;\"/>\r\n     </g>\r\n     <g id=\"line2d_2\">\r\n      <defs>\r\n       <path d=\"M 0 0 \r\nL 0 3.5 \r\n\" id=\"m8d23b1af21\" style=\"stroke:#555555;stroke-width:0.8;\"/>\r\n      </defs>\r\n      <g>\r\n       <use style=\"fill:#555555;stroke:#555555;stroke-width:0.8;\" x=\"92.491534\" xlink:href=\"#m8d23b1af21\" y=\"279\"/>\r\n      </g>\r\n     </g>\r\n     <g id=\"text_1\">\r\n      <!-- 0 -->\r\n      <g style=\"fill:#555555;\" transform=\"translate(89.310284 293.598437)scale(0.1 -0.1)\">\r\n       <defs>\r\n        <path d=\"M 2034 4250 \r\nQ 1547 4250 1301 3770 \r\nQ 1056 3291 1056 2328 \r\nQ 1056 1369 1301 889 \r\nQ 1547 409 2034 409 \r\nQ 2525 409 2770 889 \r\nQ 3016 1369 3016 2328 \r\nQ 3016 3291 2770 3770 \r\nQ 2525 4250 2034 4250 \r\nz\r\nM 2034 4750 \r\nQ 2819 4750 3233 4129 \r\nQ 3647 3509 3647 2328 \r\nQ 3647 1150 3233 529 \r\nQ 2819 -91 2034 -91 \r\nQ 1250 -91 836 529 \r\nQ 422 1150 422 2328 \r\nQ 422 3509 836 4129 \r\nQ 1250 4750 2034 4750 \r\nz\r\n\" id=\"DejaVuSans-30\" transform=\"scale(0.015625)\"/>\r\n       </defs>\r\n       <use xlink:href=\"#DejaVuSans-30\"/>\r\n      </g>\r\n     </g>\r\n    </g>\r\n    <g id=\"xtick_2\">\r\n     <g id=\"line2d_3\">\r\n      <path clip-path=\"url(#p0d076fe9dc)\" d=\"M 140.807346 279 \r\nL 140.807346 7.2 \r\n\" style=\"fill:none;stroke:#ffffff;stroke-linecap:square;stroke-width:0.8;\"/>\r\n     </g>\r\n     <g id=\"line2d_4\">\r\n      <g>\r\n       <use style=\"fill:#555555;stroke:#555555;stroke-width:0.8;\" x=\"140.807346\" xlink:href=\"#m8d23b1af21\" y=\"279\"/>\r\n      </g>\r\n     </g>\r\n     <g id=\"text_2\">\r\n      <!-- 200 -->\r\n      <g style=\"fill:#555555;\" transform=\"translate(131.263596 293.598437)scale(0.1 -0.1)\">\r\n       <defs>\r\n        <path d=\"M 1228 531 \r\nL 3431 531 \r\nL 3431 0 \r\nL 469 0 \r\nL 469 531 \r\nQ 828 903 1448 1529 \r\nQ 2069 2156 2228 2338 \r\nQ 2531 2678 2651 2914 \r\nQ 2772 3150 2772 3378 \r\nQ 2772 3750 2511 3984 \r\nQ 2250 4219 1831 4219 \r\nQ 1534 4219 1204 4116 \r\nQ 875 4013 500 3803 \r\nL 500 4441 \r\nQ 881 4594 1212 4672 \r\nQ 1544 4750 1819 4750 \r\nQ 2544 4750 2975 4387 \r\nQ 3406 4025 3406 3419 \r\nQ 3406 3131 3298 2873 \r\nQ 3191 2616 2906 2266 \r\nQ 2828 2175 2409 1742 \r\nQ 1991 1309 1228 531 \r\nz\r\n\" id=\"DejaVuSans-32\" transform=\"scale(0.015625)\"/>\r\n       </defs>\r\n       <use xlink:href=\"#DejaVuSans-32\"/>\r\n       <use x=\"63.623047\" xlink:href=\"#DejaVuSans-30\"/>\r\n       <use x=\"127.246094\" xlink:href=\"#DejaVuSans-30\"/>\r\n      </g>\r\n     </g>\r\n    </g>\r\n    <g id=\"xtick_3\">\r\n     <g id=\"line2d_5\">\r\n      <path clip-path=\"url(#p0d076fe9dc)\" d=\"M 189.123157 279 \r\nL 189.123157 7.2 \r\n\" style=\"fill:none;stroke:#ffffff;stroke-linecap:square;stroke-width:0.8;\"/>\r\n     </g>\r\n     <g id=\"line2d_6\">\r\n      <g>\r\n       <use style=\"fill:#555555;stroke:#555555;stroke-width:0.8;\" x=\"189.123157\" xlink:href=\"#m8d23b1af21\" y=\"279\"/>\r\n      </g>\r\n     </g>\r\n     <g id=\"text_3\">\r\n      <!-- 400 -->\r\n      <g style=\"fill:#555555;\" transform=\"translate(179.579407 293.598437)scale(0.1 -0.1)\">\r\n       <defs>\r\n        <path d=\"M 2419 4116 \r\nL 825 1625 \r\nL 2419 1625 \r\nL 2419 4116 \r\nz\r\nM 2253 4666 \r\nL 3047 4666 \r\nL 3047 1625 \r\nL 3713 1625 \r\nL 3713 1100 \r\nL 3047 1100 \r\nL 3047 0 \r\nL 2419 0 \r\nL 2419 1100 \r\nL 313 1100 \r\nL 313 1709 \r\nL 2253 4666 \r\nz\r\n\" id=\"DejaVuSans-34\" transform=\"scale(0.015625)\"/>\r\n       </defs>\r\n       <use xlink:href=\"#DejaVuSans-34\"/>\r\n       <use x=\"63.623047\" xlink:href=\"#DejaVuSans-30\"/>\r\n       <use x=\"127.246094\" xlink:href=\"#DejaVuSans-30\"/>\r\n      </g>\r\n     </g>\r\n    </g>\r\n    <g id=\"xtick_4\">\r\n     <g id=\"line2d_7\">\r\n      <path clip-path=\"url(#p0d076fe9dc)\" d=\"M 237.438969 279 \r\nL 237.438969 7.2 \r\n\" style=\"fill:none;stroke:#ffffff;stroke-linecap:square;stroke-width:0.8;\"/>\r\n     </g>\r\n     <g id=\"line2d_8\">\r\n      <g>\r\n       <use style=\"fill:#555555;stroke:#555555;stroke-width:0.8;\" x=\"237.438969\" xlink:href=\"#m8d23b1af21\" y=\"279\"/>\r\n      </g>\r\n     </g>\r\n     <g id=\"text_4\">\r\n      <!-- 600 -->\r\n      <g style=\"fill:#555555;\" transform=\"translate(227.895219 293.598437)scale(0.1 -0.1)\">\r\n       <defs>\r\n        <path d=\"M 2113 2584 \r\nQ 1688 2584 1439 2293 \r\nQ 1191 2003 1191 1497 \r\nQ 1191 994 1439 701 \r\nQ 1688 409 2113 409 \r\nQ 2538 409 2786 701 \r\nQ 3034 994 3034 1497 \r\nQ 3034 2003 2786 2293 \r\nQ 2538 2584 2113 2584 \r\nz\r\nM 3366 4563 \r\nL 3366 3988 \r\nQ 3128 4100 2886 4159 \r\nQ 2644 4219 2406 4219 \r\nQ 1781 4219 1451 3797 \r\nQ 1122 3375 1075 2522 \r\nQ 1259 2794 1537 2939 \r\nQ 1816 3084 2150 3084 \r\nQ 2853 3084 3261 2657 \r\nQ 3669 2231 3669 1497 \r\nQ 3669 778 3244 343 \r\nQ 2819 -91 2113 -91 \r\nQ 1303 -91 875 529 \r\nQ 447 1150 447 2328 \r\nQ 447 3434 972 4092 \r\nQ 1497 4750 2381 4750 \r\nQ 2619 4750 2861 4703 \r\nQ 3103 4656 3366 4563 \r\nz\r\n\" id=\"DejaVuSans-36\" transform=\"scale(0.015625)\"/>\r\n       </defs>\r\n       <use xlink:href=\"#DejaVuSans-36\"/>\r\n       <use x=\"63.623047\" xlink:href=\"#DejaVuSans-30\"/>\r\n       <use x=\"127.246094\" xlink:href=\"#DejaVuSans-30\"/>\r\n      </g>\r\n     </g>\r\n    </g>\r\n    <g id=\"xtick_5\">\r\n     <g id=\"line2d_9\">\r\n      <path clip-path=\"url(#p0d076fe9dc)\" d=\"M 285.75478 279 \r\nL 285.75478 7.2 \r\n\" style=\"fill:none;stroke:#ffffff;stroke-linecap:square;stroke-width:0.8;\"/>\r\n     </g>\r\n     <g id=\"line2d_10\">\r\n      <g>\r\n       <use style=\"fill:#555555;stroke:#555555;stroke-width:0.8;\" x=\"285.75478\" xlink:href=\"#m8d23b1af21\" y=\"279\"/>\r\n      </g>\r\n     </g>\r\n     <g id=\"text_5\">\r\n      <!-- 800 -->\r\n      <g style=\"fill:#555555;\" transform=\"translate(276.21103 293.598437)scale(0.1 -0.1)\">\r\n       <defs>\r\n        <path d=\"M 2034 2216 \r\nQ 1584 2216 1326 1975 \r\nQ 1069 1734 1069 1313 \r\nQ 1069 891 1326 650 \r\nQ 1584 409 2034 409 \r\nQ 2484 409 2743 651 \r\nQ 3003 894 3003 1313 \r\nQ 3003 1734 2745 1975 \r\nQ 2488 2216 2034 2216 \r\nz\r\nM 1403 2484 \r\nQ 997 2584 770 2862 \r\nQ 544 3141 544 3541 \r\nQ 544 4100 942 4425 \r\nQ 1341 4750 2034 4750 \r\nQ 2731 4750 3128 4425 \r\nQ 3525 4100 3525 3541 \r\nQ 3525 3141 3298 2862 \r\nQ 3072 2584 2669 2484 \r\nQ 3125 2378 3379 2068 \r\nQ 3634 1759 3634 1313 \r\nQ 3634 634 3220 271 \r\nQ 2806 -91 2034 -91 \r\nQ 1263 -91 848 271 \r\nQ 434 634 434 1313 \r\nQ 434 1759 690 2068 \r\nQ 947 2378 1403 2484 \r\nz\r\nM 1172 3481 \r\nQ 1172 3119 1398 2916 \r\nQ 1625 2713 2034 2713 \r\nQ 2441 2713 2670 2916 \r\nQ 2900 3119 2900 3481 \r\nQ 2900 3844 2670 4047 \r\nQ 2441 4250 2034 4250 \r\nQ 1625 4250 1398 4047 \r\nQ 1172 3844 1172 3481 \r\nz\r\n\" id=\"DejaVuSans-38\" transform=\"scale(0.015625)\"/>\r\n       </defs>\r\n       <use xlink:href=\"#DejaVuSans-38\"/>\r\n       <use x=\"63.623047\" xlink:href=\"#DejaVuSans-30\"/>\r\n       <use x=\"127.246094\" xlink:href=\"#DejaVuSans-30\"/>\r\n      </g>\r\n     </g>\r\n    </g>\r\n    <g id=\"xtick_6\">\r\n     <g id=\"line2d_11\">\r\n      <path clip-path=\"url(#p0d076fe9dc)\" d=\"M 334.070592 279 \r\nL 334.070592 7.2 \r\n\" style=\"fill:none;stroke:#ffffff;stroke-linecap:square;stroke-width:0.8;\"/>\r\n     </g>\r\n     <g id=\"line2d_12\">\r\n      <g>\r\n       <use style=\"fill:#555555;stroke:#555555;stroke-width:0.8;\" x=\"334.070592\" xlink:href=\"#m8d23b1af21\" y=\"279\"/>\r\n      </g>\r\n     </g>\r\n     <g id=\"text_6\">\r\n      <!-- 1000 -->\r\n      <g style=\"fill:#555555;\" transform=\"translate(321.345592 293.598437)scale(0.1 -0.1)\">\r\n       <defs>\r\n        <path d=\"M 794 531 \r\nL 1825 531 \r\nL 1825 4091 \r\nL 703 3866 \r\nL 703 4441 \r\nL 1819 4666 \r\nL 2450 4666 \r\nL 2450 531 \r\nL 3481 531 \r\nL 3481 0 \r\nL 794 0 \r\nL 794 531 \r\nz\r\n\" id=\"DejaVuSans-31\" transform=\"scale(0.015625)\"/>\r\n       </defs>\r\n       <use xlink:href=\"#DejaVuSans-31\"/>\r\n       <use x=\"63.623047\" xlink:href=\"#DejaVuSans-30\"/>\r\n       <use x=\"127.246094\" xlink:href=\"#DejaVuSans-30\"/>\r\n       <use x=\"190.869141\" xlink:href=\"#DejaVuSans-30\"/>\r\n      </g>\r\n     </g>\r\n    </g>\r\n    <g id=\"text_7\">\r\n     <!-- count -->\r\n     <g style=\"fill:#555555;\" transform=\"translate(193.696193 308.79625)scale(0.12 -0.12)\">\r\n      <defs>\r\n       <path d=\"M 3122 3366 \r\nL 3122 2828 \r\nQ 2878 2963 2633 3030 \r\nQ 2388 3097 2138 3097 \r\nQ 1578 3097 1268 2742 \r\nQ 959 2388 959 1747 \r\nQ 959 1106 1268 751 \r\nQ 1578 397 2138 397 \r\nQ 2388 397 2633 464 \r\nQ 2878 531 3122 666 \r\nL 3122 134 \r\nQ 2881 22 2623 -34 \r\nQ 2366 -91 2075 -91 \r\nQ 1284 -91 818 406 \r\nQ 353 903 353 1747 \r\nQ 353 2603 823 3093 \r\nQ 1294 3584 2113 3584 \r\nQ 2378 3584 2631 3529 \r\nQ 2884 3475 3122 3366 \r\nz\r\n\" id=\"DejaVuSans-63\" transform=\"scale(0.015625)\"/>\r\n       <path d=\"M 1959 3097 \r\nQ 1497 3097 1228 2736 \r\nQ 959 2375 959 1747 \r\nQ 959 1119 1226 758 \r\nQ 1494 397 1959 397 \r\nQ 2419 397 2687 759 \r\nQ 2956 1122 2956 1747 \r\nQ 2956 2369 2687 2733 \r\nQ 2419 3097 1959 3097 \r\nz\r\nM 1959 3584 \r\nQ 2709 3584 3137 3096 \r\nQ 3566 2609 3566 1747 \r\nQ 3566 888 3137 398 \r\nQ 2709 -91 1959 -91 \r\nQ 1206 -91 779 398 \r\nQ 353 888 353 1747 \r\nQ 353 2609 779 3096 \r\nQ 1206 3584 1959 3584 \r\nz\r\n\" id=\"DejaVuSans-6f\" transform=\"scale(0.015625)\"/>\r\n       <path d=\"M 544 1381 \r\nL 544 3500 \r\nL 1119 3500 \r\nL 1119 1403 \r\nQ 1119 906 1312 657 \r\nQ 1506 409 1894 409 \r\nQ 2359 409 2629 706 \r\nQ 2900 1003 2900 1516 \r\nL 2900 3500 \r\nL 3475 3500 \r\nL 3475 0 \r\nL 2900 0 \r\nL 2900 538 \r\nQ 2691 219 2414 64 \r\nQ 2138 -91 1772 -91 \r\nQ 1169 -91 856 284 \r\nQ 544 659 544 1381 \r\nz\r\nM 1991 3584 \r\nL 1991 3584 \r\nz\r\n\" id=\"DejaVuSans-75\" transform=\"scale(0.015625)\"/>\r\n       <path d=\"M 3513 2113 \r\nL 3513 0 \r\nL 2938 0 \r\nL 2938 2094 \r\nQ 2938 2591 2744 2837 \r\nQ 2550 3084 2163 3084 \r\nQ 1697 3084 1428 2787 \r\nQ 1159 2491 1159 1978 \r\nL 1159 0 \r\nL 581 0 \r\nL 581 3500 \r\nL 1159 3500 \r\nL 1159 2956 \r\nQ 1366 3272 1645 3428 \r\nQ 1925 3584 2291 3584 \r\nQ 2894 3584 3203 3211 \r\nQ 3513 2838 3513 2113 \r\nz\r\n\" id=\"DejaVuSans-6e\" transform=\"scale(0.015625)\"/>\r\n       <path d=\"M 1172 4494 \r\nL 1172 3500 \r\nL 2356 3500 \r\nL 2356 3053 \r\nL 1172 3053 \r\nL 1172 1153 \r\nQ 1172 725 1289 603 \r\nQ 1406 481 1766 481 \r\nL 2356 481 \r\nL 2356 0 \r\nL 1766 0 \r\nQ 1100 0 847 248 \r\nQ 594 497 594 1153 \r\nL 594 3053 \r\nL 172 3053 \r\nL 172 3500 \r\nL 594 3500 \r\nL 594 4494 \r\nL 1172 4494 \r\nz\r\n\" id=\"DejaVuSans-74\" transform=\"scale(0.015625)\"/>\r\n      </defs>\r\n      <use xlink:href=\"#DejaVuSans-63\"/>\r\n      <use x=\"54.980469\" xlink:href=\"#DejaVuSans-6f\"/>\r\n      <use x=\"116.162109\" xlink:href=\"#DejaVuSans-75\"/>\r\n      <use x=\"179.541016\" xlink:href=\"#DejaVuSans-6e\"/>\r\n      <use x=\"242.919922\" xlink:href=\"#DejaVuSans-74\"/>\r\n     </g>\r\n    </g>\r\n   </g>\r\n   <g id=\"matplotlib.axis_2\">\r\n    <g id=\"ytick_1\">\r\n     <g id=\"line2d_13\">\r\n      <path clip-path=\"url(#p0d076fe9dc)\" d=\"M 58.441875 279 \r\nL 362.805511 279 \r\n\" style=\"fill:none;stroke:#ffffff;stroke-linecap:square;stroke-width:0.8;\"/>\r\n     </g>\r\n     <g id=\"line2d_14\">\r\n      <defs>\r\n       <path d=\"M 0 0 \r\nL -3.5 0 \r\n\" id=\"m7d375ab108\" style=\"stroke:#555555;stroke-width:0.8;\"/>\r\n      </defs>\r\n      <g>\r\n       <use style=\"fill:#555555;stroke:#555555;stroke-width:0.8;\" x=\"58.441875\" xlink:href=\"#m7d375ab108\" y=\"279\"/>\r\n      </g>\r\n     </g>\r\n     <g id=\"text_8\">\r\n      <!-- 0.000 -->\r\n      <g style=\"fill:#555555;\" transform=\"translate(22.81375 282.799219)scale(0.1 -0.1)\">\r\n       <defs>\r\n        <path d=\"M 684 794 \r\nL 1344 794 \r\nL 1344 0 \r\nL 684 0 \r\nL 684 794 \r\nz\r\n\" id=\"DejaVuSans-2e\" transform=\"scale(0.015625)\"/>\r\n       </defs>\r\n       <use xlink:href=\"#DejaVuSans-30\"/>\r\n       <use x=\"63.623047\" xlink:href=\"#DejaVuSans-2e\"/>\r\n       <use x=\"95.410156\" xlink:href=\"#DejaVuSans-30\"/>\r\n       <use x=\"159.033203\" xlink:href=\"#DejaVuSans-30\"/>\r\n       <use x=\"222.65625\" xlink:href=\"#DejaVuSans-30\"/>\r\n      </g>\r\n     </g>\r\n    </g>\r\n    <g id=\"ytick_2\">\r\n     <g id=\"line2d_15\">\r\n      <path clip-path=\"url(#p0d076fe9dc)\" d=\"M 58.441875 219.854004 \r\nL 362.805511 219.854004 \r\n\" style=\"fill:none;stroke:#ffffff;stroke-linecap:square;stroke-width:0.8;\"/>\r\n     </g>\r\n     <g id=\"line2d_16\">\r\n      <g>\r\n       <use style=\"fill:#555555;stroke:#555555;stroke-width:0.8;\" x=\"58.441875\" xlink:href=\"#m7d375ab108\" y=\"219.854004\"/>\r\n      </g>\r\n     </g>\r\n     <g id=\"text_9\">\r\n      <!-- 0.002 -->\r\n      <g style=\"fill:#555555;\" transform=\"translate(22.81375 223.653223)scale(0.1 -0.1)\">\r\n       <use xlink:href=\"#DejaVuSans-30\"/>\r\n       <use x=\"63.623047\" xlink:href=\"#DejaVuSans-2e\"/>\r\n       <use x=\"95.410156\" xlink:href=\"#DejaVuSans-30\"/>\r\n       <use x=\"159.033203\" xlink:href=\"#DejaVuSans-30\"/>\r\n       <use x=\"222.65625\" xlink:href=\"#DejaVuSans-32\"/>\r\n      </g>\r\n     </g>\r\n    </g>\r\n    <g id=\"ytick_3\">\r\n     <g id=\"line2d_17\">\r\n      <path clip-path=\"url(#p0d076fe9dc)\" d=\"M 58.441875 160.708008 \r\nL 362.805511 160.708008 \r\n\" style=\"fill:none;stroke:#ffffff;stroke-linecap:square;stroke-width:0.8;\"/>\r\n     </g>\r\n     <g id=\"line2d_18\">\r\n      <g>\r\n       <use style=\"fill:#555555;stroke:#555555;stroke-width:0.8;\" x=\"58.441875\" xlink:href=\"#m7d375ab108\" y=\"160.708008\"/>\r\n      </g>\r\n     </g>\r\n     <g id=\"text_10\">\r\n      <!-- 0.004 -->\r\n      <g style=\"fill:#555555;\" transform=\"translate(22.81375 164.507227)scale(0.1 -0.1)\">\r\n       <use xlink:href=\"#DejaVuSans-30\"/>\r\n       <use x=\"63.623047\" xlink:href=\"#DejaVuSans-2e\"/>\r\n       <use x=\"95.410156\" xlink:href=\"#DejaVuSans-30\"/>\r\n       <use x=\"159.033203\" xlink:href=\"#DejaVuSans-30\"/>\r\n       <use x=\"222.65625\" xlink:href=\"#DejaVuSans-34\"/>\r\n      </g>\r\n     </g>\r\n    </g>\r\n    <g id=\"ytick_4\">\r\n     <g id=\"line2d_19\">\r\n      <path clip-path=\"url(#p0d076fe9dc)\" d=\"M 58.441875 101.562013 \r\nL 362.805511 101.562013 \r\n\" style=\"fill:none;stroke:#ffffff;stroke-linecap:square;stroke-width:0.8;\"/>\r\n     </g>\r\n     <g id=\"line2d_20\">\r\n      <g>\r\n       <use style=\"fill:#555555;stroke:#555555;stroke-width:0.8;\" x=\"58.441875\" xlink:href=\"#m7d375ab108\" y=\"101.562013\"/>\r\n      </g>\r\n     </g>\r\n     <g id=\"text_11\">\r\n      <!-- 0.006 -->\r\n      <g style=\"fill:#555555;\" transform=\"translate(22.81375 105.361231)scale(0.1 -0.1)\">\r\n       <use xlink:href=\"#DejaVuSans-30\"/>\r\n       <use x=\"63.623047\" xlink:href=\"#DejaVuSans-2e\"/>\r\n       <use x=\"95.410156\" xlink:href=\"#DejaVuSans-30\"/>\r\n       <use x=\"159.033203\" xlink:href=\"#DejaVuSans-30\"/>\r\n       <use x=\"222.65625\" xlink:href=\"#DejaVuSans-36\"/>\r\n      </g>\r\n     </g>\r\n    </g>\r\n    <g id=\"ytick_5\">\r\n     <g id=\"line2d_21\">\r\n      <path clip-path=\"url(#p0d076fe9dc)\" d=\"M 58.441875 42.416017 \r\nL 362.805511 42.416017 \r\n\" style=\"fill:none;stroke:#ffffff;stroke-linecap:square;stroke-width:0.8;\"/>\r\n     </g>\r\n     <g id=\"line2d_22\">\r\n      <g>\r\n       <use style=\"fill:#555555;stroke:#555555;stroke-width:0.8;\" x=\"58.441875\" xlink:href=\"#m7d375ab108\" y=\"42.416017\"/>\r\n      </g>\r\n     </g>\r\n     <g id=\"text_12\">\r\n      <!-- 0.008 -->\r\n      <g style=\"fill:#555555;\" transform=\"translate(22.81375 46.215236)scale(0.1 -0.1)\">\r\n       <use xlink:href=\"#DejaVuSans-30\"/>\r\n       <use x=\"63.623047\" xlink:href=\"#DejaVuSans-2e\"/>\r\n       <use x=\"95.410156\" xlink:href=\"#DejaVuSans-30\"/>\r\n       <use x=\"159.033203\" xlink:href=\"#DejaVuSans-30\"/>\r\n       <use x=\"222.65625\" xlink:href=\"#DejaVuSans-38\"/>\r\n      </g>\r\n     </g>\r\n    </g>\r\n    <g id=\"text_13\">\r\n     <!-- Density -->\r\n     <g style=\"fill:#555555;\" transform=\"translate(16.318125 165.910313)rotate(-90)scale(0.12 -0.12)\">\r\n      <defs>\r\n       <path d=\"M 1259 4147 \r\nL 1259 519 \r\nL 2022 519 \r\nQ 2988 519 3436 956 \r\nQ 3884 1394 3884 2338 \r\nQ 3884 3275 3436 3711 \r\nQ 2988 4147 2022 4147 \r\nL 1259 4147 \r\nz\r\nM 628 4666 \r\nL 1925 4666 \r\nQ 3281 4666 3915 4102 \r\nQ 4550 3538 4550 2338 \r\nQ 4550 1131 3912 565 \r\nQ 3275 0 1925 0 \r\nL 628 0 \r\nL 628 4666 \r\nz\r\n\" id=\"DejaVuSans-44\" transform=\"scale(0.015625)\"/>\r\n       <path d=\"M 3597 1894 \r\nL 3597 1613 \r\nL 953 1613 \r\nQ 991 1019 1311 708 \r\nQ 1631 397 2203 397 \r\nQ 2534 397 2845 478 \r\nQ 3156 559 3463 722 \r\nL 3463 178 \r\nQ 3153 47 2828 -22 \r\nQ 2503 -91 2169 -91 \r\nQ 1331 -91 842 396 \r\nQ 353 884 353 1716 \r\nQ 353 2575 817 3079 \r\nQ 1281 3584 2069 3584 \r\nQ 2775 3584 3186 3129 \r\nQ 3597 2675 3597 1894 \r\nz\r\nM 3022 2063 \r\nQ 3016 2534 2758 2815 \r\nQ 2500 3097 2075 3097 \r\nQ 1594 3097 1305 2825 \r\nQ 1016 2553 972 2059 \r\nL 3022 2063 \r\nz\r\n\" id=\"DejaVuSans-65\" transform=\"scale(0.015625)\"/>\r\n       <path d=\"M 2834 3397 \r\nL 2834 2853 \r\nQ 2591 2978 2328 3040 \r\nQ 2066 3103 1784 3103 \r\nQ 1356 3103 1142 2972 \r\nQ 928 2841 928 2578 \r\nQ 928 2378 1081 2264 \r\nQ 1234 2150 1697 2047 \r\nL 1894 2003 \r\nQ 2506 1872 2764 1633 \r\nQ 3022 1394 3022 966 \r\nQ 3022 478 2636 193 \r\nQ 2250 -91 1575 -91 \r\nQ 1294 -91 989 -36 \r\nQ 684 19 347 128 \r\nL 347 722 \r\nQ 666 556 975 473 \r\nQ 1284 391 1588 391 \r\nQ 1994 391 2212 530 \r\nQ 2431 669 2431 922 \r\nQ 2431 1156 2273 1281 \r\nQ 2116 1406 1581 1522 \r\nL 1381 1569 \r\nQ 847 1681 609 1914 \r\nQ 372 2147 372 2553 \r\nQ 372 3047 722 3315 \r\nQ 1072 3584 1716 3584 \r\nQ 2034 3584 2315 3537 \r\nQ 2597 3491 2834 3397 \r\nz\r\n\" id=\"DejaVuSans-73\" transform=\"scale(0.015625)\"/>\r\n       <path d=\"M 603 3500 \r\nL 1178 3500 \r\nL 1178 0 \r\nL 603 0 \r\nL 603 3500 \r\nz\r\nM 603 4863 \r\nL 1178 4863 \r\nL 1178 4134 \r\nL 603 4134 \r\nL 603 4863 \r\nz\r\n\" id=\"DejaVuSans-69\" transform=\"scale(0.015625)\"/>\r\n       <path d=\"M 2059 -325 \r\nQ 1816 -950 1584 -1140 \r\nQ 1353 -1331 966 -1331 \r\nL 506 -1331 \r\nL 506 -850 \r\nL 844 -850 \r\nQ 1081 -850 1212 -737 \r\nQ 1344 -625 1503 -206 \r\nL 1606 56 \r\nL 191 3500 \r\nL 800 3500 \r\nL 1894 763 \r\nL 2988 3500 \r\nL 3597 3500 \r\nL 2059 -325 \r\nz\r\n\" id=\"DejaVuSans-79\" transform=\"scale(0.015625)\"/>\r\n      </defs>\r\n      <use xlink:href=\"#DejaVuSans-44\"/>\r\n      <use x=\"77.001953\" xlink:href=\"#DejaVuSans-65\"/>\r\n      <use x=\"138.525391\" xlink:href=\"#DejaVuSans-6e\"/>\r\n      <use x=\"201.904297\" xlink:href=\"#DejaVuSans-73\"/>\r\n      <use x=\"254.003906\" xlink:href=\"#DejaVuSans-69\"/>\r\n      <use x=\"281.787109\" xlink:href=\"#DejaVuSans-74\"/>\r\n      <use x=\"320.996094\" xlink:href=\"#DejaVuSans-79\"/>\r\n     </g>\r\n    </g>\r\n   </g>\r\n   <g id=\"patch_3\">\r\n    <path clip-path=\"url(#p0d076fe9dc)\" d=\"M 92.733113 279 \r\nL 97.448736 279 \r\nL 97.448736 20.142857 \r\nL 92.733113 20.142857 \r\nz\r\n\" style=\"fill:#e24a33;opacity:0.4;\"/>\r\n   </g>\r\n   <g id=\"patch_4\">\r\n    <path clip-path=\"url(#p0d076fe9dc)\" d=\"M 97.448736 279 \r\nL 102.16436 279 \r\nL 102.16436 166.689401 \r\nL 97.448736 166.689401 \r\nz\r\n\" style=\"fill:#e24a33;opacity:0.4;\"/>\r\n   </g>\r\n   <g id=\"patch_5\">\r\n    <path clip-path=\"url(#p0d076fe9dc)\" d=\"M 102.16436 279 \r\nL 106.879983 279 \r\nL 106.879983 201.064516 \r\nL 102.16436 201.064516 \r\nz\r\n\" style=\"fill:#e24a33;opacity:0.4;\"/>\r\n   </g>\r\n   <g id=\"patch_6\">\r\n    <path clip-path=\"url(#p0d076fe9dc)\" d=\"M 106.879983 279 \r\nL 111.595606 279 \r\nL 111.595606 199.533641 \r\nL 106.879983 199.533641 \r\nz\r\n\" style=\"fill:#e24a33;opacity:0.4;\"/>\r\n   </g>\r\n   <g id=\"patch_7\">\r\n    <path clip-path=\"url(#p0d076fe9dc)\" d=\"M 111.595606 279 \r\nL 116.311229 279 \r\nL 116.311229 211.363134 \r\nL 111.595606 211.363134 \r\nz\r\n\" style=\"fill:#e24a33;opacity:0.4;\"/>\r\n   </g>\r\n   <g id=\"patch_8\">\r\n    <path clip-path=\"url(#p0d076fe9dc)\" d=\"M 116.311229 279 \r\nL 121.026852 279 \r\nL 121.026852 209.136406 \r\nL 116.311229 209.136406 \r\nz\r\n\" style=\"fill:#e24a33;opacity:0.4;\"/>\r\n   </g>\r\n   <g id=\"patch_9\">\r\n    <path clip-path=\"url(#p0d076fe9dc)\" d=\"M 121.026852 279 \r\nL 125.742476 279 \r\nL 125.742476 211.363134 \r\nL 121.026852 211.363134 \r\nz\r\n\" style=\"fill:#e24a33;opacity:0.4;\"/>\r\n   </g>\r\n   <g id=\"patch_10\">\r\n    <path clip-path=\"url(#p0d076fe9dc)\" d=\"M 125.742476 279 \r\nL 130.458099 279 \r\nL 130.458099 212.476498 \r\nL 125.742476 212.476498 \r\nz\r\n\" style=\"fill:#e24a33;opacity:0.4;\"/>\r\n   </g>\r\n   <g id=\"patch_11\">\r\n    <path clip-path=\"url(#p0d076fe9dc)\" d=\"M 130.458099 279 \r\nL 135.173722 279 \r\nL 135.173722 218.878341 \r\nL 130.458099 218.878341 \r\nz\r\n\" style=\"fill:#e24a33;opacity:0.4;\"/>\r\n   </g>\r\n   <g id=\"patch_12\">\r\n    <path clip-path=\"url(#p0d076fe9dc)\" d=\"M 135.173722 279 \r\nL 139.889345 279 \r\nL 139.889345 217.904147 \r\nL 135.173722 217.904147 \r\nz\r\n\" style=\"fill:#e24a33;opacity:0.4;\"/>\r\n   </g>\r\n   <g id=\"patch_13\">\r\n    <path clip-path=\"url(#p0d076fe9dc)\" d=\"M 139.889345 279 \r\nL 144.604968 279 \r\nL 144.604968 224.584332 \r\nL 139.889345 224.584332 \r\nz\r\n\" style=\"fill:#e24a33;opacity:0.4;\"/>\r\n   </g>\r\n   <g id=\"patch_14\">\r\n    <path clip-path=\"url(#p0d076fe9dc)\" d=\"M 144.604968 279 \r\nL 149.320592 279 \r\nL 149.320592 223.610138 \r\nL 144.604968 223.610138 \r\nz\r\n\" style=\"fill:#e24a33;opacity:0.4;\"/>\r\n   </g>\r\n   <g id=\"patch_15\">\r\n    <path clip-path=\"url(#p0d076fe9dc)\" d=\"M 149.320592 279 \r\nL 154.036215 279 \r\nL 154.036215 239.753917 \r\nL 149.320592 239.753917 \r\nz\r\n\" style=\"fill:#e24a33;opacity:0.4;\"/>\r\n   </g>\r\n   <g id=\"patch_16\">\r\n    <path clip-path=\"url(#p0d076fe9dc)\" d=\"M 154.036215 279 \r\nL 158.751838 279 \r\nL 158.751838 233.352074 \r\nL 154.036215 233.352074 \r\nz\r\n\" style=\"fill:#e24a33;opacity:0.4;\"/>\r\n   </g>\r\n   <g id=\"patch_17\">\r\n    <path clip-path=\"url(#p0d076fe9dc)\" d=\"M 158.751838 279 \r\nL 163.467461 279 \r\nL 163.467461 239.058065 \r\nL 158.751838 239.058065 \r\nz\r\n\" style=\"fill:#e24a33;opacity:0.4;\"/>\r\n   </g>\r\n   <g id=\"patch_18\">\r\n    <path clip-path=\"url(#p0d076fe9dc)\" d=\"M 163.467461 279 \r\nL 168.183084 279 \r\nL 168.183084 244.207373 \r\nL 163.467461 244.207373 \r\nz\r\n\" style=\"fill:#e24a33;opacity:0.4;\"/>\r\n   </g>\r\n   <g id=\"patch_19\">\r\n    <path clip-path=\"url(#p0d076fe9dc)\" d=\"M 168.183084 279 \r\nL 172.898708 279 \r\nL 172.898708 247.547465 \r\nL 168.183084 247.547465 \r\nz\r\n\" style=\"fill:#e24a33;opacity:0.4;\"/>\r\n   </g>\r\n   <g id=\"patch_20\">\r\n    <path clip-path=\"url(#p0d076fe9dc)\" d=\"M 172.898708 279 \r\nL 177.614331 279 \r\nL 177.614331 251.722581 \r\nL 172.898708 251.722581 \r\nz\r\n\" style=\"fill:#e24a33;opacity:0.4;\"/>\r\n   </g>\r\n   <g id=\"patch_21\">\r\n    <path clip-path=\"url(#p0d076fe9dc)\" d=\"M 177.614331 279 \r\nL 182.329954 279 \r\nL 182.329954 250.748387 \r\nL 177.614331 250.748387 \r\nz\r\n\" style=\"fill:#e24a33;opacity:0.4;\"/>\r\n   </g>\r\n   <g id=\"patch_22\">\r\n    <path clip-path=\"url(#p0d076fe9dc)\" d=\"M 182.329954 279 \r\nL 187.045577 279 \r\nL 187.045577 252.279263 \r\nL 182.329954 252.279263 \r\nz\r\n\" style=\"fill:#e24a33;opacity:0.4;\"/>\r\n   </g>\r\n   <g id=\"patch_23\">\r\n    <path clip-path=\"url(#p0d076fe9dc)\" d=\"M 187.045577 279 \r\nL 191.7612 279 \r\nL 191.7612 258.263594 \r\nL 187.045577 258.263594 \r\nz\r\n\" style=\"fill:#e24a33;opacity:0.4;\"/>\r\n   </g>\r\n   <g id=\"patch_24\">\r\n    <path clip-path=\"url(#p0d076fe9dc)\" d=\"M 191.7612 279 \r\nL 196.476824 279 \r\nL 196.476824 259.237788 \r\nL 191.7612 259.237788 \r\nz\r\n\" style=\"fill:#e24a33;opacity:0.4;\"/>\r\n   </g>\r\n   <g id=\"patch_25\">\r\n    <path clip-path=\"url(#p0d076fe9dc)\" d=\"M 196.476824 279 \r\nL 201.192447 279 \r\nL 201.192447 263.412903 \r\nL 196.476824 263.412903 \r\nz\r\n\" style=\"fill:#e24a33;opacity:0.4;\"/>\r\n   </g>\r\n   <g id=\"patch_26\">\r\n    <path clip-path=\"url(#p0d076fe9dc)\" d=\"M 201.192447 279 \r\nL 205.90807 279 \r\nL 205.90807 261.047005 \r\nL 201.192447 261.047005 \r\nz\r\n\" style=\"fill:#e24a33;opacity:0.4;\"/>\r\n   </g>\r\n   <g id=\"patch_27\">\r\n    <path clip-path=\"url(#p0d076fe9dc)\" d=\"M 205.90807 279 \r\nL 210.623693 279 \r\nL 210.623693 264.943779 \r\nL 205.90807 264.943779 \r\nz\r\n\" style=\"fill:#e24a33;opacity:0.4;\"/>\r\n   </g>\r\n   <g id=\"patch_28\">\r\n    <path clip-path=\"url(#p0d076fe9dc)\" d=\"M 210.623693 279 \r\nL 215.339316 279 \r\nL 215.339316 262.160369 \r\nL 210.623693 262.160369 \r\nz\r\n\" style=\"fill:#e24a33;opacity:0.4;\"/>\r\n   </g>\r\n   <g id=\"patch_29\">\r\n    <path clip-path=\"url(#p0d076fe9dc)\" d=\"M 215.339316 279 \r\nL 220.05494 279 \r\nL 220.05494 267.031336 \r\nL 215.339316 267.031336 \r\nz\r\n\" style=\"fill:#e24a33;opacity:0.4;\"/>\r\n   </g>\r\n   <g id=\"patch_30\">\r\n    <path clip-path=\"url(#p0d076fe9dc)\" d=\"M 220.05494 279 \r\nL 224.770563 279 \r\nL 224.770563 269.953917 \r\nL 220.05494 269.953917 \r\nz\r\n\" style=\"fill:#e24a33;opacity:0.4;\"/>\r\n   </g>\r\n   <g id=\"patch_31\">\r\n    <path clip-path=\"url(#p0d076fe9dc)\" d=\"M 224.770563 279 \r\nL 229.486186 279 \r\nL 229.486186 267.448848 \r\nL 224.770563 267.448848 \r\nz\r\n\" style=\"fill:#e24a33;opacity:0.4;\"/>\r\n   </g>\r\n   <g id=\"patch_32\">\r\n    <path clip-path=\"url(#p0d076fe9dc)\" d=\"M 229.486186 279 \r\nL 234.201809 279 \r\nL 234.201809 269.118894 \r\nL 229.486186 269.118894 \r\nz\r\n\" style=\"fill:#e24a33;opacity:0.4;\"/>\r\n   </g>\r\n   <g id=\"patch_33\">\r\n    <path clip-path=\"url(#p0d076fe9dc)\" d=\"M 234.201809 279 \r\nL 238.917432 279 \r\nL 238.917432 271.484793 \r\nL 234.201809 271.484793 \r\nz\r\n\" style=\"fill:#e24a33;opacity:0.4;\"/>\r\n   </g>\r\n   <g id=\"patch_34\">\r\n    <path clip-path=\"url(#p0d076fe9dc)\" d=\"M 238.917432 279 \r\nL 243.633056 279 \r\nL 243.633056 273.294009 \r\nL 238.917432 273.294009 \r\nz\r\n\" style=\"fill:#e24a33;opacity:0.4;\"/>\r\n   </g>\r\n   <g id=\"patch_35\">\r\n    <path clip-path=\"url(#p0d076fe9dc)\" d=\"M 243.633056 279 \r\nL 248.348679 279 \r\nL 248.348679 271.902304 \r\nL 243.633056 271.902304 \r\nz\r\n\" style=\"fill:#e24a33;opacity:0.4;\"/>\r\n   </g>\r\n   <g id=\"patch_36\">\r\n    <path clip-path=\"url(#p0d076fe9dc)\" d=\"M 248.348679 279 \r\nL 253.064302 279 \r\nL 253.064302 273.711521 \r\nL 248.348679 273.711521 \r\nz\r\n\" style=\"fill:#e24a33;opacity:0.4;\"/>\r\n   </g>\r\n   <g id=\"patch_37\">\r\n    <path clip-path=\"url(#p0d076fe9dc)\" d=\"M 253.064302 279 \r\nL 257.779925 279 \r\nL 257.779925 272.180645 \r\nL 253.064302 272.180645 \r\nz\r\n\" style=\"fill:#e24a33;opacity:0.4;\"/>\r\n   </g>\r\n   <g id=\"patch_38\">\r\n    <path clip-path=\"url(#p0d076fe9dc)\" d=\"M 257.779925 279 \r\nL 262.495548 279 \r\nL 262.495548 275.242396 \r\nL 257.779925 275.242396 \r\nz\r\n\" style=\"fill:#e24a33;opacity:0.4;\"/>\r\n   </g>\r\n   <g id=\"patch_39\">\r\n    <path clip-path=\"url(#p0d076fe9dc)\" d=\"M 262.495548 279 \r\nL 267.211172 279 \r\nL 267.211172 274.964055 \r\nL 262.495548 274.964055 \r\nz\r\n\" style=\"fill:#e24a33;opacity:0.4;\"/>\r\n   </g>\r\n   <g id=\"patch_40\">\r\n    <path clip-path=\"url(#p0d076fe9dc)\" d=\"M 267.211172 279 \r\nL 271.926795 279 \r\nL 271.926795 275.799078 \r\nL 267.211172 275.799078 \r\nz\r\n\" style=\"fill:#e24a33;opacity:0.4;\"/>\r\n   </g>\r\n   <g id=\"patch_41\">\r\n    <path clip-path=\"url(#p0d076fe9dc)\" d=\"M 271.926795 279 \r\nL 276.642418 279 \r\nL 276.642418 276.077419 \r\nL 271.926795 276.077419 \r\nz\r\n\" style=\"fill:#e24a33;opacity:0.4;\"/>\r\n   </g>\r\n   <g id=\"patch_42\">\r\n    <path clip-path=\"url(#p0d076fe9dc)\" d=\"M 276.642418 279 \r\nL 281.358041 279 \r\nL 281.358041 276.773272 \r\nL 276.642418 276.773272 \r\nz\r\n\" style=\"fill:#e24a33;opacity:0.4;\"/>\r\n   </g>\r\n   <g id=\"patch_43\">\r\n    <path clip-path=\"url(#p0d076fe9dc)\" d=\"M 281.358041 279 \r\nL 286.073664 279 \r\nL 286.073664 276.35576 \r\nL 281.358041 276.35576 \r\nz\r\n\" style=\"fill:#e24a33;opacity:0.4;\"/>\r\n   </g>\r\n   <g id=\"patch_44\">\r\n    <path clip-path=\"url(#p0d076fe9dc)\" d=\"M 286.073664 279 \r\nL 290.789288 279 \r\nL 290.789288 276.494931 \r\nL 286.073664 276.494931 \r\nz\r\n\" style=\"fill:#e24a33;opacity:0.4;\"/>\r\n   </g>\r\n   <g id=\"patch_45\">\r\n    <path clip-path=\"url(#p0d076fe9dc)\" d=\"M 290.789288 279 \r\nL 295.504911 279 \r\nL 295.504911 276.21659 \r\nL 290.789288 276.21659 \r\nz\r\n\" style=\"fill:#e24a33;opacity:0.4;\"/>\r\n   </g>\r\n   <g id=\"patch_46\">\r\n    <path clip-path=\"url(#p0d076fe9dc)\" d=\"M 295.504911 279 \r\nL 300.220534 279 \r\nL 300.220534 276.773272 \r\nL 295.504911 276.773272 \r\nz\r\n\" style=\"fill:#e24a33;opacity:0.4;\"/>\r\n   </g>\r\n   <g id=\"patch_47\">\r\n    <path clip-path=\"url(#p0d076fe9dc)\" d=\"M 300.220534 279 \r\nL 304.936157 279 \r\nL 304.936157 277.329954 \r\nL 300.220534 277.329954 \r\nz\r\n\" style=\"fill:#e24a33;opacity:0.4;\"/>\r\n   </g>\r\n   <g id=\"patch_48\">\r\n    <path clip-path=\"url(#p0d076fe9dc)\" d=\"M 304.936157 279 \r\nL 309.65178 279 \r\nL 309.65178 277.608295 \r\nL 304.936157 277.608295 \r\nz\r\n\" style=\"fill:#e24a33;opacity:0.4;\"/>\r\n   </g>\r\n   <g id=\"patch_49\">\r\n    <path clip-path=\"url(#p0d076fe9dc)\" d=\"M 309.65178 279 \r\nL 314.367404 279 \r\nL 314.367404 278.582488 \r\nL 309.65178 278.582488 \r\nz\r\n\" style=\"fill:#e24a33;opacity:0.4;\"/>\r\n   </g>\r\n   <g id=\"patch_50\">\r\n    <path clip-path=\"url(#p0d076fe9dc)\" d=\"M 314.367404 279 \r\nL 319.083027 279 \r\nL 319.083027 278.860829 \r\nL 314.367404 278.860829 \r\nz\r\n\" style=\"fill:#e24a33;opacity:0.4;\"/>\r\n   </g>\r\n   <g id=\"patch_51\">\r\n    <path clip-path=\"url(#p0d076fe9dc)\" d=\"M 319.083027 279 \r\nL 323.79865 279 \r\nL 323.79865 278.721659 \r\nL 319.083027 278.721659 \r\nz\r\n\" style=\"fill:#e24a33;opacity:0.4;\"/>\r\n   </g>\r\n   <g id=\"patch_52\">\r\n    <path clip-path=\"url(#p0d076fe9dc)\" d=\"M 323.79865 279 \r\nL 328.514273 279 \r\nL 328.514273 278.582488 \r\nL 323.79865 278.582488 \r\nz\r\n\" style=\"fill:#e24a33;opacity:0.4;\"/>\r\n   </g>\r\n   <g id=\"line2d_23\">\r\n    <path clip-path=\"url(#p0d076fe9dc)\" d=\"M 72.276586 278.583973 \r\nL 73.667009 278.218042 \r\nL 75.057432 277.587563 \r\nL 76.447855 276.547796 \r\nL 77.838279 274.907052 \r\nL 79.228702 272.430792 \r\nL 80.619125 268.858327 \r\nL 82.009548 263.934975 \r\nL 83.399971 257.459108 \r\nL 84.790394 249.338515 \r\nL 86.180818 239.64514 \r\nL 88.961664 216.84807 \r\nL 91.74251 193.54271 \r\nL 93.132934 183.567558 \r\nL 94.523357 175.610547 \r\nL 95.91378 170.105059 \r\nL 97.304203 167.2129 \r\nL 98.694626 166.816017 \r\nL 100.08505 168.558104 \r\nL 101.475473 171.922986 \r\nL 102.865896 176.329087 \r\nL 107.037166 190.703202 \r\nL 108.427589 194.751707 \r\nL 109.818012 198.180923 \r\nL 111.208435 200.993283 \r\nL 112.598858 203.249882 \r\nL 113.989281 205.042222 \r\nL 115.379705 206.470777 \r\nL 116.770128 207.63098 \r\nL 119.550974 209.460885 \r\nL 125.112667 212.481656 \r\nL 130.67436 215.557458 \r\nL 134.845629 218.123912 \r\nL 137.626476 220.062865 \r\nL 140.407322 222.231161 \r\nL 143.188168 224.63483 \r\nL 152.921131 233.577492 \r\nL 157.0924 236.805812 \r\nL 164.044516 242.074312 \r\nL 168.215786 245.230761 \r\nL 170.996632 247.086976 \r\nL 173.777479 248.686101 \r\nL 177.948748 250.766799 \r\nL 183.510441 253.554281 \r\nL 194.633826 259.489895 \r\nL 197.414673 260.623919 \r\nL 200.195519 261.538185 \r\nL 204.366789 262.615688 \r\nL 209.928482 264.003571 \r\nL 214.099751 265.324919 \r\nL 219.661444 267.164615 \r\nL 222.44229 267.869949 \r\nL 226.61356 268.649698 \r\nL 230.784829 269.428473 \r\nL 236.346522 270.770496 \r\nL 240.517792 271.725755 \r\nL 244.689061 272.398866 \r\nL 251.641177 273.129034 \r\nL 257.20287 273.817746 \r\nL 271.107102 275.796687 \r\nL 276.668795 276.287167 \r\nL 282.230487 276.49539 \r\nL 296.134719 276.749454 \r\nL 301.696412 277.181811 \r\nL 315.600644 278.497784 \r\nL 321.162337 278.710495 \r\nL 339.237838 278.972824 \r\nL 348.970801 278.999204 \r\nL 348.970801 278.999204 \r\n\" style=\"fill:none;stroke:#e24a33;stroke-linecap:square;stroke-width:1.5;\"/>\r\n   </g>\r\n   <g id=\"patch_53\">\r\n    <path d=\"M 58.441875 279 \r\nL 58.441875 7.2 \r\n\" style=\"fill:none;stroke:#ffffff;stroke-linecap:square;stroke-linejoin:miter;\"/>\r\n   </g>\r\n   <g id=\"patch_54\">\r\n    <path d=\"M 362.805511 279 \r\nL 362.805511 7.2 \r\n\" style=\"fill:none;stroke:#ffffff;stroke-linecap:square;stroke-linejoin:miter;\"/>\r\n   </g>\r\n   <g id=\"patch_55\">\r\n    <path d=\"M 58.441875 279 \r\nL 362.805511 279 \r\n\" style=\"fill:none;stroke:#ffffff;stroke-linecap:square;stroke-linejoin:miter;\"/>\r\n   </g>\r\n   <g id=\"patch_56\">\r\n    <path d=\"M 58.441875 7.2 \r\nL 362.805511 7.2 \r\n\" style=\"fill:none;stroke:#ffffff;stroke-linecap:square;stroke-linejoin:miter;\"/>\r\n   </g>\r\n  </g>\r\n  <g id=\"axes_2\">\r\n   <g id=\"patch_57\">\r\n    <path d=\"M 423.678239 279 \r\nL 728.041875 279 \r\nL 728.041875 7.2 \r\nL 423.678239 7.2 \r\nz\r\n\" style=\"fill:#e5e5e5;\"/>\r\n   </g>\r\n   <g id=\"matplotlib.axis_3\">\r\n    <g id=\"xtick_7\">\r\n     <g id=\"line2d_24\">\r\n      <path clip-path=\"url(#pc7e724e9ad)\" d=\"M 459.817757 279 \r\nL 459.817757 7.2 \r\n\" style=\"fill:none;stroke:#ffffff;stroke-linecap:square;stroke-width:0.8;\"/>\r\n     </g>\r\n     <g id=\"line2d_25\">\r\n      <g>\r\n       <use style=\"fill:#555555;stroke:#555555;stroke-width:0.8;\" x=\"459.817757\" xlink:href=\"#m8d23b1af21\" y=\"279\"/>\r\n      </g>\r\n     </g>\r\n     <g id=\"text_14\">\r\n      <!-- 0 -->\r\n      <g style=\"fill:#555555;\" transform=\"translate(456.636507 293.598437)scale(0.1 -0.1)\">\r\n       <use xlink:href=\"#DejaVuSans-30\"/>\r\n      </g>\r\n     </g>\r\n    </g>\r\n    <g id=\"xtick_8\">\r\n     <g id=\"line2d_26\">\r\n      <path clip-path=\"url(#pc7e724e9ad)\" d=\"M 510.531735 279 \r\nL 510.531735 7.2 \r\n\" style=\"fill:none;stroke:#ffffff;stroke-linecap:square;stroke-width:0.8;\"/>\r\n     </g>\r\n     <g id=\"line2d_27\">\r\n      <g>\r\n       <use style=\"fill:#555555;stroke:#555555;stroke-width:0.8;\" x=\"510.531735\" xlink:href=\"#m8d23b1af21\" y=\"279\"/>\r\n      </g>\r\n     </g>\r\n     <g id=\"text_15\">\r\n      <!-- 200 -->\r\n      <g style=\"fill:#555555;\" transform=\"translate(500.987985 293.598437)scale(0.1 -0.1)\">\r\n       <use xlink:href=\"#DejaVuSans-32\"/>\r\n       <use x=\"63.623047\" xlink:href=\"#DejaVuSans-30\"/>\r\n       <use x=\"127.246094\" xlink:href=\"#DejaVuSans-30\"/>\r\n      </g>\r\n     </g>\r\n    </g>\r\n    <g id=\"xtick_9\">\r\n     <g id=\"line2d_28\">\r\n      <path clip-path=\"url(#pc7e724e9ad)\" d=\"M 561.245713 279 \r\nL 561.245713 7.2 \r\n\" style=\"fill:none;stroke:#ffffff;stroke-linecap:square;stroke-width:0.8;\"/>\r\n     </g>\r\n     <g id=\"line2d_29\">\r\n      <g>\r\n       <use style=\"fill:#555555;stroke:#555555;stroke-width:0.8;\" x=\"561.245713\" xlink:href=\"#m8d23b1af21\" y=\"279\"/>\r\n      </g>\r\n     </g>\r\n     <g id=\"text_16\">\r\n      <!-- 400 -->\r\n      <g style=\"fill:#555555;\" transform=\"translate(551.701963 293.598437)scale(0.1 -0.1)\">\r\n       <use xlink:href=\"#DejaVuSans-34\"/>\r\n       <use x=\"63.623047\" xlink:href=\"#DejaVuSans-30\"/>\r\n       <use x=\"127.246094\" xlink:href=\"#DejaVuSans-30\"/>\r\n      </g>\r\n     </g>\r\n    </g>\r\n    <g id=\"xtick_10\">\r\n     <g id=\"line2d_30\">\r\n      <path clip-path=\"url(#pc7e724e9ad)\" d=\"M 611.95969 279 \r\nL 611.95969 7.2 \r\n\" style=\"fill:none;stroke:#ffffff;stroke-linecap:square;stroke-width:0.8;\"/>\r\n     </g>\r\n     <g id=\"line2d_31\">\r\n      <g>\r\n       <use style=\"fill:#555555;stroke:#555555;stroke-width:0.8;\" x=\"611.95969\" xlink:href=\"#m8d23b1af21\" y=\"279\"/>\r\n      </g>\r\n     </g>\r\n     <g id=\"text_17\">\r\n      <!-- 600 -->\r\n      <g style=\"fill:#555555;\" transform=\"translate(602.41594 293.598437)scale(0.1 -0.1)\">\r\n       <use xlink:href=\"#DejaVuSans-36\"/>\r\n       <use x=\"63.623047\" xlink:href=\"#DejaVuSans-30\"/>\r\n       <use x=\"127.246094\" xlink:href=\"#DejaVuSans-30\"/>\r\n      </g>\r\n     </g>\r\n    </g>\r\n    <g id=\"xtick_11\">\r\n     <g id=\"line2d_32\">\r\n      <path clip-path=\"url(#pc7e724e9ad)\" d=\"M 662.673668 279 \r\nL 662.673668 7.2 \r\n\" style=\"fill:none;stroke:#ffffff;stroke-linecap:square;stroke-width:0.8;\"/>\r\n     </g>\r\n     <g id=\"line2d_33\">\r\n      <g>\r\n       <use style=\"fill:#555555;stroke:#555555;stroke-width:0.8;\" x=\"662.673668\" xlink:href=\"#m8d23b1af21\" y=\"279\"/>\r\n      </g>\r\n     </g>\r\n     <g id=\"text_18\">\r\n      <!-- 800 -->\r\n      <g style=\"fill:#555555;\" transform=\"translate(653.129918 293.598437)scale(0.1 -0.1)\">\r\n       <use xlink:href=\"#DejaVuSans-38\"/>\r\n       <use x=\"63.623047\" xlink:href=\"#DejaVuSans-30\"/>\r\n       <use x=\"127.246094\" xlink:href=\"#DejaVuSans-30\"/>\r\n      </g>\r\n     </g>\r\n    </g>\r\n    <g id=\"xtick_12\">\r\n     <g id=\"line2d_34\">\r\n      <path clip-path=\"url(#pc7e724e9ad)\" d=\"M 713.387645 279 \r\nL 713.387645 7.2 \r\n\" style=\"fill:none;stroke:#ffffff;stroke-linecap:square;stroke-width:0.8;\"/>\r\n     </g>\r\n     <g id=\"line2d_35\">\r\n      <g>\r\n       <use style=\"fill:#555555;stroke:#555555;stroke-width:0.8;\" x=\"713.387645\" xlink:href=\"#m8d23b1af21\" y=\"279\"/>\r\n      </g>\r\n     </g>\r\n     <g id=\"text_19\">\r\n      <!-- 1000 -->\r\n      <g style=\"fill:#555555;\" transform=\"translate(700.662645 293.598437)scale(0.1 -0.1)\">\r\n       <use xlink:href=\"#DejaVuSans-31\"/>\r\n       <use x=\"63.623047\" xlink:href=\"#DejaVuSans-30\"/>\r\n       <use x=\"127.246094\" xlink:href=\"#DejaVuSans-30\"/>\r\n       <use x=\"190.869141\" xlink:href=\"#DejaVuSans-30\"/>\r\n      </g>\r\n     </g>\r\n    </g>\r\n   </g>\r\n   <g id=\"matplotlib.axis_4\">\r\n    <g id=\"ytick_6\">\r\n     <g id=\"line2d_36\">\r\n      <path clip-path=\"url(#pc7e724e9ad)\" d=\"M 423.678239 279 \r\nL 728.041875 279 \r\n\" style=\"fill:none;stroke:#ffffff;stroke-linecap:square;stroke-width:0.8;\"/>\r\n     </g>\r\n     <g id=\"line2d_37\">\r\n      <g>\r\n       <use style=\"fill:#555555;stroke:#555555;stroke-width:0.8;\" x=\"423.678239\" xlink:href=\"#m7d375ab108\" y=\"279\"/>\r\n      </g>\r\n     </g>\r\n     <g id=\"text_20\">\r\n      <!-- 0.000 -->\r\n      <g style=\"fill:#555555;\" transform=\"translate(388.050114 282.799219)scale(0.1 -0.1)\">\r\n       <use xlink:href=\"#DejaVuSans-30\"/>\r\n       <use x=\"63.623047\" xlink:href=\"#DejaVuSans-2e\"/>\r\n       <use x=\"95.410156\" xlink:href=\"#DejaVuSans-30\"/>\r\n       <use x=\"159.033203\" xlink:href=\"#DejaVuSans-30\"/>\r\n       <use x=\"222.65625\" xlink:href=\"#DejaVuSans-30\"/>\r\n      </g>\r\n     </g>\r\n    </g>\r\n    <g id=\"ytick_7\">\r\n     <g id=\"line2d_38\">\r\n      <path clip-path=\"url(#pc7e724e9ad)\" d=\"M 423.678239 220.390976 \r\nL 728.041875 220.390976 \r\n\" style=\"fill:none;stroke:#ffffff;stroke-linecap:square;stroke-width:0.8;\"/>\r\n     </g>\r\n     <g id=\"line2d_39\">\r\n      <g>\r\n       <use style=\"fill:#555555;stroke:#555555;stroke-width:0.8;\" x=\"423.678239\" xlink:href=\"#m7d375ab108\" y=\"220.390976\"/>\r\n      </g>\r\n     </g>\r\n     <g id=\"text_21\">\r\n      <!-- 0.002 -->\r\n      <g style=\"fill:#555555;\" transform=\"translate(388.050114 224.190194)scale(0.1 -0.1)\">\r\n       <use xlink:href=\"#DejaVuSans-30\"/>\r\n       <use x=\"63.623047\" xlink:href=\"#DejaVuSans-2e\"/>\r\n       <use x=\"95.410156\" xlink:href=\"#DejaVuSans-30\"/>\r\n       <use x=\"159.033203\" xlink:href=\"#DejaVuSans-30\"/>\r\n       <use x=\"222.65625\" xlink:href=\"#DejaVuSans-32\"/>\r\n      </g>\r\n     </g>\r\n    </g>\r\n    <g id=\"ytick_8\">\r\n     <g id=\"line2d_40\">\r\n      <path clip-path=\"url(#pc7e724e9ad)\" d=\"M 423.678239 161.781951 \r\nL 728.041875 161.781951 \r\n\" style=\"fill:none;stroke:#ffffff;stroke-linecap:square;stroke-width:0.8;\"/>\r\n     </g>\r\n     <g id=\"line2d_41\">\r\n      <g>\r\n       <use style=\"fill:#555555;stroke:#555555;stroke-width:0.8;\" x=\"423.678239\" xlink:href=\"#m7d375ab108\" y=\"161.781951\"/>\r\n      </g>\r\n     </g>\r\n     <g id=\"text_22\">\r\n      <!-- 0.004 -->\r\n      <g style=\"fill:#555555;\" transform=\"translate(388.050114 165.58117)scale(0.1 -0.1)\">\r\n       <use xlink:href=\"#DejaVuSans-30\"/>\r\n       <use x=\"63.623047\" xlink:href=\"#DejaVuSans-2e\"/>\r\n       <use x=\"95.410156\" xlink:href=\"#DejaVuSans-30\"/>\r\n       <use x=\"159.033203\" xlink:href=\"#DejaVuSans-30\"/>\r\n       <use x=\"222.65625\" xlink:href=\"#DejaVuSans-34\"/>\r\n      </g>\r\n     </g>\r\n    </g>\r\n    <g id=\"ytick_9\">\r\n     <g id=\"line2d_42\">\r\n      <path clip-path=\"url(#pc7e724e9ad)\" d=\"M 423.678239 103.172927 \r\nL 728.041875 103.172927 \r\n\" style=\"fill:none;stroke:#ffffff;stroke-linecap:square;stroke-width:0.8;\"/>\r\n     </g>\r\n     <g id=\"line2d_43\">\r\n      <g>\r\n       <use style=\"fill:#555555;stroke:#555555;stroke-width:0.8;\" x=\"423.678239\" xlink:href=\"#m7d375ab108\" y=\"103.172927\"/>\r\n      </g>\r\n     </g>\r\n     <g id=\"text_23\">\r\n      <!-- 0.006 -->\r\n      <g style=\"fill:#555555;\" transform=\"translate(388.050114 106.972145)scale(0.1 -0.1)\">\r\n       <use xlink:href=\"#DejaVuSans-30\"/>\r\n       <use x=\"63.623047\" xlink:href=\"#DejaVuSans-2e\"/>\r\n       <use x=\"95.410156\" xlink:href=\"#DejaVuSans-30\"/>\r\n       <use x=\"159.033203\" xlink:href=\"#DejaVuSans-30\"/>\r\n       <use x=\"222.65625\" xlink:href=\"#DejaVuSans-36\"/>\r\n      </g>\r\n     </g>\r\n    </g>\r\n    <g id=\"ytick_10\">\r\n     <g id=\"line2d_44\">\r\n      <path clip-path=\"url(#pc7e724e9ad)\" d=\"M 423.678239 44.563902 \r\nL 728.041875 44.563902 \r\n\" style=\"fill:none;stroke:#ffffff;stroke-linecap:square;stroke-width:0.8;\"/>\r\n     </g>\r\n     <g id=\"line2d_45\">\r\n      <g>\r\n       <use style=\"fill:#555555;stroke:#555555;stroke-width:0.8;\" x=\"423.678239\" xlink:href=\"#m7d375ab108\" y=\"44.563902\"/>\r\n      </g>\r\n     </g>\r\n     <g id=\"text_24\">\r\n      <!-- 0.008 -->\r\n      <g style=\"fill:#555555;\" transform=\"translate(388.050114 48.363121)scale(0.1 -0.1)\">\r\n       <use xlink:href=\"#DejaVuSans-30\"/>\r\n       <use x=\"63.623047\" xlink:href=\"#DejaVuSans-2e\"/>\r\n       <use x=\"95.410156\" xlink:href=\"#DejaVuSans-30\"/>\r\n       <use x=\"159.033203\" xlink:href=\"#DejaVuSans-30\"/>\r\n       <use x=\"222.65625\" xlink:href=\"#DejaVuSans-38\"/>\r\n      </g>\r\n     </g>\r\n    </g>\r\n    <g id=\"text_25\">\r\n     <!-- Density -->\r\n     <g style=\"fill:#555555;\" transform=\"translate(381.554489 165.910313)rotate(-90)scale(0.12 -0.12)\">\r\n      <use xlink:href=\"#DejaVuSans-44\"/>\r\n      <use x=\"77.001953\" xlink:href=\"#DejaVuSans-65\"/>\r\n      <use x=\"138.525391\" xlink:href=\"#DejaVuSans-6e\"/>\r\n      <use x=\"201.904297\" xlink:href=\"#DejaVuSans-73\"/>\r\n      <use x=\"254.003906\" xlink:href=\"#DejaVuSans-69\"/>\r\n      <use x=\"281.787109\" xlink:href=\"#DejaVuSans-74\"/>\r\n      <use x=\"320.996094\" xlink:href=\"#DejaVuSans-79\"/>\r\n     </g>\r\n    </g>\r\n   </g>\r\n   <g id=\"patch_58\">\r\n    <path clip-path=\"url(#pc7e724e9ad)\" d=\"M 460.359808 279 \r\nL 464.979818 279 \r\nL 464.979818 20.142857 \r\nL 460.359808 20.142857 \r\nz\r\n\" style=\"fill:#e24a33;opacity:0.4;\"/>\r\n   </g>\r\n   <g id=\"patch_59\">\r\n    <path clip-path=\"url(#pc7e724e9ad)\" d=\"M 464.979818 279 \r\nL 469.599828 279 \r\nL 469.599828 163.814764 \r\nL 464.979818 163.814764 \r\nz\r\n\" style=\"fill:#e24a33;opacity:0.4;\"/>\r\n   </g>\r\n   <g id=\"patch_60\">\r\n    <path clip-path=\"url(#pc7e724e9ad)\" d=\"M 469.599828 279 \r\nL 474.219838 279 \r\nL 474.219838 193.292276 \r\nL 469.599828 193.292276 \r\nz\r\n\" style=\"fill:#e24a33;opacity:0.4;\"/>\r\n   </g>\r\n   <g id=\"patch_61\">\r\n    <path clip-path=\"url(#pc7e724e9ad)\" d=\"M 474.219838 279 \r\nL 478.839848 279 \r\nL 478.839848 198.98961 \r\nL 474.219838 198.98961 \r\nz\r\n\" style=\"fill:#e24a33;opacity:0.4;\"/>\r\n   </g>\r\n   <g id=\"patch_62\">\r\n    <path clip-path=\"url(#pc7e724e9ad)\" d=\"M 478.839848 279 \r\nL 483.459858 279 \r\nL 483.459858 198.24648 \r\nL 478.839848 198.24648 \r\nz\r\n\" style=\"fill:#e24a33;opacity:0.4;\"/>\r\n   </g>\r\n   <g id=\"patch_63\">\r\n    <path clip-path=\"url(#pc7e724e9ad)\" d=\"M 483.459858 279 \r\nL 488.079868 279 \r\nL 488.079868 208.154887 \r\nL 483.459858 208.154887 \r\nz\r\n\" style=\"fill:#e24a33;opacity:0.4;\"/>\r\n   </g>\r\n   <g id=\"patch_64\">\r\n    <path clip-path=\"url(#pc7e724e9ad)\" d=\"M 488.079868 279 \r\nL 492.699878 279 \r\nL 492.699878 202.705263 \r\nL 488.079868 202.705263 \r\nz\r\n\" style=\"fill:#e24a33;opacity:0.4;\"/>\r\n   </g>\r\n   <g id=\"patch_65\">\r\n    <path clip-path=\"url(#pc7e724e9ad)\" d=\"M 492.699878 279 \r\nL 497.319888 279 \r\nL 497.319888 209.145728 \r\nL 492.699878 209.145728 \r\nz\r\n\" style=\"fill:#e24a33;opacity:0.4;\"/>\r\n   </g>\r\n   <g id=\"patch_66\">\r\n    <path clip-path=\"url(#pc7e724e9ad)\" d=\"M 497.319888 279 \r\nL 501.939898 279 \r\nL 501.939898 202.952973 \r\nL 497.319888 202.952973 \r\nz\r\n\" style=\"fill:#e24a33;opacity:0.4;\"/>\r\n   </g>\r\n   <g id=\"patch_67\">\r\n    <path clip-path=\"url(#pc7e724e9ad)\" d=\"M 501.939898 279 \r\nL 506.559908 279 \r\nL 506.559908 223.017498 \r\nL 501.939898 223.017498 \r\nz\r\n\" style=\"fill:#e24a33;opacity:0.4;\"/>\r\n   </g>\r\n   <g id=\"patch_68\">\r\n    <path clip-path=\"url(#pc7e724e9ad)\" d=\"M 506.559908 279 \r\nL 511.179918 279 \r\nL 511.179918 221.778947 \r\nL 506.559908 221.778947 \r\nz\r\n\" style=\"fill:#e24a33;opacity:0.4;\"/>\r\n   </g>\r\n   <g id=\"patch_69\">\r\n    <path clip-path=\"url(#pc7e724e9ad)\" d=\"M 511.179918 279 \r\nL 515.799928 279 \r\nL 515.799928 223.760629 \r\nL 511.179918 223.760629 \r\nz\r\n\" style=\"fill:#e24a33;opacity:0.4;\"/>\r\n   </g>\r\n   <g id=\"patch_70\">\r\n    <path clip-path=\"url(#pc7e724e9ad)\" d=\"M 515.799928 279 \r\nL 520.419938 279 \r\nL 520.419938 234.907587 \r\nL 515.799928 234.907587 \r\nz\r\n\" style=\"fill:#e24a33;opacity:0.4;\"/>\r\n   </g>\r\n   <g id=\"patch_71\">\r\n    <path clip-path=\"url(#pc7e724e9ad)\" d=\"M 520.419938 279 \r\nL 525.039948 279 \r\nL 525.039948 239.36637 \r\nL 520.419938 239.36637 \r\nz\r\n\" style=\"fill:#e24a33;opacity:0.4;\"/>\r\n   </g>\r\n   <g id=\"patch_72\">\r\n    <path clip-path=\"url(#pc7e724e9ad)\" d=\"M 525.039948 279 \r\nL 529.659957 279 \r\nL 529.659957 236.889269 \r\nL 525.039948 236.889269 \r\nz\r\n\" style=\"fill:#e24a33;opacity:0.4;\"/>\r\n   </g>\r\n   <g id=\"patch_73\">\r\n    <path clip-path=\"url(#pc7e724e9ad)\" d=\"M 529.659957 279 \r\nL 534.279967 279 \r\nL 534.279967 237.384689 \r\nL 529.659957 237.384689 \r\nz\r\n\" style=\"fill:#e24a33;opacity:0.4;\"/>\r\n   </g>\r\n   <g id=\"patch_74\">\r\n    <path clip-path=\"url(#pc7e724e9ad)\" d=\"M 534.279967 279 \r\nL 538.899977 279 \r\nL 538.899977 242.091183 \r\nL 534.279967 242.091183 \r\nz\r\n\" style=\"fill:#e24a33;opacity:0.4;\"/>\r\n   </g>\r\n   <g id=\"patch_75\">\r\n    <path clip-path=\"url(#pc7e724e9ad)\" d=\"M 538.899977 279 \r\nL 543.519987 279 \r\nL 543.519987 248.283937 \r\nL 538.899977 248.283937 \r\nz\r\n\" style=\"fill:#e24a33;opacity:0.4;\"/>\r\n   </g>\r\n   <g id=\"patch_76\">\r\n    <path clip-path=\"url(#pc7e724e9ad)\" d=\"M 543.519987 279 \r\nL 548.139997 279 \r\nL 548.139997 244.072864 \r\nL 543.519987 244.072864 \r\nz\r\n\" style=\"fill:#e24a33;opacity:0.4;\"/>\r\n   </g>\r\n   <g id=\"patch_77\">\r\n    <path clip-path=\"url(#pc7e724e9ad)\" d=\"M 548.139997 279 \r\nL 552.760007 279 \r\nL 552.760007 254.972112 \r\nL 548.139997 254.972112 \r\nz\r\n\" style=\"fill:#e24a33;opacity:0.4;\"/>\r\n   </g>\r\n   <g id=\"patch_78\">\r\n    <path clip-path=\"url(#pc7e724e9ad)\" d=\"M 552.760007 279 \r\nL 557.380017 279 \r\nL 557.380017 251.008749 \r\nL 552.760007 251.008749 \r\nz\r\n\" style=\"fill:#e24a33;opacity:0.4;\"/>\r\n   </g>\r\n   <g id=\"patch_79\">\r\n    <path clip-path=\"url(#pc7e724e9ad)\" d=\"M 557.380017 279 \r\nL 562.000027 279 \r\nL 562.000027 261.907997 \r\nL 557.380017 261.907997 \r\nz\r\n\" style=\"fill:#e24a33;opacity:0.4;\"/>\r\n   </g>\r\n   <g id=\"patch_80\">\r\n    <path clip-path=\"url(#pc7e724e9ad)\" d=\"M 562.000027 279 \r\nL 566.620037 279 \r\nL 566.620037 257.944634 \r\nL 562.000027 257.944634 \r\nz\r\n\" style=\"fill:#e24a33;opacity:0.4;\"/>\r\n   </g>\r\n   <g id=\"patch_81\">\r\n    <path clip-path=\"url(#pc7e724e9ad)\" d=\"M 566.620037 279 \r\nL 571.240047 279 \r\nL 571.240047 263.146548 \r\nL 566.620037 263.146548 \r\nz\r\n\" style=\"fill:#e24a33;opacity:0.4;\"/>\r\n   </g>\r\n   <g id=\"patch_82\">\r\n    <path clip-path=\"url(#pc7e724e9ad)\" d=\"M 571.240047 279 \r\nL 575.860057 279 \r\nL 575.860057 263.889679 \r\nL 571.240047 263.889679 \r\nz\r\n\" style=\"fill:#e24a33;opacity:0.4;\"/>\r\n   </g>\r\n   <g id=\"patch_83\">\r\n    <path clip-path=\"url(#pc7e724e9ad)\" d=\"M 575.860057 279 \r\nL 580.480067 279 \r\nL 580.480067 265.37594 \r\nL 575.860057 265.37594 \r\nz\r\n\" style=\"fill:#e24a33;opacity:0.4;\"/>\r\n   </g>\r\n   <g id=\"patch_84\">\r\n    <path clip-path=\"url(#pc7e724e9ad)\" d=\"M 580.480067 279 \r\nL 585.100077 279 \r\nL 585.100077 267.605332 \r\nL 580.480067 267.605332 \r\nz\r\n\" style=\"fill:#e24a33;opacity:0.4;\"/>\r\n   </g>\r\n   <g id=\"patch_85\">\r\n    <path clip-path=\"url(#pc7e724e9ad)\" d=\"M 585.100077 279 \r\nL 589.720087 279 \r\nL 589.720087 264.880519 \r\nL 585.100077 264.880519 \r\nz\r\n\" style=\"fill:#e24a33;opacity:0.4;\"/>\r\n   </g>\r\n   <g id=\"patch_86\">\r\n    <path clip-path=\"url(#pc7e724e9ad)\" d=\"M 589.720087 279 \r\nL 594.340097 279 \r\nL 594.340097 267.605332 \r\nL 589.720087 267.605332 \r\nz\r\n\" style=\"fill:#e24a33;opacity:0.4;\"/>\r\n   </g>\r\n   <g id=\"patch_87\">\r\n    <path clip-path=\"url(#pc7e724e9ad)\" d=\"M 594.340097 279 \r\nL 598.960106 279 \r\nL 598.960106 267.853042 \r\nL 594.340097 267.853042 \r\nz\r\n\" style=\"fill:#e24a33;opacity:0.4;\"/>\r\n   </g>\r\n   <g id=\"patch_88\">\r\n    <path clip-path=\"url(#pc7e724e9ad)\" d=\"M 598.960106 279 \r\nL 603.580116 279 \r\nL 603.580116 269.091593 \r\nL 598.960106 269.091593 \r\nz\r\n\" style=\"fill:#e24a33;opacity:0.4;\"/>\r\n   </g>\r\n   <g id=\"patch_89\">\r\n    <path clip-path=\"url(#pc7e724e9ad)\" d=\"M 603.580116 279 \r\nL 608.200126 279 \r\nL 608.200126 273.798086 \r\nL 603.580116 273.798086 \r\nz\r\n\" style=\"fill:#e24a33;opacity:0.4;\"/>\r\n   </g>\r\n   <g id=\"patch_90\">\r\n    <path clip-path=\"url(#pc7e724e9ad)\" d=\"M 608.200126 279 \r\nL 612.820136 279 \r\nL 612.820136 273.550376 \r\nL 608.200126 273.550376 \r\nz\r\n\" style=\"fill:#e24a33;opacity:0.4;\"/>\r\n   </g>\r\n   <g id=\"patch_91\">\r\n    <path clip-path=\"url(#pc7e724e9ad)\" d=\"M 612.820136 279 \r\nL 617.440146 279 \r\nL 617.440146 272.064115 \r\nL 612.820136 272.064115 \r\nz\r\n\" style=\"fill:#e24a33;opacity:0.4;\"/>\r\n   </g>\r\n   <g id=\"patch_92\">\r\n    <path clip-path=\"url(#pc7e724e9ad)\" d=\"M 617.440146 279 \r\nL 622.060156 279 \r\nL 622.060156 274.293506 \r\nL 617.440146 274.293506 \r\nz\r\n\" style=\"fill:#e24a33;opacity:0.4;\"/>\r\n   </g>\r\n   <g id=\"patch_93\">\r\n    <path clip-path=\"url(#pc7e724e9ad)\" d=\"M 622.060156 279 \r\nL 626.680166 279 \r\nL 626.680166 274.045796 \r\nL 622.060156 274.045796 \r\nz\r\n\" style=\"fill:#e24a33;opacity:0.4;\"/>\r\n   </g>\r\n   <g id=\"patch_94\">\r\n    <path clip-path=\"url(#pc7e724e9ad)\" d=\"M 626.680166 279 \r\nL 631.300176 279 \r\nL 631.300176 273.054956 \r\nL 626.680166 273.054956 \r\nz\r\n\" style=\"fill:#e24a33;opacity:0.4;\"/>\r\n   </g>\r\n   <g id=\"patch_95\">\r\n    <path clip-path=\"url(#pc7e724e9ad)\" d=\"M 631.300176 279 \r\nL 635.920186 279 \r\nL 635.920186 275.779768 \r\nL 631.300176 275.779768 \r\nz\r\n\" style=\"fill:#e24a33;opacity:0.4;\"/>\r\n   </g>\r\n   <g id=\"patch_96\">\r\n    <path clip-path=\"url(#pc7e724e9ad)\" d=\"M 635.920186 279 \r\nL 640.540196 279 \r\nL 640.540196 275.532057 \r\nL 635.920186 275.532057 \r\nz\r\n\" style=\"fill:#e24a33;opacity:0.4;\"/>\r\n   </g>\r\n   <g id=\"patch_97\">\r\n    <path clip-path=\"url(#pc7e724e9ad)\" d=\"M 640.540196 279 \r\nL 645.160206 279 \r\nL 645.160206 276.275188 \r\nL 640.540196 276.275188 \r\nz\r\n\" style=\"fill:#e24a33;opacity:0.4;\"/>\r\n   </g>\r\n   <g id=\"patch_98\">\r\n    <path clip-path=\"url(#pc7e724e9ad)\" d=\"M 645.160206 279 \r\nL 649.780216 279 \r\nL 649.780216 275.779768 \r\nL 645.160206 275.779768 \r\nz\r\n\" style=\"fill:#e24a33;opacity:0.4;\"/>\r\n   </g>\r\n   <g id=\"patch_99\">\r\n    <path clip-path=\"url(#pc7e724e9ad)\" d=\"M 649.780216 279 \r\nL 654.400226 279 \r\nL 654.400226 277.513739 \r\nL 649.780216 277.513739 \r\nz\r\n\" style=\"fill:#e24a33;opacity:0.4;\"/>\r\n   </g>\r\n   <g id=\"patch_100\">\r\n    <path clip-path=\"url(#pc7e724e9ad)\" d=\"M 654.400226 279 \r\nL 659.020236 279 \r\nL 659.020236 276.275188 \r\nL 654.400226 276.275188 \r\nz\r\n\" style=\"fill:#e24a33;opacity:0.4;\"/>\r\n   </g>\r\n   <g id=\"patch_101\">\r\n    <path clip-path=\"url(#pc7e724e9ad)\" d=\"M 659.020236 279 \r\nL 663.640246 279 \r\nL 663.640246 275.779768 \r\nL 659.020236 275.779768 \r\nz\r\n\" style=\"fill:#e24a33;opacity:0.4;\"/>\r\n   </g>\r\n   <g id=\"patch_102\">\r\n    <path clip-path=\"url(#pc7e724e9ad)\" d=\"M 663.640246 279 \r\nL 668.260255 279 \r\nL 668.260255 276.027478 \r\nL 663.640246 276.027478 \r\nz\r\n\" style=\"fill:#e24a33;opacity:0.4;\"/>\r\n   </g>\r\n   <g id=\"patch_103\">\r\n    <path clip-path=\"url(#pc7e724e9ad)\" d=\"M 668.260255 279 \r\nL 672.880265 279 \r\nL 672.880265 276.770608 \r\nL 668.260255 276.770608 \r\nz\r\n\" style=\"fill:#e24a33;opacity:0.4;\"/>\r\n   </g>\r\n   <g id=\"patch_104\">\r\n    <path clip-path=\"url(#pc7e724e9ad)\" d=\"M 672.880265 279 \r\nL 677.500275 279 \r\nL 677.500275 276.522898 \r\nL 672.880265 276.522898 \r\nz\r\n\" style=\"fill:#e24a33;opacity:0.4;\"/>\r\n   </g>\r\n   <g id=\"patch_105\">\r\n    <path clip-path=\"url(#pc7e724e9ad)\" d=\"M 677.500275 279 \r\nL 682.120285 279 \r\nL 682.120285 278.009159 \r\nL 677.500275 278.009159 \r\nz\r\n\" style=\"fill:#e24a33;opacity:0.4;\"/>\r\n   </g>\r\n   <g id=\"patch_106\">\r\n    <path clip-path=\"url(#pc7e724e9ad)\" d=\"M 682.120285 279 \r\nL 686.740295 279 \r\nL 686.740295 278.50458 \r\nL 682.120285 278.50458 \r\nz\r\n\" style=\"fill:#e24a33;opacity:0.4;\"/>\r\n   </g>\r\n   <g id=\"patch_107\">\r\n    <path clip-path=\"url(#pc7e724e9ad)\" d=\"M 686.740295 279 \r\nL 691.360305 279 \r\nL 691.360305 277.761449 \r\nL 686.740295 277.761449 \r\nz\r\n\" style=\"fill:#e24a33;opacity:0.4;\"/>\r\n   </g>\r\n   <g id=\"line2d_46\">\r\n    <path clip-path=\"url(#pc7e724e9ad)\" d=\"M 437.512949 278.606156 \r\nL 438.903373 278.304779 \r\nL 440.293796 277.811448 \r\nL 441.684219 277.03182 \r\nL 443.074642 275.842618 \r\nL 444.465065 274.092299 \r\nL 445.855489 271.607314 \r\nL 447.245912 268.205631 \r\nL 448.636335 263.718128 \r\nL 450.026758 258.016765 \r\nL 451.417181 251.046259 \r\nL 452.807604 242.853923 \r\nL 454.198028 233.610944 \r\nL 459.75972 193.676598 \r\nL 461.150144 185.409167 \r\nL 462.540567 178.739296 \r\nL 463.93099 173.930349 \r\nL 465.321413 171.077444 \r\nL 466.711836 170.105703 \r\nL 468.10226 170.793062 \r\nL 469.492683 172.811763 \r\nL 470.883106 175.779476 \r\nL 473.663952 183.056549 \r\nL 476.444799 190.155856 \r\nL 477.835222 193.188816 \r\nL 479.225645 195.78624 \r\nL 480.616068 197.950205 \r\nL 482.006491 199.718646 \r\nL 483.396915 201.149934 \r\nL 484.787338 202.310941 \r\nL 486.177761 203.268994 \r\nL 488.958607 204.822504 \r\nL 493.129877 206.993943 \r\nL 495.910723 208.752758 \r\nL 498.69157 210.936331 \r\nL 501.472416 213.55024 \r\nL 504.253263 216.494045 \r\nL 516.767071 230.299227 \r\nL 519.547918 232.789662 \r\nL 522.328764 234.839588 \r\nL 525.10961 236.490845 \r\nL 534.842573 241.68057 \r\nL 550.137228 251.138463 \r\nL 561.260613 258.274957 \r\nL 564.04146 259.761243 \r\nL 568.212729 261.670994 \r\nL 572.383999 263.254581 \r\nL 576.555268 264.523835 \r\nL 580.726538 265.478615 \r\nL 586.288231 266.4266 \r\nL 591.849924 267.397028 \r\nL 596.021193 268.380363 \r\nL 600.192463 269.619905 \r\nL 607.144579 271.743652 \r\nL 609.925425 272.40269 \r\nL 614.096695 273.100639 \r\nL 618.267964 273.528701 \r\nL 629.39135 274.495845 \r\nL 640.514735 275.779955 \r\nL 646.076428 276.135049 \r\nL 653.028544 276.339493 \r\nL 669.713622 276.607141 \r\nL 675.275315 277.099905 \r\nL 685.008277 278.05497 \r\nL 693.350816 278.563093 \r\nL 701.693356 278.884047 \r\nL 711.426318 278.99294 \r\nL 714.207164 278.997603 \r\nL 714.207164 278.997603 \r\n\" style=\"fill:none;stroke:#e24a33;stroke-linecap:square;stroke-width:1.5;\"/>\r\n   </g>\r\n   <g id=\"patch_108\">\r\n    <path d=\"M 423.678239 279 \r\nL 423.678239 7.2 \r\n\" style=\"fill:none;stroke:#ffffff;stroke-linecap:square;stroke-linejoin:miter;\"/>\r\n   </g>\r\n   <g id=\"patch_109\">\r\n    <path d=\"M 728.041875 279 \r\nL 728.041875 7.2 \r\n\" style=\"fill:none;stroke:#ffffff;stroke-linecap:square;stroke-linejoin:miter;\"/>\r\n   </g>\r\n   <g id=\"patch_110\">\r\n    <path d=\"M 423.678239 279 \r\nL 728.041875 279 \r\n\" style=\"fill:none;stroke:#ffffff;stroke-linecap:square;stroke-linejoin:miter;\"/>\r\n   </g>\r\n   <g id=\"patch_111\">\r\n    <path d=\"M 423.678239 7.2 \r\nL 728.041875 7.2 \r\n\" style=\"fill:none;stroke:#ffffff;stroke-linecap:square;stroke-linejoin:miter;\"/>\r\n   </g>\r\n  </g>\r\n </g>\r\n <defs>\r\n  <clipPath id=\"p0d076fe9dc\">\r\n   <rect height=\"271.8\" width=\"304.363636\" x=\"58.441875\" y=\"7.2\"/>\r\n  </clipPath>\r\n  <clipPath id=\"pc7e724e9ad\">\r\n   <rect height=\"271.8\" width=\"304.363636\" x=\"423.678239\" y=\"7.2\"/>\r\n  </clipPath>\r\n </defs>\r\n</svg>\r\n",
      "image/png": "[encoded data removed]"
     },
     "metadata": {}
    }
   ],
   "source": [
    "predsTest = rfModel.predict(X_test)\n",
    "fig,(ax1,ax2)= plt.subplots(ncols=2)\n",
    "fig.set_size_inches(12,5)\n",
    "sns.distplot(y_train,ax=ax1,bins=50)\n",
    "sns.distplot(np.exp(predsTest),ax=ax2,bins=50)"
   ]
  },
  {
   "source": [
    "## 앙상블모델 - 그라디언트 부스트\n",
    "### Ensemble Model - Gradient Boost\n",
    "* 여러개의 결정트리를 묶어 강력한 모델을 만드는 또 다른 앙상블 기법\n",
    "* 회귀와 분류에 모두 사용할 수 있음\n",
    "* 랜덤포레스트와 달리 이진 트리의 오차를 보완하는 방식으로 순차적으로 트리를 만든다.\n",
    "* 무작위성이 없고 강력한 사전 가지치기가 사용 됨\n",
    "* 1~5개의 깊지 않은 트리를 사용하기 때문에 메모리를 적게 사용하고 예측이 빠름\n",
    "* learning_rate : 오차를 얼마나 강하게 보정할 것인지를 제어\n",
    "* n_estimator의 값을 키우면 앙상블에 트리가 더 많이 추가 되어 모델의 복잡도가 커지고 훈련세트에서의 실수를 바로잡을 기회가 많아지지만 너무 크면 모델이 복잡해지고 오버피팅(과대적합)이 될 수있다.\n",
    "* max_depth(max_leaf_nodes) 복잡도를 너무 높이지 말고 트리의 깊이가 5보다 깊어지지 않게 한다."
   ],
   "cell_type": "markdown",
   "metadata": {}
  },
  {
   "cell_type": "code",
   "execution_count": 41,
   "metadata": {},
   "outputs": [
    {
     "output_type": "stream",
     "name": "stdout",
     "text": [
      "RMSLE Value For Gradient Boost:  0.20417262895601526\n"
     ]
    }
   ],
   "source": [
    "from sklearn.ensemble import GradientBoostingRegressor\n",
    "gbm = GradientBoostingRegressor(n_estimators=4000, alpha=0.01);\n",
    "\n",
    "y_train_log = np.log1p(y_train)\n",
    "gbm.fit(X_train, y_train_log)\n",
    "\n",
    "preds = gbm.predict(X_train)\n",
    "score = rmsle(np.exp(y_train_log),np.exp(preds),False)\n",
    "print (\"RMSLE Value For Gradient Boost: \", score)"
   ]
  },
  {
   "cell_type": "code",
   "execution_count": 42,
   "metadata": {},
   "outputs": [
    {
     "output_type": "stream",
     "name": "stdout",
     "text": [
      "(6493, 2)\n"
     ]
    }
   ],
   "source": [
    "submission = pd.read_csv(\"data/sampleSubmission.csv\")\n",
    "submission\n",
    "\n",
    "submission[\"count\"] = np.exp(predsTest)\n",
    "\n",
    "print(submission.shape)\n",
    "submission.head()\n",
    "\n",
    "submission.to_csv(f\"data/Score_{score:.5f}_submission.csv\", index=False)"
   ]
  },
  {
   "cell_type": "code",
   "execution_count": null,
   "metadata": {},
   "outputs": [],
   "source": []
  }
 ]
}
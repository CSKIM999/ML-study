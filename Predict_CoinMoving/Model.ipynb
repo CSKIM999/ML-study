{
 "metadata": {
  "language_info": {
   "codemirror_mode": {
    "name": "ipython",
    "version": 3
   },
   "file_extension": ".py",
   "mimetype": "text/x-python",
   "name": "python",
   "nbconvert_exporter": "python",
   "pygments_lexer": "ipython3",
   "version": "3.9.2"
  },
  "orig_nbformat": 2,
  "kernelspec": {
   "name": "python3",
   "display_name": "Python 3.9.2 64-bit"
  },
  "metadata": {
   "interpreter": {
    "hash": "63fd5069d213b44bf678585dea6b12cceca9941eaf7f819626cde1f2670de90d"
   }
  },
  "interpreter": {
   "hash": "63fd5069d213b44bf678585dea6b12cceca9941eaf7f819626cde1f2670de90d"
  }
 },
 "nbformat": 4,
 "nbformat_minor": 2,
 "cells": [
  {
   "cell_type": "code",
   "execution_count": 1,
   "metadata": {},
   "outputs": [],
   "source": [
    "import json\n",
    "import requests\n",
    "import urllib.request\n",
    "import time\n",
    "import pandas as pd\n",
    "import warnings\n",
    "warnings.filterwarnings('ignore')\n",
    "\n",
    "df = pd.DataFrame()\n",
    "index = 0\n",
    "last_date = ''\n",
    "\n",
    "# 수정 변수들\n",
    "coinName = \"BTC\"\n",
    "to_date = '2021-06-01'\n",
    "num = 30\n",
    "scale = '1'\n",
    "if num == 0:\n",
    "    type = 'days'\n",
    "else:\n",
    "    type = 'minutes/{}'.format(num)\n",
    "\n",
    "\n",
    "def get_coin_data_url(coinName, type, scale, cnt=400) :\n",
    "    addr = 'https://crix-api-endpoint.upbit.com/v1/crix/candles/'\n",
    "    if type == 'minutes' :\n",
    "        basic_url = addr + type + '/' + scale + '?code=CRIX.UPBIT.KRW-' + coinName +'&count='+str(cnt)\n",
    "    else :\n",
    "        basic_url = addr + type + '/' + '?code=CRIX.UPBIT.KRW-' + coinName +'&count='+str(cnt)\n",
    "\n",
    "    return basic_url\n",
    "\n",
    "basic_url = get_coin_data_url(coinName,type,scale)\n",
    "url = basic_url\n",
    "\n",
    "def get_upbit_data(url, last_date, to_date) :\n",
    "    global df\n",
    "    global index\n",
    "\n",
    "    fail2GetData = False\n",
    "    response = ''\n",
    "    while True:\n",
    "        try :\n",
    "            response = requests.get(url)\n",
    "        except Exception as e:\n",
    "            time.sleep(20)\n",
    "            continue\n",
    "        if str(response) == '<Response [200]>':\n",
    "            break\n",
    "        time.sleep(10)\n",
    "    if ( fail2GetData )  :\n",
    "        exit()\n",
    "\n",
    "    data = response.json()\n",
    "\n",
    "    if index == 0:\n",
    "        df = pd.DataFrame(data)\n",
    "        date = ''\n",
    "        date = data[len(data)-1]['candleDateTime']\n",
    "        index +=1\n",
    "\n",
    "    else:\n",
    "        df_for = pd.DataFrame(data)\n",
    "        df = df.append(df_for,ignore_index=True)\n",
    "        date = ''\n",
    "        date = data[len(data)-1]['candleDateTime']\n",
    "\n",
    "\n",
    "    return date\n",
    "\n",
    "\n"
   ]
  },
  {
   "cell_type": "code",
   "execution_count": 2,
   "metadata": {},
   "outputs": [
    {
     "output_type": "execute_result",
     "data": {
      "text/plain": [
       "                   code             candleDateTime          candleDateTimeKst  \\\n",
       "0    CRIX.UPBIT.KRW-BTC  2021-06-13T08:00:00+00:00  2021-06-13T17:00:00+09:00   \n",
       "1    CRIX.UPBIT.KRW-BTC  2021-06-13T07:30:00+00:00  2021-06-13T16:30:00+09:00   \n",
       "2    CRIX.UPBIT.KRW-BTC  2021-06-13T07:00:00+00:00  2021-06-13T16:00:00+09:00   \n",
       "3    CRIX.UPBIT.KRW-BTC  2021-06-13T06:30:00+00:00  2021-06-13T15:30:00+09:00   \n",
       "4    CRIX.UPBIT.KRW-BTC  2021-06-13T06:00:00+00:00  2021-06-13T15:00:00+09:00   \n",
       "..                  ...                        ...                        ...   \n",
       "603  CRIX.UPBIT.KRW-BTC  2021-05-31T17:00:00+00:00  2021-06-01T02:00:00+09:00   \n",
       "604  CRIX.UPBIT.KRW-BTC  2021-05-31T16:30:00+00:00  2021-06-01T01:30:00+09:00   \n",
       "605  CRIX.UPBIT.KRW-BTC  2021-05-31T16:00:00+00:00  2021-06-01T01:00:00+09:00   \n",
       "606  CRIX.UPBIT.KRW-BTC  2021-05-31T15:30:00+00:00  2021-06-01T00:30:00+09:00   \n",
       "607  CRIX.UPBIT.KRW-BTC  2021-05-31T15:00:00+00:00  2021-06-01T00:00:00+09:00   \n",
       "\n",
       "     openingPrice   highPrice    lowPrice  tradePrice  candleAccTradeVolume  \\\n",
       "0      41310000.0  41400000.0  41310000.0  41372000.0             34.298453   \n",
       "1      41440000.0  41487000.0  41292000.0  41310000.0            279.043268   \n",
       "2      41196000.0  41451000.0  41083000.0  41435000.0            322.375668   \n",
       "3      40860000.0  41217000.0  40839000.0  41196000.0            139.388277   \n",
       "4      40747000.0  40900000.0  40710000.0  40860000.0             82.713961   \n",
       "..            ...         ...         ...         ...                   ...   \n",
       "603    43750000.0  43781000.0  43344000.0  43455000.0             94.137519   \n",
       "604    43732000.0  43900000.0  43580000.0  43706000.0            113.171244   \n",
       "605    43452000.0  44235000.0  43331000.0  43732000.0            514.176556   \n",
       "606    43382000.0  43600000.0  43200000.0  43452000.0            160.459124   \n",
       "607    43235000.0  43673000.0  43151000.0  43400000.0            201.977438   \n",
       "\n",
       "     candleAccTradePrice      timestamp  unit  \n",
       "0           1.417585e+09  1623571482985    30  \n",
       "1           1.154530e+10  1623571199689    30  \n",
       "2           1.332370e+10  1623569400047    30  \n",
       "3           5.713153e+09  1623567599964    30  \n",
       "4           3.373840e+09  1623565799237    30  \n",
       "..                   ...            ...   ...  \n",
       "603         4.097559e+09  1622482195149    30  \n",
       "604         4.945885e+09  1622480397168    30  \n",
       "605         2.254488e+10  1622478600042    30  \n",
       "606         6.963492e+09  1622476798899    30  \n",
       "607         8.776907e+09  1622475000033    30  \n",
       "\n",
       "[608 rows x 11 columns]"
      ],
      "text/html": "<div>\n<style scoped>\n    .dataframe tbody tr th:only-of-type {\n        vertical-align: middle;\n    }\n\n    .dataframe tbody tr th {\n        vertical-align: top;\n    }\n\n    .dataframe thead th {\n        text-align: right;\n    }\n</style>\n<table border=\"1\" class=\"dataframe\">\n  <thead>\n    <tr style=\"text-align: right;\">\n      <th></th>\n      <th>code</th>\n      <th>candleDateTime</th>\n      <th>candleDateTimeKst</th>\n      <th>openingPrice</th>\n      <th>highPrice</th>\n      <th>lowPrice</th>\n      <th>tradePrice</th>\n      <th>candleAccTradeVolume</th>\n      <th>candleAccTradePrice</th>\n      <th>timestamp</th>\n      <th>unit</th>\n    </tr>\n  </thead>\n  <tbody>\n    <tr>\n      <th>0</th>\n      <td>CRIX.UPBIT.KRW-BTC</td>\n      <td>2021-06-13T08:00:00+00:00</td>\n      <td>2021-06-13T17:00:00+09:00</td>\n      <td>41310000.0</td>\n      <td>41400000.0</td>\n      <td>41310000.0</td>\n      <td>41372000.0</td>\n      <td>34.298453</td>\n      <td>1.417585e+09</td>\n      <td>1623571482985</td>\n      <td>30</td>\n    </tr>\n    <tr>\n      <th>1</th>\n      <td>CRIX.UPBIT.KRW-BTC</td>\n      <td>2021-06-13T07:30:00+00:00</td>\n      <td>2021-06-13T16:30:00+09:00</td>\n      <td>41440000.0</td>\n      <td>41487000.0</td>\n      <td>41292000.0</td>\n      <td>41310000.0</td>\n      <td>279.043268</td>\n      <td>1.154530e+10</td>\n      <td>1623571199689</td>\n      <td>30</td>\n    </tr>\n    <tr>\n      <th>2</th>\n      <td>CRIX.UPBIT.KRW-BTC</td>\n      <td>2021-06-13T07:00:00+00:00</td>\n      <td>2021-06-13T16:00:00+09:00</td>\n      <td>41196000.0</td>\n      <td>41451000.0</td>\n      <td>41083000.0</td>\n      <td>41435000.0</td>\n      <td>322.375668</td>\n      <td>1.332370e+10</td>\n      <td>1623569400047</td>\n      <td>30</td>\n    </tr>\n    <tr>\n      <th>3</th>\n      <td>CRIX.UPBIT.KRW-BTC</td>\n      <td>2021-06-13T06:30:00+00:00</td>\n      <td>2021-06-13T15:30:00+09:00</td>\n      <td>40860000.0</td>\n      <td>41217000.0</td>\n      <td>40839000.0</td>\n      <td>41196000.0</td>\n      <td>139.388277</td>\n      <td>5.713153e+09</td>\n      <td>1623567599964</td>\n      <td>30</td>\n    </tr>\n    <tr>\n      <th>4</th>\n      <td>CRIX.UPBIT.KRW-BTC</td>\n      <td>2021-06-13T06:00:00+00:00</td>\n      <td>2021-06-13T15:00:00+09:00</td>\n      <td>40747000.0</td>\n      <td>40900000.0</td>\n      <td>40710000.0</td>\n      <td>40860000.0</td>\n      <td>82.713961</td>\n      <td>3.373840e+09</td>\n      <td>1623565799237</td>\n      <td>30</td>\n    </tr>\n    <tr>\n      <th>...</th>\n      <td>...</td>\n      <td>...</td>\n      <td>...</td>\n      <td>...</td>\n      <td>...</td>\n      <td>...</td>\n      <td>...</td>\n      <td>...</td>\n      <td>...</td>\n      <td>...</td>\n      <td>...</td>\n    </tr>\n    <tr>\n      <th>603</th>\n      <td>CRIX.UPBIT.KRW-BTC</td>\n      <td>2021-05-31T17:00:00+00:00</td>\n      <td>2021-06-01T02:00:00+09:00</td>\n      <td>43750000.0</td>\n      <td>43781000.0</td>\n      <td>43344000.0</td>\n      <td>43455000.0</td>\n      <td>94.137519</td>\n      <td>4.097559e+09</td>\n      <td>1622482195149</td>\n      <td>30</td>\n    </tr>\n    <tr>\n      <th>604</th>\n      <td>CRIX.UPBIT.KRW-BTC</td>\n      <td>2021-05-31T16:30:00+00:00</td>\n      <td>2021-06-01T01:30:00+09:00</td>\n      <td>43732000.0</td>\n      <td>43900000.0</td>\n      <td>43580000.0</td>\n      <td>43706000.0</td>\n      <td>113.171244</td>\n      <td>4.945885e+09</td>\n      <td>1622480397168</td>\n      <td>30</td>\n    </tr>\n    <tr>\n      <th>605</th>\n      <td>CRIX.UPBIT.KRW-BTC</td>\n      <td>2021-05-31T16:00:00+00:00</td>\n      <td>2021-06-01T01:00:00+09:00</td>\n      <td>43452000.0</td>\n      <td>44235000.0</td>\n      <td>43331000.0</td>\n      <td>43732000.0</td>\n      <td>514.176556</td>\n      <td>2.254488e+10</td>\n      <td>1622478600042</td>\n      <td>30</td>\n    </tr>\n    <tr>\n      <th>606</th>\n      <td>CRIX.UPBIT.KRW-BTC</td>\n      <td>2021-05-31T15:30:00+00:00</td>\n      <td>2021-06-01T00:30:00+09:00</td>\n      <td>43382000.0</td>\n      <td>43600000.0</td>\n      <td>43200000.0</td>\n      <td>43452000.0</td>\n      <td>160.459124</td>\n      <td>6.963492e+09</td>\n      <td>1622476798899</td>\n      <td>30</td>\n    </tr>\n    <tr>\n      <th>607</th>\n      <td>CRIX.UPBIT.KRW-BTC</td>\n      <td>2021-05-31T15:00:00+00:00</td>\n      <td>2021-06-01T00:00:00+09:00</td>\n      <td>43235000.0</td>\n      <td>43673000.0</td>\n      <td>43151000.0</td>\n      <td>43400000.0</td>\n      <td>201.977438</td>\n      <td>8.776907e+09</td>\n      <td>1622475000033</td>\n      <td>30</td>\n    </tr>\n  </tbody>\n</table>\n<p>608 rows × 11 columns</p>\n</div>"
     },
     "metadata": {},
     "execution_count": 2
    }
   ],
   "source": [
    "\n",
    "while (1) :\n",
    "    last_date = get_upbit_data(url, last_date, to_date)\n",
    "    tmp1 = last_date.split('T')\n",
    "    if tmp1[0]  < to_date :\n",
    "        break\n",
    "    tmp2 = tmp1[1].split('+')\n",
    "    target_date = tmp1[0] + ' ' + tmp2[0]\n",
    "    url = basic_url + '&to=' + target_date    #to=2019-11-27 04:01:00\n",
    "    time.sleep(2)\n",
    "\n",
    "idx_todate = df.index[(df.candleDateTimeKst == '{}T00:00:00+09:00'.format(to_date))].tolist()[0]+1\n",
    "idx_todate\n",
    "\n",
    "df = df.drop(df.index[idx_todate:])\n",
    "df"
   ]
  },
  {
   "cell_type": "code",
   "execution_count": 3,
   "metadata": {},
   "outputs": [],
   "source": [
    "df['Date'] = 0\n",
    "df['hour'] = 0\n",
    "df['minute'] = 0"
   ]
  },
  {
   "cell_type": "code",
   "execution_count": 4,
   "metadata": {},
   "outputs": [
    {
     "output_type": "execute_result",
     "data": {
      "text/plain": [
       "'2021-06-13'"
      ]
     },
     "metadata": {},
     "execution_count": 4
    }
   ],
   "source": [
    "df['Date'][0] = df['candleDateTimeKst'][0].split('T')\n",
    "df['Date'][0][0]\n"
   ]
  },
  {
   "cell_type": "code",
   "execution_count": 5,
   "metadata": {
    "tags": []
   },
   "outputs": [],
   "source": [
    "for i in range(len(df)):\n",
    "    df['Date'] [i] = df['candleDateTimeKst'][i].split('T')\n",
    "    df['hour'] [i] = df['Date'][i][1].split('+')[0]\n",
    "    df['minute'] [i] = df['hour'][i].split(':')[1]\n",
    "    df['hour'] [i] = df['hour'][i].split(':')[0]\n",
    "    df['Date'] [i] = df['Date'][i][0]\n"
   ]
  },
  {
   "cell_type": "code",
   "execution_count": 6,
   "metadata": {},
   "outputs": [
    {
     "output_type": "execute_result",
     "data": {
      "text/plain": [
       "                   code             candleDateTime          candleDateTimeKst  \\\n",
       "0    CRIX.UPBIT.KRW-BTC  2021-06-13T08:00:00+00:00  2021-06-13T17:00:00+09:00   \n",
       "1    CRIX.UPBIT.KRW-BTC  2021-06-13T07:30:00+00:00  2021-06-13T16:30:00+09:00   \n",
       "2    CRIX.UPBIT.KRW-BTC  2021-06-13T07:00:00+00:00  2021-06-13T16:00:00+09:00   \n",
       "3    CRIX.UPBIT.KRW-BTC  2021-06-13T06:30:00+00:00  2021-06-13T15:30:00+09:00   \n",
       "4    CRIX.UPBIT.KRW-BTC  2021-06-13T06:00:00+00:00  2021-06-13T15:00:00+09:00   \n",
       "..                  ...                        ...                        ...   \n",
       "603  CRIX.UPBIT.KRW-BTC  2021-05-31T17:00:00+00:00  2021-06-01T02:00:00+09:00   \n",
       "604  CRIX.UPBIT.KRW-BTC  2021-05-31T16:30:00+00:00  2021-06-01T01:30:00+09:00   \n",
       "605  CRIX.UPBIT.KRW-BTC  2021-05-31T16:00:00+00:00  2021-06-01T01:00:00+09:00   \n",
       "606  CRIX.UPBIT.KRW-BTC  2021-05-31T15:30:00+00:00  2021-06-01T00:30:00+09:00   \n",
       "607  CRIX.UPBIT.KRW-BTC  2021-05-31T15:00:00+00:00  2021-06-01T00:00:00+09:00   \n",
       "\n",
       "     openingPrice   highPrice    lowPrice  tradePrice  candleAccTradeVolume  \\\n",
       "0      41310000.0  41400000.0  41310000.0  41372000.0             34.298453   \n",
       "1      41440000.0  41487000.0  41292000.0  41310000.0            279.043268   \n",
       "2      41196000.0  41451000.0  41083000.0  41435000.0            322.375668   \n",
       "3      40860000.0  41217000.0  40839000.0  41196000.0            139.388277   \n",
       "4      40747000.0  40900000.0  40710000.0  40860000.0             82.713961   \n",
       "..            ...         ...         ...         ...                   ...   \n",
       "603    43750000.0  43781000.0  43344000.0  43455000.0             94.137519   \n",
       "604    43732000.0  43900000.0  43580000.0  43706000.0            113.171244   \n",
       "605    43452000.0  44235000.0  43331000.0  43732000.0            514.176556   \n",
       "606    43382000.0  43600000.0  43200000.0  43452000.0            160.459124   \n",
       "607    43235000.0  43673000.0  43151000.0  43400000.0            201.977438   \n",
       "\n",
       "     candleAccTradePrice      timestamp  unit        Date hour  minute  \n",
       "0           1.417585e+09  1623571482985    30  2021-06-13   17       0  \n",
       "1           1.154530e+10  1623571199689    30  2021-06-13   16      30  \n",
       "2           1.332370e+10  1623569400047    30  2021-06-13   16       0  \n",
       "3           5.713153e+09  1623567599964    30  2021-06-13   15      30  \n",
       "4           3.373840e+09  1623565799237    30  2021-06-13   15       0  \n",
       "..                   ...            ...   ...         ...  ...     ...  \n",
       "603         4.097559e+09  1622482195149    30  2021-06-01   02       0  \n",
       "604         4.945885e+09  1622480397168    30  2021-06-01   01      30  \n",
       "605         2.254488e+10  1622478600042    30  2021-06-01   01       0  \n",
       "606         6.963492e+09  1622476798899    30  2021-06-01   00      30  \n",
       "607         8.776907e+09  1622475000033    30  2021-06-01   00       0  \n",
       "\n",
       "[608 rows x 14 columns]"
      ],
      "text/html": "<div>\n<style scoped>\n    .dataframe tbody tr th:only-of-type {\n        vertical-align: middle;\n    }\n\n    .dataframe tbody tr th {\n        vertical-align: top;\n    }\n\n    .dataframe thead th {\n        text-align: right;\n    }\n</style>\n<table border=\"1\" class=\"dataframe\">\n  <thead>\n    <tr style=\"text-align: right;\">\n      <th></th>\n      <th>code</th>\n      <th>candleDateTime</th>\n      <th>candleDateTimeKst</th>\n      <th>openingPrice</th>\n      <th>highPrice</th>\n      <th>lowPrice</th>\n      <th>tradePrice</th>\n      <th>candleAccTradeVolume</th>\n      <th>candleAccTradePrice</th>\n      <th>timestamp</th>\n      <th>unit</th>\n      <th>Date</th>\n      <th>hour</th>\n      <th>minute</th>\n    </tr>\n  </thead>\n  <tbody>\n    <tr>\n      <th>0</th>\n      <td>CRIX.UPBIT.KRW-BTC</td>\n      <td>2021-06-13T08:00:00+00:00</td>\n      <td>2021-06-13T17:00:00+09:00</td>\n      <td>41310000.0</td>\n      <td>41400000.0</td>\n      <td>41310000.0</td>\n      <td>41372000.0</td>\n      <td>34.298453</td>\n      <td>1.417585e+09</td>\n      <td>1623571482985</td>\n      <td>30</td>\n      <td>2021-06-13</td>\n      <td>17</td>\n      <td>0</td>\n    </tr>\n    <tr>\n      <th>1</th>\n      <td>CRIX.UPBIT.KRW-BTC</td>\n      <td>2021-06-13T07:30:00+00:00</td>\n      <td>2021-06-13T16:30:00+09:00</td>\n      <td>41440000.0</td>\n      <td>41487000.0</td>\n      <td>41292000.0</td>\n      <td>41310000.0</td>\n      <td>279.043268</td>\n      <td>1.154530e+10</td>\n      <td>1623571199689</td>\n      <td>30</td>\n      <td>2021-06-13</td>\n      <td>16</td>\n      <td>30</td>\n    </tr>\n    <tr>\n      <th>2</th>\n      <td>CRIX.UPBIT.KRW-BTC</td>\n      <td>2021-06-13T07:00:00+00:00</td>\n      <td>2021-06-13T16:00:00+09:00</td>\n      <td>41196000.0</td>\n      <td>41451000.0</td>\n      <td>41083000.0</td>\n      <td>41435000.0</td>\n      <td>322.375668</td>\n      <td>1.332370e+10</td>\n      <td>1623569400047</td>\n      <td>30</td>\n      <td>2021-06-13</td>\n      <td>16</td>\n      <td>0</td>\n    </tr>\n    <tr>\n      <th>3</th>\n      <td>CRIX.UPBIT.KRW-BTC</td>\n      <td>2021-06-13T06:30:00+00:00</td>\n      <td>2021-06-13T15:30:00+09:00</td>\n      <td>40860000.0</td>\n      <td>41217000.0</td>\n      <td>40839000.0</td>\n      <td>41196000.0</td>\n      <td>139.388277</td>\n      <td>5.713153e+09</td>\n      <td>1623567599964</td>\n      <td>30</td>\n      <td>2021-06-13</td>\n      <td>15</td>\n      <td>30</td>\n    </tr>\n    <tr>\n      <th>4</th>\n      <td>CRIX.UPBIT.KRW-BTC</td>\n      <td>2021-06-13T06:00:00+00:00</td>\n      <td>2021-06-13T15:00:00+09:00</td>\n      <td>40747000.0</td>\n      <td>40900000.0</td>\n      <td>40710000.0</td>\n      <td>40860000.0</td>\n      <td>82.713961</td>\n      <td>3.373840e+09</td>\n      <td>1623565799237</td>\n      <td>30</td>\n      <td>2021-06-13</td>\n      <td>15</td>\n      <td>0</td>\n    </tr>\n    <tr>\n      <th>...</th>\n      <td>...</td>\n      <td>...</td>\n      <td>...</td>\n      <td>...</td>\n      <td>...</td>\n      <td>...</td>\n      <td>...</td>\n      <td>...</td>\n      <td>...</td>\n      <td>...</td>\n      <td>...</td>\n      <td>...</td>\n      <td>...</td>\n      <td>...</td>\n    </tr>\n    <tr>\n      <th>603</th>\n      <td>CRIX.UPBIT.KRW-BTC</td>\n      <td>2021-05-31T17:00:00+00:00</td>\n      <td>2021-06-01T02:00:00+09:00</td>\n      <td>43750000.0</td>\n      <td>43781000.0</td>\n      <td>43344000.0</td>\n      <td>43455000.0</td>\n      <td>94.137519</td>\n      <td>4.097559e+09</td>\n      <td>1622482195149</td>\n      <td>30</td>\n      <td>2021-06-01</td>\n      <td>02</td>\n      <td>0</td>\n    </tr>\n    <tr>\n      <th>604</th>\n      <td>CRIX.UPBIT.KRW-BTC</td>\n      <td>2021-05-31T16:30:00+00:00</td>\n      <td>2021-06-01T01:30:00+09:00</td>\n      <td>43732000.0</td>\n      <td>43900000.0</td>\n      <td>43580000.0</td>\n      <td>43706000.0</td>\n      <td>113.171244</td>\n      <td>4.945885e+09</td>\n      <td>1622480397168</td>\n      <td>30</td>\n      <td>2021-06-01</td>\n      <td>01</td>\n      <td>30</td>\n    </tr>\n    <tr>\n      <th>605</th>\n      <td>CRIX.UPBIT.KRW-BTC</td>\n      <td>2021-05-31T16:00:00+00:00</td>\n      <td>2021-06-01T01:00:00+09:00</td>\n      <td>43452000.0</td>\n      <td>44235000.0</td>\n      <td>43331000.0</td>\n      <td>43732000.0</td>\n      <td>514.176556</td>\n      <td>2.254488e+10</td>\n      <td>1622478600042</td>\n      <td>30</td>\n      <td>2021-06-01</td>\n      <td>01</td>\n      <td>0</td>\n    </tr>\n    <tr>\n      <th>606</th>\n      <td>CRIX.UPBIT.KRW-BTC</td>\n      <td>2021-05-31T15:30:00+00:00</td>\n      <td>2021-06-01T00:30:00+09:00</td>\n      <td>43382000.0</td>\n      <td>43600000.0</td>\n      <td>43200000.0</td>\n      <td>43452000.0</td>\n      <td>160.459124</td>\n      <td>6.963492e+09</td>\n      <td>1622476798899</td>\n      <td>30</td>\n      <td>2021-06-01</td>\n      <td>00</td>\n      <td>30</td>\n    </tr>\n    <tr>\n      <th>607</th>\n      <td>CRIX.UPBIT.KRW-BTC</td>\n      <td>2021-05-31T15:00:00+00:00</td>\n      <td>2021-06-01T00:00:00+09:00</td>\n      <td>43235000.0</td>\n      <td>43673000.0</td>\n      <td>43151000.0</td>\n      <td>43400000.0</td>\n      <td>201.977438</td>\n      <td>8.776907e+09</td>\n      <td>1622475000033</td>\n      <td>30</td>\n      <td>2021-06-01</td>\n      <td>00</td>\n      <td>0</td>\n    </tr>\n  </tbody>\n</table>\n<p>608 rows × 14 columns</p>\n</div>"
     },
     "metadata": {},
     "execution_count": 6
    }
   ],
   "source": [
    "df"
   ]
  },
  {
   "cell_type": "code",
   "execution_count": 7,
   "metadata": {},
   "outputs": [
    {
     "output_type": "execute_result",
     "data": {
      "text/plain": [
       "  hour  minute  tradePrice   highPrice    lowPrice  candleAccTradeVolume\n",
       "0   17       0  41372000.0  41400000.0  41310000.0             34.298453\n",
       "1   16      30  41310000.0  41487000.0  41292000.0            279.043268\n",
       "2   16       0  41435000.0  41451000.0  41083000.0            322.375668\n",
       "3   15      30  41196000.0  41217000.0  40839000.0            139.388277\n",
       "4   15       0  40860000.0  40900000.0  40710000.0             82.713961"
      ],
      "text/html": "<div>\n<style scoped>\n    .dataframe tbody tr th:only-of-type {\n        vertical-align: middle;\n    }\n\n    .dataframe tbody tr th {\n        vertical-align: top;\n    }\n\n    .dataframe thead th {\n        text-align: right;\n    }\n</style>\n<table border=\"1\" class=\"dataframe\">\n  <thead>\n    <tr style=\"text-align: right;\">\n      <th></th>\n      <th>hour</th>\n      <th>minute</th>\n      <th>tradePrice</th>\n      <th>highPrice</th>\n      <th>lowPrice</th>\n      <th>candleAccTradeVolume</th>\n    </tr>\n  </thead>\n  <tbody>\n    <tr>\n      <th>0</th>\n      <td>17</td>\n      <td>0</td>\n      <td>41372000.0</td>\n      <td>41400000.0</td>\n      <td>41310000.0</td>\n      <td>34.298453</td>\n    </tr>\n    <tr>\n      <th>1</th>\n      <td>16</td>\n      <td>30</td>\n      <td>41310000.0</td>\n      <td>41487000.0</td>\n      <td>41292000.0</td>\n      <td>279.043268</td>\n    </tr>\n    <tr>\n      <th>2</th>\n      <td>16</td>\n      <td>0</td>\n      <td>41435000.0</td>\n      <td>41451000.0</td>\n      <td>41083000.0</td>\n      <td>322.375668</td>\n    </tr>\n    <tr>\n      <th>3</th>\n      <td>15</td>\n      <td>30</td>\n      <td>41196000.0</td>\n      <td>41217000.0</td>\n      <td>40839000.0</td>\n      <td>139.388277</td>\n    </tr>\n    <tr>\n      <th>4</th>\n      <td>15</td>\n      <td>0</td>\n      <td>40860000.0</td>\n      <td>40900000.0</td>\n      <td>40710000.0</td>\n      <td>82.713961</td>\n    </tr>\n  </tbody>\n</table>\n</div>"
     },
     "metadata": {},
     "execution_count": 7
    }
   ],
   "source": [
    "\n",
    "drops= ['Date','unit','candleAccTradePrice','openingPrice','code','candleDateTime','timestamp','candleDateTimeKst']\n",
    "df=df.drop(drops,axis=1)\n",
    "df=df[['hour','minute','tradePrice','highPrice','lowPrice','candleAccTradeVolume']]\n",
    "df.head()"
   ]
  },
  {
   "cell_type": "code",
   "execution_count": 8,
   "metadata": {},
   "outputs": [
    {
     "output_type": "execute_result",
     "data": {
      "text/plain": [
       "41372000.0"
      ]
     },
     "metadata": {},
     "execution_count": 8
    }
   ],
   "source": [
    "df['tradePrice'][0]"
   ]
  },
  {
   "cell_type": "code",
   "execution_count": 9,
   "metadata": {
    "tags": []
   },
   "outputs": [
    {
     "output_type": "stream",
     "name": "stdout",
     "text": [
      "607         NaN\n606     52000.0\n605    280000.0\n604         0.0\n603         0.0\n         ...   \n4      113000.0\n3      336000.0\n2      239000.0\n1           0.0\n0       62000.0\nName: tradePrice, Length: 608, dtype: float64 607         NaN\n606         0.0\n605         0.0\n604    -26000.0\n603   -251000.0\n         ...   \n4           0.0\n3           0.0\n2           0.0\n1     -125000.0\n0           0.0\nName: tradePrice, Length: 608, dtype: float64\n"
     ]
    }
   ],
   "source": [
    "ups, downs = df['tradePrice'].loc[::-1].diff() ,df['tradePrice'].loc[::-1].diff()\n",
    "# ups, downs = ups.loc[::-1],downs.loc[::-1]\n",
    "ups[ups<0] =0\n",
    "downs[downs>0] = 0\n",
    "print(ups,downs)\n",
    "# period = 14\n",
    "# au = ups.ewm(com=period-1,min_periods=period).mean()\n",
    "# ad = downs.ewm(com=period-1,min_periods=period).mean()\n",
    "# au, ad = au.loc[::-1],ad.loc[::-1]\n",
    "# RS = au/ad\n",
    "# RSI = pd.Series(100-(100/(1+RS)))\n",
    "# print(RSI)\n"
   ]
  },
  {
   "cell_type": "code",
   "execution_count": 10,
   "metadata": {},
   "outputs": [
    {
     "output_type": "stream",
     "name": "stdout",
     "text": [
      "607          NaN\n606          NaN\n605          NaN\n604          NaN\n603          NaN\n         ...    \n4      42.034340\n3      49.621378\n2      54.212240\n1      51.565542\n0      52.796512\nName: tradePrice, Length: 608, dtype: float64\n"
     ]
    }
   ],
   "source": [
    "period = 14 \n",
    "au = ups.ewm(com = period-1, min_periods = period).mean()\n",
    "ad = downs.abs().ewm(com = period-1, min_periods = period).mean() \n",
    "RS = au/ad \n",
    "RSI = pd.Series(100 - (100/(1+RS))) \n",
    "print(RSI)            "
   ]
  },
  {
   "cell_type": "code",
   "execution_count": null,
   "metadata": {},
   "outputs": [],
   "source": []
  }
 ]
}
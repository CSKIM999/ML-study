{
 "metadata": {
  "language_info": {
   "codemirror_mode": {
    "name": "ipython",
    "version": 3
   },
   "file_extension": ".py",
   "mimetype": "text/x-python",
   "name": "python",
   "nbconvert_exporter": "python",
   "pygments_lexer": "ipython3",
   "version": "3.9.2"
  },
  "orig_nbformat": 2,
  "kernelspec": {
   "name": "python3",
   "display_name": "Python 3.9.2 64-bit"
  },
  "metadata": {
   "interpreter": {
    "hash": "63fd5069d213b44bf678585dea6b12cceca9941eaf7f819626cde1f2670de90d"
   }
  },
  "interpreter": {
   "hash": "63fd5069d213b44bf678585dea6b12cceca9941eaf7f819626cde1f2670de90d"
  }
 },
 "nbformat": 4,
 "nbformat_minor": 2,
 "cells": [
  {
   "cell_type": "code",
   "execution_count": 1,
   "metadata": {},
   "outputs": [],
   "source": [
    "import json\n",
    "import requests\n",
    "import urllib.request\n",
    "import time\n",
    "import pandas as pd\n",
    "import warnings\n",
    "warnings.filterwarnings('ignore')\n",
    "df = pd.DataFrame()\n",
    "index = 0\n",
    "last_date = ''\n",
    "\n",
    "# 수정 변수들\n",
    "coinName = \"BTC\"\n",
    "to_date = '2021-06-21'\n",
    "num = 30\n",
    "scale = '1'\n",
    "if num == 0:\n",
    "    type = 'days'\n",
    "else:\n",
    "    type = 'minutes/{}'.format(num)\n",
    "\n",
    "\n",
    "def get_coin_data_url(coinName, type, scale, cnt=400) :\n",
    "    addr = 'https://crix-api-endpoint.upbit.com/v1/crix/candles/'\n",
    "    if type == 'minutes' :\n",
    "        basic_url = addr + type + '/' + scale + '?code=CRIX.UPBIT.KRW-' + coinName +'&count='+str(cnt)\n",
    "    else :\n",
    "        basic_url = addr + type + '/' + '?code=CRIX.UPBIT.KRW-' + coinName +'&count='+str(cnt)\n",
    "\n",
    "    return basic_url\n",
    "\n",
    "basic_url = get_coin_data_url(coinName,type,scale)\n",
    "url = basic_url\n",
    "\n",
    "def get_upbit_data(url, last_date, to_date) :\n",
    "    global df\n",
    "    global index\n",
    "\n",
    "    fail2GetData = False\n",
    "    response = ''\n",
    "    while True:\n",
    "        try :\n",
    "            response = requests.get(url)\n",
    "        except Exception as e:\n",
    "            time.sleep(20)\n",
    "            continue\n",
    "        if str(response) == '<Response [200]>':\n",
    "            break\n",
    "        time.sleep(10)\n",
    "    if ( fail2GetData )  :\n",
    "        exit()\n",
    "\n",
    "    data = response.json()\n",
    "\n",
    "    if index == 0:\n",
    "        df = pd.DataFrame(data)\n",
    "        date = ''\n",
    "        date = data[len(data)-1]['candleDateTime']\n",
    "        index +=1\n",
    "\n",
    "    else:\n",
    "        df_for = pd.DataFrame(data)\n",
    "        df = df.append(df_for,ignore_index=True)\n",
    "        date = ''\n",
    "        date = data[len(data)-1]['candleDateTime']\n",
    "    return date\n",
    "\n",
    "\n"
   ]
  },
  {
   "cell_type": "code",
   "execution_count": 2,
   "metadata": {},
   "outputs": [],
   "source": [
    "\n",
    "while (1) :\n",
    "    last_date = get_upbit_data(url, last_date, to_date)\n",
    "    tmp1 = last_date.split('T')\n",
    "    if tmp1[0]  < to_date :\n",
    "        break\n",
    "    tmp2 = tmp1[1].split('+')\n",
    "    target_date = tmp1[0] + ' ' + tmp2[0]\n",
    "    url = basic_url + '&to=' + target_date    #to=2019-11-27 04:01:00\n",
    "    time.sleep(2)\n",
    "\n",
    "idx_todate = df.index[(df.candleDateTimeKst == '{}T00:00:00+09:00'.format(to_date))].tolist()[0]+1\n",
    "idx_todate\n",
    "\n",
    "df = df.drop(df.index[idx_todate:])"
   ]
  },
  {
   "cell_type": "code",
   "execution_count": 3,
   "metadata": {},
   "outputs": [],
   "source": [
    "df['Date'] = 0\n",
    "df['hour'] = 0\n",
    "df['minute'] = 0"
   ]
  },
  {
   "cell_type": "code",
   "execution_count": 4,
   "metadata": {
    "tags": []
   },
   "outputs": [],
   "source": [
    "for i in range(len(df)):\n",
    "    df['Date'] [i] = df['candleDateTimeKst'][i].split('T')\n",
    "    df['hour'] [i] = df['Date'][i][1].split('+')[0]\n",
    "    df['minute'] [i] = df['hour'][i].split(':')[1]\n",
    "    df['hour'] [i] = df['hour'][i].split(':')[0]\n",
    "    df['Date'] [i] = df['Date'][i][0]\n"
   ]
  },
  {
   "cell_type": "code",
   "execution_count": 5,
   "metadata": {},
   "outputs": [
    {
     "output_type": "execute_result",
     "data": {
      "text/plain": [
       "  hour  minute  tradePrice   highPrice    lowPrice  candleAccTradeVolume\n",
       "0   14       0  38330000.0  38394000.0  38292000.0             72.863689\n",
       "1   13      30  38300000.0  38400000.0  38123000.0            206.220691\n",
       "2   13       0  38123000.0  38461000.0  38106000.0            183.268314\n",
       "3   12      30  38303000.0  38326000.0  37911000.0            200.707883\n",
       "4   12       0  37913000.0  38390000.0  37911000.0            255.477421"
      ],
      "text/html": "<div>\n<style scoped>\n    .dataframe tbody tr th:only-of-type {\n        vertical-align: middle;\n    }\n\n    .dataframe tbody tr th {\n        vertical-align: top;\n    }\n\n    .dataframe thead th {\n        text-align: right;\n    }\n</style>\n<table border=\"1\" class=\"dataframe\">\n  <thead>\n    <tr style=\"text-align: right;\">\n      <th></th>\n      <th>hour</th>\n      <th>minute</th>\n      <th>tradePrice</th>\n      <th>highPrice</th>\n      <th>lowPrice</th>\n      <th>candleAccTradeVolume</th>\n    </tr>\n  </thead>\n  <tbody>\n    <tr>\n      <th>0</th>\n      <td>14</td>\n      <td>0</td>\n      <td>38330000.0</td>\n      <td>38394000.0</td>\n      <td>38292000.0</td>\n      <td>72.863689</td>\n    </tr>\n    <tr>\n      <th>1</th>\n      <td>13</td>\n      <td>30</td>\n      <td>38300000.0</td>\n      <td>38400000.0</td>\n      <td>38123000.0</td>\n      <td>206.220691</td>\n    </tr>\n    <tr>\n      <th>2</th>\n      <td>13</td>\n      <td>0</td>\n      <td>38123000.0</td>\n      <td>38461000.0</td>\n      <td>38106000.0</td>\n      <td>183.268314</td>\n    </tr>\n    <tr>\n      <th>3</th>\n      <td>12</td>\n      <td>30</td>\n      <td>38303000.0</td>\n      <td>38326000.0</td>\n      <td>37911000.0</td>\n      <td>200.707883</td>\n    </tr>\n    <tr>\n      <th>4</th>\n      <td>12</td>\n      <td>0</td>\n      <td>37913000.0</td>\n      <td>38390000.0</td>\n      <td>37911000.0</td>\n      <td>255.477421</td>\n    </tr>\n  </tbody>\n</table>\n</div>"
     },
     "metadata": {},
     "execution_count": 5
    }
   ],
   "source": [
    "drops= ['Date','unit','candleAccTradePrice','openingPrice','code','candleDateTime','timestamp','candleDateTimeKst']\n",
    "df=df.drop(drops,axis=1)\n",
    "df=df[['hour','minute','tradePrice','highPrice','lowPrice','candleAccTradeVolume']]\n",
    "df.head()"
   ]
  },
  {
   "cell_type": "code",
   "execution_count": 6,
   "metadata": {
    "tags": []
   },
   "outputs": [
    {
     "output_type": "stream",
     "name": "stdout",
     "text": [
      "0      63.130709\n1      62.769201\n2      60.655704\n3      64.091391\n4      59.472963\n         ...    \n312          NaN\n313          NaN\n314          NaN\n315          NaN\n316          NaN\nName: tradePrice, Length: 317, dtype: float64\n"
     ]
    }
   ],
   "source": [
    "ups, downs = df['tradePrice'].loc[::-1].diff() ,df['tradePrice'].loc[::-1].diff()\n",
    "ups[ups<0] =0\n",
    "downs[downs>0] = 0\n",
    "period = 14 \n",
    "au = ups.abs().ewm(com = period-1, min_periods = period).mean() \n",
    "ad = downs.abs().ewm(com = period-1, min_periods = period).mean() \n",
    "RS = au/ad \n",
    "RSI = pd.Series(100 - (100/(1+RS))) \n",
    "RSI = RSI.loc[::-1]\n",
    "print(RSI)\n",
    "df['RSI'] = RSI"
   ]
  },
  {
   "cell_type": "code",
   "execution_count": 7,
   "metadata": {},
   "outputs": [
    {
     "output_type": "stream",
     "name": "stdout",
     "text": [
      "D : 576720.0000000007  // M : 38338666.666666664 // m : 37535133.33333333\n92.88543641435878\nD : 564716.6666666672  // M : 38274333.333333336 // m : 37466783.333333336\n95.33394327538876\nD : 546850.0  // M : 38230000.0 // m : 37402883.333333336\n100.83406987494001\n"
     ]
    }
   ],
   "source": [
    "# CCI 오예\n",
    "N = 20\n",
    "D = 0\n",
    "m = 0\n",
    "for i in range(3):\n",
    "    D = 0\n",
    "    m = 0\n",
    "    sm= 0\n",
    "\n",
    "    M = ((df['tradePrice'][i] + df['lowPrice'][i] + df['highPrice'][i]) / 3)\n",
    "\n",
    "    for j in range(N):\n",
    "        jM = (df['tradePrice'][i+j] + df['lowPrice'][i+j] + df['highPrice'][i+j]) / 3\n",
    "        sm +=jM\n",
    "    sm = (sm/N)\n",
    "\n",
    "    for k in range(N):\n",
    "        kM = (df['tradePrice'][i+k] + df['lowPrice'][i+k] + df['highPrice'][i+k]) / 3\n",
    "        D += abs(sm-kM)\n",
    "    D = D/N\n",
    "    print('D : {}  // M : {} // m : {}'.format(D,M,sm))\n",
    "\n",
    "    CCI = (M - sm) / (D * 0.015)\n",
    "\n",
    "    print(CCI)\n"
   ]
  },
  {
   "cell_type": "code",
   "execution_count": 8,
   "metadata": {},
   "outputs": [
    {
     "output_type": "execute_result",
     "data": {
      "text/plain": [
       "316    40830000.0\n",
       "315    40838000.0\n",
       "314    40938000.0\n",
       "313    40870000.0\n",
       "312    41017000.0\n",
       "          ...    \n",
       "4      37913000.0\n",
       "3      38303000.0\n",
       "2      38123000.0\n",
       "1      38300000.0\n",
       "0      38330000.0\n",
       "Name: tradePrice, Length: 317, dtype: float64"
      ]
     },
     "metadata": {},
     "execution_count": 8
    }
   ],
   "source": [
    "s_data, l_data = df['tradePrice'].loc[::-1],df['tradePrice'].loc[::-1]\n",
    "s_data\n",
    "l_data"
   ]
  },
  {
   "cell_type": "code",
   "execution_count": 9,
   "metadata": {},
   "outputs": [
    {
     "output_type": "execute_result",
     "data": {
      "text/plain": [
       "316             NaN\n",
       "315             NaN\n",
       "314             NaN\n",
       "313             NaN\n",
       "312             NaN\n",
       "311             NaN\n",
       "310             NaN\n",
       "309             NaN\n",
       "308             NaN\n",
       "307             NaN\n",
       "306             NaN\n",
       "305    4.138548e+07\n",
       "304    4.144915e+07\n",
       "303    4.148463e+07\n",
       "302    4.150365e+07\n",
       "Name: tradePrice, dtype: float64"
      ]
     },
     "metadata": {},
     "execution_count": 9
    }
   ],
   "source": [
    "# MACD\n",
    "period = 12\n",
    "s_data, l_data = df['tradePrice'].loc[::-1],df['tradePrice'].loc[::-1]\n",
    "# s_data, l_data = df['tradePrice'].diff() ,df['tradePrice'].diff()\n",
    "a12 = s_data.abs().ewm(com = period-1, min_periods = period).mean() \n",
    "a12.head(15)\n"
   ]
  },
  {
   "cell_type": "code",
   "execution_count": 10,
   "metadata": {},
   "outputs": [
    {
     "output_type": "execute_result",
     "data": {
      "text/plain": [
       "    hour  minute  tradePrice   highPrice    lowPrice  candleAccTradeVolume  \\\n",
       "316   00       0  40830000.0  40980000.0  40600000.0            345.947578   \n",
       "315   00      30  40838000.0  40960000.0  40755000.0            149.095600   \n",
       "314   01       0  40938000.0  40950000.0  40700000.0            163.617955   \n",
       "313   01      30  40870000.0  40938000.0  40759000.0             71.849834   \n",
       "312   02       0  41017000.0  41040000.0  40788000.0             84.941353   \n",
       "..   ...     ...         ...         ...         ...                   ...   \n",
       "4     12       0  37913000.0  38390000.0  37911000.0            255.477421   \n",
       "3     12      30  38303000.0  38326000.0  37911000.0            200.707883   \n",
       "2     13       0  38123000.0  38461000.0  38106000.0            183.268314   \n",
       "1     13      30  38300000.0  38400000.0  38123000.0            206.220691   \n",
       "0     14       0  38330000.0  38394000.0  38292000.0             72.863689   \n",
       "\n",
       "           RSI  \n",
       "316        NaN  \n",
       "315        NaN  \n",
       "314        NaN  \n",
       "313        NaN  \n",
       "312        NaN  \n",
       "..         ...  \n",
       "4    59.472963  \n",
       "3    64.091391  \n",
       "2    60.655704  \n",
       "1    62.769201  \n",
       "0    63.130709  \n",
       "\n",
       "[317 rows x 7 columns]"
      ],
      "text/html": "<div>\n<style scoped>\n    .dataframe tbody tr th:only-of-type {\n        vertical-align: middle;\n    }\n\n    .dataframe tbody tr th {\n        vertical-align: top;\n    }\n\n    .dataframe thead th {\n        text-align: right;\n    }\n</style>\n<table border=\"1\" class=\"dataframe\">\n  <thead>\n    <tr style=\"text-align: right;\">\n      <th></th>\n      <th>hour</th>\n      <th>minute</th>\n      <th>tradePrice</th>\n      <th>highPrice</th>\n      <th>lowPrice</th>\n      <th>candleAccTradeVolume</th>\n      <th>RSI</th>\n    </tr>\n  </thead>\n  <tbody>\n    <tr>\n      <th>316</th>\n      <td>00</td>\n      <td>0</td>\n      <td>40830000.0</td>\n      <td>40980000.0</td>\n      <td>40600000.0</td>\n      <td>345.947578</td>\n      <td>NaN</td>\n    </tr>\n    <tr>\n      <th>315</th>\n      <td>00</td>\n      <td>30</td>\n      <td>40838000.0</td>\n      <td>40960000.0</td>\n      <td>40755000.0</td>\n      <td>149.095600</td>\n      <td>NaN</td>\n    </tr>\n    <tr>\n      <th>314</th>\n      <td>01</td>\n      <td>0</td>\n      <td>40938000.0</td>\n      <td>40950000.0</td>\n      <td>40700000.0</td>\n      <td>163.617955</td>\n      <td>NaN</td>\n    </tr>\n    <tr>\n      <th>313</th>\n      <td>01</td>\n      <td>30</td>\n      <td>40870000.0</td>\n      <td>40938000.0</td>\n      <td>40759000.0</td>\n      <td>71.849834</td>\n      <td>NaN</td>\n    </tr>\n    <tr>\n      <th>312</th>\n      <td>02</td>\n      <td>0</td>\n      <td>41017000.0</td>\n      <td>41040000.0</td>\n      <td>40788000.0</td>\n      <td>84.941353</td>\n      <td>NaN</td>\n    </tr>\n    <tr>\n      <th>...</th>\n      <td>...</td>\n      <td>...</td>\n      <td>...</td>\n      <td>...</td>\n      <td>...</td>\n      <td>...</td>\n      <td>...</td>\n    </tr>\n    <tr>\n      <th>4</th>\n      <td>12</td>\n      <td>0</td>\n      <td>37913000.0</td>\n      <td>38390000.0</td>\n      <td>37911000.0</td>\n      <td>255.477421</td>\n      <td>59.472963</td>\n    </tr>\n    <tr>\n      <th>3</th>\n      <td>12</td>\n      <td>30</td>\n      <td>38303000.0</td>\n      <td>38326000.0</td>\n      <td>37911000.0</td>\n      <td>200.707883</td>\n      <td>64.091391</td>\n    </tr>\n    <tr>\n      <th>2</th>\n      <td>13</td>\n      <td>0</td>\n      <td>38123000.0</td>\n      <td>38461000.0</td>\n      <td>38106000.0</td>\n      <td>183.268314</td>\n      <td>60.655704</td>\n    </tr>\n    <tr>\n      <th>1</th>\n      <td>13</td>\n      <td>30</td>\n      <td>38300000.0</td>\n      <td>38400000.0</td>\n      <td>38123000.0</td>\n      <td>206.220691</td>\n      <td>62.769201</td>\n    </tr>\n    <tr>\n      <th>0</th>\n      <td>14</td>\n      <td>0</td>\n      <td>38330000.0</td>\n      <td>38394000.0</td>\n      <td>38292000.0</td>\n      <td>72.863689</td>\n      <td>63.130709</td>\n    </tr>\n  </tbody>\n</table>\n<p>317 rows × 7 columns</p>\n</div>"
     },
     "metadata": {},
     "execution_count": 10
    }
   ],
   "source": [
    "s_data = df.loc[::-1]\n",
    "s_data"
   ]
  },
  {
   "cell_type": "code",
   "execution_count": 11,
   "metadata": {},
   "outputs": [
    {
     "output_type": "execute_result",
     "data": {
      "text/plain": [
       "    hour  minute  tradePrice   highPrice    lowPrice  candleAccTradeVolume  \\\n",
       "316   00       0  40830000.0  40980000.0  40600000.0            345.947578   \n",
       "315   00      30  40838000.0  40960000.0  40755000.0            149.095600   \n",
       "314   01       0  40938000.0  40950000.0  40700000.0            163.617955   \n",
       "313   01      30  40870000.0  40938000.0  40759000.0             71.849834   \n",
       "312   02       0  41017000.0  41040000.0  40788000.0             84.941353   \n",
       "..   ...     ...         ...         ...         ...                   ...   \n",
       "4     12       0  37913000.0  38390000.0  37911000.0            255.477421   \n",
       "3     12      30  38303000.0  38326000.0  37911000.0            200.707883   \n",
       "2     13       0  38123000.0  38461000.0  38106000.0            183.268314   \n",
       "1     13      30  38300000.0  38400000.0  38123000.0            206.220691   \n",
       "0     14       0  38330000.0  38394000.0  38292000.0             72.863689   \n",
       "\n",
       "           RSI       EMAFast       EMASlow           MACD     MACDSignal  \\\n",
       "316        NaN           NaN           NaN            NaN            NaN   \n",
       "315        NaN           NaN           NaN            NaN            NaN   \n",
       "314        NaN           NaN           NaN            NaN            NaN   \n",
       "313        NaN           NaN           NaN            NaN            NaN   \n",
       "312        NaN           NaN           NaN            NaN            NaN   \n",
       "..         ...           ...           ...            ...            ...   \n",
       "4    59.472963  3.770919e+07  3.735131e+07  357872.838616  239462.242304   \n",
       "3    64.091391  3.780054e+07  3.742181e+07  378733.484767  267316.490796   \n",
       "2    60.655704  3.785015e+07  3.747375e+07  376402.270386  289133.646714   \n",
       "1    62.769201  3.791936e+07  3.753495e+07  384405.993930  308188.116157   \n",
       "0    63.130709  3.798253e+07  3.759385e+07  388689.184809  324288.329888   \n",
       "\n",
       "          MACDDiff  \n",
       "316            NaN  \n",
       "315            NaN  \n",
       "314            NaN  \n",
       "313            NaN  \n",
       "312            NaN  \n",
       "..             ...  \n",
       "4    118410.596312  \n",
       "3    111416.993971  \n",
       "2     87268.623672  \n",
       "1     76217.877772  \n",
       "0     64400.854921  \n",
       "\n",
       "[317 rows x 12 columns]"
      ],
      "text/html": "<div>\n<style scoped>\n    .dataframe tbody tr th:only-of-type {\n        vertical-align: middle;\n    }\n\n    .dataframe tbody tr th {\n        vertical-align: top;\n    }\n\n    .dataframe thead th {\n        text-align: right;\n    }\n</style>\n<table border=\"1\" class=\"dataframe\">\n  <thead>\n    <tr style=\"text-align: right;\">\n      <th></th>\n      <th>hour</th>\n      <th>minute</th>\n      <th>tradePrice</th>\n      <th>highPrice</th>\n      <th>lowPrice</th>\n      <th>candleAccTradeVolume</th>\n      <th>RSI</th>\n      <th>EMAFast</th>\n      <th>EMASlow</th>\n      <th>MACD</th>\n      <th>MACDSignal</th>\n      <th>MACDDiff</th>\n    </tr>\n  </thead>\n  <tbody>\n    <tr>\n      <th>316</th>\n      <td>00</td>\n      <td>0</td>\n      <td>40830000.0</td>\n      <td>40980000.0</td>\n      <td>40600000.0</td>\n      <td>345.947578</td>\n      <td>NaN</td>\n      <td>NaN</td>\n      <td>NaN</td>\n      <td>NaN</td>\n      <td>NaN</td>\n      <td>NaN</td>\n    </tr>\n    <tr>\n      <th>315</th>\n      <td>00</td>\n      <td>30</td>\n      <td>40838000.0</td>\n      <td>40960000.0</td>\n      <td>40755000.0</td>\n      <td>149.095600</td>\n      <td>NaN</td>\n      <td>NaN</td>\n      <td>NaN</td>\n      <td>NaN</td>\n      <td>NaN</td>\n      <td>NaN</td>\n    </tr>\n    <tr>\n      <th>314</th>\n      <td>01</td>\n      <td>0</td>\n      <td>40938000.0</td>\n      <td>40950000.0</td>\n      <td>40700000.0</td>\n      <td>163.617955</td>\n      <td>NaN</td>\n      <td>NaN</td>\n      <td>NaN</td>\n      <td>NaN</td>\n      <td>NaN</td>\n      <td>NaN</td>\n    </tr>\n    <tr>\n      <th>313</th>\n      <td>01</td>\n      <td>30</td>\n      <td>40870000.0</td>\n      <td>40938000.0</td>\n      <td>40759000.0</td>\n      <td>71.849834</td>\n      <td>NaN</td>\n      <td>NaN</td>\n      <td>NaN</td>\n      <td>NaN</td>\n      <td>NaN</td>\n      <td>NaN</td>\n    </tr>\n    <tr>\n      <th>312</th>\n      <td>02</td>\n      <td>0</td>\n      <td>41017000.0</td>\n      <td>41040000.0</td>\n      <td>40788000.0</td>\n      <td>84.941353</td>\n      <td>NaN</td>\n      <td>NaN</td>\n      <td>NaN</td>\n      <td>NaN</td>\n      <td>NaN</td>\n      <td>NaN</td>\n    </tr>\n    <tr>\n      <th>...</th>\n      <td>...</td>\n      <td>...</td>\n      <td>...</td>\n      <td>...</td>\n      <td>...</td>\n      <td>...</td>\n      <td>...</td>\n      <td>...</td>\n      <td>...</td>\n      <td>...</td>\n      <td>...</td>\n      <td>...</td>\n    </tr>\n    <tr>\n      <th>4</th>\n      <td>12</td>\n      <td>0</td>\n      <td>37913000.0</td>\n      <td>38390000.0</td>\n      <td>37911000.0</td>\n      <td>255.477421</td>\n      <td>59.472963</td>\n      <td>3.770919e+07</td>\n      <td>3.735131e+07</td>\n      <td>357872.838616</td>\n      <td>239462.242304</td>\n      <td>118410.596312</td>\n    </tr>\n    <tr>\n      <th>3</th>\n      <td>12</td>\n      <td>30</td>\n      <td>38303000.0</td>\n      <td>38326000.0</td>\n      <td>37911000.0</td>\n      <td>200.707883</td>\n      <td>64.091391</td>\n      <td>3.780054e+07</td>\n      <td>3.742181e+07</td>\n      <td>378733.484767</td>\n      <td>267316.490796</td>\n      <td>111416.993971</td>\n    </tr>\n    <tr>\n      <th>2</th>\n      <td>13</td>\n      <td>0</td>\n      <td>38123000.0</td>\n      <td>38461000.0</td>\n      <td>38106000.0</td>\n      <td>183.268314</td>\n      <td>60.655704</td>\n      <td>3.785015e+07</td>\n      <td>3.747375e+07</td>\n      <td>376402.270386</td>\n      <td>289133.646714</td>\n      <td>87268.623672</td>\n    </tr>\n    <tr>\n      <th>1</th>\n      <td>13</td>\n      <td>30</td>\n      <td>38300000.0</td>\n      <td>38400000.0</td>\n      <td>38123000.0</td>\n      <td>206.220691</td>\n      <td>62.769201</td>\n      <td>3.791936e+07</td>\n      <td>3.753495e+07</td>\n      <td>384405.993930</td>\n      <td>308188.116157</td>\n      <td>76217.877772</td>\n    </tr>\n    <tr>\n      <th>0</th>\n      <td>14</td>\n      <td>0</td>\n      <td>38330000.0</td>\n      <td>38394000.0</td>\n      <td>38292000.0</td>\n      <td>72.863689</td>\n      <td>63.130709</td>\n      <td>3.798253e+07</td>\n      <td>3.759385e+07</td>\n      <td>388689.184809</td>\n      <td>324288.329888</td>\n      <td>64400.854921</td>\n    </tr>\n  </tbody>\n</table>\n<p>317 rows × 12 columns</p>\n</div>"
     },
     "metadata": {},
     "execution_count": 11
    }
   ],
   "source": [
    "def fnMACD(m_Df, m_NumFast=12, m_NumSlow=26, m_NumSignal=9):\n",
    "    m_Df['EMAFast'] = m_Df['tradePrice'].ewm( span = m_NumFast, min_periods = m_NumFast - 1).mean()\n",
    "    m_Df['EMASlow'] = m_Df['tradePrice'].ewm( span = m_NumSlow, min_periods = m_NumSlow - 1).mean()\n",
    "    m_Df['MACD'] = m_Df['EMAFast'] - m_Df['EMASlow']\n",
    "    m_Df['MACDSignal'] = m_Df['MACD'].ewm( span = m_NumSignal, min_periods = m_NumSignal-1).mean()\n",
    "    m_Df['MACDDiff'] = m_Df['MACD'] - m_Df['MACDSignal']\n",
    "    return m_Df\n",
    "\n",
    "s_data = fnMACD(s_data)\n",
    "s_data"
   ]
  },
  {
   "cell_type": "code",
   "execution_count": 12,
   "metadata": {},
   "outputs": [
    {
     "output_type": "execute_result",
     "data": {
      "text/plain": [
       "    hour  minute  tradePrice   highPrice    lowPrice  candleAccTradeVolume  \\\n",
       "316   00       0  40830000.0  40980000.0  40600000.0            345.947578   \n",
       "315   00      30  40838000.0  40960000.0  40755000.0            149.095600   \n",
       "314   01       0  40938000.0  40950000.0  40700000.0            163.617955   \n",
       "313   01      30  40870000.0  40938000.0  40759000.0             71.849834   \n",
       "312   02       0  41017000.0  41040000.0  40788000.0             84.941353   \n",
       "..   ...     ...         ...         ...         ...                   ...   \n",
       "4     12       0  37913000.0  38390000.0  37911000.0            255.477421   \n",
       "3     12      30  38303000.0  38326000.0  37911000.0            200.707883   \n",
       "2     13       0  38123000.0  38461000.0  38106000.0            183.268314   \n",
       "1     13      30  38300000.0  38400000.0  38123000.0            206.220691   \n",
       "0     14       0  38330000.0  38394000.0  38292000.0             72.863689   \n",
       "\n",
       "           RSI       EMAFast       EMASlow           MACD     MACDSignal  \\\n",
       "316        NaN           NaN           NaN            NaN            NaN   \n",
       "315        NaN           NaN           NaN            NaN            NaN   \n",
       "314        NaN           NaN           NaN            NaN            NaN   \n",
       "313        NaN           NaN           NaN            NaN            NaN   \n",
       "312        NaN           NaN           NaN            NaN            NaN   \n",
       "..         ...           ...           ...            ...            ...   \n",
       "4    59.472963  3.770919e+07  3.735131e+07  357872.838616  239462.242304   \n",
       "3    64.091391  3.780054e+07  3.742181e+07  378733.484767  267316.490796   \n",
       "2    60.655704  3.785015e+07  3.747375e+07  376402.270386  289133.646714   \n",
       "1    62.769201  3.791936e+07  3.753495e+07  384405.993930  308188.116157   \n",
       "0    63.130709  3.798253e+07  3.759385e+07  388689.184809  324288.329888   \n",
       "\n",
       "          MACDDiff  \n",
       "316            NaN  \n",
       "315            NaN  \n",
       "314            NaN  \n",
       "313            NaN  \n",
       "312            NaN  \n",
       "..             ...  \n",
       "4    118410.596312  \n",
       "3    111416.993971  \n",
       "2     87268.623672  \n",
       "1     76217.877772  \n",
       "0     64400.854921  \n",
       "\n",
       "[317 rows x 12 columns]"
      ],
      "text/html": "<div>\n<style scoped>\n    .dataframe tbody tr th:only-of-type {\n        vertical-align: middle;\n    }\n\n    .dataframe tbody tr th {\n        vertical-align: top;\n    }\n\n    .dataframe thead th {\n        text-align: right;\n    }\n</style>\n<table border=\"1\" class=\"dataframe\">\n  <thead>\n    <tr style=\"text-align: right;\">\n      <th></th>\n      <th>hour</th>\n      <th>minute</th>\n      <th>tradePrice</th>\n      <th>highPrice</th>\n      <th>lowPrice</th>\n      <th>candleAccTradeVolume</th>\n      <th>RSI</th>\n      <th>EMAFast</th>\n      <th>EMASlow</th>\n      <th>MACD</th>\n      <th>MACDSignal</th>\n      <th>MACDDiff</th>\n    </tr>\n  </thead>\n  <tbody>\n    <tr>\n      <th>316</th>\n      <td>00</td>\n      <td>0</td>\n      <td>40830000.0</td>\n      <td>40980000.0</td>\n      <td>40600000.0</td>\n      <td>345.947578</td>\n      <td>NaN</td>\n      <td>NaN</td>\n      <td>NaN</td>\n      <td>NaN</td>\n      <td>NaN</td>\n      <td>NaN</td>\n    </tr>\n    <tr>\n      <th>315</th>\n      <td>00</td>\n      <td>30</td>\n      <td>40838000.0</td>\n      <td>40960000.0</td>\n      <td>40755000.0</td>\n      <td>149.095600</td>\n      <td>NaN</td>\n      <td>NaN</td>\n      <td>NaN</td>\n      <td>NaN</td>\n      <td>NaN</td>\n      <td>NaN</td>\n    </tr>\n    <tr>\n      <th>314</th>\n      <td>01</td>\n      <td>0</td>\n      <td>40938000.0</td>\n      <td>40950000.0</td>\n      <td>40700000.0</td>\n      <td>163.617955</td>\n      <td>NaN</td>\n      <td>NaN</td>\n      <td>NaN</td>\n      <td>NaN</td>\n      <td>NaN</td>\n      <td>NaN</td>\n    </tr>\n    <tr>\n      <th>313</th>\n      <td>01</td>\n      <td>30</td>\n      <td>40870000.0</td>\n      <td>40938000.0</td>\n      <td>40759000.0</td>\n      <td>71.849834</td>\n      <td>NaN</td>\n      <td>NaN</td>\n      <td>NaN</td>\n      <td>NaN</td>\n      <td>NaN</td>\n      <td>NaN</td>\n    </tr>\n    <tr>\n      <th>312</th>\n      <td>02</td>\n      <td>0</td>\n      <td>41017000.0</td>\n      <td>41040000.0</td>\n      <td>40788000.0</td>\n      <td>84.941353</td>\n      <td>NaN</td>\n      <td>NaN</td>\n      <td>NaN</td>\n      <td>NaN</td>\n      <td>NaN</td>\n      <td>NaN</td>\n    </tr>\n    <tr>\n      <th>...</th>\n      <td>...</td>\n      <td>...</td>\n      <td>...</td>\n      <td>...</td>\n      <td>...</td>\n      <td>...</td>\n      <td>...</td>\n      <td>...</td>\n      <td>...</td>\n      <td>...</td>\n      <td>...</td>\n      <td>...</td>\n    </tr>\n    <tr>\n      <th>4</th>\n      <td>12</td>\n      <td>0</td>\n      <td>37913000.0</td>\n      <td>38390000.0</td>\n      <td>37911000.0</td>\n      <td>255.477421</td>\n      <td>59.472963</td>\n      <td>3.770919e+07</td>\n      <td>3.735131e+07</td>\n      <td>357872.838616</td>\n      <td>239462.242304</td>\n      <td>118410.596312</td>\n    </tr>\n    <tr>\n      <th>3</th>\n      <td>12</td>\n      <td>30</td>\n      <td>38303000.0</td>\n      <td>38326000.0</td>\n      <td>37911000.0</td>\n      <td>200.707883</td>\n      <td>64.091391</td>\n      <td>3.780054e+07</td>\n      <td>3.742181e+07</td>\n      <td>378733.484767</td>\n      <td>267316.490796</td>\n      <td>111416.993971</td>\n    </tr>\n    <tr>\n      <th>2</th>\n      <td>13</td>\n      <td>0</td>\n      <td>38123000.0</td>\n      <td>38461000.0</td>\n      <td>38106000.0</td>\n      <td>183.268314</td>\n      <td>60.655704</td>\n      <td>3.785015e+07</td>\n      <td>3.747375e+07</td>\n      <td>376402.270386</td>\n      <td>289133.646714</td>\n      <td>87268.623672</td>\n    </tr>\n    <tr>\n      <th>1</th>\n      <td>13</td>\n      <td>30</td>\n      <td>38300000.0</td>\n      <td>38400000.0</td>\n      <td>38123000.0</td>\n      <td>206.220691</td>\n      <td>62.769201</td>\n      <td>3.791936e+07</td>\n      <td>3.753495e+07</td>\n      <td>384405.993930</td>\n      <td>308188.116157</td>\n      <td>76217.877772</td>\n    </tr>\n    <tr>\n      <th>0</th>\n      <td>14</td>\n      <td>0</td>\n      <td>38330000.0</td>\n      <td>38394000.0</td>\n      <td>38292000.0</td>\n      <td>72.863689</td>\n      <td>63.130709</td>\n      <td>3.798253e+07</td>\n      <td>3.759385e+07</td>\n      <td>388689.184809</td>\n      <td>324288.329888</td>\n      <td>64400.854921</td>\n    </tr>\n  </tbody>\n</table>\n<p>317 rows × 12 columns</p>\n</div>"
     },
     "metadata": {},
     "execution_count": 12
    }
   ],
   "source": [
    "s_data.drop(['EMAFast','EMASlow'],axis=1)\n",
    "s_data"
   ]
  },
  {
   "cell_type": "code",
   "execution_count": 18,
   "metadata": {},
   "outputs": [
    {
     "output_type": "execute_result",
     "data": {
      "text/plain": [
       "  hour  minute  tradePrice   highPrice    lowPrice  candleAccTradeVolume  \\\n",
       "4   12       0  37913000.0  38390000.0  37911000.0            255.477421   \n",
       "3   12      30  38303000.0  38326000.0  37911000.0            200.707883   \n",
       "2   13       0  38123000.0  38461000.0  38106000.0            183.268314   \n",
       "1   13      30  38300000.0  38400000.0  38123000.0            206.220691   \n",
       "0   14       0  38330000.0  38394000.0  38292000.0             72.863689   \n",
       "\n",
       "         RSI       EMAFast       EMASlow           MACD     MACDSignal  \\\n",
       "4  59.472963  3.770919e+07  3.735131e+07  357872.838616  239462.242304   \n",
       "3  64.091391  3.780054e+07  3.742181e+07  378733.484767  267316.490796   \n",
       "2  60.655704  3.785015e+07  3.747375e+07  376402.270386  289133.646714   \n",
       "1  62.769201  3.791936e+07  3.753495e+07  384405.993930  308188.116157   \n",
       "0  63.130709  3.798253e+07  3.759385e+07  388689.184809  324288.329888   \n",
       "\n",
       "        MACDDiff  \n",
       "4  118410.596312  \n",
       "3  111416.993971  \n",
       "2   87268.623672  \n",
       "1   76217.877772  \n",
       "0   64400.854921  "
      ],
      "text/html": "<div>\n<style scoped>\n    .dataframe tbody tr th:only-of-type {\n        vertical-align: middle;\n    }\n\n    .dataframe tbody tr th {\n        vertical-align: top;\n    }\n\n    .dataframe thead th {\n        text-align: right;\n    }\n</style>\n<table border=\"1\" class=\"dataframe\">\n  <thead>\n    <tr style=\"text-align: right;\">\n      <th></th>\n      <th>hour</th>\n      <th>minute</th>\n      <th>tradePrice</th>\n      <th>highPrice</th>\n      <th>lowPrice</th>\n      <th>candleAccTradeVolume</th>\n      <th>RSI</th>\n      <th>EMAFast</th>\n      <th>EMASlow</th>\n      <th>MACD</th>\n      <th>MACDSignal</th>\n      <th>MACDDiff</th>\n    </tr>\n  </thead>\n  <tbody>\n    <tr>\n      <th>4</th>\n      <td>12</td>\n      <td>0</td>\n      <td>37913000.0</td>\n      <td>38390000.0</td>\n      <td>37911000.0</td>\n      <td>255.477421</td>\n      <td>59.472963</td>\n      <td>3.770919e+07</td>\n      <td>3.735131e+07</td>\n      <td>357872.838616</td>\n      <td>239462.242304</td>\n      <td>118410.596312</td>\n    </tr>\n    <tr>\n      <th>3</th>\n      <td>12</td>\n      <td>30</td>\n      <td>38303000.0</td>\n      <td>38326000.0</td>\n      <td>37911000.0</td>\n      <td>200.707883</td>\n      <td>64.091391</td>\n      <td>3.780054e+07</td>\n      <td>3.742181e+07</td>\n      <td>378733.484767</td>\n      <td>267316.490796</td>\n      <td>111416.993971</td>\n    </tr>\n    <tr>\n      <th>2</th>\n      <td>13</td>\n      <td>0</td>\n      <td>38123000.0</td>\n      <td>38461000.0</td>\n      <td>38106000.0</td>\n      <td>183.268314</td>\n      <td>60.655704</td>\n      <td>3.785015e+07</td>\n      <td>3.747375e+07</td>\n      <td>376402.270386</td>\n      <td>289133.646714</td>\n      <td>87268.623672</td>\n    </tr>\n    <tr>\n      <th>1</th>\n      <td>13</td>\n      <td>30</td>\n      <td>38300000.0</td>\n      <td>38400000.0</td>\n      <td>38123000.0</td>\n      <td>206.220691</td>\n      <td>62.769201</td>\n      <td>3.791936e+07</td>\n      <td>3.753495e+07</td>\n      <td>384405.993930</td>\n      <td>308188.116157</td>\n      <td>76217.877772</td>\n    </tr>\n    <tr>\n      <th>0</th>\n      <td>14</td>\n      <td>0</td>\n      <td>38330000.0</td>\n      <td>38394000.0</td>\n      <td>38292000.0</td>\n      <td>72.863689</td>\n      <td>63.130709</td>\n      <td>3.798253e+07</td>\n      <td>3.759385e+07</td>\n      <td>388689.184809</td>\n      <td>324288.329888</td>\n      <td>64400.854921</td>\n    </tr>\n  </tbody>\n</table>\n</div>"
     },
     "metadata": {},
     "execution_count": 18
    }
   ],
   "source": [
    "s_data = s_data.loc[::-1]\n",
    "s_data.tail()"
   ]
  },
  {
   "cell_type": "code",
   "execution_count": null,
   "metadata": {},
   "outputs": [],
   "source": []
  }
 ]
}
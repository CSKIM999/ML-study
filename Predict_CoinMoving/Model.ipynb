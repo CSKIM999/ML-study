{
 "metadata": {
  "language_info": {
   "codemirror_mode": {
    "name": "ipython",
    "version": 3
   },
   "file_extension": ".py",
   "mimetype": "text/x-python",
   "name": "python",
   "nbconvert_exporter": "python",
   "pygments_lexer": "ipython3",
   "version": "3.9.2"
  },
  "orig_nbformat": 2,
  "kernelspec": {
   "name": "python392jvsc74a57bd063fd5069d213b44bf678585dea6b12cceca9941eaf7f819626cde1f2670de90d",
   "display_name": "Python 3.9.2 64-bit"
  },
  "metadata": {
   "interpreter": {
    "hash": "63fd5069d213b44bf678585dea6b12cceca9941eaf7f819626cde1f2670de90d"
   }
  }
 },
 "nbformat": 4,
 "nbformat_minor": 2,
 "cells": [
  {
   "cell_type": "code",
   "execution_count": 1,
   "metadata": {},
   "outputs": [],
   "source": [
    "import json\n",
    "import requests\n",
    "import urllib.request\n",
    "import pandas as pd\n",
    "\n",
    "def get_coin_data_url(coinName, type, scale, cnt=400) :\n",
    "    addr = 'https://crix-api-endpoint.upbit.com/v1/crix/candles/'\n",
    "    if type == 'minutes' :\n",
    "        basic_url = addr + type + '/' + scale + '?code=CRIX.UPBIT.KRW-' + coinName +'&count='+str(cnt)\n",
    "    else :\n",
    "        basic_url = addr + type + '/' + '?code=CRIX.UPBIT.KRW-' + coinName +'&count='+str(cnt)\n",
    "\n",
    "    return basic_url\n",
    "    "
   ]
  },
  {
   "cell_type": "code",
   "execution_count": 2,
   "metadata": {},
   "outputs": [],
   "source": [
    "addr = 'https://crix-api-endpoint.upbit.com/v1/crix/candles/minutes/30/?code=CRIX.UPBIT.KRW-SSX&count='+str(400)\n",
    "\n",
    "\n",
    "respone = requests.get(addr)\n",
    "\n",
    "data = respone.json()"
   ]
  },
  {
   "cell_type": "code",
   "execution_count": 3,
   "metadata": {},
   "outputs": [
    {
     "output_type": "execute_result",
     "data": {
      "text/plain": [
       "                 code             candleDateTime          candleDateTimeKst  \\\n",
       "0  CRIX.UPBIT.KRW-SSX  2021-05-09T13:30:00+00:00  2021-05-09T22:30:00+09:00   \n",
       "1  CRIX.UPBIT.KRW-SSX  2021-05-09T13:00:00+00:00  2021-05-09T22:00:00+09:00   \n",
       "2  CRIX.UPBIT.KRW-SSX  2021-05-09T12:30:00+00:00  2021-05-09T21:30:00+09:00   \n",
       "3  CRIX.UPBIT.KRW-SSX  2021-05-09T12:00:00+00:00  2021-05-09T21:00:00+09:00   \n",
       "4  CRIX.UPBIT.KRW-SSX  2021-05-09T11:30:00+00:00  2021-05-09T20:30:00+09:00   \n",
       "5  CRIX.UPBIT.KRW-SSX  2021-05-09T11:00:00+00:00  2021-05-09T20:00:00+09:00   \n",
       "\n",
       "   openingPrice  highPrice  lowPrice  tradePrice  candleAccTradeVolume  \\\n",
       "0         113.0      114.0     113.0       114.0          1.855632e+06   \n",
       "1         112.0      114.0     111.0       113.0          2.379640e+06   \n",
       "2         112.0      114.0     111.0       111.0          6.166145e+06   \n",
       "3         115.0      115.0     112.0       113.0          6.746489e+06   \n",
       "4         114.0      115.0     114.0       115.0          2.158455e+06   \n",
       "5         113.0      115.0     113.0       114.0          1.131784e+06   \n",
       "\n",
       "   candleAccTradePrice      timestamp  unit  \n",
       "0         2.097977e+08  1620568602603    30  \n",
       "1         2.681303e+08  1620566985664    30  \n",
       "2         6.941228e+08  1620565189706    30  \n",
       "3         7.619015e+08  1620563399815    30  \n",
       "4         2.473058e+08  1620561571010    30  \n",
       "5         1.292767e+08  1620559750510    30  "
      ],
      "text/html": "<div>\n<style scoped>\n    .dataframe tbody tr th:only-of-type {\n        vertical-align: middle;\n    }\n\n    .dataframe tbody tr th {\n        vertical-align: top;\n    }\n\n    .dataframe thead th {\n        text-align: right;\n    }\n</style>\n<table border=\"1\" class=\"dataframe\">\n  <thead>\n    <tr style=\"text-align: right;\">\n      <th></th>\n      <th>code</th>\n      <th>candleDateTime</th>\n      <th>candleDateTimeKst</th>\n      <th>openingPrice</th>\n      <th>highPrice</th>\n      <th>lowPrice</th>\n      <th>tradePrice</th>\n      <th>candleAccTradeVolume</th>\n      <th>candleAccTradePrice</th>\n      <th>timestamp</th>\n      <th>unit</th>\n    </tr>\n  </thead>\n  <tbody>\n    <tr>\n      <th>0</th>\n      <td>CRIX.UPBIT.KRW-SSX</td>\n      <td>2021-05-09T13:30:00+00:00</td>\n      <td>2021-05-09T22:30:00+09:00</td>\n      <td>113.0</td>\n      <td>114.0</td>\n      <td>113.0</td>\n      <td>114.0</td>\n      <td>1.855632e+06</td>\n      <td>2.097977e+08</td>\n      <td>1620568602603</td>\n      <td>30</td>\n    </tr>\n    <tr>\n      <th>1</th>\n      <td>CRIX.UPBIT.KRW-SSX</td>\n      <td>2021-05-09T13:00:00+00:00</td>\n      <td>2021-05-09T22:00:00+09:00</td>\n      <td>112.0</td>\n      <td>114.0</td>\n      <td>111.0</td>\n      <td>113.0</td>\n      <td>2.379640e+06</td>\n      <td>2.681303e+08</td>\n      <td>1620566985664</td>\n      <td>30</td>\n    </tr>\n    <tr>\n      <th>2</th>\n      <td>CRIX.UPBIT.KRW-SSX</td>\n      <td>2021-05-09T12:30:00+00:00</td>\n      <td>2021-05-09T21:30:00+09:00</td>\n      <td>112.0</td>\n      <td>114.0</td>\n      <td>111.0</td>\n      <td>111.0</td>\n      <td>6.166145e+06</td>\n      <td>6.941228e+08</td>\n      <td>1620565189706</td>\n      <td>30</td>\n    </tr>\n    <tr>\n      <th>3</th>\n      <td>CRIX.UPBIT.KRW-SSX</td>\n      <td>2021-05-09T12:00:00+00:00</td>\n      <td>2021-05-09T21:00:00+09:00</td>\n      <td>115.0</td>\n      <td>115.0</td>\n      <td>112.0</td>\n      <td>113.0</td>\n      <td>6.746489e+06</td>\n      <td>7.619015e+08</td>\n      <td>1620563399815</td>\n      <td>30</td>\n    </tr>\n    <tr>\n      <th>4</th>\n      <td>CRIX.UPBIT.KRW-SSX</td>\n      <td>2021-05-09T11:30:00+00:00</td>\n      <td>2021-05-09T20:30:00+09:00</td>\n      <td>114.0</td>\n      <td>115.0</td>\n      <td>114.0</td>\n      <td>115.0</td>\n      <td>2.158455e+06</td>\n      <td>2.473058e+08</td>\n      <td>1620561571010</td>\n      <td>30</td>\n    </tr>\n    <tr>\n      <th>5</th>\n      <td>CRIX.UPBIT.KRW-SSX</td>\n      <td>2021-05-09T11:00:00+00:00</td>\n      <td>2021-05-09T20:00:00+09:00</td>\n      <td>113.0</td>\n      <td>115.0</td>\n      <td>113.0</td>\n      <td>114.0</td>\n      <td>1.131784e+06</td>\n      <td>1.292767e+08</td>\n      <td>1620559750510</td>\n      <td>30</td>\n    </tr>\n  </tbody>\n</table>\n</div>"
     },
     "metadata": {},
     "execution_count": 3
    }
   ],
   "source": [
    "\n",
    "df = pd.DataFrame(data)\n",
    "df.head(6)\n"
   ]
  },
  {
   "cell_type": "code",
   "execution_count": null,
   "metadata": {},
   "outputs": [],
   "source": []
  }
 ]
}
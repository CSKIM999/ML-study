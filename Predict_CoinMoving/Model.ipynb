{
 "metadata": {
  "language_info": {
   "codemirror_mode": {
    "name": "ipython",
    "version": 3
   },
   "file_extension": ".py",
   "mimetype": "text/x-python",
   "name": "python",
   "nbconvert_exporter": "python",
   "pygments_lexer": "ipython3",
   "version": "3.9.2"
  },
  "orig_nbformat": 2,
  "kernelspec": {
   "name": "python3",
   "display_name": "Python 3.9.2 64-bit"
  },
  "metadata": {
   "interpreter": {
    "hash": "63fd5069d213b44bf678585dea6b12cceca9941eaf7f819626cde1f2670de90d"
   }
  },
  "interpreter": {
   "hash": "63fd5069d213b44bf678585dea6b12cceca9941eaf7f819626cde1f2670de90d"
  }
 },
 "nbformat": 4,
 "nbformat_minor": 2,
 "cells": [
  {
   "cell_type": "code",
   "execution_count": 1,
   "metadata": {},
   "outputs": [],
   "source": [
    "import json\n",
    "import requests\n",
    "import urllib.request\n",
    "import time\n",
    "import pandas as pd\n",
    "import warnings\n",
    "warnings.filterwarnings('ignore')\n",
    "df = pd.DataFrame()\n",
    "index = 0\n",
    "last_date = ''\n",
    "\n",
    "# 수정 변수들\n",
    "coinName = \"BTC\"\n",
    "to_date = '2021-06-01'\n",
    "num = 30\n",
    "scale = '1'\n",
    "if num == 0:\n",
    "    type = 'days'\n",
    "else:\n",
    "    type = 'minutes/{}'.format(num)\n",
    "\n",
    "\n",
    "def get_coin_data_url(coinName, type, scale, cnt=400) :\n",
    "    addr = 'https://crix-api-endpoint.upbit.com/v1/crix/candles/'\n",
    "    if type == 'minutes' :\n",
    "        basic_url = addr + type + '/' + scale + '?code=CRIX.UPBIT.KRW-' + coinName +'&count='+str(cnt)\n",
    "    else :\n",
    "        basic_url = addr + type + '/' + '?code=CRIX.UPBIT.KRW-' + coinName +'&count='+str(cnt)\n",
    "\n",
    "    return basic_url\n",
    "\n",
    "basic_url = get_coin_data_url(coinName,type,scale)\n",
    "url = basic_url\n",
    "\n",
    "def get_upbit_data(url, last_date, to_date) :\n",
    "    global df\n",
    "    global index\n",
    "\n",
    "    fail2GetData = False\n",
    "    response = ''\n",
    "    while True:\n",
    "        try :\n",
    "            response = requests.get(url)\n",
    "        except Exception as e:\n",
    "            time.sleep(20)\n",
    "            continue\n",
    "        if str(response) == '<Response [200]>':\n",
    "            break\n",
    "        time.sleep(10)\n",
    "    if ( fail2GetData )  :\n",
    "        exit()\n",
    "\n",
    "    data = response.json()\n",
    "\n",
    "    if index == 0:\n",
    "        df = pd.DataFrame(data)\n",
    "        date = ''\n",
    "        date = data[len(data)-1]['candleDateTime']\n",
    "        index +=1\n",
    "\n",
    "    else:\n",
    "        df_for = pd.DataFrame(data)\n",
    "        df = df.append(df_for,ignore_index=True)\n",
    "        date = ''\n",
    "        date = data[len(data)-1]['candleDateTime']\n",
    "    return date\n",
    "\n",
    "\n"
   ]
  },
  {
   "cell_type": "code",
   "execution_count": 2,
   "metadata": {},
   "outputs": [
    {
     "output_type": "execute_result",
     "data": {
      "text/plain": [
       "                   code             candleDateTime          candleDateTimeKst  \\\n",
       "0    CRIX.UPBIT.KRW-BTC  2021-06-13T18:00:00+00:00  2021-06-14T03:00:00+09:00   \n",
       "1    CRIX.UPBIT.KRW-BTC  2021-06-13T17:30:00+00:00  2021-06-14T02:30:00+09:00   \n",
       "2    CRIX.UPBIT.KRW-BTC  2021-06-13T17:00:00+00:00  2021-06-14T02:00:00+09:00   \n",
       "3    CRIX.UPBIT.KRW-BTC  2021-06-13T16:30:00+00:00  2021-06-14T01:30:00+09:00   \n",
       "4    CRIX.UPBIT.KRW-BTC  2021-06-13T16:00:00+00:00  2021-06-14T01:00:00+09:00   \n",
       "..                  ...                        ...                        ...   \n",
       "623  CRIX.UPBIT.KRW-BTC  2021-05-31T17:00:00+00:00  2021-06-01T02:00:00+09:00   \n",
       "624  CRIX.UPBIT.KRW-BTC  2021-05-31T16:30:00+00:00  2021-06-01T01:30:00+09:00   \n",
       "625  CRIX.UPBIT.KRW-BTC  2021-05-31T16:00:00+00:00  2021-06-01T01:00:00+09:00   \n",
       "626  CRIX.UPBIT.KRW-BTC  2021-05-31T15:30:00+00:00  2021-06-01T00:30:00+09:00   \n",
       "627  CRIX.UPBIT.KRW-BTC  2021-05-31T15:00:00+00:00  2021-06-01T00:00:00+09:00   \n",
       "\n",
       "     openingPrice   highPrice    lowPrice  tradePrice  candleAccTradeVolume  \\\n",
       "0      43323000.0  43490000.0  43265000.0  43470000.0            101.553482   \n",
       "1      43212000.0  43483000.0  43111000.0  43324000.0            241.392565   \n",
       "2      43040000.0  43220000.0  42800000.0  43212000.0            226.169257   \n",
       "3      42860000.0  43217000.0  42812000.0  43038000.0            408.827124   \n",
       "4      42034000.0  43101000.0  41929000.0  42860000.0            574.399061   \n",
       "..            ...         ...         ...         ...                   ...   \n",
       "623    43750000.0  43781000.0  43344000.0  43455000.0             94.137519   \n",
       "624    43732000.0  43900000.0  43580000.0  43706000.0            113.171244   \n",
       "625    43452000.0  44235000.0  43331000.0  43732000.0            514.176556   \n",
       "626    43382000.0  43600000.0  43200000.0  43452000.0            160.459124   \n",
       "627    43235000.0  43673000.0  43151000.0  43400000.0            201.977438   \n",
       "\n",
       "     candleAccTradePrice      timestamp  unit  \n",
       "0           4.405623e+09  1623608496503    30  \n",
       "1           1.045813e+10  1623607199291    30  \n",
       "2           9.724993e+09  1623605399460    30  \n",
       "3           1.759787e+10  1623603600160    30  \n",
       "4           2.448809e+10  1623601799854    30  \n",
       "..                   ...            ...   ...  \n",
       "623         4.097559e+09  1622482195149    30  \n",
       "624         4.945885e+09  1622480397168    30  \n",
       "625         2.254488e+10  1622478600042    30  \n",
       "626         6.963492e+09  1622476798899    30  \n",
       "627         8.776907e+09  1622475000033    30  \n",
       "\n",
       "[628 rows x 11 columns]"
      ],
      "text/html": "<div>\n<style scoped>\n    .dataframe tbody tr th:only-of-type {\n        vertical-align: middle;\n    }\n\n    .dataframe tbody tr th {\n        vertical-align: top;\n    }\n\n    .dataframe thead th {\n        text-align: right;\n    }\n</style>\n<table border=\"1\" class=\"dataframe\">\n  <thead>\n    <tr style=\"text-align: right;\">\n      <th></th>\n      <th>code</th>\n      <th>candleDateTime</th>\n      <th>candleDateTimeKst</th>\n      <th>openingPrice</th>\n      <th>highPrice</th>\n      <th>lowPrice</th>\n      <th>tradePrice</th>\n      <th>candleAccTradeVolume</th>\n      <th>candleAccTradePrice</th>\n      <th>timestamp</th>\n      <th>unit</th>\n    </tr>\n  </thead>\n  <tbody>\n    <tr>\n      <th>0</th>\n      <td>CRIX.UPBIT.KRW-BTC</td>\n      <td>2021-06-13T18:00:00+00:00</td>\n      <td>2021-06-14T03:00:00+09:00</td>\n      <td>43323000.0</td>\n      <td>43490000.0</td>\n      <td>43265000.0</td>\n      <td>43470000.0</td>\n      <td>101.553482</td>\n      <td>4.405623e+09</td>\n      <td>1623608496503</td>\n      <td>30</td>\n    </tr>\n    <tr>\n      <th>1</th>\n      <td>CRIX.UPBIT.KRW-BTC</td>\n      <td>2021-06-13T17:30:00+00:00</td>\n      <td>2021-06-14T02:30:00+09:00</td>\n      <td>43212000.0</td>\n      <td>43483000.0</td>\n      <td>43111000.0</td>\n      <td>43324000.0</td>\n      <td>241.392565</td>\n      <td>1.045813e+10</td>\n      <td>1623607199291</td>\n      <td>30</td>\n    </tr>\n    <tr>\n      <th>2</th>\n      <td>CRIX.UPBIT.KRW-BTC</td>\n      <td>2021-06-13T17:00:00+00:00</td>\n      <td>2021-06-14T02:00:00+09:00</td>\n      <td>43040000.0</td>\n      <td>43220000.0</td>\n      <td>42800000.0</td>\n      <td>43212000.0</td>\n      <td>226.169257</td>\n      <td>9.724993e+09</td>\n      <td>1623605399460</td>\n      <td>30</td>\n    </tr>\n    <tr>\n      <th>3</th>\n      <td>CRIX.UPBIT.KRW-BTC</td>\n      <td>2021-06-13T16:30:00+00:00</td>\n      <td>2021-06-14T01:30:00+09:00</td>\n      <td>42860000.0</td>\n      <td>43217000.0</td>\n      <td>42812000.0</td>\n      <td>43038000.0</td>\n      <td>408.827124</td>\n      <td>1.759787e+10</td>\n      <td>1623603600160</td>\n      <td>30</td>\n    </tr>\n    <tr>\n      <th>4</th>\n      <td>CRIX.UPBIT.KRW-BTC</td>\n      <td>2021-06-13T16:00:00+00:00</td>\n      <td>2021-06-14T01:00:00+09:00</td>\n      <td>42034000.0</td>\n      <td>43101000.0</td>\n      <td>41929000.0</td>\n      <td>42860000.0</td>\n      <td>574.399061</td>\n      <td>2.448809e+10</td>\n      <td>1623601799854</td>\n      <td>30</td>\n    </tr>\n    <tr>\n      <th>...</th>\n      <td>...</td>\n      <td>...</td>\n      <td>...</td>\n      <td>...</td>\n      <td>...</td>\n      <td>...</td>\n      <td>...</td>\n      <td>...</td>\n      <td>...</td>\n      <td>...</td>\n      <td>...</td>\n    </tr>\n    <tr>\n      <th>623</th>\n      <td>CRIX.UPBIT.KRW-BTC</td>\n      <td>2021-05-31T17:00:00+00:00</td>\n      <td>2021-06-01T02:00:00+09:00</td>\n      <td>43750000.0</td>\n      <td>43781000.0</td>\n      <td>43344000.0</td>\n      <td>43455000.0</td>\n      <td>94.137519</td>\n      <td>4.097559e+09</td>\n      <td>1622482195149</td>\n      <td>30</td>\n    </tr>\n    <tr>\n      <th>624</th>\n      <td>CRIX.UPBIT.KRW-BTC</td>\n      <td>2021-05-31T16:30:00+00:00</td>\n      <td>2021-06-01T01:30:00+09:00</td>\n      <td>43732000.0</td>\n      <td>43900000.0</td>\n      <td>43580000.0</td>\n      <td>43706000.0</td>\n      <td>113.171244</td>\n      <td>4.945885e+09</td>\n      <td>1622480397168</td>\n      <td>30</td>\n    </tr>\n    <tr>\n      <th>625</th>\n      <td>CRIX.UPBIT.KRW-BTC</td>\n      <td>2021-05-31T16:00:00+00:00</td>\n      <td>2021-06-01T01:00:00+09:00</td>\n      <td>43452000.0</td>\n      <td>44235000.0</td>\n      <td>43331000.0</td>\n      <td>43732000.0</td>\n      <td>514.176556</td>\n      <td>2.254488e+10</td>\n      <td>1622478600042</td>\n      <td>30</td>\n    </tr>\n    <tr>\n      <th>626</th>\n      <td>CRIX.UPBIT.KRW-BTC</td>\n      <td>2021-05-31T15:30:00+00:00</td>\n      <td>2021-06-01T00:30:00+09:00</td>\n      <td>43382000.0</td>\n      <td>43600000.0</td>\n      <td>43200000.0</td>\n      <td>43452000.0</td>\n      <td>160.459124</td>\n      <td>6.963492e+09</td>\n      <td>1622476798899</td>\n      <td>30</td>\n    </tr>\n    <tr>\n      <th>627</th>\n      <td>CRIX.UPBIT.KRW-BTC</td>\n      <td>2021-05-31T15:00:00+00:00</td>\n      <td>2021-06-01T00:00:00+09:00</td>\n      <td>43235000.0</td>\n      <td>43673000.0</td>\n      <td>43151000.0</td>\n      <td>43400000.0</td>\n      <td>201.977438</td>\n      <td>8.776907e+09</td>\n      <td>1622475000033</td>\n      <td>30</td>\n    </tr>\n  </tbody>\n</table>\n<p>628 rows × 11 columns</p>\n</div>"
     },
     "metadata": {},
     "execution_count": 2
    }
   ],
   "source": [
    "\n",
    "while (1) :\n",
    "    last_date = get_upbit_data(url, last_date, to_date)\n",
    "    tmp1 = last_date.split('T')\n",
    "    if tmp1[0]  < to_date :\n",
    "        break\n",
    "    tmp2 = tmp1[1].split('+')\n",
    "    target_date = tmp1[0] + ' ' + tmp2[0]\n",
    "    url = basic_url + '&to=' + target_date    #to=2019-11-27 04:01:00\n",
    "    time.sleep(2)\n",
    "\n",
    "idx_todate = df.index[(df.candleDateTimeKst == '{}T00:00:00+09:00'.format(to_date))].tolist()[0]+1\n",
    "idx_todate\n",
    "\n",
    "df = df.drop(df.index[idx_todate:])\n",
    "df"
   ]
  },
  {
   "cell_type": "code",
   "execution_count": 3,
   "metadata": {},
   "outputs": [],
   "source": [
    "df['Date'] = 0\n",
    "df['hour'] = 0\n",
    "df['minute'] = 0"
   ]
  },
  {
   "cell_type": "code",
   "execution_count": 4,
   "metadata": {},
   "outputs": [
    {
     "output_type": "execute_result",
     "data": {
      "text/plain": [
       "'2021-06-14'"
      ]
     },
     "metadata": {},
     "execution_count": 4
    }
   ],
   "source": [
    "df['Date'][0] = df['candleDateTimeKst'][0].split('T')\n",
    "df['Date'][0][0]\n"
   ]
  },
  {
   "cell_type": "code",
   "execution_count": 5,
   "metadata": {
    "tags": []
   },
   "outputs": [],
   "source": [
    "for i in range(len(df)):\n",
    "    df['Date'] [i] = df['candleDateTimeKst'][i].split('T')\n",
    "    df['hour'] [i] = df['Date'][i][1].split('+')[0]\n",
    "    df['minute'] [i] = df['hour'][i].split(':')[1]\n",
    "    df['hour'] [i] = df['hour'][i].split(':')[0]\n",
    "    df['Date'] [i] = df['Date'][i][0]\n"
   ]
  },
  {
   "cell_type": "code",
   "execution_count": 6,
   "metadata": {},
   "outputs": [
    {
     "output_type": "execute_result",
     "data": {
      "text/plain": [
       "                   code             candleDateTime          candleDateTimeKst  \\\n",
       "0    CRIX.UPBIT.KRW-BTC  2021-06-13T18:00:00+00:00  2021-06-14T03:00:00+09:00   \n",
       "1    CRIX.UPBIT.KRW-BTC  2021-06-13T17:30:00+00:00  2021-06-14T02:30:00+09:00   \n",
       "2    CRIX.UPBIT.KRW-BTC  2021-06-13T17:00:00+00:00  2021-06-14T02:00:00+09:00   \n",
       "3    CRIX.UPBIT.KRW-BTC  2021-06-13T16:30:00+00:00  2021-06-14T01:30:00+09:00   \n",
       "4    CRIX.UPBIT.KRW-BTC  2021-06-13T16:00:00+00:00  2021-06-14T01:00:00+09:00   \n",
       "..                  ...                        ...                        ...   \n",
       "623  CRIX.UPBIT.KRW-BTC  2021-05-31T17:00:00+00:00  2021-06-01T02:00:00+09:00   \n",
       "624  CRIX.UPBIT.KRW-BTC  2021-05-31T16:30:00+00:00  2021-06-01T01:30:00+09:00   \n",
       "625  CRIX.UPBIT.KRW-BTC  2021-05-31T16:00:00+00:00  2021-06-01T01:00:00+09:00   \n",
       "626  CRIX.UPBIT.KRW-BTC  2021-05-31T15:30:00+00:00  2021-06-01T00:30:00+09:00   \n",
       "627  CRIX.UPBIT.KRW-BTC  2021-05-31T15:00:00+00:00  2021-06-01T00:00:00+09:00   \n",
       "\n",
       "     openingPrice   highPrice    lowPrice  tradePrice  candleAccTradeVolume  \\\n",
       "0      43323000.0  43490000.0  43265000.0  43470000.0            101.553482   \n",
       "1      43212000.0  43483000.0  43111000.0  43324000.0            241.392565   \n",
       "2      43040000.0  43220000.0  42800000.0  43212000.0            226.169257   \n",
       "3      42860000.0  43217000.0  42812000.0  43038000.0            408.827124   \n",
       "4      42034000.0  43101000.0  41929000.0  42860000.0            574.399061   \n",
       "..            ...         ...         ...         ...                   ...   \n",
       "623    43750000.0  43781000.0  43344000.0  43455000.0             94.137519   \n",
       "624    43732000.0  43900000.0  43580000.0  43706000.0            113.171244   \n",
       "625    43452000.0  44235000.0  43331000.0  43732000.0            514.176556   \n",
       "626    43382000.0  43600000.0  43200000.0  43452000.0            160.459124   \n",
       "627    43235000.0  43673000.0  43151000.0  43400000.0            201.977438   \n",
       "\n",
       "     candleAccTradePrice      timestamp  unit        Date hour  minute  \n",
       "0           4.405623e+09  1623608496503    30  2021-06-14   03       0  \n",
       "1           1.045813e+10  1623607199291    30  2021-06-14   02      30  \n",
       "2           9.724993e+09  1623605399460    30  2021-06-14   02       0  \n",
       "3           1.759787e+10  1623603600160    30  2021-06-14   01      30  \n",
       "4           2.448809e+10  1623601799854    30  2021-06-14   01       0  \n",
       "..                   ...            ...   ...         ...  ...     ...  \n",
       "623         4.097559e+09  1622482195149    30  2021-06-01   02       0  \n",
       "624         4.945885e+09  1622480397168    30  2021-06-01   01      30  \n",
       "625         2.254488e+10  1622478600042    30  2021-06-01   01       0  \n",
       "626         6.963492e+09  1622476798899    30  2021-06-01   00      30  \n",
       "627         8.776907e+09  1622475000033    30  2021-06-01   00       0  \n",
       "\n",
       "[628 rows x 14 columns]"
      ],
      "text/html": "<div>\n<style scoped>\n    .dataframe tbody tr th:only-of-type {\n        vertical-align: middle;\n    }\n\n    .dataframe tbody tr th {\n        vertical-align: top;\n    }\n\n    .dataframe thead th {\n        text-align: right;\n    }\n</style>\n<table border=\"1\" class=\"dataframe\">\n  <thead>\n    <tr style=\"text-align: right;\">\n      <th></th>\n      <th>code</th>\n      <th>candleDateTime</th>\n      <th>candleDateTimeKst</th>\n      <th>openingPrice</th>\n      <th>highPrice</th>\n      <th>lowPrice</th>\n      <th>tradePrice</th>\n      <th>candleAccTradeVolume</th>\n      <th>candleAccTradePrice</th>\n      <th>timestamp</th>\n      <th>unit</th>\n      <th>Date</th>\n      <th>hour</th>\n      <th>minute</th>\n    </tr>\n  </thead>\n  <tbody>\n    <tr>\n      <th>0</th>\n      <td>CRIX.UPBIT.KRW-BTC</td>\n      <td>2021-06-13T18:00:00+00:00</td>\n      <td>2021-06-14T03:00:00+09:00</td>\n      <td>43323000.0</td>\n      <td>43490000.0</td>\n      <td>43265000.0</td>\n      <td>43470000.0</td>\n      <td>101.553482</td>\n      <td>4.405623e+09</td>\n      <td>1623608496503</td>\n      <td>30</td>\n      <td>2021-06-14</td>\n      <td>03</td>\n      <td>0</td>\n    </tr>\n    <tr>\n      <th>1</th>\n      <td>CRIX.UPBIT.KRW-BTC</td>\n      <td>2021-06-13T17:30:00+00:00</td>\n      <td>2021-06-14T02:30:00+09:00</td>\n      <td>43212000.0</td>\n      <td>43483000.0</td>\n      <td>43111000.0</td>\n      <td>43324000.0</td>\n      <td>241.392565</td>\n      <td>1.045813e+10</td>\n      <td>1623607199291</td>\n      <td>30</td>\n      <td>2021-06-14</td>\n      <td>02</td>\n      <td>30</td>\n    </tr>\n    <tr>\n      <th>2</th>\n      <td>CRIX.UPBIT.KRW-BTC</td>\n      <td>2021-06-13T17:00:00+00:00</td>\n      <td>2021-06-14T02:00:00+09:00</td>\n      <td>43040000.0</td>\n      <td>43220000.0</td>\n      <td>42800000.0</td>\n      <td>43212000.0</td>\n      <td>226.169257</td>\n      <td>9.724993e+09</td>\n      <td>1623605399460</td>\n      <td>30</td>\n      <td>2021-06-14</td>\n      <td>02</td>\n      <td>0</td>\n    </tr>\n    <tr>\n      <th>3</th>\n      <td>CRIX.UPBIT.KRW-BTC</td>\n      <td>2021-06-13T16:30:00+00:00</td>\n      <td>2021-06-14T01:30:00+09:00</td>\n      <td>42860000.0</td>\n      <td>43217000.0</td>\n      <td>42812000.0</td>\n      <td>43038000.0</td>\n      <td>408.827124</td>\n      <td>1.759787e+10</td>\n      <td>1623603600160</td>\n      <td>30</td>\n      <td>2021-06-14</td>\n      <td>01</td>\n      <td>30</td>\n    </tr>\n    <tr>\n      <th>4</th>\n      <td>CRIX.UPBIT.KRW-BTC</td>\n      <td>2021-06-13T16:00:00+00:00</td>\n      <td>2021-06-14T01:00:00+09:00</td>\n      <td>42034000.0</td>\n      <td>43101000.0</td>\n      <td>41929000.0</td>\n      <td>42860000.0</td>\n      <td>574.399061</td>\n      <td>2.448809e+10</td>\n      <td>1623601799854</td>\n      <td>30</td>\n      <td>2021-06-14</td>\n      <td>01</td>\n      <td>0</td>\n    </tr>\n    <tr>\n      <th>...</th>\n      <td>...</td>\n      <td>...</td>\n      <td>...</td>\n      <td>...</td>\n      <td>...</td>\n      <td>...</td>\n      <td>...</td>\n      <td>...</td>\n      <td>...</td>\n      <td>...</td>\n      <td>...</td>\n      <td>...</td>\n      <td>...</td>\n      <td>...</td>\n    </tr>\n    <tr>\n      <th>623</th>\n      <td>CRIX.UPBIT.KRW-BTC</td>\n      <td>2021-05-31T17:00:00+00:00</td>\n      <td>2021-06-01T02:00:00+09:00</td>\n      <td>43750000.0</td>\n      <td>43781000.0</td>\n      <td>43344000.0</td>\n      <td>43455000.0</td>\n      <td>94.137519</td>\n      <td>4.097559e+09</td>\n      <td>1622482195149</td>\n      <td>30</td>\n      <td>2021-06-01</td>\n      <td>02</td>\n      <td>0</td>\n    </tr>\n    <tr>\n      <th>624</th>\n      <td>CRIX.UPBIT.KRW-BTC</td>\n      <td>2021-05-31T16:30:00+00:00</td>\n      <td>2021-06-01T01:30:00+09:00</td>\n      <td>43732000.0</td>\n      <td>43900000.0</td>\n      <td>43580000.0</td>\n      <td>43706000.0</td>\n      <td>113.171244</td>\n      <td>4.945885e+09</td>\n      <td>1622480397168</td>\n      <td>30</td>\n      <td>2021-06-01</td>\n      <td>01</td>\n      <td>30</td>\n    </tr>\n    <tr>\n      <th>625</th>\n      <td>CRIX.UPBIT.KRW-BTC</td>\n      <td>2021-05-31T16:00:00+00:00</td>\n      <td>2021-06-01T01:00:00+09:00</td>\n      <td>43452000.0</td>\n      <td>44235000.0</td>\n      <td>43331000.0</td>\n      <td>43732000.0</td>\n      <td>514.176556</td>\n      <td>2.254488e+10</td>\n      <td>1622478600042</td>\n      <td>30</td>\n      <td>2021-06-01</td>\n      <td>01</td>\n      <td>0</td>\n    </tr>\n    <tr>\n      <th>626</th>\n      <td>CRIX.UPBIT.KRW-BTC</td>\n      <td>2021-05-31T15:30:00+00:00</td>\n      <td>2021-06-01T00:30:00+09:00</td>\n      <td>43382000.0</td>\n      <td>43600000.0</td>\n      <td>43200000.0</td>\n      <td>43452000.0</td>\n      <td>160.459124</td>\n      <td>6.963492e+09</td>\n      <td>1622476798899</td>\n      <td>30</td>\n      <td>2021-06-01</td>\n      <td>00</td>\n      <td>30</td>\n    </tr>\n    <tr>\n      <th>627</th>\n      <td>CRIX.UPBIT.KRW-BTC</td>\n      <td>2021-05-31T15:00:00+00:00</td>\n      <td>2021-06-01T00:00:00+09:00</td>\n      <td>43235000.0</td>\n      <td>43673000.0</td>\n      <td>43151000.0</td>\n      <td>43400000.0</td>\n      <td>201.977438</td>\n      <td>8.776907e+09</td>\n      <td>1622475000033</td>\n      <td>30</td>\n      <td>2021-06-01</td>\n      <td>00</td>\n      <td>0</td>\n    </tr>\n  </tbody>\n</table>\n<p>628 rows × 14 columns</p>\n</div>"
     },
     "metadata": {},
     "execution_count": 6
    }
   ],
   "source": [
    "df"
   ]
  },
  {
   "cell_type": "code",
   "execution_count": 7,
   "metadata": {},
   "outputs": [
    {
     "output_type": "execute_result",
     "data": {
      "text/plain": [
       "  hour  minute  tradePrice   highPrice    lowPrice  candleAccTradeVolume\n",
       "0   03       0  43470000.0  43490000.0  43265000.0            101.553482\n",
       "1   02      30  43324000.0  43483000.0  43111000.0            241.392565\n",
       "2   02       0  43212000.0  43220000.0  42800000.0            226.169257\n",
       "3   01      30  43038000.0  43217000.0  42812000.0            408.827124\n",
       "4   01       0  42860000.0  43101000.0  41929000.0            574.399061"
      ],
      "text/html": "<div>\n<style scoped>\n    .dataframe tbody tr th:only-of-type {\n        vertical-align: middle;\n    }\n\n    .dataframe tbody tr th {\n        vertical-align: top;\n    }\n\n    .dataframe thead th {\n        text-align: right;\n    }\n</style>\n<table border=\"1\" class=\"dataframe\">\n  <thead>\n    <tr style=\"text-align: right;\">\n      <th></th>\n      <th>hour</th>\n      <th>minute</th>\n      <th>tradePrice</th>\n      <th>highPrice</th>\n      <th>lowPrice</th>\n      <th>candleAccTradeVolume</th>\n    </tr>\n  </thead>\n  <tbody>\n    <tr>\n      <th>0</th>\n      <td>03</td>\n      <td>0</td>\n      <td>43470000.0</td>\n      <td>43490000.0</td>\n      <td>43265000.0</td>\n      <td>101.553482</td>\n    </tr>\n    <tr>\n      <th>1</th>\n      <td>02</td>\n      <td>30</td>\n      <td>43324000.0</td>\n      <td>43483000.0</td>\n      <td>43111000.0</td>\n      <td>241.392565</td>\n    </tr>\n    <tr>\n      <th>2</th>\n      <td>02</td>\n      <td>0</td>\n      <td>43212000.0</td>\n      <td>43220000.0</td>\n      <td>42800000.0</td>\n      <td>226.169257</td>\n    </tr>\n    <tr>\n      <th>3</th>\n      <td>01</td>\n      <td>30</td>\n      <td>43038000.0</td>\n      <td>43217000.0</td>\n      <td>42812000.0</td>\n      <td>408.827124</td>\n    </tr>\n    <tr>\n      <th>4</th>\n      <td>01</td>\n      <td>0</td>\n      <td>42860000.0</td>\n      <td>43101000.0</td>\n      <td>41929000.0</td>\n      <td>574.399061</td>\n    </tr>\n  </tbody>\n</table>\n</div>"
     },
     "metadata": {},
     "execution_count": 7
    }
   ],
   "source": [
    "\n",
    "drops= ['Date','unit','candleAccTradePrice','openingPrice','code','candleDateTime','timestamp','candleDateTimeKst']\n",
    "df=df.drop(drops,axis=1)\n",
    "df=df[['hour','minute','tradePrice','highPrice','lowPrice','candleAccTradeVolume']]\n",
    "df.head()"
   ]
  },
  {
   "cell_type": "code",
   "execution_count": 9,
   "metadata": {
    "tags": []
   },
   "outputs": [
    {
     "output_type": "stream",
     "name": "stdout",
     "text": [
      "627         NaN\n626     52000.0\n625    280000.0\n624         0.0\n623         0.0\n         ...   \n4      830000.0\n3      178000.0\n2      174000.0\n1      112000.0\n0      146000.0\nName: tradePrice, Length: 628, dtype: float64 627         NaN\n626         0.0\n625         0.0\n624    -26000.0\n623   -251000.0\n         ...   \n4           0.0\n3           0.0\n2           0.0\n1           0.0\n0           0.0\nName: tradePrice, Length: 628, dtype: float64\n"
     ]
    }
   ],
   "source": [
    "ups, downs = df['tradePrice'].loc[::-1].diff() ,df['tradePrice'].loc[::-1].diff()\n",
    "ups[ups<0] =0\n",
    "downs[downs>0] = 0\n",
    "print(ups,downs)\n",
    "period = 14 \n",
    "ad = downs.abs().ewm(com = period-1, min_periods = period).mean() \n",
    "RS = au/ad \n",
    "RSI = pd.Series(100 - (100/(1+RS))) \n",
    "RSI = RSI.loc[::-1]\n",
    "print(RSI)\n",
    "\n"
   ]
  },
  {
   "cell_type": "code",
   "execution_count": 13,
   "metadata": {},
   "outputs": [
    {
     "output_type": "stream",
     "name": "stdout",
     "text": [
      "0      80.092584\n1      78.817584\n2      77.805001\n3      76.161049\n4      74.356820\n         ...    \n623          NaN\n624          NaN\n625          NaN\n626          NaN\n627          NaN\nName: tradePrice, Length: 628, dtype: float64\n"
     ]
    }
   ],
   "source": [
    "period = 14 \n",
    "au = ups.ewm(com = period-1, min_periods = period).mean()\n",
    "ad = downs.abs().ewm(com = period-1, min_periods = period).mean() \n",
    "RS = au/ad \n",
    "RSI = pd.Series(100 - (100/(1+RS))) \n",
    "RSI = RSI.loc[::-1]\n",
    "print(RSI)\n"
   ]
  }
 ]
}
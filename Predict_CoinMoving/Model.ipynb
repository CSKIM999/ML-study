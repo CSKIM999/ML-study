{
 "metadata": {
  "language_info": {
   "codemirror_mode": {
    "name": "ipython",
    "version": 3
   },
   "file_extension": ".py",
   "mimetype": "text/x-python",
   "name": "python",
   "nbconvert_exporter": "python",
   "pygments_lexer": "ipython3",
   "version": "3.9.2"
  },
  "orig_nbformat": 2,
  "kernelspec": {
   "name": "python3",
   "display_name": "Python 3.9.2 64-bit"
  },
  "metadata": {
   "interpreter": {
    "hash": "63fd5069d213b44bf678585dea6b12cceca9941eaf7f819626cde1f2670de90d"
   }
  },
  "interpreter": {
   "hash": "63fd5069d213b44bf678585dea6b12cceca9941eaf7f819626cde1f2670de90d"
  }
 },
 "nbformat": 4,
 "nbformat_minor": 2,
 "cells": [
  {
   "cell_type": "code",
   "execution_count": 8,
   "metadata": {},
   "outputs": [],
   "source": [
    "import json\n",
    "import requests\n",
    "import urllib.request\n",
    "import time\n",
    "import pandas as pd\n",
    "import warnings\n",
    "warnings.filterwarnings('ignore')\n",
    "df = pd.DataFrame()\n",
    "index = 0\n",
    "last_date = ''\n",
    "\n",
    "# 수정 변수들\n",
    "coinName = \"BTC\"\n",
    "to_date = '2021-06-14'\n",
    "num = 30\n",
    "scale = '1'\n",
    "if num == 0:\n",
    "    type = 'days'\n",
    "else:\n",
    "    type = 'minutes/{}'.format(num)\n",
    "\n",
    "\n",
    "def get_coin_data_url(coinName, type, scale, cnt=400) :\n",
    "    addr = 'https://crix-api-endpoint.upbit.com/v1/crix/candles/'\n",
    "    if type == 'minutes' :\n",
    "        basic_url = addr + type + '/' + scale + '?code=CRIX.UPBIT.KRW-' + coinName +'&count='+str(cnt)\n",
    "    else :\n",
    "        basic_url = addr + type + '/' + '?code=CRIX.UPBIT.KRW-' + coinName +'&count='+str(cnt)\n",
    "\n",
    "    return basic_url\n",
    "\n",
    "basic_url = get_coin_data_url(coinName,type,scale)\n",
    "url = basic_url\n",
    "\n",
    "def get_upbit_data(url, last_date, to_date) :\n",
    "    global df\n",
    "    global index\n",
    "\n",
    "    fail2GetData = False\n",
    "    response = ''\n",
    "    while True:\n",
    "        try :\n",
    "            response = requests.get(url)\n",
    "        except Exception as e:\n",
    "            time.sleep(20)\n",
    "            continue\n",
    "        if str(response) == '<Response [200]>':\n",
    "            break\n",
    "        time.sleep(10)\n",
    "    if ( fail2GetData )  :\n",
    "        exit()\n",
    "\n",
    "    data = response.json()\n",
    "\n",
    "    if index == 0:\n",
    "        df = pd.DataFrame(data)\n",
    "        date = ''\n",
    "        date = data[len(data)-1]['candleDateTime']\n",
    "        index +=1\n",
    "\n",
    "    else:\n",
    "        df_for = pd.DataFrame(data)\n",
    "        df = df.append(df_for,ignore_index=True)\n",
    "        date = ''\n",
    "        date = data[len(data)-1]['candleDateTime']\n",
    "    return date\n",
    "\n",
    "\n"
   ]
  },
  {
   "cell_type": "code",
   "execution_count": 9,
   "metadata": {},
   "outputs": [],
   "source": [
    "\n",
    "while (1) :\n",
    "    last_date = get_upbit_data(url, last_date, to_date)\n",
    "    tmp1 = last_date.split('T')\n",
    "    if tmp1[0]  < to_date :\n",
    "        break\n",
    "    tmp2 = tmp1[1].split('+')\n",
    "    target_date = tmp1[0] + ' ' + tmp2[0]\n",
    "    url = basic_url + '&to=' + target_date    #to=2019-11-27 04:01:00\n",
    "    time.sleep(2)\n",
    "\n",
    "idx_todate = df.index[(df.candleDateTimeKst == '{}T00:00:00+09:00'.format(to_date))].tolist()[0]+1\n",
    "idx_todate\n",
    "\n",
    "df = df.drop(df.index[idx_todate:])"
   ]
  },
  {
   "cell_type": "code",
   "execution_count": 10,
   "metadata": {},
   "outputs": [],
   "source": [
    "df['Date'] = 0\n",
    "df['hour'] = 0\n",
    "df['minute'] = 0"
   ]
  },
  {
   "cell_type": "code",
   "execution_count": 11,
   "metadata": {
    "tags": []
   },
   "outputs": [],
   "source": [
    "for i in range(len(df)):\n",
    "    df['Date'] [i] = df['candleDateTimeKst'][i].split('T')\n",
    "    df['hour'] [i] = df['Date'][i][1].split('+')[0]\n",
    "    df['minute'] [i] = df['hour'][i].split(':')[1]\n",
    "    df['hour'] [i] = df['hour'][i].split(':')[0]\n",
    "    df['Date'] [i] = df['Date'][i][0]\n"
   ]
  },
  {
   "cell_type": "code",
   "execution_count": 12,
   "metadata": {},
   "outputs": [
    {
     "output_type": "execute_result",
     "data": {
      "text/plain": [
       "  hour  minute  tradePrice   highPrice    lowPrice  candleAccTradeVolume\n",
       "0   23       0  39091000.0  39281000.0  39015000.0            107.932931\n",
       "1   22      30  39265000.0  39265000.0  38671000.0            576.524574\n",
       "2   22       0  38747000.0  38820000.0  38245000.0            458.301380\n",
       "3   21      30  38556000.0  39070000.0  38426000.0            426.664918\n",
       "4   21       0  39063000.0  39070000.0  38500000.0            510.425343"
      ],
      "text/html": "<div>\n<style scoped>\n    .dataframe tbody tr th:only-of-type {\n        vertical-align: middle;\n    }\n\n    .dataframe tbody tr th {\n        vertical-align: top;\n    }\n\n    .dataframe thead th {\n        text-align: right;\n    }\n</style>\n<table border=\"1\" class=\"dataframe\">\n  <thead>\n    <tr style=\"text-align: right;\">\n      <th></th>\n      <th>hour</th>\n      <th>minute</th>\n      <th>tradePrice</th>\n      <th>highPrice</th>\n      <th>lowPrice</th>\n      <th>candleAccTradeVolume</th>\n    </tr>\n  </thead>\n  <tbody>\n    <tr>\n      <th>0</th>\n      <td>23</td>\n      <td>0</td>\n      <td>39091000.0</td>\n      <td>39281000.0</td>\n      <td>39015000.0</td>\n      <td>107.932931</td>\n    </tr>\n    <tr>\n      <th>1</th>\n      <td>22</td>\n      <td>30</td>\n      <td>39265000.0</td>\n      <td>39265000.0</td>\n      <td>38671000.0</td>\n      <td>576.524574</td>\n    </tr>\n    <tr>\n      <th>2</th>\n      <td>22</td>\n      <td>0</td>\n      <td>38747000.0</td>\n      <td>38820000.0</td>\n      <td>38245000.0</td>\n      <td>458.301380</td>\n    </tr>\n    <tr>\n      <th>3</th>\n      <td>21</td>\n      <td>30</td>\n      <td>38556000.0</td>\n      <td>39070000.0</td>\n      <td>38426000.0</td>\n      <td>426.664918</td>\n    </tr>\n    <tr>\n      <th>4</th>\n      <td>21</td>\n      <td>0</td>\n      <td>39063000.0</td>\n      <td>39070000.0</td>\n      <td>38500000.0</td>\n      <td>510.425343</td>\n    </tr>\n  </tbody>\n</table>\n</div>"
     },
     "metadata": {},
     "execution_count": 12
    }
   ],
   "source": [
    "drops= ['Date','unit','candleAccTradePrice','openingPrice','code','candleDateTime','timestamp','candleDateTimeKst']\n",
    "df=df.drop(drops,axis=1)\n",
    "df=df[['hour','minute','tradePrice','highPrice','lowPrice','candleAccTradeVolume']]\n",
    "df.head()"
   ]
  },
  {
   "cell_type": "code",
   "execution_count": 13,
   "metadata": {
    "tags": []
   },
   "outputs": [
    {
     "output_type": "stream",
     "name": "stdout",
     "text": [
      "0      45.256034\n1      46.977929\n2      40.745658\n3      38.260991\n4      42.671355\n         ...    \n378          NaN\n379          NaN\n380          NaN\n381          NaN\n382          NaN\nName: tradePrice, Length: 383, dtype: float64\n"
     ]
    }
   ],
   "source": [
    "ups, downs = df['tradePrice'].loc[::-1].diff() ,df['tradePrice'].loc[::-1].diff()\n",
    "ups[ups<0] =0\n",
    "downs[downs>0] = 0\n",
    "period = 14 \n",
    "au = ups.abs().ewm(com = period-1, min_periods = period).mean() \n",
    "ad = downs.abs().ewm(com = period-1, min_periods = period).mean() \n",
    "RS = au/ad \n",
    "RSI = pd.Series(100 - (100/(1+RS))) \n",
    "RSI = RSI.loc[::-1]\n",
    "print(RSI)\n",
    "df['RSI'] = RSI"
   ]
  },
  {
   "cell_type": "code",
   "execution_count": 15,
   "metadata": {},
   "outputs": [
    {
     "output_type": "stream",
     "name": "stdout",
     "text": [
      "69.91632503628325\n65.16629581708762\n79.0563109666165\n76.55958629442529\n70.6290932094041\n84.82262413632785\n92.20519245273823\n78.41851343252011\n67.7321428519809\n61.69913319765782\n"
     ]
    }
   ],
   "source": [
    "# CCI\n",
    "sm = 0\n",
    "N = 20\n",
    "D = 0\n",
    "for k in range(10):\n",
    "    for j in range(N):\n",
    "        for i in range(N):\n",
    "            M = ( df['tradePrice'][k+i] + df['lowPrice'][k+i] + df['highPrice'][k+i] ) / 3\n",
    "            sm += M\n",
    "        sm = sm/N\n",
    "        M = ( df['tradePrice'][k+j] + df['lowPrice'][k+j] + df['highPrice'][k+j] ) / 3\n",
    "        D += ( M - sm )\n",
    "    D = D/N\n",
    "    for i in range(N):\n",
    "        M = ( df['tradePrice'][i] + df['lowPrice'][i] + df['highPrice'][i] ) / 3\n",
    "        sm += M\n",
    "    sm = sm/N\n",
    "    M = ( df['tradePrice'][k] + df['lowPrice'][k] + df['highPrice'][k] ) / 3\n",
    "    CCI = (M - sm) / (0.015 * D)\n",
    "    print(CCI)\n",
    "\n"
   ]
  },
  {
   "cell_type": "code",
   "execution_count": null,
   "metadata": {},
   "outputs": [],
   "source": []
  }
 ]
}
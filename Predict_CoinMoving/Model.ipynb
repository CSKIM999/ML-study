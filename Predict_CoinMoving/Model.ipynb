{
 "metadata": {
  "language_info": {
   "codemirror_mode": {
    "name": "ipython",
    "version": 3
   },
   "file_extension": ".py",
   "mimetype": "text/x-python",
   "name": "python",
   "nbconvert_exporter": "python",
   "pygments_lexer": "ipython3",
   "version": "3.9.2"
  },
  "orig_nbformat": 2,
  "kernelspec": {
   "name": "python392jvsc74a57bd063fd5069d213b44bf678585dea6b12cceca9941eaf7f819626cde1f2670de90d",
   "display_name": "Python 3.9.2 64-bit"
  },
  "metadata": {
   "interpreter": {
    "hash": "63fd5069d213b44bf678585dea6b12cceca9941eaf7f819626cde1f2670de90d"
   }
  }
 },
 "nbformat": 4,
 "nbformat_minor": 2,
 "cells": [
  {
   "cell_type": "code",
   "execution_count": 1,
   "metadata": {},
   "outputs": [],
   "source": [
    "import json\n",
    "import requests\n",
    "import urllib.request\n",
    "import time\n",
    "import pandas as pd\n",
    "import warnings\n",
    "warnings.filterwarnings('ignore')\n",
    "\n",
    "df = pd.DataFrame()\n",
    "index = 0\n",
    "last_date = ''\n",
    "\n",
    "# 수정 변수들\n",
    "coinName = \"QTCON\"\n",
    "to_date = '2021-06-01'\n",
    "num = 30\n",
    "scale = '1'\n",
    "if num == 0:\n",
    "    type = 'days'\n",
    "else:\n",
    "    type = 'minutes/{}'.format(num)\n",
    "\n",
    "\n",
    "def get_coin_data_url(coinName, type, scale, cnt=400) :\n",
    "    addr = 'https://crix-api-endpoint.upbit.com/v1/crix/candles/'\n",
    "    if type == 'minutes' :\n",
    "        basic_url = addr + type + '/' + scale + '?code=CRIX.UPBIT.KRW-' + coinName +'&count='+str(cnt)\n",
    "    else :\n",
    "        basic_url = addr + type + '/' + '?code=CRIX.UPBIT.KRW-' + coinName +'&count='+str(cnt)\n",
    "\n",
    "    return basic_url\n",
    "\n",
    "basic_url = get_coin_data_url(coinName,type,scale)\n",
    "url = basic_url\n",
    "\n",
    "def get_upbit_data(url, last_date, to_date) :\n",
    "    global df\n",
    "    global index\n",
    "\n",
    "    fail2GetData = False\n",
    "    response = ''\n",
    "    while True:\n",
    "        try :\n",
    "            response = requests.get(url)\n",
    "        except Exception as e:\n",
    "            time.sleep(20)\n",
    "            continue\n",
    "        if str(response) == '<Response [200]>':\n",
    "            break\n",
    "        time.sleep(10)\n",
    "    if ( fail2GetData )  :\n",
    "        exit()\n",
    "\n",
    "    data = response.json()\n",
    "\n",
    "    if index == 0:\n",
    "        df = pd.DataFrame(data)\n",
    "        date = ''\n",
    "        date = data[len(data)-1]['candleDateTime']\n",
    "        index +=1\n",
    "\n",
    "    else:\n",
    "        df_for = pd.DataFrame(data)\n",
    "        df = df.append(df_for,ignore_index=True)\n",
    "        date = ''\n",
    "        date = data[len(data)-1]['candleDateTime']\n",
    "\n",
    "\n",
    "    return date\n",
    "\n",
    "\n"
   ]
  },
  {
   "cell_type": "code",
   "execution_count": 2,
   "metadata": {},
   "outputs": [
    {
     "output_type": "execute_result",
     "data": {
      "text/plain": [
       "                     code             candleDateTime  \\\n",
       "0    CRIX.UPBIT.KRW-QTCON  2021-06-10T14:00:00+00:00   \n",
       "1    CRIX.UPBIT.KRW-QTCON  2021-06-10T13:30:00+00:00   \n",
       "2    CRIX.UPBIT.KRW-QTCON  2021-06-10T13:00:00+00:00   \n",
       "3    CRIX.UPBIT.KRW-QTCON  2021-06-10T12:30:00+00:00   \n",
       "4    CRIX.UPBIT.KRW-QTCON  2021-06-10T12:00:00+00:00   \n",
       "..                    ...                        ...   \n",
       "471  CRIX.UPBIT.KRW-QTCON  2021-05-31T17:00:00+00:00   \n",
       "472  CRIX.UPBIT.KRW-QTCON  2021-05-31T16:30:00+00:00   \n",
       "473  CRIX.UPBIT.KRW-QTCON  2021-05-31T16:00:00+00:00   \n",
       "474  CRIX.UPBIT.KRW-QTCON  2021-05-31T15:30:00+00:00   \n",
       "475  CRIX.UPBIT.KRW-QTCON  2021-05-31T15:00:00+00:00   \n",
       "\n",
       "             candleDateTimeKst  openingPrice  highPrice  lowPrice  tradePrice  \\\n",
       "0    2021-06-10T23:00:00+09:00          68.6       68.8      66.4        66.8   \n",
       "1    2021-06-10T22:30:00+09:00          69.9       69.9      67.6        68.6   \n",
       "2    2021-06-10T22:00:00+09:00          71.3       71.6      69.7        69.9   \n",
       "3    2021-06-10T21:30:00+09:00          72.3       72.8      71.2        71.3   \n",
       "4    2021-06-10T21:00:00+09:00          72.2       72.7      70.8        72.3   \n",
       "..                         ...           ...        ...       ...         ...   \n",
       "471  2021-06-01T02:00:00+09:00          52.6       52.7      52.3        52.4   \n",
       "472  2021-06-01T01:30:00+09:00          52.4       52.7      52.3        52.6   \n",
       "473  2021-06-01T01:00:00+09:00          52.4       52.8      52.2        52.4   \n",
       "474  2021-06-01T00:30:00+09:00          52.5       52.7      52.2        52.5   \n",
       "475  2021-06-01T00:00:00+09:00          52.1       52.6      52.1        52.5   \n",
       "\n",
       "     candleAccTradeVolume  candleAccTradePrice      timestamp  unit  \n",
       "0            7.388177e+07         4.976362e+09  1623334362731    30  \n",
       "1            1.819486e+08         1.247616e+10  1623333599789    30  \n",
       "2            9.598321e+07         6.768288e+09  1623331800350    30  \n",
       "3            1.203125e+08         8.648812e+09  1623329999487    30  \n",
       "4            1.099278e+08         7.872711e+09  1623328200057    30  \n",
       "..                    ...                  ...            ...   ...  \n",
       "471          7.925233e+05         4.158999e+07  1622482168004    30  \n",
       "472          6.720946e+05         3.527668e+07  1622480397914    30  \n",
       "473          1.788808e+06         9.389585e+07  1622478547916    30  \n",
       "474          4.414198e+05         2.315340e+07  1622476737626    30  \n",
       "475          6.038288e+05         3.162739e+07  1622474932902    30  \n",
       "\n",
       "[476 rows x 11 columns]"
      ],
      "text/html": "<div>\n<style scoped>\n    .dataframe tbody tr th:only-of-type {\n        vertical-align: middle;\n    }\n\n    .dataframe tbody tr th {\n        vertical-align: top;\n    }\n\n    .dataframe thead th {\n        text-align: right;\n    }\n</style>\n<table border=\"1\" class=\"dataframe\">\n  <thead>\n    <tr style=\"text-align: right;\">\n      <th></th>\n      <th>code</th>\n      <th>candleDateTime</th>\n      <th>candleDateTimeKst</th>\n      <th>openingPrice</th>\n      <th>highPrice</th>\n      <th>lowPrice</th>\n      <th>tradePrice</th>\n      <th>candleAccTradeVolume</th>\n      <th>candleAccTradePrice</th>\n      <th>timestamp</th>\n      <th>unit</th>\n    </tr>\n  </thead>\n  <tbody>\n    <tr>\n      <th>0</th>\n      <td>CRIX.UPBIT.KRW-QTCON</td>\n      <td>2021-06-10T14:00:00+00:00</td>\n      <td>2021-06-10T23:00:00+09:00</td>\n      <td>68.6</td>\n      <td>68.8</td>\n      <td>66.4</td>\n      <td>66.8</td>\n      <td>7.388177e+07</td>\n      <td>4.976362e+09</td>\n      <td>1623334362731</td>\n      <td>30</td>\n    </tr>\n    <tr>\n      <th>1</th>\n      <td>CRIX.UPBIT.KRW-QTCON</td>\n      <td>2021-06-10T13:30:00+00:00</td>\n      <td>2021-06-10T22:30:00+09:00</td>\n      <td>69.9</td>\n      <td>69.9</td>\n      <td>67.6</td>\n      <td>68.6</td>\n      <td>1.819486e+08</td>\n      <td>1.247616e+10</td>\n      <td>1623333599789</td>\n      <td>30</td>\n    </tr>\n    <tr>\n      <th>2</th>\n      <td>CRIX.UPBIT.KRW-QTCON</td>\n      <td>2021-06-10T13:00:00+00:00</td>\n      <td>2021-06-10T22:00:00+09:00</td>\n      <td>71.3</td>\n      <td>71.6</td>\n      <td>69.7</td>\n      <td>69.9</td>\n      <td>9.598321e+07</td>\n      <td>6.768288e+09</td>\n      <td>1623331800350</td>\n      <td>30</td>\n    </tr>\n    <tr>\n      <th>3</th>\n      <td>CRIX.UPBIT.KRW-QTCON</td>\n      <td>2021-06-10T12:30:00+00:00</td>\n      <td>2021-06-10T21:30:00+09:00</td>\n      <td>72.3</td>\n      <td>72.8</td>\n      <td>71.2</td>\n      <td>71.3</td>\n      <td>1.203125e+08</td>\n      <td>8.648812e+09</td>\n      <td>1623329999487</td>\n      <td>30</td>\n    </tr>\n    <tr>\n      <th>4</th>\n      <td>CRIX.UPBIT.KRW-QTCON</td>\n      <td>2021-06-10T12:00:00+00:00</td>\n      <td>2021-06-10T21:00:00+09:00</td>\n      <td>72.2</td>\n      <td>72.7</td>\n      <td>70.8</td>\n      <td>72.3</td>\n      <td>1.099278e+08</td>\n      <td>7.872711e+09</td>\n      <td>1623328200057</td>\n      <td>30</td>\n    </tr>\n    <tr>\n      <th>...</th>\n      <td>...</td>\n      <td>...</td>\n      <td>...</td>\n      <td>...</td>\n      <td>...</td>\n      <td>...</td>\n      <td>...</td>\n      <td>...</td>\n      <td>...</td>\n      <td>...</td>\n      <td>...</td>\n    </tr>\n    <tr>\n      <th>471</th>\n      <td>CRIX.UPBIT.KRW-QTCON</td>\n      <td>2021-05-31T17:00:00+00:00</td>\n      <td>2021-06-01T02:00:00+09:00</td>\n      <td>52.6</td>\n      <td>52.7</td>\n      <td>52.3</td>\n      <td>52.4</td>\n      <td>7.925233e+05</td>\n      <td>4.158999e+07</td>\n      <td>1622482168004</td>\n      <td>30</td>\n    </tr>\n    <tr>\n      <th>472</th>\n      <td>CRIX.UPBIT.KRW-QTCON</td>\n      <td>2021-05-31T16:30:00+00:00</td>\n      <td>2021-06-01T01:30:00+09:00</td>\n      <td>52.4</td>\n      <td>52.7</td>\n      <td>52.3</td>\n      <td>52.6</td>\n      <td>6.720946e+05</td>\n      <td>3.527668e+07</td>\n      <td>1622480397914</td>\n      <td>30</td>\n    </tr>\n    <tr>\n      <th>473</th>\n      <td>CRIX.UPBIT.KRW-QTCON</td>\n      <td>2021-05-31T16:00:00+00:00</td>\n      <td>2021-06-01T01:00:00+09:00</td>\n      <td>52.4</td>\n      <td>52.8</td>\n      <td>52.2</td>\n      <td>52.4</td>\n      <td>1.788808e+06</td>\n      <td>9.389585e+07</td>\n      <td>1622478547916</td>\n      <td>30</td>\n    </tr>\n    <tr>\n      <th>474</th>\n      <td>CRIX.UPBIT.KRW-QTCON</td>\n      <td>2021-05-31T15:30:00+00:00</td>\n      <td>2021-06-01T00:30:00+09:00</td>\n      <td>52.5</td>\n      <td>52.7</td>\n      <td>52.2</td>\n      <td>52.5</td>\n      <td>4.414198e+05</td>\n      <td>2.315340e+07</td>\n      <td>1622476737626</td>\n      <td>30</td>\n    </tr>\n    <tr>\n      <th>475</th>\n      <td>CRIX.UPBIT.KRW-QTCON</td>\n      <td>2021-05-31T15:00:00+00:00</td>\n      <td>2021-06-01T00:00:00+09:00</td>\n      <td>52.1</td>\n      <td>52.6</td>\n      <td>52.1</td>\n      <td>52.5</td>\n      <td>6.038288e+05</td>\n      <td>3.162739e+07</td>\n      <td>1622474932902</td>\n      <td>30</td>\n    </tr>\n  </tbody>\n</table>\n<p>476 rows × 11 columns</p>\n</div>"
     },
     "metadata": {},
     "execution_count": 2
    }
   ],
   "source": [
    "\n",
    "while (1) :\n",
    "    last_date = get_upbit_data(url, last_date, to_date)\n",
    "    tmp1 = last_date.split('T')\n",
    "    if tmp1[0]  < to_date :\n",
    "        break\n",
    "    tmp2 = tmp1[1].split('+')\n",
    "    target_date = tmp1[0] + ' ' + tmp2[0]\n",
    "    url = basic_url + '&to=' + target_date    #to=2019-11-27 04:01:00\n",
    "    time.sleep(2)\n",
    "\n",
    "idx_todate = df.index[(df.candleDateTimeKst == '{}T00:00:00+09:00'.format(to_date))].tolist()[0]+1\n",
    "idx_todate\n",
    "\n",
    "df = df.drop(df.index[idx_todate:])\n",
    "df"
   ]
  },
  {
   "cell_type": "code",
   "execution_count": 3,
   "metadata": {},
   "outputs": [],
   "source": [
    "df['Date'] = 0\n",
    "df['hour'] = 0\n",
    "df['minute'] = 0"
   ]
  },
  {
   "cell_type": "code",
   "execution_count": 4,
   "metadata": {},
   "outputs": [
    {
     "output_type": "execute_result",
     "data": {
      "text/plain": [
       "'2021-06-10'"
      ]
     },
     "metadata": {},
     "execution_count": 4
    }
   ],
   "source": [
    "df['Date'][0] = df['candleDateTimeKst'][0].split('T')\n",
    "df['Date'][0][0]\n"
   ]
  },
  {
   "cell_type": "code",
   "execution_count": 5,
   "metadata": {
    "tags": []
   },
   "outputs": [],
   "source": [
    "for i in range(len(df)):\n",
    "    df['Date'] [i] = df['candleDateTimeKst'][i].split('T')\n",
    "    df['hour'] [i] = df['Date'][i][1].split('+')[0]\n",
    "    df['minute'] [i] = df['hour'][i].split(':')[1]\n",
    "    df['hour'] [i] = df['hour'][i].split(':')[0]\n",
    "    df['Date'] [i] = df['Date'][i][0]\n"
   ]
  },
  {
   "cell_type": "code",
   "execution_count": 6,
   "metadata": {},
   "outputs": [
    {
     "output_type": "execute_result",
     "data": {
      "text/plain": [
       "                     code             candleDateTime  \\\n",
       "0    CRIX.UPBIT.KRW-QTCON  2021-06-10T14:00:00+00:00   \n",
       "1    CRIX.UPBIT.KRW-QTCON  2021-06-10T13:30:00+00:00   \n",
       "2    CRIX.UPBIT.KRW-QTCON  2021-06-10T13:00:00+00:00   \n",
       "3    CRIX.UPBIT.KRW-QTCON  2021-06-10T12:30:00+00:00   \n",
       "4    CRIX.UPBIT.KRW-QTCON  2021-06-10T12:00:00+00:00   \n",
       "..                    ...                        ...   \n",
       "471  CRIX.UPBIT.KRW-QTCON  2021-05-31T17:00:00+00:00   \n",
       "472  CRIX.UPBIT.KRW-QTCON  2021-05-31T16:30:00+00:00   \n",
       "473  CRIX.UPBIT.KRW-QTCON  2021-05-31T16:00:00+00:00   \n",
       "474  CRIX.UPBIT.KRW-QTCON  2021-05-31T15:30:00+00:00   \n",
       "475  CRIX.UPBIT.KRW-QTCON  2021-05-31T15:00:00+00:00   \n",
       "\n",
       "             candleDateTimeKst  openingPrice  highPrice  lowPrice  tradePrice  \\\n",
       "0    2021-06-10T23:00:00+09:00          68.6       68.8      66.4        66.8   \n",
       "1    2021-06-10T22:30:00+09:00          69.9       69.9      67.6        68.6   \n",
       "2    2021-06-10T22:00:00+09:00          71.3       71.6      69.7        69.9   \n",
       "3    2021-06-10T21:30:00+09:00          72.3       72.8      71.2        71.3   \n",
       "4    2021-06-10T21:00:00+09:00          72.2       72.7      70.8        72.3   \n",
       "..                         ...           ...        ...       ...         ...   \n",
       "471  2021-06-01T02:00:00+09:00          52.6       52.7      52.3        52.4   \n",
       "472  2021-06-01T01:30:00+09:00          52.4       52.7      52.3        52.6   \n",
       "473  2021-06-01T01:00:00+09:00          52.4       52.8      52.2        52.4   \n",
       "474  2021-06-01T00:30:00+09:00          52.5       52.7      52.2        52.5   \n",
       "475  2021-06-01T00:00:00+09:00          52.1       52.6      52.1        52.5   \n",
       "\n",
       "     candleAccTradeVolume  candleAccTradePrice      timestamp  unit  \\\n",
       "0            7.388177e+07         4.976362e+09  1623334362731    30   \n",
       "1            1.819486e+08         1.247616e+10  1623333599789    30   \n",
       "2            9.598321e+07         6.768288e+09  1623331800350    30   \n",
       "3            1.203125e+08         8.648812e+09  1623329999487    30   \n",
       "4            1.099278e+08         7.872711e+09  1623328200057    30   \n",
       "..                    ...                  ...            ...   ...   \n",
       "471          7.925233e+05         4.158999e+07  1622482168004    30   \n",
       "472          6.720946e+05         3.527668e+07  1622480397914    30   \n",
       "473          1.788808e+06         9.389585e+07  1622478547916    30   \n",
       "474          4.414198e+05         2.315340e+07  1622476737626    30   \n",
       "475          6.038288e+05         3.162739e+07  1622474932902    30   \n",
       "\n",
       "           Date hour  minute  \n",
       "0    2021-06-10   23       0  \n",
       "1    2021-06-10   22      30  \n",
       "2    2021-06-10   22       0  \n",
       "3    2021-06-10   21      30  \n",
       "4    2021-06-10   21       0  \n",
       "..          ...  ...     ...  \n",
       "471  2021-06-01   02       0  \n",
       "472  2021-06-01   01      30  \n",
       "473  2021-06-01   01       0  \n",
       "474  2021-06-01   00      30  \n",
       "475  2021-06-01   00       0  \n",
       "\n",
       "[476 rows x 14 columns]"
      ],
      "text/html": "<div>\n<style scoped>\n    .dataframe tbody tr th:only-of-type {\n        vertical-align: middle;\n    }\n\n    .dataframe tbody tr th {\n        vertical-align: top;\n    }\n\n    .dataframe thead th {\n        text-align: right;\n    }\n</style>\n<table border=\"1\" class=\"dataframe\">\n  <thead>\n    <tr style=\"text-align: right;\">\n      <th></th>\n      <th>code</th>\n      <th>candleDateTime</th>\n      <th>candleDateTimeKst</th>\n      <th>openingPrice</th>\n      <th>highPrice</th>\n      <th>lowPrice</th>\n      <th>tradePrice</th>\n      <th>candleAccTradeVolume</th>\n      <th>candleAccTradePrice</th>\n      <th>timestamp</th>\n      <th>unit</th>\n      <th>Date</th>\n      <th>hour</th>\n      <th>minute</th>\n    </tr>\n  </thead>\n  <tbody>\n    <tr>\n      <th>0</th>\n      <td>CRIX.UPBIT.KRW-QTCON</td>\n      <td>2021-06-10T14:00:00+00:00</td>\n      <td>2021-06-10T23:00:00+09:00</td>\n      <td>68.6</td>\n      <td>68.8</td>\n      <td>66.4</td>\n      <td>66.8</td>\n      <td>7.388177e+07</td>\n      <td>4.976362e+09</td>\n      <td>1623334362731</td>\n      <td>30</td>\n      <td>2021-06-10</td>\n      <td>23</td>\n      <td>0</td>\n    </tr>\n    <tr>\n      <th>1</th>\n      <td>CRIX.UPBIT.KRW-QTCON</td>\n      <td>2021-06-10T13:30:00+00:00</td>\n      <td>2021-06-10T22:30:00+09:00</td>\n      <td>69.9</td>\n      <td>69.9</td>\n      <td>67.6</td>\n      <td>68.6</td>\n      <td>1.819486e+08</td>\n      <td>1.247616e+10</td>\n      <td>1623333599789</td>\n      <td>30</td>\n      <td>2021-06-10</td>\n      <td>22</td>\n      <td>30</td>\n    </tr>\n    <tr>\n      <th>2</th>\n      <td>CRIX.UPBIT.KRW-QTCON</td>\n      <td>2021-06-10T13:00:00+00:00</td>\n      <td>2021-06-10T22:00:00+09:00</td>\n      <td>71.3</td>\n      <td>71.6</td>\n      <td>69.7</td>\n      <td>69.9</td>\n      <td>9.598321e+07</td>\n      <td>6.768288e+09</td>\n      <td>1623331800350</td>\n      <td>30</td>\n      <td>2021-06-10</td>\n      <td>22</td>\n      <td>0</td>\n    </tr>\n    <tr>\n      <th>3</th>\n      <td>CRIX.UPBIT.KRW-QTCON</td>\n      <td>2021-06-10T12:30:00+00:00</td>\n      <td>2021-06-10T21:30:00+09:00</td>\n      <td>72.3</td>\n      <td>72.8</td>\n      <td>71.2</td>\n      <td>71.3</td>\n      <td>1.203125e+08</td>\n      <td>8.648812e+09</td>\n      <td>1623329999487</td>\n      <td>30</td>\n      <td>2021-06-10</td>\n      <td>21</td>\n      <td>30</td>\n    </tr>\n    <tr>\n      <th>4</th>\n      <td>CRIX.UPBIT.KRW-QTCON</td>\n      <td>2021-06-10T12:00:00+00:00</td>\n      <td>2021-06-10T21:00:00+09:00</td>\n      <td>72.2</td>\n      <td>72.7</td>\n      <td>70.8</td>\n      <td>72.3</td>\n      <td>1.099278e+08</td>\n      <td>7.872711e+09</td>\n      <td>1623328200057</td>\n      <td>30</td>\n      <td>2021-06-10</td>\n      <td>21</td>\n      <td>0</td>\n    </tr>\n    <tr>\n      <th>...</th>\n      <td>...</td>\n      <td>...</td>\n      <td>...</td>\n      <td>...</td>\n      <td>...</td>\n      <td>...</td>\n      <td>...</td>\n      <td>...</td>\n      <td>...</td>\n      <td>...</td>\n      <td>...</td>\n      <td>...</td>\n      <td>...</td>\n      <td>...</td>\n    </tr>\n    <tr>\n      <th>471</th>\n      <td>CRIX.UPBIT.KRW-QTCON</td>\n      <td>2021-05-31T17:00:00+00:00</td>\n      <td>2021-06-01T02:00:00+09:00</td>\n      <td>52.6</td>\n      <td>52.7</td>\n      <td>52.3</td>\n      <td>52.4</td>\n      <td>7.925233e+05</td>\n      <td>4.158999e+07</td>\n      <td>1622482168004</td>\n      <td>30</td>\n      <td>2021-06-01</td>\n      <td>02</td>\n      <td>0</td>\n    </tr>\n    <tr>\n      <th>472</th>\n      <td>CRIX.UPBIT.KRW-QTCON</td>\n      <td>2021-05-31T16:30:00+00:00</td>\n      <td>2021-06-01T01:30:00+09:00</td>\n      <td>52.4</td>\n      <td>52.7</td>\n      <td>52.3</td>\n      <td>52.6</td>\n      <td>6.720946e+05</td>\n      <td>3.527668e+07</td>\n      <td>1622480397914</td>\n      <td>30</td>\n      <td>2021-06-01</td>\n      <td>01</td>\n      <td>30</td>\n    </tr>\n    <tr>\n      <th>473</th>\n      <td>CRIX.UPBIT.KRW-QTCON</td>\n      <td>2021-05-31T16:00:00+00:00</td>\n      <td>2021-06-01T01:00:00+09:00</td>\n      <td>52.4</td>\n      <td>52.8</td>\n      <td>52.2</td>\n      <td>52.4</td>\n      <td>1.788808e+06</td>\n      <td>9.389585e+07</td>\n      <td>1622478547916</td>\n      <td>30</td>\n      <td>2021-06-01</td>\n      <td>01</td>\n      <td>0</td>\n    </tr>\n    <tr>\n      <th>474</th>\n      <td>CRIX.UPBIT.KRW-QTCON</td>\n      <td>2021-05-31T15:30:00+00:00</td>\n      <td>2021-06-01T00:30:00+09:00</td>\n      <td>52.5</td>\n      <td>52.7</td>\n      <td>52.2</td>\n      <td>52.5</td>\n      <td>4.414198e+05</td>\n      <td>2.315340e+07</td>\n      <td>1622476737626</td>\n      <td>30</td>\n      <td>2021-06-01</td>\n      <td>00</td>\n      <td>30</td>\n    </tr>\n    <tr>\n      <th>475</th>\n      <td>CRIX.UPBIT.KRW-QTCON</td>\n      <td>2021-05-31T15:00:00+00:00</td>\n      <td>2021-06-01T00:00:00+09:00</td>\n      <td>52.1</td>\n      <td>52.6</td>\n      <td>52.1</td>\n      <td>52.5</td>\n      <td>6.038288e+05</td>\n      <td>3.162739e+07</td>\n      <td>1622474932902</td>\n      <td>30</td>\n      <td>2021-06-01</td>\n      <td>00</td>\n      <td>0</td>\n    </tr>\n  </tbody>\n</table>\n<p>476 rows × 14 columns</p>\n</div>"
     },
     "metadata": {},
     "execution_count": 6
    }
   ],
   "source": [
    "df"
   ]
  },
  {
   "cell_type": "code",
   "execution_count": 7,
   "metadata": {},
   "outputs": [
    {
     "output_type": "execute_result",
     "data": {
      "text/plain": [
       "  hour  minute  tradePrice  highPrice  lowPrice  candleAccTradeVolume\n",
       "0   23       0        66.8       68.8      66.4          7.388177e+07\n",
       "1   22      30        68.6       69.9      67.6          1.819486e+08\n",
       "2   22       0        69.9       71.6      69.7          9.598321e+07\n",
       "3   21      30        71.3       72.8      71.2          1.203125e+08\n",
       "4   21       0        72.3       72.7      70.8          1.099278e+08"
      ],
      "text/html": "<div>\n<style scoped>\n    .dataframe tbody tr th:only-of-type {\n        vertical-align: middle;\n    }\n\n    .dataframe tbody tr th {\n        vertical-align: top;\n    }\n\n    .dataframe thead th {\n        text-align: right;\n    }\n</style>\n<table border=\"1\" class=\"dataframe\">\n  <thead>\n    <tr style=\"text-align: right;\">\n      <th></th>\n      <th>hour</th>\n      <th>minute</th>\n      <th>tradePrice</th>\n      <th>highPrice</th>\n      <th>lowPrice</th>\n      <th>candleAccTradeVolume</th>\n    </tr>\n  </thead>\n  <tbody>\n    <tr>\n      <th>0</th>\n      <td>23</td>\n      <td>0</td>\n      <td>66.8</td>\n      <td>68.8</td>\n      <td>66.4</td>\n      <td>7.388177e+07</td>\n    </tr>\n    <tr>\n      <th>1</th>\n      <td>22</td>\n      <td>30</td>\n      <td>68.6</td>\n      <td>69.9</td>\n      <td>67.6</td>\n      <td>1.819486e+08</td>\n    </tr>\n    <tr>\n      <th>2</th>\n      <td>22</td>\n      <td>0</td>\n      <td>69.9</td>\n      <td>71.6</td>\n      <td>69.7</td>\n      <td>9.598321e+07</td>\n    </tr>\n    <tr>\n      <th>3</th>\n      <td>21</td>\n      <td>30</td>\n      <td>71.3</td>\n      <td>72.8</td>\n      <td>71.2</td>\n      <td>1.203125e+08</td>\n    </tr>\n    <tr>\n      <th>4</th>\n      <td>21</td>\n      <td>0</td>\n      <td>72.3</td>\n      <td>72.7</td>\n      <td>70.8</td>\n      <td>1.099278e+08</td>\n    </tr>\n  </tbody>\n</table>\n</div>"
     },
     "metadata": {},
     "execution_count": 7
    }
   ],
   "source": [
    "\n",
    "drops= ['Date','unit','candleAccTradePrice','openingPrice','code','candleDateTime','timestamp','candleDateTimeKst']\n",
    "df=df.drop(drops,axis=1)\n",
    "df=df[['hour','minute','tradePrice','highPrice','lowPrice','candleAccTradeVolume']]\n",
    "df.head()"
   ]
  },
  {
   "cell_type": "code",
   "execution_count": 8,
   "metadata": {},
   "outputs": [
    {
     "output_type": "execute_result",
     "data": {
      "text/plain": [
       "66.8"
      ]
     },
     "metadata": {},
     "execution_count": 8
    }
   ],
   "source": [
    "df['tradePrice'][0]"
   ]
  },
  {
   "cell_type": "code",
   "execution_count": 18,
   "metadata": {
    "tags": []
   },
   "outputs": [
    {
     "output_type": "stream",
     "name": "stdout",
     "text": [
      "10.700000000000017 17.100000000000023\n0.6257309941520469\n0.3848920863309353\n10.700000000000017 16.300000000000026\n0.656441717791411\n0.3962962962962963\n"
     ]
    }
   ],
   "source": [
    "df['rsi_ud'] = 0\n",
    "\n",
    "for j in range(2):\n",
    "    upper = 0\n",
    "    down = 0\n",
    "    for i in range(14):\n",
    "        if df['tradePrice'][i+j] > df['tradePrice'][i+j+1]:\n",
    "            upper += df['tradePrice'][i+j] - df['tradePrice'][i+j+1]\n",
    "            # print(upper)\n",
    "        elif df['tradePrice'][i+j] < df['tradePrice'][i+j+1]:\n",
    "            down += df['tradePrice'][i+j+1] - df['tradePrice'][i+j]\n",
    "            # print(down)\n",
    "        else:\n",
    "            continue\n",
    "    print(upper,down)\n",
    "    AU = upper/14\n",
    "    AD = down/14\n",
    "    RS = AU / AD\n",
    "    print(RS)\n",
    "    RSI = (RS/(1+RS))\n",
    "    print(RSI)"
   ]
  },
  {
   "cell_type": "code",
   "execution_count": 15,
   "metadata": {},
   "outputs": [
    {
     "output_type": "execute_result",
     "data": {
      "text/plain": [
       "1.1749768908705343"
      ]
     },
     "metadata": {},
     "execution_count": 15
    }
   ],
   "source": [
    "x = 54.0225/100\n",
    "a= x/(1-x)\n",
    "a"
   ]
  },
  {
   "cell_type": "code",
   "execution_count": null,
   "metadata": {},
   "outputs": [],
   "source": [
    "10.7\n",
    "-16.3"
   ]
  }
 ]
}
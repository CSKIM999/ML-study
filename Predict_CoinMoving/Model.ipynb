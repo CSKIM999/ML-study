{
 "metadata": {
  "language_info": {
   "codemirror_mode": {
    "name": "ipython",
    "version": 3
   },
   "file_extension": ".py",
   "mimetype": "text/x-python",
   "name": "python",
   "nbconvert_exporter": "python",
   "pygments_lexer": "ipython3",
   "version": "3.9.2"
  },
  "orig_nbformat": 2,
  "kernelspec": {
   "name": "python3",
   "display_name": "Python 3.9.2 64-bit"
  },
  "metadata": {
   "interpreter": {
    "hash": "63fd5069d213b44bf678585dea6b12cceca9941eaf7f819626cde1f2670de90d"
   }
  },
  "interpreter": {
   "hash": "63fd5069d213b44bf678585dea6b12cceca9941eaf7f819626cde1f2670de90d"
  }
 },
 "nbformat": 4,
 "nbformat_minor": 2,
 "cells": [
  {
   "cell_type": "code",
   "execution_count": 17,
   "metadata": {},
   "outputs": [],
   "source": [
    "import json\n",
    "import requests\n",
    "import urllib.request\n",
    "import time\n",
    "import pandas as pd\n",
    "import warnings\n",
    "warnings.filterwarnings('ignore')\n",
    "df = pd.DataFrame()\n",
    "index = 0\n",
    "last_date = ''\n",
    "\n",
    "# 수정 변수들\n",
    "coinName = \"BTC\"\n",
    "to_date = '2021-06-21'\n",
    "num = 30\n",
    "scale = '1'\n",
    "if num == 0:\n",
    "    type = 'days'\n",
    "else:\n",
    "    type = 'minutes/{}'.format(num)\n",
    "\n",
    "\n",
    "def get_coin_data_url(coinName, type, scale, cnt=400) :\n",
    "    addr = 'https://crix-api-endpoint.upbit.com/v1/crix/candles/'\n",
    "    if type == 'minutes' :\n",
    "        basic_url = addr + type + '/' + scale + '?code=CRIX.UPBIT.KRW-' + coinName +'&count='+str(cnt)\n",
    "    else :\n",
    "        basic_url = addr + type + '/' + '?code=CRIX.UPBIT.KRW-' + coinName +'&count='+str(cnt)\n",
    "\n",
    "    return basic_url\n",
    "\n",
    "basic_url = get_coin_data_url(coinName,type,scale)\n",
    "url = basic_url\n",
    "\n",
    "def get_upbit_data(url, last_date, to_date) :\n",
    "    global df\n",
    "    global index\n",
    "\n",
    "    fail2GetData = False\n",
    "    response = ''\n",
    "    while True:\n",
    "        try :\n",
    "            response = requests.get(url)\n",
    "        except Exception as e:\n",
    "            time.sleep(20)\n",
    "            continue\n",
    "        if str(response) == '<Response [200]>':\n",
    "            break\n",
    "        time.sleep(10)\n",
    "    if ( fail2GetData )  :\n",
    "        exit()\n",
    "\n",
    "    data = response.json()\n",
    "\n",
    "    if index == 0:\n",
    "        df = pd.DataFrame(data)\n",
    "        date = ''\n",
    "        date = data[len(data)-1]['candleDateTime']\n",
    "        index +=1\n",
    "\n",
    "    else:\n",
    "        df_for = pd.DataFrame(data)\n",
    "        df = df.append(df_for,ignore_index=True)\n",
    "        date = ''\n",
    "        date = data[len(data)-1]['candleDateTime']\n",
    "    return date\n",
    "\n",
    "\n"
   ]
  },
  {
   "cell_type": "code",
   "execution_count": 18,
   "metadata": {},
   "outputs": [],
   "source": [
    "\n",
    "while (1) :\n",
    "    last_date = get_upbit_data(url, last_date, to_date)\n",
    "    tmp1 = last_date.split('T')\n",
    "    if tmp1[0]  < to_date :\n",
    "        break\n",
    "    tmp2 = tmp1[1].split('+')\n",
    "    target_date = tmp1[0] + ' ' + tmp2[0]\n",
    "    url = basic_url + '&to=' + target_date    #to=2019-11-27 04:01:00\n",
    "    time.sleep(2)\n",
    "\n",
    "idx_todate = df.index[(df.candleDateTimeKst == '{}T00:00:00+09:00'.format(to_date))].tolist()[0]+1\n",
    "idx_todate\n",
    "\n",
    "df = df.drop(df.index[idx_todate:])"
   ]
  },
  {
   "cell_type": "code",
   "execution_count": 19,
   "metadata": {},
   "outputs": [],
   "source": [
    "df['Date'] = 0\n",
    "df['hour'] = 0\n",
    "df['minute'] = 0"
   ]
  },
  {
   "cell_type": "code",
   "execution_count": 20,
   "metadata": {
    "tags": []
   },
   "outputs": [],
   "source": [
    "for i in range(len(df)):\n",
    "    df['Date'] [i] = df['candleDateTimeKst'][i].split('T')\n",
    "    df['hour'] [i] = df['Date'][i][1].split('+')[0]\n",
    "    df['minute'] [i] = df['hour'][i].split(':')[1]\n",
    "    df['hour'] [i] = df['hour'][i].split(':')[0]\n",
    "    df['Date'] [i] = df['Date'][i][0]\n"
   ]
  },
  {
   "cell_type": "code",
   "execution_count": 21,
   "metadata": {},
   "outputs": [
    {
     "output_type": "execute_result",
     "data": {
      "text/plain": [
       "  hour  minute  tradePrice   highPrice    lowPrice  candleAccTradeVolume\n",
       "0   03       0  38114000.0  38402000.0  38032000.0             84.610371\n",
       "1   02      30  38400000.0  38463000.0  38316000.0             43.053330\n",
       "2   02       0  38375000.0  38448000.0  38229000.0             72.150857\n",
       "3   01      30  38347000.0  38510000.0  38206000.0            119.634094\n",
       "4   01       0  38478000.0  38782000.0  38399000.0            163.076826"
      ],
      "text/html": "<div>\n<style scoped>\n    .dataframe tbody tr th:only-of-type {\n        vertical-align: middle;\n    }\n\n    .dataframe tbody tr th {\n        vertical-align: top;\n    }\n\n    .dataframe thead th {\n        text-align: right;\n    }\n</style>\n<table border=\"1\" class=\"dataframe\">\n  <thead>\n    <tr style=\"text-align: right;\">\n      <th></th>\n      <th>hour</th>\n      <th>minute</th>\n      <th>tradePrice</th>\n      <th>highPrice</th>\n      <th>lowPrice</th>\n      <th>candleAccTradeVolume</th>\n    </tr>\n  </thead>\n  <tbody>\n    <tr>\n      <th>0</th>\n      <td>03</td>\n      <td>0</td>\n      <td>38114000.0</td>\n      <td>38402000.0</td>\n      <td>38032000.0</td>\n      <td>84.610371</td>\n    </tr>\n    <tr>\n      <th>1</th>\n      <td>02</td>\n      <td>30</td>\n      <td>38400000.0</td>\n      <td>38463000.0</td>\n      <td>38316000.0</td>\n      <td>43.053330</td>\n    </tr>\n    <tr>\n      <th>2</th>\n      <td>02</td>\n      <td>0</td>\n      <td>38375000.0</td>\n      <td>38448000.0</td>\n      <td>38229000.0</td>\n      <td>72.150857</td>\n    </tr>\n    <tr>\n      <th>3</th>\n      <td>01</td>\n      <td>30</td>\n      <td>38347000.0</td>\n      <td>38510000.0</td>\n      <td>38206000.0</td>\n      <td>119.634094</td>\n    </tr>\n    <tr>\n      <th>4</th>\n      <td>01</td>\n      <td>0</td>\n      <td>38478000.0</td>\n      <td>38782000.0</td>\n      <td>38399000.0</td>\n      <td>163.076826</td>\n    </tr>\n  </tbody>\n</table>\n</div>"
     },
     "metadata": {},
     "execution_count": 21
    }
   ],
   "source": [
    "drops= ['Date','unit','candleAccTradePrice','openingPrice','code','candleDateTime','timestamp','candleDateTimeKst']\n",
    "df=df.drop(drops,axis=1)\n",
    "df=df[['hour','minute','tradePrice','highPrice','lowPrice','candleAccTradeVolume']]\n",
    "df.head()"
   ]
  },
  {
   "cell_type": "code",
   "execution_count": 22,
   "metadata": {
    "tags": []
   },
   "outputs": [
    {
     "output_type": "stream",
     "name": "stdout",
     "text": [
      "0      45.857695\n1      52.795071\n2      52.208223\n3      51.582220\n4      54.694627\n         ...    \n338          NaN\n339          NaN\n340          NaN\n341          NaN\n342          NaN\nName: tradePrice, Length: 343, dtype: float64\n"
     ]
    }
   ],
   "source": [
    "ups, downs = df['tradePrice'].loc[::-1].diff() ,df['tradePrice'].loc[::-1].diff()\n",
    "ups[ups<0] =0\n",
    "downs[downs>0] = 0\n",
    "period = 14 \n",
    "au = ups.abs().ewm(com = period-1, min_periods = period).mean() \n",
    "ad = downs.abs().ewm(com = period-1, min_periods = period).mean() \n",
    "RS = au/ad \n",
    "RSI = pd.Series(100 - (100/(1+RS))) \n",
    "RSI = RSI.loc[::-1]\n",
    "print(RSI)\n",
    "df['RSI'] = RSI"
   ]
  },
  {
   "cell_type": "code",
   "execution_count": 23,
   "metadata": {},
   "outputs": [
    {
     "output_type": "stream",
     "name": "stdout",
     "text": [
      "D : 217716.66666666715  // M : 38182666.666666664 // m : 38361049.99999999\n-54.6224705912357\nD : 216738.33333333433  // M : 38393000.0 // m : 38379783.33333333\n4.06532198324295\nD : 225603.33333333433  // M : 38350666.666666664 // m : 38389633.33333333\n-11.514802283259412\n"
     ]
    }
   ],
   "source": [
    "# CCI 오예\n",
    "N = 20\n",
    "D = 0\n",
    "m = 0\n",
    "for i in range(3):\n",
    "    D = 0\n",
    "    m = 0\n",
    "    sm= 0\n",
    "\n",
    "    M = ((df['tradePrice'][i] + df['lowPrice'][i] + df['highPrice'][i]) / 3)\n",
    "\n",
    "    for j in range(N):\n",
    "        jM = (df['tradePrice'][i+j] + df['lowPrice'][i+j] + df['highPrice'][i+j]) / 3\n",
    "        sm +=jM\n",
    "    sm = (sm/N)\n",
    "\n",
    "    for k in range(N):\n",
    "        kM = (df['tradePrice'][i+k] + df['lowPrice'][i+k] + df['highPrice'][i+k]) / 3\n",
    "        D += abs(sm-kM)\n",
    "    D = D/N\n",
    "    print('D : {}  // M : {} // m : {}'.format(D,M,sm))\n",
    "\n",
    "    CCI = (M - sm) / (D * 0.015)\n",
    "\n",
    "    print(CCI)\n"
   ]
  },
  {
   "cell_type": "code",
   "execution_count": 24,
   "metadata": {},
   "outputs": [
    {
     "output_type": "execute_result",
     "data": {
      "text/plain": [
       "342    40830000.0\n",
       "341    40838000.0\n",
       "340    40938000.0\n",
       "339    40870000.0\n",
       "338    41017000.0\n",
       "          ...    \n",
       "4      38478000.0\n",
       "3      38347000.0\n",
       "2      38375000.0\n",
       "1      38400000.0\n",
       "0      38114000.0\n",
       "Name: tradePrice, Length: 343, dtype: float64"
      ]
     },
     "metadata": {},
     "execution_count": 24
    }
   ],
   "source": [
    "s_data, l_data = df['tradePrice'].loc[::-1],df['tradePrice'].loc[::-1]\n",
    "s_data\n",
    "l_data"
   ]
  },
  {
   "cell_type": "code",
   "execution_count": 25,
   "metadata": {},
   "outputs": [
    {
     "output_type": "execute_result",
     "data": {
      "text/plain": [
       "342             NaN\n",
       "341             NaN\n",
       "340             NaN\n",
       "339             NaN\n",
       "338             NaN\n",
       "337             NaN\n",
       "336             NaN\n",
       "335             NaN\n",
       "334             NaN\n",
       "333             NaN\n",
       "332             NaN\n",
       "331    4.138548e+07\n",
       "330    4.144915e+07\n",
       "329    4.148463e+07\n",
       "328    4.150365e+07\n",
       "Name: tradePrice, dtype: float64"
      ]
     },
     "metadata": {},
     "execution_count": 25
    }
   ],
   "source": [
    "# MACD\n",
    "period = 12\n",
    "s_data, l_data = df['tradePrice'].loc[::-1],df['tradePrice'].loc[::-1]\n",
    "# s_data, l_data = df['tradePrice'].diff() ,df['tradePrice'].diff()\n",
    "a12 = s_data.abs().ewm(com = period-1, min_periods = period).mean() \n",
    "a12.head(15)\n"
   ]
  },
  {
   "cell_type": "code",
   "execution_count": 26,
   "metadata": {},
   "outputs": [
    {
     "output_type": "execute_result",
     "data": {
      "text/plain": [
       "    hour  minute  tradePrice   highPrice    lowPrice  candleAccTradeVolume  \\\n",
       "342   00       0  40830000.0  40980000.0  40600000.0            345.947578   \n",
       "341   00      30  40838000.0  40960000.0  40755000.0            149.095600   \n",
       "340   01       0  40938000.0  40950000.0  40700000.0            163.617955   \n",
       "339   01      30  40870000.0  40938000.0  40759000.0             71.849834   \n",
       "338   02       0  41017000.0  41040000.0  40788000.0             84.941353   \n",
       "..   ...     ...         ...         ...         ...                   ...   \n",
       "4     01       0  38478000.0  38782000.0  38399000.0            163.076826   \n",
       "3     01      30  38347000.0  38510000.0  38206000.0            119.634094   \n",
       "2     02       0  38375000.0  38448000.0  38229000.0             72.150857   \n",
       "1     02      30  38400000.0  38463000.0  38316000.0             43.053330   \n",
       "0     03       0  38114000.0  38402000.0  38032000.0             84.610371   \n",
       "\n",
       "           RSI  \n",
       "342        NaN  \n",
       "341        NaN  \n",
       "340        NaN  \n",
       "339        NaN  \n",
       "338        NaN  \n",
       "..         ...  \n",
       "4    54.694627  \n",
       "3    51.582220  \n",
       "2    52.208223  \n",
       "1    52.795071  \n",
       "0    45.857695  \n",
       "\n",
       "[343 rows x 7 columns]"
      ],
      "text/html": "<div>\n<style scoped>\n    .dataframe tbody tr th:only-of-type {\n        vertical-align: middle;\n    }\n\n    .dataframe tbody tr th {\n        vertical-align: top;\n    }\n\n    .dataframe thead th {\n        text-align: right;\n    }\n</style>\n<table border=\"1\" class=\"dataframe\">\n  <thead>\n    <tr style=\"text-align: right;\">\n      <th></th>\n      <th>hour</th>\n      <th>minute</th>\n      <th>tradePrice</th>\n      <th>highPrice</th>\n      <th>lowPrice</th>\n      <th>candleAccTradeVolume</th>\n      <th>RSI</th>\n    </tr>\n  </thead>\n  <tbody>\n    <tr>\n      <th>342</th>\n      <td>00</td>\n      <td>0</td>\n      <td>40830000.0</td>\n      <td>40980000.0</td>\n      <td>40600000.0</td>\n      <td>345.947578</td>\n      <td>NaN</td>\n    </tr>\n    <tr>\n      <th>341</th>\n      <td>00</td>\n      <td>30</td>\n      <td>40838000.0</td>\n      <td>40960000.0</td>\n      <td>40755000.0</td>\n      <td>149.095600</td>\n      <td>NaN</td>\n    </tr>\n    <tr>\n      <th>340</th>\n      <td>01</td>\n      <td>0</td>\n      <td>40938000.0</td>\n      <td>40950000.0</td>\n      <td>40700000.0</td>\n      <td>163.617955</td>\n      <td>NaN</td>\n    </tr>\n    <tr>\n      <th>339</th>\n      <td>01</td>\n      <td>30</td>\n      <td>40870000.0</td>\n      <td>40938000.0</td>\n      <td>40759000.0</td>\n      <td>71.849834</td>\n      <td>NaN</td>\n    </tr>\n    <tr>\n      <th>338</th>\n      <td>02</td>\n      <td>0</td>\n      <td>41017000.0</td>\n      <td>41040000.0</td>\n      <td>40788000.0</td>\n      <td>84.941353</td>\n      <td>NaN</td>\n    </tr>\n    <tr>\n      <th>...</th>\n      <td>...</td>\n      <td>...</td>\n      <td>...</td>\n      <td>...</td>\n      <td>...</td>\n      <td>...</td>\n      <td>...</td>\n    </tr>\n    <tr>\n      <th>4</th>\n      <td>01</td>\n      <td>0</td>\n      <td>38478000.0</td>\n      <td>38782000.0</td>\n      <td>38399000.0</td>\n      <td>163.076826</td>\n      <td>54.694627</td>\n    </tr>\n    <tr>\n      <th>3</th>\n      <td>01</td>\n      <td>30</td>\n      <td>38347000.0</td>\n      <td>38510000.0</td>\n      <td>38206000.0</td>\n      <td>119.634094</td>\n      <td>51.582220</td>\n    </tr>\n    <tr>\n      <th>2</th>\n      <td>02</td>\n      <td>0</td>\n      <td>38375000.0</td>\n      <td>38448000.0</td>\n      <td>38229000.0</td>\n      <td>72.150857</td>\n      <td>52.208223</td>\n    </tr>\n    <tr>\n      <th>1</th>\n      <td>02</td>\n      <td>30</td>\n      <td>38400000.0</td>\n      <td>38463000.0</td>\n      <td>38316000.0</td>\n      <td>43.053330</td>\n      <td>52.795071</td>\n    </tr>\n    <tr>\n      <th>0</th>\n      <td>03</td>\n      <td>0</td>\n      <td>38114000.0</td>\n      <td>38402000.0</td>\n      <td>38032000.0</td>\n      <td>84.610371</td>\n      <td>45.857695</td>\n    </tr>\n  </tbody>\n</table>\n<p>343 rows × 7 columns</p>\n</div>"
     },
     "metadata": {},
     "execution_count": 26
    }
   ],
   "source": [
    "s_data = df.loc[::-1]\n",
    "s_data"
   ]
  },
  {
   "cell_type": "code",
   "execution_count": 27,
   "metadata": {},
   "outputs": [
    {
     "output_type": "execute_result",
     "data": {
      "text/plain": [
       "    hour  minute  tradePrice   highPrice    lowPrice  candleAccTradeVolume  \\\n",
       "342   00       0  40830000.0  40980000.0  40600000.0            345.947578   \n",
       "341   00      30  40838000.0  40960000.0  40755000.0            149.095600   \n",
       "340   01       0  40938000.0  40950000.0  40700000.0            163.617955   \n",
       "339   01      30  40870000.0  40938000.0  40759000.0             71.849834   \n",
       "338   02       0  41017000.0  41040000.0  40788000.0             84.941353   \n",
       "..   ...     ...         ...         ...         ...                   ...   \n",
       "4     01       0  38478000.0  38782000.0  38399000.0            163.076826   \n",
       "3     01      30  38347000.0  38510000.0  38206000.0            119.634094   \n",
       "2     02       0  38375000.0  38448000.0  38229000.0             72.150857   \n",
       "1     02      30  38400000.0  38463000.0  38316000.0             43.053330   \n",
       "0     03       0  38114000.0  38402000.0  38032000.0             84.610371   \n",
       "\n",
       "           RSI       EMAFast       EMASlow           MACD     MACDSignal  \\\n",
       "342        NaN           NaN           NaN            NaN            NaN   \n",
       "341        NaN           NaN           NaN            NaN            NaN   \n",
       "340        NaN           NaN           NaN            NaN            NaN   \n",
       "339        NaN           NaN           NaN            NaN            NaN   \n",
       "338        NaN           NaN           NaN            NaN            NaN   \n",
       "..         ...           ...           ...            ...            ...   \n",
       "4    54.694627  3.848404e+07  3.828924e+07  194803.439151  221538.436455   \n",
       "3    51.582220  3.846296e+07  3.829352e+07  169441.225652  211118.994294   \n",
       "2    52.208223  3.844943e+07  3.829956e+07  149873.209654  198869.837366   \n",
       "1    52.795071  3.844182e+07  3.830700e+07  134828.488179  186061.567529   \n",
       "0    45.857695  3.839139e+07  3.829270e+07   98689.991431  168587.252309   \n",
       "\n",
       "         MACDDiff  \n",
       "342           NaN  \n",
       "341           NaN  \n",
       "340           NaN  \n",
       "339           NaN  \n",
       "338           NaN  \n",
       "..            ...  \n",
       "4   -26734.997304  \n",
       "3   -41677.768643  \n",
       "2   -48996.627712  \n",
       "1   -51233.079350  \n",
       "0   -69897.260878  \n",
       "\n",
       "[343 rows x 12 columns]"
      ],
      "text/html": "<div>\n<style scoped>\n    .dataframe tbody tr th:only-of-type {\n        vertical-align: middle;\n    }\n\n    .dataframe tbody tr th {\n        vertical-align: top;\n    }\n\n    .dataframe thead th {\n        text-align: right;\n    }\n</style>\n<table border=\"1\" class=\"dataframe\">\n  <thead>\n    <tr style=\"text-align: right;\">\n      <th></th>\n      <th>hour</th>\n      <th>minute</th>\n      <th>tradePrice</th>\n      <th>highPrice</th>\n      <th>lowPrice</th>\n      <th>candleAccTradeVolume</th>\n      <th>RSI</th>\n      <th>EMAFast</th>\n      <th>EMASlow</th>\n      <th>MACD</th>\n      <th>MACDSignal</th>\n      <th>MACDDiff</th>\n    </tr>\n  </thead>\n  <tbody>\n    <tr>\n      <th>342</th>\n      <td>00</td>\n      <td>0</td>\n      <td>40830000.0</td>\n      <td>40980000.0</td>\n      <td>40600000.0</td>\n      <td>345.947578</td>\n      <td>NaN</td>\n      <td>NaN</td>\n      <td>NaN</td>\n      <td>NaN</td>\n      <td>NaN</td>\n      <td>NaN</td>\n    </tr>\n    <tr>\n      <th>341</th>\n      <td>00</td>\n      <td>30</td>\n      <td>40838000.0</td>\n      <td>40960000.0</td>\n      <td>40755000.0</td>\n      <td>149.095600</td>\n      <td>NaN</td>\n      <td>NaN</td>\n      <td>NaN</td>\n      <td>NaN</td>\n      <td>NaN</td>\n      <td>NaN</td>\n    </tr>\n    <tr>\n      <th>340</th>\n      <td>01</td>\n      <td>0</td>\n      <td>40938000.0</td>\n      <td>40950000.0</td>\n      <td>40700000.0</td>\n      <td>163.617955</td>\n      <td>NaN</td>\n      <td>NaN</td>\n      <td>NaN</td>\n      <td>NaN</td>\n      <td>NaN</td>\n      <td>NaN</td>\n    </tr>\n    <tr>\n      <th>339</th>\n      <td>01</td>\n      <td>30</td>\n      <td>40870000.0</td>\n      <td>40938000.0</td>\n      <td>40759000.0</td>\n      <td>71.849834</td>\n      <td>NaN</td>\n      <td>NaN</td>\n      <td>NaN</td>\n      <td>NaN</td>\n      <td>NaN</td>\n      <td>NaN</td>\n    </tr>\n    <tr>\n      <th>338</th>\n      <td>02</td>\n      <td>0</td>\n      <td>41017000.0</td>\n      <td>41040000.0</td>\n      <td>40788000.0</td>\n      <td>84.941353</td>\n      <td>NaN</td>\n      <td>NaN</td>\n      <td>NaN</td>\n      <td>NaN</td>\n      <td>NaN</td>\n      <td>NaN</td>\n    </tr>\n    <tr>\n      <th>...</th>\n      <td>...</td>\n      <td>...</td>\n      <td>...</td>\n      <td>...</td>\n      <td>...</td>\n      <td>...</td>\n      <td>...</td>\n      <td>...</td>\n      <td>...</td>\n      <td>...</td>\n      <td>...</td>\n      <td>...</td>\n    </tr>\n    <tr>\n      <th>4</th>\n      <td>01</td>\n      <td>0</td>\n      <td>38478000.0</td>\n      <td>38782000.0</td>\n      <td>38399000.0</td>\n      <td>163.076826</td>\n      <td>54.694627</td>\n      <td>3.848404e+07</td>\n      <td>3.828924e+07</td>\n      <td>194803.439151</td>\n      <td>221538.436455</td>\n      <td>-26734.997304</td>\n    </tr>\n    <tr>\n      <th>3</th>\n      <td>01</td>\n      <td>30</td>\n      <td>38347000.0</td>\n      <td>38510000.0</td>\n      <td>38206000.0</td>\n      <td>119.634094</td>\n      <td>51.582220</td>\n      <td>3.846296e+07</td>\n      <td>3.829352e+07</td>\n      <td>169441.225652</td>\n      <td>211118.994294</td>\n      <td>-41677.768643</td>\n    </tr>\n    <tr>\n      <th>2</th>\n      <td>02</td>\n      <td>0</td>\n      <td>38375000.0</td>\n      <td>38448000.0</td>\n      <td>38229000.0</td>\n      <td>72.150857</td>\n      <td>52.208223</td>\n      <td>3.844943e+07</td>\n      <td>3.829956e+07</td>\n      <td>149873.209654</td>\n      <td>198869.837366</td>\n      <td>-48996.627712</td>\n    </tr>\n    <tr>\n      <th>1</th>\n      <td>02</td>\n      <td>30</td>\n      <td>38400000.0</td>\n      <td>38463000.0</td>\n      <td>38316000.0</td>\n      <td>43.053330</td>\n      <td>52.795071</td>\n      <td>3.844182e+07</td>\n      <td>3.830700e+07</td>\n      <td>134828.488179</td>\n      <td>186061.567529</td>\n      <td>-51233.079350</td>\n    </tr>\n    <tr>\n      <th>0</th>\n      <td>03</td>\n      <td>0</td>\n      <td>38114000.0</td>\n      <td>38402000.0</td>\n      <td>38032000.0</td>\n      <td>84.610371</td>\n      <td>45.857695</td>\n      <td>3.839139e+07</td>\n      <td>3.829270e+07</td>\n      <td>98689.991431</td>\n      <td>168587.252309</td>\n      <td>-69897.260878</td>\n    </tr>\n  </tbody>\n</table>\n<p>343 rows × 12 columns</p>\n</div>"
     },
     "metadata": {},
     "execution_count": 27
    }
   ],
   "source": [
    "def fnMACD(m_Df, m_NumFast=12, m_NumSlow=26, m_NumSignal=9):\n",
    "    m_Df['EMAFast'] = m_Df['tradePrice'].ewm( span = m_NumFast, min_periods = m_NumFast - 1).mean()\n",
    "    m_Df['EMASlow'] = m_Df['tradePrice'].ewm( span = m_NumSlow, min_periods = m_NumSlow - 1).mean()\n",
    "    m_Df['MACD'] = m_Df['EMAFast'] - m_Df['EMASlow']\n",
    "    m_Df['MACDSignal'] = m_Df['MACD'].ewm( span = m_NumSignal, min_periods = m_NumSignal-1).mean()\n",
    "    m_Df['MACDDiff'] = m_Df['MACD'] - m_Df['MACDSignal']\n",
    "    return m_Df\n",
    "\n",
    "s_data = fnMACD(s_data)\n",
    "s_data"
   ]
  },
  {
   "cell_type": "code",
   "execution_count": 28,
   "metadata": {},
   "outputs": [
    {
     "output_type": "execute_result",
     "data": {
      "text/plain": [
       "    hour  minute  tradePrice   highPrice    lowPrice  candleAccTradeVolume  \\\n",
       "342   00       0  40830000.0  40980000.0  40600000.0            345.947578   \n",
       "341   00      30  40838000.0  40960000.0  40755000.0            149.095600   \n",
       "340   01       0  40938000.0  40950000.0  40700000.0            163.617955   \n",
       "339   01      30  40870000.0  40938000.0  40759000.0             71.849834   \n",
       "338   02       0  41017000.0  41040000.0  40788000.0             84.941353   \n",
       "..   ...     ...         ...         ...         ...                   ...   \n",
       "4     01       0  38478000.0  38782000.0  38399000.0            163.076826   \n",
       "3     01      30  38347000.0  38510000.0  38206000.0            119.634094   \n",
       "2     02       0  38375000.0  38448000.0  38229000.0             72.150857   \n",
       "1     02      30  38400000.0  38463000.0  38316000.0             43.053330   \n",
       "0     03       0  38114000.0  38402000.0  38032000.0             84.610371   \n",
       "\n",
       "           RSI       EMAFast       EMASlow           MACD     MACDSignal  \\\n",
       "342        NaN           NaN           NaN            NaN            NaN   \n",
       "341        NaN           NaN           NaN            NaN            NaN   \n",
       "340        NaN           NaN           NaN            NaN            NaN   \n",
       "339        NaN           NaN           NaN            NaN            NaN   \n",
       "338        NaN           NaN           NaN            NaN            NaN   \n",
       "..         ...           ...           ...            ...            ...   \n",
       "4    54.694627  3.848404e+07  3.828924e+07  194803.439151  221538.436455   \n",
       "3    51.582220  3.846296e+07  3.829352e+07  169441.225652  211118.994294   \n",
       "2    52.208223  3.844943e+07  3.829956e+07  149873.209654  198869.837366   \n",
       "1    52.795071  3.844182e+07  3.830700e+07  134828.488179  186061.567529   \n",
       "0    45.857695  3.839139e+07  3.829270e+07   98689.991431  168587.252309   \n",
       "\n",
       "         MACDDiff  \n",
       "342           NaN  \n",
       "341           NaN  \n",
       "340           NaN  \n",
       "339           NaN  \n",
       "338           NaN  \n",
       "..            ...  \n",
       "4   -26734.997304  \n",
       "3   -41677.768643  \n",
       "2   -48996.627712  \n",
       "1   -51233.079350  \n",
       "0   -69897.260878  \n",
       "\n",
       "[343 rows x 12 columns]"
      ],
      "text/html": "<div>\n<style scoped>\n    .dataframe tbody tr th:only-of-type {\n        vertical-align: middle;\n    }\n\n    .dataframe tbody tr th {\n        vertical-align: top;\n    }\n\n    .dataframe thead th {\n        text-align: right;\n    }\n</style>\n<table border=\"1\" class=\"dataframe\">\n  <thead>\n    <tr style=\"text-align: right;\">\n      <th></th>\n      <th>hour</th>\n      <th>minute</th>\n      <th>tradePrice</th>\n      <th>highPrice</th>\n      <th>lowPrice</th>\n      <th>candleAccTradeVolume</th>\n      <th>RSI</th>\n      <th>EMAFast</th>\n      <th>EMASlow</th>\n      <th>MACD</th>\n      <th>MACDSignal</th>\n      <th>MACDDiff</th>\n    </tr>\n  </thead>\n  <tbody>\n    <tr>\n      <th>342</th>\n      <td>00</td>\n      <td>0</td>\n      <td>40830000.0</td>\n      <td>40980000.0</td>\n      <td>40600000.0</td>\n      <td>345.947578</td>\n      <td>NaN</td>\n      <td>NaN</td>\n      <td>NaN</td>\n      <td>NaN</td>\n      <td>NaN</td>\n      <td>NaN</td>\n    </tr>\n    <tr>\n      <th>341</th>\n      <td>00</td>\n      <td>30</td>\n      <td>40838000.0</td>\n      <td>40960000.0</td>\n      <td>40755000.0</td>\n      <td>149.095600</td>\n      <td>NaN</td>\n      <td>NaN</td>\n      <td>NaN</td>\n      <td>NaN</td>\n      <td>NaN</td>\n      <td>NaN</td>\n    </tr>\n    <tr>\n      <th>340</th>\n      <td>01</td>\n      <td>0</td>\n      <td>40938000.0</td>\n      <td>40950000.0</td>\n      <td>40700000.0</td>\n      <td>163.617955</td>\n      <td>NaN</td>\n      <td>NaN</td>\n      <td>NaN</td>\n      <td>NaN</td>\n      <td>NaN</td>\n      <td>NaN</td>\n    </tr>\n    <tr>\n      <th>339</th>\n      <td>01</td>\n      <td>30</td>\n      <td>40870000.0</td>\n      <td>40938000.0</td>\n      <td>40759000.0</td>\n      <td>71.849834</td>\n      <td>NaN</td>\n      <td>NaN</td>\n      <td>NaN</td>\n      <td>NaN</td>\n      <td>NaN</td>\n      <td>NaN</td>\n    </tr>\n    <tr>\n      <th>338</th>\n      <td>02</td>\n      <td>0</td>\n      <td>41017000.0</td>\n      <td>41040000.0</td>\n      <td>40788000.0</td>\n      <td>84.941353</td>\n      <td>NaN</td>\n      <td>NaN</td>\n      <td>NaN</td>\n      <td>NaN</td>\n      <td>NaN</td>\n      <td>NaN</td>\n    </tr>\n    <tr>\n      <th>...</th>\n      <td>...</td>\n      <td>...</td>\n      <td>...</td>\n      <td>...</td>\n      <td>...</td>\n      <td>...</td>\n      <td>...</td>\n      <td>...</td>\n      <td>...</td>\n      <td>...</td>\n      <td>...</td>\n      <td>...</td>\n    </tr>\n    <tr>\n      <th>4</th>\n      <td>01</td>\n      <td>0</td>\n      <td>38478000.0</td>\n      <td>38782000.0</td>\n      <td>38399000.0</td>\n      <td>163.076826</td>\n      <td>54.694627</td>\n      <td>3.848404e+07</td>\n      <td>3.828924e+07</td>\n      <td>194803.439151</td>\n      <td>221538.436455</td>\n      <td>-26734.997304</td>\n    </tr>\n    <tr>\n      <th>3</th>\n      <td>01</td>\n      <td>30</td>\n      <td>38347000.0</td>\n      <td>38510000.0</td>\n      <td>38206000.0</td>\n      <td>119.634094</td>\n      <td>51.582220</td>\n      <td>3.846296e+07</td>\n      <td>3.829352e+07</td>\n      <td>169441.225652</td>\n      <td>211118.994294</td>\n      <td>-41677.768643</td>\n    </tr>\n    <tr>\n      <th>2</th>\n      <td>02</td>\n      <td>0</td>\n      <td>38375000.0</td>\n      <td>38448000.0</td>\n      <td>38229000.0</td>\n      <td>72.150857</td>\n      <td>52.208223</td>\n      <td>3.844943e+07</td>\n      <td>3.829956e+07</td>\n      <td>149873.209654</td>\n      <td>198869.837366</td>\n      <td>-48996.627712</td>\n    </tr>\n    <tr>\n      <th>1</th>\n      <td>02</td>\n      <td>30</td>\n      <td>38400000.0</td>\n      <td>38463000.0</td>\n      <td>38316000.0</td>\n      <td>43.053330</td>\n      <td>52.795071</td>\n      <td>3.844182e+07</td>\n      <td>3.830700e+07</td>\n      <td>134828.488179</td>\n      <td>186061.567529</td>\n      <td>-51233.079350</td>\n    </tr>\n    <tr>\n      <th>0</th>\n      <td>03</td>\n      <td>0</td>\n      <td>38114000.0</td>\n      <td>38402000.0</td>\n      <td>38032000.0</td>\n      <td>84.610371</td>\n      <td>45.857695</td>\n      <td>3.839139e+07</td>\n      <td>3.829270e+07</td>\n      <td>98689.991431</td>\n      <td>168587.252309</td>\n      <td>-69897.260878</td>\n    </tr>\n  </tbody>\n</table>\n<p>343 rows × 12 columns</p>\n</div>"
     },
     "metadata": {},
     "execution_count": 28
    }
   ],
   "source": [
    "s_data.drop(['EMAFast','EMASlow'],axis=1)\n",
    "s_data"
   ]
  },
  {
   "cell_type": "code",
   "execution_count": 29,
   "metadata": {},
   "outputs": [],
   "source": [
    "s_data = s_data.loc[::-1]"
   ]
  },
  {
   "cell_type": "code",
   "execution_count": 30,
   "metadata": {},
   "outputs": [],
   "source": [
    "import numpy as np\n",
    "\n",
    "import matplotlib as mpl\n",
    "import matplotlib.pyplot as plt\n",
    "import seaborn as sns\n",
    "%matplotlib inline\n",
    "plt.style.use('ggplot')\n",
    "mpl.rcParams['axes.unicode_minus'] = False\n",
    "from sklearn.metrics import make_scorer\n"
   ]
  },
  {
   "cell_type": "code",
   "execution_count": 31,
   "metadata": {},
   "outputs": [],
   "source": [
    "\n",
    "def rmsle(predicted_values, actual_values, convertExp=True):\n",
    "\n",
    "    if convertExp:\n",
    "        predicted_values = np.exp(predicted_values),\n",
    "        actual_values = np.exp(actual_values)\n",
    "        \n",
    "    # 넘파이로 배열 형태로 바꿔준다.\n",
    "    predicted_values = np.array(predicted_values)\n",
    "    actual_values = np.array(actual_values)\n",
    "    \n",
    "    # 예측값과 실제 값에 1을 더하고 로그를 씌워준다.\n",
    "    # 값이 0일 수도 있어서 로그를 취했을 때 마이너스 무한대가 될 수도 있기 때문에 1을 더해 줌\n",
    "    # 로그를 씌워주는 것은 정규분포로 만들어주기 위해\n",
    "    log_predict = np.log(predicted_values + 1)\n",
    "    log_actual = np.log(actual_values + 1)\n",
    "    \n",
    "    # 위에서 계산한 예측값에서 실제값을 빼주고 제곱을 해준다.\n",
    "    difference = log_predict - log_actual\n",
    "    difference = np.square(difference)\n",
    "    \n",
    "    # 평균을 낸다.\n",
    "    mean_difference = difference.mean()\n",
    "    \n",
    "    # 다시 루트를 씌운다.\n",
    "    score = np.sqrt(mean_difference)\n",
    "    \n",
    "    return score"
   ]
  },
  {
   "cell_type": "code",
   "execution_count": 32,
   "metadata": {},
   "outputs": [
    {
     "output_type": "error",
     "ename": "TypeError",
     "evalue": "loop of ufunc does not support argument 0 of type str which has no callable log1p method",
     "traceback": [
      "\u001b[1;31m---------------------------------------------------------------------------\u001b[0m",
      "\u001b[1;31mAttributeError\u001b[0m                            Traceback (most recent call last)",
      "\u001b[1;31mAttributeError\u001b[0m: 'str' object has no attribute 'log1p'",
      "\nThe above exception was the direct cause of the following exception:\n",
      "\u001b[1;31mTypeError\u001b[0m                                 Traceback (most recent call last)",
      "\u001b[1;32m<ipython-input-32-4814f9624617>\u001b[0m in \u001b[0;36m<module>\u001b[1;34m\u001b[0m\n\u001b[0;32m     10\u001b[0m \u001b[1;33m\u001b[0m\u001b[0m\n\u001b[0;32m     11\u001b[0m \u001b[1;31m# 모델을 학습시킨다.\u001b[0m\u001b[1;33m\u001b[0m\u001b[1;33m\u001b[0m\u001b[1;33m\u001b[0m\u001b[0m\n\u001b[1;32m---> 12\u001b[1;33m \u001b[0my_train_log\u001b[0m \u001b[1;33m=\u001b[0m \u001b[0mnp\u001b[0m\u001b[1;33m.\u001b[0m\u001b[0mlog1p\u001b[0m\u001b[1;33m(\u001b[0m\u001b[0mdf\u001b[0m\u001b[1;33m)\u001b[0m\u001b[1;33m\u001b[0m\u001b[1;33m\u001b[0m\u001b[0m\n\u001b[0m\u001b[0;32m     13\u001b[0m \u001b[0mlModel\u001b[0m\u001b[1;33m.\u001b[0m\u001b[0mfit\u001b[0m\u001b[1;33m(\u001b[0m\u001b[0mX_train\u001b[0m\u001b[1;33m,\u001b[0m \u001b[0my_train_log\u001b[0m\u001b[1;33m)\u001b[0m\u001b[1;33m\u001b[0m\u001b[1;33m\u001b[0m\u001b[0m\n\u001b[0;32m     14\u001b[0m \u001b[1;33m\u001b[0m\u001b[0m\n",
      "\u001b[1;32mC:\\Python39\\lib\\site-packages\\pandas\\core\\generic.py\u001b[0m in \u001b[0;36m__array_ufunc__\u001b[1;34m(self, ufunc, method, *inputs, **kwargs)\u001b[0m\n\u001b[0;32m   1934\u001b[0m         \u001b[0mself\u001b[0m\u001b[1;33m,\u001b[0m \u001b[0mufunc\u001b[0m\u001b[1;33m:\u001b[0m \u001b[0mCallable\u001b[0m\u001b[1;33m,\u001b[0m \u001b[0mmethod\u001b[0m\u001b[1;33m:\u001b[0m \u001b[0mstr\u001b[0m\u001b[1;33m,\u001b[0m \u001b[1;33m*\u001b[0m\u001b[0minputs\u001b[0m\u001b[1;33m:\u001b[0m \u001b[0mAny\u001b[0m\u001b[1;33m,\u001b[0m \u001b[1;33m**\u001b[0m\u001b[0mkwargs\u001b[0m\u001b[1;33m:\u001b[0m \u001b[0mAny\u001b[0m\u001b[1;33m\u001b[0m\u001b[1;33m\u001b[0m\u001b[0m\n\u001b[0;32m   1935\u001b[0m     ):\n\u001b[1;32m-> 1936\u001b[1;33m         \u001b[1;32mreturn\u001b[0m \u001b[0marraylike\u001b[0m\u001b[1;33m.\u001b[0m\u001b[0marray_ufunc\u001b[0m\u001b[1;33m(\u001b[0m\u001b[0mself\u001b[0m\u001b[1;33m,\u001b[0m \u001b[0mufunc\u001b[0m\u001b[1;33m,\u001b[0m \u001b[0mmethod\u001b[0m\u001b[1;33m,\u001b[0m \u001b[1;33m*\u001b[0m\u001b[0minputs\u001b[0m\u001b[1;33m,\u001b[0m \u001b[1;33m**\u001b[0m\u001b[0mkwargs\u001b[0m\u001b[1;33m)\u001b[0m\u001b[1;33m\u001b[0m\u001b[1;33m\u001b[0m\u001b[0m\n\u001b[0m\u001b[0;32m   1937\u001b[0m \u001b[1;33m\u001b[0m\u001b[0m\n\u001b[0;32m   1938\u001b[0m     \u001b[1;31m# ideally we would define this to avoid the getattr checks, but\u001b[0m\u001b[1;33m\u001b[0m\u001b[1;33m\u001b[0m\u001b[1;33m\u001b[0m\u001b[0m\n",
      "\u001b[1;32mC:\\Python39\\lib\\site-packages\\pandas\\core\\arraylike.py\u001b[0m in \u001b[0;36marray_ufunc\u001b[1;34m(self, ufunc, method, *inputs, **kwargs)\u001b[0m\n\u001b[0;32m    362\u001b[0m             \u001b[1;31m# for np.<ufunc>(..) calls\u001b[0m\u001b[1;33m\u001b[0m\u001b[1;33m\u001b[0m\u001b[1;33m\u001b[0m\u001b[0m\n\u001b[0;32m    363\u001b[0m             \u001b[0mmgr\u001b[0m \u001b[1;33m=\u001b[0m \u001b[0minputs\u001b[0m\u001b[1;33m[\u001b[0m\u001b[1;36m0\u001b[0m\u001b[1;33m]\u001b[0m\u001b[1;33m.\u001b[0m\u001b[0m_mgr\u001b[0m\u001b[1;33m\u001b[0m\u001b[1;33m\u001b[0m\u001b[0m\n\u001b[1;32m--> 364\u001b[1;33m             \u001b[0mresult\u001b[0m \u001b[1;33m=\u001b[0m \u001b[0mmgr\u001b[0m\u001b[1;33m.\u001b[0m\u001b[0mapply\u001b[0m\u001b[1;33m(\u001b[0m\u001b[0mgetattr\u001b[0m\u001b[1;33m(\u001b[0m\u001b[0mufunc\u001b[0m\u001b[1;33m,\u001b[0m \u001b[0mmethod\u001b[0m\u001b[1;33m)\u001b[0m\u001b[1;33m)\u001b[0m\u001b[1;33m\u001b[0m\u001b[1;33m\u001b[0m\u001b[0m\n\u001b[0m\u001b[0;32m    365\u001b[0m         \u001b[1;32melse\u001b[0m\u001b[1;33m:\u001b[0m\u001b[1;33m\u001b[0m\u001b[1;33m\u001b[0m\u001b[0m\n\u001b[0;32m    366\u001b[0m             \u001b[1;31m# otherwise specific ufunc methods (eg np.<ufunc>.accumulate(..))\u001b[0m\u001b[1;33m\u001b[0m\u001b[1;33m\u001b[0m\u001b[1;33m\u001b[0m\u001b[0m\n",
      "\u001b[1;32mC:\\Python39\\lib\\site-packages\\pandas\\core\\internals\\managers.py\u001b[0m in \u001b[0;36mapply\u001b[1;34m(self, f, align_keys, ignore_failures, **kwargs)\u001b[0m\n\u001b[0;32m    423\u001b[0m             \u001b[1;32mtry\u001b[0m\u001b[1;33m:\u001b[0m\u001b[1;33m\u001b[0m\u001b[1;33m\u001b[0m\u001b[0m\n\u001b[0;32m    424\u001b[0m                 \u001b[1;32mif\u001b[0m \u001b[0mcallable\u001b[0m\u001b[1;33m(\u001b[0m\u001b[0mf\u001b[0m\u001b[1;33m)\u001b[0m\u001b[1;33m:\u001b[0m\u001b[1;33m\u001b[0m\u001b[1;33m\u001b[0m\u001b[0m\n\u001b[1;32m--> 425\u001b[1;33m                     \u001b[0mapplied\u001b[0m \u001b[1;33m=\u001b[0m \u001b[0mb\u001b[0m\u001b[1;33m.\u001b[0m\u001b[0mapply\u001b[0m\u001b[1;33m(\u001b[0m\u001b[0mf\u001b[0m\u001b[1;33m,\u001b[0m \u001b[1;33m**\u001b[0m\u001b[0mkwargs\u001b[0m\u001b[1;33m)\u001b[0m\u001b[1;33m\u001b[0m\u001b[1;33m\u001b[0m\u001b[0m\n\u001b[0m\u001b[0;32m    426\u001b[0m                 \u001b[1;32melse\u001b[0m\u001b[1;33m:\u001b[0m\u001b[1;33m\u001b[0m\u001b[1;33m\u001b[0m\u001b[0m\n\u001b[0;32m    427\u001b[0m                     \u001b[0mapplied\u001b[0m \u001b[1;33m=\u001b[0m \u001b[0mgetattr\u001b[0m\u001b[1;33m(\u001b[0m\u001b[0mb\u001b[0m\u001b[1;33m,\u001b[0m \u001b[0mf\u001b[0m\u001b[1;33m)\u001b[0m\u001b[1;33m(\u001b[0m\u001b[1;33m**\u001b[0m\u001b[0mkwargs\u001b[0m\u001b[1;33m)\u001b[0m\u001b[1;33m\u001b[0m\u001b[1;33m\u001b[0m\u001b[0m\n",
      "\u001b[1;32mC:\\Python39\\lib\\site-packages\\pandas\\core\\internals\\blocks.py\u001b[0m in \u001b[0;36mapply\u001b[1;34m(self, func, **kwargs)\u001b[0m\n\u001b[0;32m    376\u001b[0m         \"\"\"\n\u001b[0;32m    377\u001b[0m         \u001b[1;32mwith\u001b[0m \u001b[0mnp\u001b[0m\u001b[1;33m.\u001b[0m\u001b[0merrstate\u001b[0m\u001b[1;33m(\u001b[0m\u001b[0mall\u001b[0m\u001b[1;33m=\u001b[0m\u001b[1;34m\"ignore\"\u001b[0m\u001b[1;33m)\u001b[0m\u001b[1;33m:\u001b[0m\u001b[1;33m\u001b[0m\u001b[1;33m\u001b[0m\u001b[0m\n\u001b[1;32m--> 378\u001b[1;33m             \u001b[0mresult\u001b[0m \u001b[1;33m=\u001b[0m \u001b[0mfunc\u001b[0m\u001b[1;33m(\u001b[0m\u001b[0mself\u001b[0m\u001b[1;33m.\u001b[0m\u001b[0mvalues\u001b[0m\u001b[1;33m,\u001b[0m \u001b[1;33m**\u001b[0m\u001b[0mkwargs\u001b[0m\u001b[1;33m)\u001b[0m\u001b[1;33m\u001b[0m\u001b[1;33m\u001b[0m\u001b[0m\n\u001b[0m\u001b[0;32m    379\u001b[0m \u001b[1;33m\u001b[0m\u001b[0m\n\u001b[0;32m    380\u001b[0m         \u001b[1;32mreturn\u001b[0m \u001b[0mself\u001b[0m\u001b[1;33m.\u001b[0m\u001b[0m_split_op_result\u001b[0m\u001b[1;33m(\u001b[0m\u001b[0mresult\u001b[0m\u001b[1;33m)\u001b[0m\u001b[1;33m\u001b[0m\u001b[1;33m\u001b[0m\u001b[0m\n",
      "\u001b[1;31mTypeError\u001b[0m: loop of ufunc does not support argument 0 of type str which has no callable log1p method"
     ]
    }
   ],
   "source": [
    "from sklearn.linear_model import LinearRegression, Ridge, Lasso\n",
    "from sklearn.model_selection import GridSearchCV\n",
    "from sklearn import metrics\n",
    "import warnings\n",
    "pd.options.mode.chained_assignment = None\n",
    "warnings.filterwarnings(\"ignore\", category=DeprecationWarning)\n",
    "\n",
    "# 선형회귀 모델을 초기화\n",
    "lModel = LinearRegression()\n",
    "\n",
    "# 모델을 학습시킨다.\n",
    "y_train_log = np.log1p(df)\n",
    "lModel.fit(X_train, y_train_log)\n",
    "\n",
    "# 예측하고 정확도를 평가한다.\n",
    "preds = lModel.predict(X_train)\n",
    "print (\"RMSLE Value For Linear Regression: \",\n",
    "       rmsle(np.exp(y_train_log),np.exp(preds), False))"
   ]
  }
 ]
}
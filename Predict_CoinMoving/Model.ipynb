{
 "metadata": {
  "language_info": {
   "codemirror_mode": {
    "name": "ipython",
    "version": 3
   },
   "file_extension": ".py",
   "mimetype": "text/x-python",
   "name": "python",
   "nbconvert_exporter": "python",
   "pygments_lexer": "ipython3",
   "version": "3.9.2"
  },
  "orig_nbformat": 2,
  "kernelspec": {
   "name": "python392jvsc74a57bd063fd5069d213b44bf678585dea6b12cceca9941eaf7f819626cde1f2670de90d",
   "display_name": "Python 3.9.2 64-bit"
  },
  "metadata": {
   "interpreter": {
    "hash": "63fd5069d213b44bf678585dea6b12cceca9941eaf7f819626cde1f2670de90d"
   }
  }
 },
 "nbformat": 4,
 "nbformat_minor": 2,
 "cells": [
  {
   "cell_type": "code",
   "execution_count": 1,
   "metadata": {},
   "outputs": [],
   "source": [
    "import json\n",
    "import requests\n",
    "import urllib.request\n",
    "import time\n",
    "import pandas as pd\n",
    "import warnings\n",
    "warnings.filterwarnings('ignore')\n",
    "\n",
    "df = pd.DataFrame()\n",
    "index = 0\n",
    "last_date = ''\n",
    "\n",
    "# 수정 변수들\n",
    "coinName = \"XRP\"\n",
    "to_date = '2021-05-01'\n",
    "num = 30\n",
    "scale = '1'\n",
    "if num == 0:\n",
    "    type = 'days'\n",
    "else:\n",
    "    type = 'minutes/{}'.format(num)\n",
    "\n",
    "\n",
    "def get_coin_data_url(coinName, type, scale, cnt=400) :\n",
    "    addr = 'https://crix-api-endpoint.upbit.com/v1/crix/candles/'\n",
    "    if type == 'minutes' :\n",
    "        basic_url = addr + type + '/' + scale + '?code=CRIX.UPBIT.KRW-' + coinName +'&count='+str(cnt)\n",
    "    else :\n",
    "        basic_url = addr + type + '/' + '?code=CRIX.UPBIT.KRW-' + coinName +'&count='+str(cnt)\n",
    "\n",
    "    return basic_url\n",
    "\n",
    "basic_url = get_coin_data_url(coinName,type,scale)\n",
    "url = basic_url\n",
    "\n",
    "def get_upbit_data(url, last_date, to_date) :\n",
    "    global df\n",
    "    global index\n",
    "\n",
    "    fail2GetData = False\n",
    "    response = ''\n",
    "    while True:\n",
    "        try :\n",
    "            response = requests.get(url)\n",
    "        except Exception as e:\n",
    "            time.sleep(20)\n",
    "            continue\n",
    "        if str(response) == '<Response [200]>':\n",
    "            break\n",
    "        time.sleep(10)\n",
    "    if ( fail2GetData )  :\n",
    "        exit()\n",
    "\n",
    "    data = response.json()\n",
    "\n",
    "    if index == 0:\n",
    "        df = pd.DataFrame(data)\n",
    "        date = ''\n",
    "        date = data[len(data)-1]['candleDateTime']\n",
    "        index +=1\n",
    "\n",
    "    else:\n",
    "        df_for = pd.DataFrame(data)\n",
    "        df = df.append(df_for,ignore_index=True)\n",
    "        date = ''\n",
    "        date = data[len(data)-1]['candleDateTime']\n",
    "\n",
    "\n",
    "    return date\n",
    "\n",
    "\n"
   ]
  },
  {
   "cell_type": "code",
   "execution_count": 2,
   "metadata": {},
   "outputs": [
    {
     "output_type": "execute_result",
     "data": {
      "text/plain": [
       "                   code             candleDateTime          candleDateTimeKst  \\\n",
       "0    CRIX.UPBIT.KRW-XRP  2021-05-13T07:00:00+00:00  2021-05-13T16:00:00+09:00   \n",
       "1    CRIX.UPBIT.KRW-XRP  2021-05-13T06:30:00+00:00  2021-05-13T15:30:00+09:00   \n",
       "2    CRIX.UPBIT.KRW-XRP  2021-05-13T06:00:00+00:00  2021-05-13T15:00:00+09:00   \n",
       "3    CRIX.UPBIT.KRW-XRP  2021-05-13T05:30:00+00:00  2021-05-13T14:30:00+09:00   \n",
       "4    CRIX.UPBIT.KRW-XRP  2021-05-13T05:00:00+00:00  2021-05-13T14:00:00+09:00   \n",
       "..                  ...                        ...                        ...   \n",
       "604  CRIX.UPBIT.KRW-XRP  2021-04-30T17:00:00+00:00  2021-05-01T02:00:00+09:00   \n",
       "605  CRIX.UPBIT.KRW-XRP  2021-04-30T16:30:00+00:00  2021-05-01T01:30:00+09:00   \n",
       "606  CRIX.UPBIT.KRW-XRP  2021-04-30T16:00:00+00:00  2021-05-01T01:00:00+09:00   \n",
       "607  CRIX.UPBIT.KRW-XRP  2021-04-30T15:30:00+00:00  2021-05-01T00:30:00+09:00   \n",
       "608  CRIX.UPBIT.KRW-XRP  2021-04-30T15:00:00+00:00  2021-05-01T00:00:00+09:00   \n",
       "\n",
       "     openingPrice  highPrice  lowPrice  tradePrice  candleAccTradeVolume  \\\n",
       "0          1715.0     1725.0    1705.0      1715.0          9.479592e+06   \n",
       "1          1705.0     1715.0    1690.0      1715.0          1.074755e+07   \n",
       "2          1720.0     1720.0    1700.0      1705.0          1.027039e+07   \n",
       "3          1710.0     1720.0    1695.0      1720.0          1.464163e+07   \n",
       "4          1690.0     1715.0    1685.0      1705.0          1.550158e+07   \n",
       "..            ...        ...       ...         ...                   ...   \n",
       "604        1865.0     1880.0    1840.0      1850.0          1.152331e+07   \n",
       "605        1865.0     1895.0    1860.0      1865.0          1.559364e+07   \n",
       "606        1860.0     1900.0    1855.0      1870.0          3.212745e+07   \n",
       "607        1855.0     1865.0    1840.0      1855.0          2.543442e+07   \n",
       "608        1845.0     1875.0    1840.0      1855.0          5.236828e+07   \n",
       "\n",
       "     candleAccTradePrice      timestamp  unit  \n",
       "0           1.626809e+10  1620890666675    30  \n",
       "1           1.830670e+10  1620889200251    30  \n",
       "2           1.756576e+10  1620887399856    30  \n",
       "3           2.501423e+10  1620885599919    30  \n",
       "4           2.636217e+10  1620883800231    30  \n",
       "..                   ...            ...   ...  \n",
       "604         2.141242e+10  1619803800455    30  \n",
       "605         2.931570e+10  1619802000624    30  \n",
       "606         6.050358e+10  1619800200875    30  \n",
       "607         4.711179e+10  1619798400428    30  \n",
       "608         9.728210e+10  1619796600226    30  \n",
       "\n",
       "[609 rows x 11 columns]"
      ],
      "text/html": "<div>\n<style scoped>\n    .dataframe tbody tr th:only-of-type {\n        vertical-align: middle;\n    }\n\n    .dataframe tbody tr th {\n        vertical-align: top;\n    }\n\n    .dataframe thead th {\n        text-align: right;\n    }\n</style>\n<table border=\"1\" class=\"dataframe\">\n  <thead>\n    <tr style=\"text-align: right;\">\n      <th></th>\n      <th>code</th>\n      <th>candleDateTime</th>\n      <th>candleDateTimeKst</th>\n      <th>openingPrice</th>\n      <th>highPrice</th>\n      <th>lowPrice</th>\n      <th>tradePrice</th>\n      <th>candleAccTradeVolume</th>\n      <th>candleAccTradePrice</th>\n      <th>timestamp</th>\n      <th>unit</th>\n    </tr>\n  </thead>\n  <tbody>\n    <tr>\n      <th>0</th>\n      <td>CRIX.UPBIT.KRW-XRP</td>\n      <td>2021-05-13T07:00:00+00:00</td>\n      <td>2021-05-13T16:00:00+09:00</td>\n      <td>1715.0</td>\n      <td>1725.0</td>\n      <td>1705.0</td>\n      <td>1715.0</td>\n      <td>9.479592e+06</td>\n      <td>1.626809e+10</td>\n      <td>1620890666675</td>\n      <td>30</td>\n    </tr>\n    <tr>\n      <th>1</th>\n      <td>CRIX.UPBIT.KRW-XRP</td>\n      <td>2021-05-13T06:30:00+00:00</td>\n      <td>2021-05-13T15:30:00+09:00</td>\n      <td>1705.0</td>\n      <td>1715.0</td>\n      <td>1690.0</td>\n      <td>1715.0</td>\n      <td>1.074755e+07</td>\n      <td>1.830670e+10</td>\n      <td>1620889200251</td>\n      <td>30</td>\n    </tr>\n    <tr>\n      <th>2</th>\n      <td>CRIX.UPBIT.KRW-XRP</td>\n      <td>2021-05-13T06:00:00+00:00</td>\n      <td>2021-05-13T15:00:00+09:00</td>\n      <td>1720.0</td>\n      <td>1720.0</td>\n      <td>1700.0</td>\n      <td>1705.0</td>\n      <td>1.027039e+07</td>\n      <td>1.756576e+10</td>\n      <td>1620887399856</td>\n      <td>30</td>\n    </tr>\n    <tr>\n      <th>3</th>\n      <td>CRIX.UPBIT.KRW-XRP</td>\n      <td>2021-05-13T05:30:00+00:00</td>\n      <td>2021-05-13T14:30:00+09:00</td>\n      <td>1710.0</td>\n      <td>1720.0</td>\n      <td>1695.0</td>\n      <td>1720.0</td>\n      <td>1.464163e+07</td>\n      <td>2.501423e+10</td>\n      <td>1620885599919</td>\n      <td>30</td>\n    </tr>\n    <tr>\n      <th>4</th>\n      <td>CRIX.UPBIT.KRW-XRP</td>\n      <td>2021-05-13T05:00:00+00:00</td>\n      <td>2021-05-13T14:00:00+09:00</td>\n      <td>1690.0</td>\n      <td>1715.0</td>\n      <td>1685.0</td>\n      <td>1705.0</td>\n      <td>1.550158e+07</td>\n      <td>2.636217e+10</td>\n      <td>1620883800231</td>\n      <td>30</td>\n    </tr>\n    <tr>\n      <th>...</th>\n      <td>...</td>\n      <td>...</td>\n      <td>...</td>\n      <td>...</td>\n      <td>...</td>\n      <td>...</td>\n      <td>...</td>\n      <td>...</td>\n      <td>...</td>\n      <td>...</td>\n      <td>...</td>\n    </tr>\n    <tr>\n      <th>604</th>\n      <td>CRIX.UPBIT.KRW-XRP</td>\n      <td>2021-04-30T17:00:00+00:00</td>\n      <td>2021-05-01T02:00:00+09:00</td>\n      <td>1865.0</td>\n      <td>1880.0</td>\n      <td>1840.0</td>\n      <td>1850.0</td>\n      <td>1.152331e+07</td>\n      <td>2.141242e+10</td>\n      <td>1619803800455</td>\n      <td>30</td>\n    </tr>\n    <tr>\n      <th>605</th>\n      <td>CRIX.UPBIT.KRW-XRP</td>\n      <td>2021-04-30T16:30:00+00:00</td>\n      <td>2021-05-01T01:30:00+09:00</td>\n      <td>1865.0</td>\n      <td>1895.0</td>\n      <td>1860.0</td>\n      <td>1865.0</td>\n      <td>1.559364e+07</td>\n      <td>2.931570e+10</td>\n      <td>1619802000624</td>\n      <td>30</td>\n    </tr>\n    <tr>\n      <th>606</th>\n      <td>CRIX.UPBIT.KRW-XRP</td>\n      <td>2021-04-30T16:00:00+00:00</td>\n      <td>2021-05-01T01:00:00+09:00</td>\n      <td>1860.0</td>\n      <td>1900.0</td>\n      <td>1855.0</td>\n      <td>1870.0</td>\n      <td>3.212745e+07</td>\n      <td>6.050358e+10</td>\n      <td>1619800200875</td>\n      <td>30</td>\n    </tr>\n    <tr>\n      <th>607</th>\n      <td>CRIX.UPBIT.KRW-XRP</td>\n      <td>2021-04-30T15:30:00+00:00</td>\n      <td>2021-05-01T00:30:00+09:00</td>\n      <td>1855.0</td>\n      <td>1865.0</td>\n      <td>1840.0</td>\n      <td>1855.0</td>\n      <td>2.543442e+07</td>\n      <td>4.711179e+10</td>\n      <td>1619798400428</td>\n      <td>30</td>\n    </tr>\n    <tr>\n      <th>608</th>\n      <td>CRIX.UPBIT.KRW-XRP</td>\n      <td>2021-04-30T15:00:00+00:00</td>\n      <td>2021-05-01T00:00:00+09:00</td>\n      <td>1845.0</td>\n      <td>1875.0</td>\n      <td>1840.0</td>\n      <td>1855.0</td>\n      <td>5.236828e+07</td>\n      <td>9.728210e+10</td>\n      <td>1619796600226</td>\n      <td>30</td>\n    </tr>\n  </tbody>\n</table>\n<p>609 rows × 11 columns</p>\n</div>"
     },
     "metadata": {},
     "execution_count": 2
    }
   ],
   "source": [
    "\n",
    "while (1) :\n",
    "    last_date = get_upbit_data(url, last_date, to_date)\n",
    "    tmp1 = last_date.split('T')\n",
    "    if tmp1[0]  < to_date :\n",
    "        break\n",
    "    tmp2 = tmp1[1].split('+')\n",
    "    target_date = tmp1[0] + ' ' + tmp2[0]\n",
    "    url = basic_url + '&to=' + target_date    #to=2019-11-27 04:01:00\n",
    "    time.sleep(2)\n",
    "\n",
    "idx_todate = df.index[(df.candleDateTimeKst == '{}T00:00:00+09:00'.format(to_date))].tolist()[0]+1\n",
    "idx_todate\n",
    "\n",
    "df = df.drop(df.index[idx_todate:])\n",
    "df"
   ]
  },
  {
   "cell_type": "code",
   "execution_count": 3,
   "metadata": {},
   "outputs": [],
   "source": [
    "df['Date'] = 0\n",
    "df['hour'] = 0\n",
    "df['minute'] = 0"
   ]
  },
  {
   "cell_type": "code",
   "execution_count": 4,
   "metadata": {},
   "outputs": [
    {
     "output_type": "execute_result",
     "data": {
      "text/plain": [
       "'2021-05-13'"
      ]
     },
     "metadata": {},
     "execution_count": 4
    }
   ],
   "source": [
    "df['Date'][0] = df['candleDateTimeKst'][0].split('T')\n",
    "df['Date'][0][0]\n"
   ]
  },
  {
   "cell_type": "code",
   "execution_count": 5,
   "metadata": {
    "tags": []
   },
   "outputs": [],
   "source": [
    "for i in range(len(df)):\n",
    "    df['Date'] [i] = df['candleDateTimeKst'][i].split('T')\n",
    "    df['hour'] [i] = df['Date'][i][1].split('+')[0]\n",
    "    df['minute'] [i] = df['hour'][i].split(':')[1]\n",
    "    df['hour'] [i] = df['hour'][i].split(':')[0]\n",
    "    df['Date'] [i] = df['Date'][i][0]\n"
   ]
  },
  {
   "cell_type": "code",
   "execution_count": 6,
   "metadata": {},
   "outputs": [
    {
     "output_type": "execute_result",
     "data": {
      "text/plain": [
       "                   code             candleDateTime          candleDateTimeKst  \\\n",
       "0    CRIX.UPBIT.KRW-XRP  2021-05-13T07:00:00+00:00  2021-05-13T16:00:00+09:00   \n",
       "1    CRIX.UPBIT.KRW-XRP  2021-05-13T06:30:00+00:00  2021-05-13T15:30:00+09:00   \n",
       "2    CRIX.UPBIT.KRW-XRP  2021-05-13T06:00:00+00:00  2021-05-13T15:00:00+09:00   \n",
       "3    CRIX.UPBIT.KRW-XRP  2021-05-13T05:30:00+00:00  2021-05-13T14:30:00+09:00   \n",
       "4    CRIX.UPBIT.KRW-XRP  2021-05-13T05:00:00+00:00  2021-05-13T14:00:00+09:00   \n",
       "..                  ...                        ...                        ...   \n",
       "604  CRIX.UPBIT.KRW-XRP  2021-04-30T17:00:00+00:00  2021-05-01T02:00:00+09:00   \n",
       "605  CRIX.UPBIT.KRW-XRP  2021-04-30T16:30:00+00:00  2021-05-01T01:30:00+09:00   \n",
       "606  CRIX.UPBIT.KRW-XRP  2021-04-30T16:00:00+00:00  2021-05-01T01:00:00+09:00   \n",
       "607  CRIX.UPBIT.KRW-XRP  2021-04-30T15:30:00+00:00  2021-05-01T00:30:00+09:00   \n",
       "608  CRIX.UPBIT.KRW-XRP  2021-04-30T15:00:00+00:00  2021-05-01T00:00:00+09:00   \n",
       "\n",
       "     openingPrice  highPrice  lowPrice  tradePrice  candleAccTradeVolume  \\\n",
       "0          1715.0     1725.0    1705.0      1715.0          9.479592e+06   \n",
       "1          1705.0     1715.0    1690.0      1715.0          1.074755e+07   \n",
       "2          1720.0     1720.0    1700.0      1705.0          1.027039e+07   \n",
       "3          1710.0     1720.0    1695.0      1720.0          1.464163e+07   \n",
       "4          1690.0     1715.0    1685.0      1705.0          1.550158e+07   \n",
       "..            ...        ...       ...         ...                   ...   \n",
       "604        1865.0     1880.0    1840.0      1850.0          1.152331e+07   \n",
       "605        1865.0     1895.0    1860.0      1865.0          1.559364e+07   \n",
       "606        1860.0     1900.0    1855.0      1870.0          3.212745e+07   \n",
       "607        1855.0     1865.0    1840.0      1855.0          2.543442e+07   \n",
       "608        1845.0     1875.0    1840.0      1855.0          5.236828e+07   \n",
       "\n",
       "     candleAccTradePrice      timestamp  unit        Date hour  minute  \n",
       "0           1.626809e+10  1620890666675    30  2021-05-13   16       0  \n",
       "1           1.830670e+10  1620889200251    30  2021-05-13   15      30  \n",
       "2           1.756576e+10  1620887399856    30  2021-05-13   15       0  \n",
       "3           2.501423e+10  1620885599919    30  2021-05-13   14      30  \n",
       "4           2.636217e+10  1620883800231    30  2021-05-13   14       0  \n",
       "..                   ...            ...   ...         ...  ...     ...  \n",
       "604         2.141242e+10  1619803800455    30  2021-05-01   02       0  \n",
       "605         2.931570e+10  1619802000624    30  2021-05-01   01      30  \n",
       "606         6.050358e+10  1619800200875    30  2021-05-01   01       0  \n",
       "607         4.711179e+10  1619798400428    30  2021-05-01   00      30  \n",
       "608         9.728210e+10  1619796600226    30  2021-05-01   00       0  \n",
       "\n",
       "[609 rows x 14 columns]"
      ],
      "text/html": "<div>\n<style scoped>\n    .dataframe tbody tr th:only-of-type {\n        vertical-align: middle;\n    }\n\n    .dataframe tbody tr th {\n        vertical-align: top;\n    }\n\n    .dataframe thead th {\n        text-align: right;\n    }\n</style>\n<table border=\"1\" class=\"dataframe\">\n  <thead>\n    <tr style=\"text-align: right;\">\n      <th></th>\n      <th>code</th>\n      <th>candleDateTime</th>\n      <th>candleDateTimeKst</th>\n      <th>openingPrice</th>\n      <th>highPrice</th>\n      <th>lowPrice</th>\n      <th>tradePrice</th>\n      <th>candleAccTradeVolume</th>\n      <th>candleAccTradePrice</th>\n      <th>timestamp</th>\n      <th>unit</th>\n      <th>Date</th>\n      <th>hour</th>\n      <th>minute</th>\n    </tr>\n  </thead>\n  <tbody>\n    <tr>\n      <th>0</th>\n      <td>CRIX.UPBIT.KRW-XRP</td>\n      <td>2021-05-13T07:00:00+00:00</td>\n      <td>2021-05-13T16:00:00+09:00</td>\n      <td>1715.0</td>\n      <td>1725.0</td>\n      <td>1705.0</td>\n      <td>1715.0</td>\n      <td>9.479592e+06</td>\n      <td>1.626809e+10</td>\n      <td>1620890666675</td>\n      <td>30</td>\n      <td>2021-05-13</td>\n      <td>16</td>\n      <td>0</td>\n    </tr>\n    <tr>\n      <th>1</th>\n      <td>CRIX.UPBIT.KRW-XRP</td>\n      <td>2021-05-13T06:30:00+00:00</td>\n      <td>2021-05-13T15:30:00+09:00</td>\n      <td>1705.0</td>\n      <td>1715.0</td>\n      <td>1690.0</td>\n      <td>1715.0</td>\n      <td>1.074755e+07</td>\n      <td>1.830670e+10</td>\n      <td>1620889200251</td>\n      <td>30</td>\n      <td>2021-05-13</td>\n      <td>15</td>\n      <td>30</td>\n    </tr>\n    <tr>\n      <th>2</th>\n      <td>CRIX.UPBIT.KRW-XRP</td>\n      <td>2021-05-13T06:00:00+00:00</td>\n      <td>2021-05-13T15:00:00+09:00</td>\n      <td>1720.0</td>\n      <td>1720.0</td>\n      <td>1700.0</td>\n      <td>1705.0</td>\n      <td>1.027039e+07</td>\n      <td>1.756576e+10</td>\n      <td>1620887399856</td>\n      <td>30</td>\n      <td>2021-05-13</td>\n      <td>15</td>\n      <td>0</td>\n    </tr>\n    <tr>\n      <th>3</th>\n      <td>CRIX.UPBIT.KRW-XRP</td>\n      <td>2021-05-13T05:30:00+00:00</td>\n      <td>2021-05-13T14:30:00+09:00</td>\n      <td>1710.0</td>\n      <td>1720.0</td>\n      <td>1695.0</td>\n      <td>1720.0</td>\n      <td>1.464163e+07</td>\n      <td>2.501423e+10</td>\n      <td>1620885599919</td>\n      <td>30</td>\n      <td>2021-05-13</td>\n      <td>14</td>\n      <td>30</td>\n    </tr>\n    <tr>\n      <th>4</th>\n      <td>CRIX.UPBIT.KRW-XRP</td>\n      <td>2021-05-13T05:00:00+00:00</td>\n      <td>2021-05-13T14:00:00+09:00</td>\n      <td>1690.0</td>\n      <td>1715.0</td>\n      <td>1685.0</td>\n      <td>1705.0</td>\n      <td>1.550158e+07</td>\n      <td>2.636217e+10</td>\n      <td>1620883800231</td>\n      <td>30</td>\n      <td>2021-05-13</td>\n      <td>14</td>\n      <td>0</td>\n    </tr>\n    <tr>\n      <th>...</th>\n      <td>...</td>\n      <td>...</td>\n      <td>...</td>\n      <td>...</td>\n      <td>...</td>\n      <td>...</td>\n      <td>...</td>\n      <td>...</td>\n      <td>...</td>\n      <td>...</td>\n      <td>...</td>\n      <td>...</td>\n      <td>...</td>\n      <td>...</td>\n    </tr>\n    <tr>\n      <th>604</th>\n      <td>CRIX.UPBIT.KRW-XRP</td>\n      <td>2021-04-30T17:00:00+00:00</td>\n      <td>2021-05-01T02:00:00+09:00</td>\n      <td>1865.0</td>\n      <td>1880.0</td>\n      <td>1840.0</td>\n      <td>1850.0</td>\n      <td>1.152331e+07</td>\n      <td>2.141242e+10</td>\n      <td>1619803800455</td>\n      <td>30</td>\n      <td>2021-05-01</td>\n      <td>02</td>\n      <td>0</td>\n    </tr>\n    <tr>\n      <th>605</th>\n      <td>CRIX.UPBIT.KRW-XRP</td>\n      <td>2021-04-30T16:30:00+00:00</td>\n      <td>2021-05-01T01:30:00+09:00</td>\n      <td>1865.0</td>\n      <td>1895.0</td>\n      <td>1860.0</td>\n      <td>1865.0</td>\n      <td>1.559364e+07</td>\n      <td>2.931570e+10</td>\n      <td>1619802000624</td>\n      <td>30</td>\n      <td>2021-05-01</td>\n      <td>01</td>\n      <td>30</td>\n    </tr>\n    <tr>\n      <th>606</th>\n      <td>CRIX.UPBIT.KRW-XRP</td>\n      <td>2021-04-30T16:00:00+00:00</td>\n      <td>2021-05-01T01:00:00+09:00</td>\n      <td>1860.0</td>\n      <td>1900.0</td>\n      <td>1855.0</td>\n      <td>1870.0</td>\n      <td>3.212745e+07</td>\n      <td>6.050358e+10</td>\n      <td>1619800200875</td>\n      <td>30</td>\n      <td>2021-05-01</td>\n      <td>01</td>\n      <td>0</td>\n    </tr>\n    <tr>\n      <th>607</th>\n      <td>CRIX.UPBIT.KRW-XRP</td>\n      <td>2021-04-30T15:30:00+00:00</td>\n      <td>2021-05-01T00:30:00+09:00</td>\n      <td>1855.0</td>\n      <td>1865.0</td>\n      <td>1840.0</td>\n      <td>1855.0</td>\n      <td>2.543442e+07</td>\n      <td>4.711179e+10</td>\n      <td>1619798400428</td>\n      <td>30</td>\n      <td>2021-05-01</td>\n      <td>00</td>\n      <td>30</td>\n    </tr>\n    <tr>\n      <th>608</th>\n      <td>CRIX.UPBIT.KRW-XRP</td>\n      <td>2021-04-30T15:00:00+00:00</td>\n      <td>2021-05-01T00:00:00+09:00</td>\n      <td>1845.0</td>\n      <td>1875.0</td>\n      <td>1840.0</td>\n      <td>1855.0</td>\n      <td>5.236828e+07</td>\n      <td>9.728210e+10</td>\n      <td>1619796600226</td>\n      <td>30</td>\n      <td>2021-05-01</td>\n      <td>00</td>\n      <td>0</td>\n    </tr>\n  </tbody>\n</table>\n<p>609 rows × 14 columns</p>\n</div>"
     },
     "metadata": {},
     "execution_count": 6
    }
   ],
   "source": [
    "df"
   ]
  },
  {
   "cell_type": "code",
   "execution_count": 7,
   "metadata": {},
   "outputs": [
    {
     "output_type": "execute_result",
     "data": {
      "text/plain": [
       "         Date hour  minute  openingPrice  highPrice  lowPrice  tradePrice  \\\n",
       "0  2021-05-13   16       0        1715.0     1725.0    1705.0      1715.0   \n",
       "1  2021-05-13   15      30        1705.0     1715.0    1690.0      1715.0   \n",
       "2  2021-05-13   15       0        1720.0     1720.0    1700.0      1705.0   \n",
       "3  2021-05-13   14      30        1710.0     1720.0    1695.0      1720.0   \n",
       "4  2021-05-13   14       0        1690.0     1715.0    1685.0      1705.0   \n",
       "\n",
       "   candleAccTradeVolume  \n",
       "0          9.479592e+06  \n",
       "1          1.074755e+07  \n",
       "2          1.027039e+07  \n",
       "3          1.464163e+07  \n",
       "4          1.550158e+07  "
      ],
      "text/html": "<div>\n<style scoped>\n    .dataframe tbody tr th:only-of-type {\n        vertical-align: middle;\n    }\n\n    .dataframe tbody tr th {\n        vertical-align: top;\n    }\n\n    .dataframe thead th {\n        text-align: right;\n    }\n</style>\n<table border=\"1\" class=\"dataframe\">\n  <thead>\n    <tr style=\"text-align: right;\">\n      <th></th>\n      <th>Date</th>\n      <th>hour</th>\n      <th>minute</th>\n      <th>openingPrice</th>\n      <th>highPrice</th>\n      <th>lowPrice</th>\n      <th>tradePrice</th>\n      <th>candleAccTradeVolume</th>\n    </tr>\n  </thead>\n  <tbody>\n    <tr>\n      <th>0</th>\n      <td>2021-05-13</td>\n      <td>16</td>\n      <td>0</td>\n      <td>1715.0</td>\n      <td>1725.0</td>\n      <td>1705.0</td>\n      <td>1715.0</td>\n      <td>9.479592e+06</td>\n    </tr>\n    <tr>\n      <th>1</th>\n      <td>2021-05-13</td>\n      <td>15</td>\n      <td>30</td>\n      <td>1705.0</td>\n      <td>1715.0</td>\n      <td>1690.0</td>\n      <td>1715.0</td>\n      <td>1.074755e+07</td>\n    </tr>\n    <tr>\n      <th>2</th>\n      <td>2021-05-13</td>\n      <td>15</td>\n      <td>0</td>\n      <td>1720.0</td>\n      <td>1720.0</td>\n      <td>1700.0</td>\n      <td>1705.0</td>\n      <td>1.027039e+07</td>\n    </tr>\n    <tr>\n      <th>3</th>\n      <td>2021-05-13</td>\n      <td>14</td>\n      <td>30</td>\n      <td>1710.0</td>\n      <td>1720.0</td>\n      <td>1695.0</td>\n      <td>1720.0</td>\n      <td>1.464163e+07</td>\n    </tr>\n    <tr>\n      <th>4</th>\n      <td>2021-05-13</td>\n      <td>14</td>\n      <td>0</td>\n      <td>1690.0</td>\n      <td>1715.0</td>\n      <td>1685.0</td>\n      <td>1705.0</td>\n      <td>1.550158e+07</td>\n    </tr>\n  </tbody>\n</table>\n</div>"
     },
     "metadata": {},
     "execution_count": 7
    }
   ],
   "source": [
    "\n",
    "drops= ['unit','candleAccTradePrice','code','candleDateTime','timestamp','candleDateTimeKst']\n",
    "df=df.drop(drops,axis=1)\n",
    "df=df[['Date','hour','minute','openingPrice','highPrice','lowPrice','tradePrice','candleAccTradeVolume']]\n",
    "df.head(5)"
   ]
  },
  {
   "cell_type": "code",
   "execution_count": 8,
   "metadata": {},
   "outputs": [
    {
     "output_type": "execute_result",
     "data": {
      "text/plain": [
       "           Date hour  minute  openingPrice  highPrice  lowPrice  tradePrice  \\\n",
       "0    2021-05-13   16       0        1715.0     1725.0    1705.0      1715.0   \n",
       "1    2021-05-13   15      30        1705.0     1715.0    1690.0      1715.0   \n",
       "2    2021-05-13   15       0        1720.0     1720.0    1700.0      1705.0   \n",
       "3    2021-05-13   14      30        1710.0     1720.0    1695.0      1720.0   \n",
       "4    2021-05-13   14       0        1690.0     1715.0    1685.0      1705.0   \n",
       "..          ...  ...     ...           ...        ...       ...         ...   \n",
       "604  2021-05-01   02       0        1865.0     1880.0    1840.0      1850.0   \n",
       "605  2021-05-01   01      30        1865.0     1895.0    1860.0      1865.0   \n",
       "606  2021-05-01   01       0        1860.0     1900.0    1855.0      1870.0   \n",
       "607  2021-05-01   00      30        1855.0     1865.0    1840.0      1855.0   \n",
       "608  2021-05-01   00       0        1845.0     1875.0    1840.0      1855.0   \n",
       "\n",
       "     candleAccTradeVolume  rsi_ud  \n",
       "0            9.479592e+06       0  \n",
       "1            1.074755e+07       0  \n",
       "2            1.027039e+07       0  \n",
       "3            1.464163e+07       0  \n",
       "4            1.550158e+07       0  \n",
       "..                    ...     ...  \n",
       "604          1.152331e+07       0  \n",
       "605          1.559364e+07       0  \n",
       "606          3.212745e+07       0  \n",
       "607          2.543442e+07       0  \n",
       "608          5.236828e+07       0  \n",
       "\n",
       "[609 rows x 9 columns]"
      ],
      "text/html": "<div>\n<style scoped>\n    .dataframe tbody tr th:only-of-type {\n        vertical-align: middle;\n    }\n\n    .dataframe tbody tr th {\n        vertical-align: top;\n    }\n\n    .dataframe thead th {\n        text-align: right;\n    }\n</style>\n<table border=\"1\" class=\"dataframe\">\n  <thead>\n    <tr style=\"text-align: right;\">\n      <th></th>\n      <th>Date</th>\n      <th>hour</th>\n      <th>minute</th>\n      <th>openingPrice</th>\n      <th>highPrice</th>\n      <th>lowPrice</th>\n      <th>tradePrice</th>\n      <th>candleAccTradeVolume</th>\n      <th>rsi_ud</th>\n    </tr>\n  </thead>\n  <tbody>\n    <tr>\n      <th>0</th>\n      <td>2021-05-13</td>\n      <td>16</td>\n      <td>0</td>\n      <td>1715.0</td>\n      <td>1725.0</td>\n      <td>1705.0</td>\n      <td>1715.0</td>\n      <td>9.479592e+06</td>\n      <td>0</td>\n    </tr>\n    <tr>\n      <th>1</th>\n      <td>2021-05-13</td>\n      <td>15</td>\n      <td>30</td>\n      <td>1705.0</td>\n      <td>1715.0</td>\n      <td>1690.0</td>\n      <td>1715.0</td>\n      <td>1.074755e+07</td>\n      <td>0</td>\n    </tr>\n    <tr>\n      <th>2</th>\n      <td>2021-05-13</td>\n      <td>15</td>\n      <td>0</td>\n      <td>1720.0</td>\n      <td>1720.0</td>\n      <td>1700.0</td>\n      <td>1705.0</td>\n      <td>1.027039e+07</td>\n      <td>0</td>\n    </tr>\n    <tr>\n      <th>3</th>\n      <td>2021-05-13</td>\n      <td>14</td>\n      <td>30</td>\n      <td>1710.0</td>\n      <td>1720.0</td>\n      <td>1695.0</td>\n      <td>1720.0</td>\n      <td>1.464163e+07</td>\n      <td>0</td>\n    </tr>\n    <tr>\n      <th>4</th>\n      <td>2021-05-13</td>\n      <td>14</td>\n      <td>0</td>\n      <td>1690.0</td>\n      <td>1715.0</td>\n      <td>1685.0</td>\n      <td>1705.0</td>\n      <td>1.550158e+07</td>\n      <td>0</td>\n    </tr>\n    <tr>\n      <th>...</th>\n      <td>...</td>\n      <td>...</td>\n      <td>...</td>\n      <td>...</td>\n      <td>...</td>\n      <td>...</td>\n      <td>...</td>\n      <td>...</td>\n      <td>...</td>\n    </tr>\n    <tr>\n      <th>604</th>\n      <td>2021-05-01</td>\n      <td>02</td>\n      <td>0</td>\n      <td>1865.0</td>\n      <td>1880.0</td>\n      <td>1840.0</td>\n      <td>1850.0</td>\n      <td>1.152331e+07</td>\n      <td>0</td>\n    </tr>\n    <tr>\n      <th>605</th>\n      <td>2021-05-01</td>\n      <td>01</td>\n      <td>30</td>\n      <td>1865.0</td>\n      <td>1895.0</td>\n      <td>1860.0</td>\n      <td>1865.0</td>\n      <td>1.559364e+07</td>\n      <td>0</td>\n    </tr>\n    <tr>\n      <th>606</th>\n      <td>2021-05-01</td>\n      <td>01</td>\n      <td>0</td>\n      <td>1860.0</td>\n      <td>1900.0</td>\n      <td>1855.0</td>\n      <td>1870.0</td>\n      <td>3.212745e+07</td>\n      <td>0</td>\n    </tr>\n    <tr>\n      <th>607</th>\n      <td>2021-05-01</td>\n      <td>00</td>\n      <td>30</td>\n      <td>1855.0</td>\n      <td>1865.0</td>\n      <td>1840.0</td>\n      <td>1855.0</td>\n      <td>2.543442e+07</td>\n      <td>0</td>\n    </tr>\n    <tr>\n      <th>608</th>\n      <td>2021-05-01</td>\n      <td>00</td>\n      <td>0</td>\n      <td>1845.0</td>\n      <td>1875.0</td>\n      <td>1840.0</td>\n      <td>1855.0</td>\n      <td>5.236828e+07</td>\n      <td>0</td>\n    </tr>\n  </tbody>\n</table>\n<p>609 rows × 9 columns</p>\n</div>"
     },
     "metadata": {},
     "execution_count": 8
    }
   ],
   "source": [
    "df['rsi_ud'] = 0\n"
   ]
  },
  {
   "cell_type": "code",
   "execution_count": null,
   "metadata": {},
   "outputs": [],
   "source": []
  }
 ]
}
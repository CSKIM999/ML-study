{
 "metadata": {
  "language_info": {
   "codemirror_mode": {
    "name": "ipython",
    "version": 3
   },
   "file_extension": ".py",
   "mimetype": "text/x-python",
   "name": "python",
   "nbconvert_exporter": "python",
   "pygments_lexer": "ipython3",
   "version": "3.9.2"
  },
  "orig_nbformat": 2,
  "kernelspec": {
   "name": "python392jvsc74a57bd063fd5069d213b44bf678585dea6b12cceca9941eaf7f819626cde1f2670de90d",
   "display_name": "Python 3.9.2 64-bit"
  },
  "metadata": {
   "interpreter": {
    "hash": "63fd5069d213b44bf678585dea6b12cceca9941eaf7f819626cde1f2670de90d"
   }
  }
 },
 "nbformat": 4,
 "nbformat_minor": 2,
 "cells": [
  {
   "cell_type": "code",
   "execution_count": 1,
   "metadata": {},
   "outputs": [],
   "source": [
    "import json\n",
    "import requests\n",
    "import urllib.request\n",
    "import pandas as pd\n",
    "\n",
    "def get_coin_data_url(coinName, type, scale, cnt=400) :\n",
    "    addr = 'https://crix-api-endpoint.upbit.com/v1/crix/candles/'\n",
    "    if type == 'minutes' :\n",
    "        basic_url = addr + type + '/' + scale + '?code=CRIX.UPBIT.KRW-' + coinName +'&count='+str(cnt)\n",
    "    else :\n",
    "        basic_url = addr + type + '/' + '?code=CRIX.UPBIT.KRW-' + coinName +'&count='+str(cnt)\n",
    "\n",
    "    return basic_url\n",
    "    "
   ]
  },
  {
   "cell_type": "code",
   "execution_count": 2,
   "metadata": {},
   "outputs": [],
   "source": [
    "addr = 'https://crix-api-endpoint.upbit.com/v1/crix/candles/minutes/30/?code=CRIX.UPBIT.KRW-SSX&count='+str(400)\n",
    "\n",
    "\n",
    "respone = requests.get(addr)\n",
    "\n",
    "data = respone.json()"
   ]
  },
  {
   "cell_type": "code",
   "execution_count": 3,
   "metadata": {
    "tags": []
   },
   "outputs": [],
   "source": [
    "# print(data[1]['candleDateTimeKst'])\n",
    "i=0\n",
    "for i in range(len(data)):\n",
    "    data[i]['Date'] = data[i]['candleDateTimeKst'].split('T')\n",
    "    data[i]['hour'] = data[i]['Date'][1].split('+')[0]\n",
    "    data[i]['minute'] = data[i]['hour'].split(':')[1]\n",
    "    data[i]['hour'] = data[i]['hour'].split(':')[0]\n",
    "    data[i]['Date'] = data[i]['Date'][0]\n"
   ]
  },
  {
   "cell_type": "code",
   "execution_count": 10,
   "metadata": {},
   "outputs": [
    {
     "output_type": "execute_result",
     "data": {
      "text/plain": [
       "         Date hour minute  openingPrice  highPrice  lowPrice  tradePrice  \\\n",
       "0  2021-05-10   17     00         114.0      114.0     113.0       114.0   \n",
       "1  2021-05-10   16     30         114.0      115.0     113.0       114.0   \n",
       "2  2021-05-10   16     00         115.0      115.0     114.0       115.0   \n",
       "3  2021-05-10   15     30         114.0      115.0     114.0       114.0   \n",
       "4  2021-05-10   15     00         114.0      115.0     113.0       114.0   \n",
       "\n",
       "   candleAccTradeVolume  \n",
       "0          6.070415e+05  \n",
       "1          3.240075e+06  \n",
       "2          3.178802e+06  \n",
       "3          1.990523e+06  \n",
       "4          1.847349e+06  "
      ],
      "text/html": "<div>\n<style scoped>\n    .dataframe tbody tr th:only-of-type {\n        vertical-align: middle;\n    }\n\n    .dataframe tbody tr th {\n        vertical-align: top;\n    }\n\n    .dataframe thead th {\n        text-align: right;\n    }\n</style>\n<table border=\"1\" class=\"dataframe\">\n  <thead>\n    <tr style=\"text-align: right;\">\n      <th></th>\n      <th>Date</th>\n      <th>hour</th>\n      <th>minute</th>\n      <th>openingPrice</th>\n      <th>highPrice</th>\n      <th>lowPrice</th>\n      <th>tradePrice</th>\n      <th>candleAccTradeVolume</th>\n    </tr>\n  </thead>\n  <tbody>\n    <tr>\n      <th>0</th>\n      <td>2021-05-10</td>\n      <td>17</td>\n      <td>00</td>\n      <td>114.0</td>\n      <td>114.0</td>\n      <td>113.0</td>\n      <td>114.0</td>\n      <td>6.070415e+05</td>\n    </tr>\n    <tr>\n      <th>1</th>\n      <td>2021-05-10</td>\n      <td>16</td>\n      <td>30</td>\n      <td>114.0</td>\n      <td>115.0</td>\n      <td>113.0</td>\n      <td>114.0</td>\n      <td>3.240075e+06</td>\n    </tr>\n    <tr>\n      <th>2</th>\n      <td>2021-05-10</td>\n      <td>16</td>\n      <td>00</td>\n      <td>115.0</td>\n      <td>115.0</td>\n      <td>114.0</td>\n      <td>115.0</td>\n      <td>3.178802e+06</td>\n    </tr>\n    <tr>\n      <th>3</th>\n      <td>2021-05-10</td>\n      <td>15</td>\n      <td>30</td>\n      <td>114.0</td>\n      <td>115.0</td>\n      <td>114.0</td>\n      <td>114.0</td>\n      <td>1.990523e+06</td>\n    </tr>\n    <tr>\n      <th>4</th>\n      <td>2021-05-10</td>\n      <td>15</td>\n      <td>00</td>\n      <td>114.0</td>\n      <td>115.0</td>\n      <td>113.0</td>\n      <td>114.0</td>\n      <td>1.847349e+06</td>\n    </tr>\n  </tbody>\n</table>\n</div>"
     },
     "metadata": {},
     "execution_count": 10
    }
   ],
   "source": [
    "\n",
    "df = pd.DataFrame(data)\n",
    "drops= ['unit','candleAccTradePrice','code','candleDateTime','timestamp','candleDateTimeKst']\n",
    "df=df.drop(drops,axis=1)\n",
    "df=df[['Date','hour','minute','openingPrice','highPrice','lowPrice','tradePrice','candleAccTradeVolume']]\n",
    "df.head(5)"
   ]
  },
  {
   "cell_type": "code",
   "execution_count": 5,
   "metadata": {},
   "outputs": [
    {
     "output_type": "execute_result",
     "data": {
      "text/plain": [
       "           candleDateTimeKst  openingPrice  highPrice  lowPrice  tradePrice  \\\n",
       "0  2021-05-10T17:00:00+09:00         114.0      114.0     113.0       114.0   \n",
       "1  2021-05-10T16:30:00+09:00         114.0      115.0     113.0       114.0   \n",
       "2  2021-05-10T16:00:00+09:00         115.0      115.0     114.0       115.0   \n",
       "3  2021-05-10T15:30:00+09:00         114.0      115.0     114.0       114.0   \n",
       "4  2021-05-10T15:00:00+09:00         114.0      115.0     113.0       114.0   \n",
       "\n",
       "   candleAccTradeVolume  Date hour minute  \n",
       "0          6.070415e+05     0   17     00  \n",
       "1          3.240075e+06     0   16     30  \n",
       "2          3.178802e+06     0   16     00  \n",
       "3          1.990523e+06     0   15     30  \n",
       "4          1.847349e+06     0   15     00  "
      ],
      "text/html": "<div>\n<style scoped>\n    .dataframe tbody tr th:only-of-type {\n        vertical-align: middle;\n    }\n\n    .dataframe tbody tr th {\n        vertical-align: top;\n    }\n\n    .dataframe thead th {\n        text-align: right;\n    }\n</style>\n<table border=\"1\" class=\"dataframe\">\n  <thead>\n    <tr style=\"text-align: right;\">\n      <th></th>\n      <th>candleDateTimeKst</th>\n      <th>openingPrice</th>\n      <th>highPrice</th>\n      <th>lowPrice</th>\n      <th>tradePrice</th>\n      <th>candleAccTradeVolume</th>\n      <th>Date</th>\n      <th>hour</th>\n      <th>minute</th>\n    </tr>\n  </thead>\n  <tbody>\n    <tr>\n      <th>0</th>\n      <td>2021-05-10T17:00:00+09:00</td>\n      <td>114.0</td>\n      <td>114.0</td>\n      <td>113.0</td>\n      <td>114.0</td>\n      <td>6.070415e+05</td>\n      <td>0</td>\n      <td>17</td>\n      <td>00</td>\n    </tr>\n    <tr>\n      <th>1</th>\n      <td>2021-05-10T16:30:00+09:00</td>\n      <td>114.0</td>\n      <td>115.0</td>\n      <td>113.0</td>\n      <td>114.0</td>\n      <td>3.240075e+06</td>\n      <td>0</td>\n      <td>16</td>\n      <td>30</td>\n    </tr>\n    <tr>\n      <th>2</th>\n      <td>2021-05-10T16:00:00+09:00</td>\n      <td>115.0</td>\n      <td>115.0</td>\n      <td>114.0</td>\n      <td>115.0</td>\n      <td>3.178802e+06</td>\n      <td>0</td>\n      <td>16</td>\n      <td>00</td>\n    </tr>\n    <tr>\n      <th>3</th>\n      <td>2021-05-10T15:30:00+09:00</td>\n      <td>114.0</td>\n      <td>115.0</td>\n      <td>114.0</td>\n      <td>114.0</td>\n      <td>1.990523e+06</td>\n      <td>0</td>\n      <td>15</td>\n      <td>30</td>\n    </tr>\n    <tr>\n      <th>4</th>\n      <td>2021-05-10T15:00:00+09:00</td>\n      <td>114.0</td>\n      <td>115.0</td>\n      <td>113.0</td>\n      <td>114.0</td>\n      <td>1.847349e+06</td>\n      <td>0</td>\n      <td>15</td>\n      <td>00</td>\n    </tr>\n  </tbody>\n</table>\n</div>"
     },
     "metadata": {},
     "execution_count": 5
    }
   ],
   "source": [
    "\n"
   ]
  },
  {
   "cell_type": "code",
   "execution_count": 5,
   "metadata": {},
   "outputs": [
    {
     "output_type": "error",
     "ename": "KeyError",
     "evalue": "0",
     "traceback": [
      "\u001b[1;31m---------------------------------------------------------------------------\u001b[0m",
      "\u001b[1;31mKeyError\u001b[0m                                  Traceback (most recent call last)",
      "\u001b[1;32mC:\\Python39\\lib\\site-packages\\pandas\\core\\indexes\\base.py\u001b[0m in \u001b[0;36mget_loc\u001b[1;34m(self, key, method, tolerance)\u001b[0m\n\u001b[0;32m   3079\u001b[0m             \u001b[1;32mtry\u001b[0m\u001b[1;33m:\u001b[0m\u001b[1;33m\u001b[0m\u001b[1;33m\u001b[0m\u001b[0m\n\u001b[1;32m-> 3080\u001b[1;33m                 \u001b[1;32mreturn\u001b[0m \u001b[0mself\u001b[0m\u001b[1;33m.\u001b[0m\u001b[0m_engine\u001b[0m\u001b[1;33m.\u001b[0m\u001b[0mget_loc\u001b[0m\u001b[1;33m(\u001b[0m\u001b[0mcasted_key\u001b[0m\u001b[1;33m)\u001b[0m\u001b[1;33m\u001b[0m\u001b[1;33m\u001b[0m\u001b[0m\n\u001b[0m\u001b[0;32m   3081\u001b[0m             \u001b[1;32mexcept\u001b[0m \u001b[0mKeyError\u001b[0m \u001b[1;32mas\u001b[0m \u001b[0merr\u001b[0m\u001b[1;33m:\u001b[0m\u001b[1;33m\u001b[0m\u001b[1;33m\u001b[0m\u001b[0m\n",
      "\u001b[1;32mpandas\\_libs\\index.pyx\u001b[0m in \u001b[0;36mpandas._libs.index.IndexEngine.get_loc\u001b[1;34m()\u001b[0m\n",
      "\u001b[1;32mpandas\\_libs\\index.pyx\u001b[0m in \u001b[0;36mpandas._libs.index.IndexEngine.get_loc\u001b[1;34m()\u001b[0m\n",
      "\u001b[1;32mpandas\\_libs\\hashtable_class_helper.pxi\u001b[0m in \u001b[0;36mpandas._libs.hashtable.PyObjectHashTable.get_item\u001b[1;34m()\u001b[0m\n",
      "\u001b[1;32mpandas\\_libs\\hashtable_class_helper.pxi\u001b[0m in \u001b[0;36mpandas._libs.hashtable.PyObjectHashTable.get_item\u001b[1;34m()\u001b[0m\n",
      "\u001b[1;31mKeyError\u001b[0m: 0",
      "\nThe above exception was the direct cause of the following exception:\n",
      "\u001b[1;31mKeyError\u001b[0m                                  Traceback (most recent call last)",
      "\u001b[1;32m<ipython-input-5-33305129a310>\u001b[0m in \u001b[0;36m<module>\u001b[1;34m\u001b[0m\n\u001b[0;32m      1\u001b[0m \u001b[0mi\u001b[0m\u001b[1;33m=\u001b[0m\u001b[1;36m0\u001b[0m\u001b[1;33m\u001b[0m\u001b[1;33m\u001b[0m\u001b[0m\n\u001b[0;32m      2\u001b[0m \u001b[1;32mwhile\u001b[0m \u001b[1;32mTrue\u001b[0m\u001b[1;33m:\u001b[0m\u001b[1;33m\u001b[0m\u001b[1;33m\u001b[0m\u001b[0m\n\u001b[1;32m----> 3\u001b[1;33m     \u001b[0mdf\u001b[0m\u001b[1;33m[\u001b[0m\u001b[0mi\u001b[0m\u001b[1;33m]\u001b[0m\u001b[1;33m[\u001b[0m\u001b[1;34m'Date'\u001b[0m\u001b[1;33m]\u001b[0m \u001b[1;33m=\u001b[0m \u001b[0mdf\u001b[0m\u001b[1;33m[\u001b[0m\u001b[0mi\u001b[0m\u001b[1;33m]\u001b[0m\u001b[1;33m[\u001b[0m\u001b[1;34m'candleDateTimeKst'\u001b[0m\u001b[1;33m]\u001b[0m\u001b[1;33m.\u001b[0m\u001b[0msplit\u001b[0m\u001b[1;33m(\u001b[0m\u001b[1;34m'T'\u001b[0m\u001b[1;33m)\u001b[0m\u001b[1;33m\u001b[0m\u001b[1;33m\u001b[0m\u001b[0m\n\u001b[0m\u001b[0;32m      4\u001b[0m     \u001b[0mi\u001b[0m\u001b[1;33m+=\u001b[0m\u001b[1;36m1\u001b[0m\u001b[1;33m\u001b[0m\u001b[1;33m\u001b[0m\u001b[0m\n\u001b[0;32m      5\u001b[0m     \u001b[1;32mif\u001b[0m \u001b[0mi\u001b[0m \u001b[1;33m==\u001b[0m \u001b[0mlen\u001b[0m\u001b[1;33m(\u001b[0m\u001b[0mdf\u001b[0m\u001b[1;33m)\u001b[0m\u001b[1;33m+\u001b[0m\u001b[1;36m1\u001b[0m\u001b[1;33m:\u001b[0m\u001b[1;33m\u001b[0m\u001b[1;33m\u001b[0m\u001b[0m\n",
      "\u001b[1;32mC:\\Python39\\lib\\site-packages\\pandas\\core\\frame.py\u001b[0m in \u001b[0;36m__getitem__\u001b[1;34m(self, key)\u001b[0m\n\u001b[0;32m   3022\u001b[0m             \u001b[1;32mif\u001b[0m \u001b[0mself\u001b[0m\u001b[1;33m.\u001b[0m\u001b[0mcolumns\u001b[0m\u001b[1;33m.\u001b[0m\u001b[0mnlevels\u001b[0m \u001b[1;33m>\u001b[0m \u001b[1;36m1\u001b[0m\u001b[1;33m:\u001b[0m\u001b[1;33m\u001b[0m\u001b[1;33m\u001b[0m\u001b[0m\n\u001b[0;32m   3023\u001b[0m                 \u001b[1;32mreturn\u001b[0m \u001b[0mself\u001b[0m\u001b[1;33m.\u001b[0m\u001b[0m_getitem_multilevel\u001b[0m\u001b[1;33m(\u001b[0m\u001b[0mkey\u001b[0m\u001b[1;33m)\u001b[0m\u001b[1;33m\u001b[0m\u001b[1;33m\u001b[0m\u001b[0m\n\u001b[1;32m-> 3024\u001b[1;33m             \u001b[0mindexer\u001b[0m \u001b[1;33m=\u001b[0m \u001b[0mself\u001b[0m\u001b[1;33m.\u001b[0m\u001b[0mcolumns\u001b[0m\u001b[1;33m.\u001b[0m\u001b[0mget_loc\u001b[0m\u001b[1;33m(\u001b[0m\u001b[0mkey\u001b[0m\u001b[1;33m)\u001b[0m\u001b[1;33m\u001b[0m\u001b[1;33m\u001b[0m\u001b[0m\n\u001b[0m\u001b[0;32m   3025\u001b[0m             \u001b[1;32mif\u001b[0m \u001b[0mis_integer\u001b[0m\u001b[1;33m(\u001b[0m\u001b[0mindexer\u001b[0m\u001b[1;33m)\u001b[0m\u001b[1;33m:\u001b[0m\u001b[1;33m\u001b[0m\u001b[1;33m\u001b[0m\u001b[0m\n\u001b[0;32m   3026\u001b[0m                 \u001b[0mindexer\u001b[0m \u001b[1;33m=\u001b[0m \u001b[1;33m[\u001b[0m\u001b[0mindexer\u001b[0m\u001b[1;33m]\u001b[0m\u001b[1;33m\u001b[0m\u001b[1;33m\u001b[0m\u001b[0m\n",
      "\u001b[1;32mC:\\Python39\\lib\\site-packages\\pandas\\core\\indexes\\base.py\u001b[0m in \u001b[0;36mget_loc\u001b[1;34m(self, key, method, tolerance)\u001b[0m\n\u001b[0;32m   3080\u001b[0m                 \u001b[1;32mreturn\u001b[0m \u001b[0mself\u001b[0m\u001b[1;33m.\u001b[0m\u001b[0m_engine\u001b[0m\u001b[1;33m.\u001b[0m\u001b[0mget_loc\u001b[0m\u001b[1;33m(\u001b[0m\u001b[0mcasted_key\u001b[0m\u001b[1;33m)\u001b[0m\u001b[1;33m\u001b[0m\u001b[1;33m\u001b[0m\u001b[0m\n\u001b[0;32m   3081\u001b[0m             \u001b[1;32mexcept\u001b[0m \u001b[0mKeyError\u001b[0m \u001b[1;32mas\u001b[0m \u001b[0merr\u001b[0m\u001b[1;33m:\u001b[0m\u001b[1;33m\u001b[0m\u001b[1;33m\u001b[0m\u001b[0m\n\u001b[1;32m-> 3082\u001b[1;33m                 \u001b[1;32mraise\u001b[0m \u001b[0mKeyError\u001b[0m\u001b[1;33m(\u001b[0m\u001b[0mkey\u001b[0m\u001b[1;33m)\u001b[0m \u001b[1;32mfrom\u001b[0m \u001b[0merr\u001b[0m\u001b[1;33m\u001b[0m\u001b[1;33m\u001b[0m\u001b[0m\n\u001b[0m\u001b[0;32m   3083\u001b[0m \u001b[1;33m\u001b[0m\u001b[0m\n\u001b[0;32m   3084\u001b[0m         \u001b[1;32mif\u001b[0m \u001b[0mtolerance\u001b[0m \u001b[1;32mis\u001b[0m \u001b[1;32mnot\u001b[0m \u001b[1;32mNone\u001b[0m\u001b[1;33m:\u001b[0m\u001b[1;33m\u001b[0m\u001b[1;33m\u001b[0m\u001b[0m\n",
      "\u001b[1;31mKeyError\u001b[0m: 0"
     ]
    }
   ],
   "source": []
  },
  {
   "cell_type": "code",
   "execution_count": null,
   "metadata": {},
   "outputs": [],
   "source": []
  }
 ]
}
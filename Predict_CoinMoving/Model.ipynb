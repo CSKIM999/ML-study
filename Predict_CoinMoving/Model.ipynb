{
 "metadata": {
  "language_info": {
   "codemirror_mode": {
    "name": "ipython",
    "version": 3
   },
   "file_extension": ".py",
   "mimetype": "text/x-python",
   "name": "python",
   "nbconvert_exporter": "python",
   "pygments_lexer": "ipython3",
   "version": "3.9.2"
  },
  "orig_nbformat": 2,
  "kernelspec": {
   "name": "python392jvsc74a57bd063fd5069d213b44bf678585dea6b12cceca9941eaf7f819626cde1f2670de90d",
   "display_name": "Python 3.9.2 64-bit"
  },
  "metadata": {
   "interpreter": {
    "hash": "63fd5069d213b44bf678585dea6b12cceca9941eaf7f819626cde1f2670de90d"
   }
  }
 },
 "nbformat": 4,
 "nbformat_minor": 2,
 "cells": [
  {
   "cell_type": "code",
   "execution_count": 1,
   "metadata": {},
   "outputs": [],
   "source": [
    "import json\n",
    "import requests\n",
    "import urllib.request\n",
    "import pandas as pd\n",
    "\n",
    "\n",
    "def get_coin_data_url(coinName, type, scale, cnt=400) :\n",
    "    addr = 'https://crix-api-endpoint.upbit.com/v1/crix/candles/'\n",
    "    if type == 'minutes' :\n",
    "        basic_url = addr + type + '/' + scale + '?code=CRIX.UPBIT.KRW-' + coinName +'&count='+str(cnt)\n",
    "    else :\n",
    "        basic_url = addr + type + '/' + '?code=CRIX.UPBIT.KRW-' + coinName +'&count='+str(cnt)\n",
    "\n",
    "    return basic_url\n",
    "\n",
    "# 수정 변수들\n",
    "coinName = \"XRP\"\n",
    "to_date = '2021-05-09'\n",
    "num = 30\n",
    "scale = '1'\n",
    "if num == 0:\n",
    "    type = 'days'\n",
    "else:\n",
    "    type = 'minutes/{}'.format(num)\n",
    "    "
   ]
  },
  {
   "cell_type": "code",
   "execution_count": 2,
   "metadata": {},
   "outputs": [],
   "source": [
    "# addr = 'https://crix-api-endpoint.upbit.com/v1/crix/candles/minutes/30/?code=CRIX.UPBIT.KRW-SSX&count='+str(400)\n",
    "basic_url = get_coin_data_url(coinName,type,scale)\n",
    "\n",
    "respone = requests.get(basic_url)\n",
    "\n",
    "data = respone.json()"
   ]
  },
  {
   "cell_type": "code",
   "execution_count": null,
   "metadata": {},
   "outputs": [],
   "source": []
  },
  {
   "cell_type": "code",
   "execution_count": 3,
   "metadata": {
    "tags": []
   },
   "outputs": [],
   "source": [
    "# print(data[1]['candleDateTimeKst'])\n",
    "# i=0\n",
    "# for i in range(len(data)):\n",
    "#     data[i]['Date'] = data[i]['candleDateTimeKst'].split('T')\n",
    "#     data[i]['hour'] = data[i]['Date'][1].split('+')[0]\n",
    "#     data[i]['minute'] = data[i]['hour'].split(':')[1]\n",
    "#     data[i]['hour'] = data[i]['hour'].split(':')[0]\n",
    "#     data[i]['Date'] = data[i]['Date'][0]\n"
   ]
  },
  {
   "cell_type": "code",
   "execution_count": 4,
   "metadata": {},
   "outputs": [
    {
     "output_type": "execute_result",
     "data": {
      "text/plain": [
       "         Date hour minute  openingPrice  highPrice  lowPrice  tradePrice  \\\n",
       "0  2021-05-12   14     30        1855.0     1855.0    1845.0      1845.0   \n",
       "1  2021-05-12   14     00        1850.0     1855.0    1845.0      1855.0   \n",
       "2  2021-05-12   13     30        1850.0     1855.0    1840.0      1850.0   \n",
       "3  2021-05-12   13     00        1870.0     1875.0    1850.0      1850.0   \n",
       "4  2021-05-12   12     30        1860.0     1880.0    1855.0      1870.0   \n",
       "\n",
       "   candleAccTradeVolume  \n",
       "0          3.958364e+06  \n",
       "1          6.814902e+06  \n",
       "2          6.307237e+06  \n",
       "3          6.973040e+06  \n",
       "4          1.206908e+07  "
      ],
      "text/html": "<div>\n<style scoped>\n    .dataframe tbody tr th:only-of-type {\n        vertical-align: middle;\n    }\n\n    .dataframe tbody tr th {\n        vertical-align: top;\n    }\n\n    .dataframe thead th {\n        text-align: right;\n    }\n</style>\n<table border=\"1\" class=\"dataframe\">\n  <thead>\n    <tr style=\"text-align: right;\">\n      <th></th>\n      <th>Date</th>\n      <th>hour</th>\n      <th>minute</th>\n      <th>openingPrice</th>\n      <th>highPrice</th>\n      <th>lowPrice</th>\n      <th>tradePrice</th>\n      <th>candleAccTradeVolume</th>\n    </tr>\n  </thead>\n  <tbody>\n    <tr>\n      <th>0</th>\n      <td>2021-05-12</td>\n      <td>14</td>\n      <td>30</td>\n      <td>1855.0</td>\n      <td>1855.0</td>\n      <td>1845.0</td>\n      <td>1845.0</td>\n      <td>3.958364e+06</td>\n    </tr>\n    <tr>\n      <th>1</th>\n      <td>2021-05-12</td>\n      <td>14</td>\n      <td>00</td>\n      <td>1850.0</td>\n      <td>1855.0</td>\n      <td>1845.0</td>\n      <td>1855.0</td>\n      <td>6.814902e+06</td>\n    </tr>\n    <tr>\n      <th>2</th>\n      <td>2021-05-12</td>\n      <td>13</td>\n      <td>30</td>\n      <td>1850.0</td>\n      <td>1855.0</td>\n      <td>1840.0</td>\n      <td>1850.0</td>\n      <td>6.307237e+06</td>\n    </tr>\n    <tr>\n      <th>3</th>\n      <td>2021-05-12</td>\n      <td>13</td>\n      <td>00</td>\n      <td>1870.0</td>\n      <td>1875.0</td>\n      <td>1850.0</td>\n      <td>1850.0</td>\n      <td>6.973040e+06</td>\n    </tr>\n    <tr>\n      <th>4</th>\n      <td>2021-05-12</td>\n      <td>12</td>\n      <td>30</td>\n      <td>1860.0</td>\n      <td>1880.0</td>\n      <td>1855.0</td>\n      <td>1870.0</td>\n      <td>1.206908e+07</td>\n    </tr>\n  </tbody>\n</table>\n</div>"
     },
     "metadata": {},
     "execution_count": 4
    }
   ],
   "source": [
    "\n",
    "# df = pd.DataFrame(data)\n",
    "# drops= ['unit','candleAccTradePrice','code','candleDateTime','timestamp','candleDateTimeKst']\n",
    "# df=df.drop(drops,axis=1)\n",
    "# df=df[['Date','hour','minute','openingPrice','highPrice','lowPrice','tradePrice','candleAccTradeVolume']]\n",
    "# df.head(5)"
   ]
  },
  {
   "cell_type": "code",
   "execution_count": 4,
   "metadata": {},
   "outputs": [],
   "source": [
    "\n"
   ]
  },
  {
   "cell_type": "code",
   "execution_count": null,
   "metadata": {},
   "outputs": [],
   "source": []
  }
 ]
}
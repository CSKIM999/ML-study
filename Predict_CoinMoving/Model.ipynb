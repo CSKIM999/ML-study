{
 "metadata": {
  "language_info": {
   "codemirror_mode": {
    "name": "ipython",
    "version": 3
   },
   "file_extension": ".py",
   "mimetype": "text/x-python",
   "name": "python",
   "nbconvert_exporter": "python",
   "pygments_lexer": "ipython3",
   "version": "3.9.2"
  },
  "orig_nbformat": 2,
  "kernelspec": {
   "name": "python3",
   "display_name": "Python 3.9.2 64-bit"
  },
  "metadata": {
   "interpreter": {
    "hash": "63fd5069d213b44bf678585dea6b12cceca9941eaf7f819626cde1f2670de90d"
   }
  },
  "interpreter": {
   "hash": "63fd5069d213b44bf678585dea6b12cceca9941eaf7f819626cde1f2670de90d"
  }
 },
 "nbformat": 4,
 "nbformat_minor": 2,
 "cells": [
  {
   "cell_type": "code",
   "execution_count": 1,
   "metadata": {},
   "outputs": [],
   "source": [
    "import json\n",
    "import requests\n",
    "import urllib.request\n",
    "import time\n",
    "import pandas as pd\n",
    "import warnings\n",
    "warnings.filterwarnings('ignore')\n",
    "\n",
    "df = pd.DataFrame()\n",
    "index = 0\n",
    "last_date = ''\n",
    "\n",
    "# 수정 변수들\n",
    "coinName = \"QTCON\"\n",
    "to_date = '2021-06-01'\n",
    "num = 30\n",
    "scale = '1'\n",
    "if num == 0:\n",
    "    type = 'days'\n",
    "else:\n",
    "    type = 'minutes/{}'.format(num)\n",
    "\n",
    "\n",
    "def get_coin_data_url(coinName, type, scale, cnt=400) :\n",
    "    addr = 'https://crix-api-endpoint.upbit.com/v1/crix/candles/'\n",
    "    if type == 'minutes' :\n",
    "        basic_url = addr + type + '/' + scale + '?code=CRIX.UPBIT.KRW-' + coinName +'&count='+str(cnt)\n",
    "    else :\n",
    "        basic_url = addr + type + '/' + '?code=CRIX.UPBIT.KRW-' + coinName +'&count='+str(cnt)\n",
    "\n",
    "    return basic_url\n",
    "\n",
    "basic_url = get_coin_data_url(coinName,type,scale)\n",
    "url = basic_url\n",
    "\n",
    "def get_upbit_data(url, last_date, to_date) :\n",
    "    global df\n",
    "    global index\n",
    "\n",
    "    fail2GetData = False\n",
    "    response = ''\n",
    "    while True:\n",
    "        try :\n",
    "            response = requests.get(url)\n",
    "        except Exception as e:\n",
    "            time.sleep(20)\n",
    "            continue\n",
    "        if str(response) == '<Response [200]>':\n",
    "            break\n",
    "        time.sleep(10)\n",
    "    if ( fail2GetData )  :\n",
    "        exit()\n",
    "\n",
    "    data = response.json()\n",
    "\n",
    "    if index == 0:\n",
    "        df = pd.DataFrame(data)\n",
    "        date = ''\n",
    "        date = data[len(data)-1]['candleDateTime']\n",
    "        index +=1\n",
    "\n",
    "    else:\n",
    "        df_for = pd.DataFrame(data)\n",
    "        df = df.append(df_for,ignore_index=True)\n",
    "        date = ''\n",
    "        date = data[len(data)-1]['candleDateTime']\n",
    "\n",
    "\n",
    "    return date\n",
    "\n",
    "\n"
   ]
  },
  {
   "cell_type": "code",
   "execution_count": 2,
   "metadata": {},
   "outputs": [
    {
     "output_type": "execute_result",
     "data": {
      "text/plain": [
       "                     code             candleDateTime  \\\n",
       "0    CRIX.UPBIT.KRW-QTCON  2021-06-12T08:30:00+00:00   \n",
       "1    CRIX.UPBIT.KRW-QTCON  2021-06-12T08:00:00+00:00   \n",
       "2    CRIX.UPBIT.KRW-QTCON  2021-06-12T07:30:00+00:00   \n",
       "3    CRIX.UPBIT.KRW-QTCON  2021-06-12T07:00:00+00:00   \n",
       "4    CRIX.UPBIT.KRW-QTCON  2021-06-12T06:30:00+00:00   \n",
       "..                    ...                        ...   \n",
       "556  CRIX.UPBIT.KRW-QTCON  2021-05-31T17:00:00+00:00   \n",
       "557  CRIX.UPBIT.KRW-QTCON  2021-05-31T16:30:00+00:00   \n",
       "558  CRIX.UPBIT.KRW-QTCON  2021-05-31T16:00:00+00:00   \n",
       "559  CRIX.UPBIT.KRW-QTCON  2021-05-31T15:30:00+00:00   \n",
       "560  CRIX.UPBIT.KRW-QTCON  2021-05-31T15:00:00+00:00   \n",
       "\n",
       "             candleDateTimeKst  openingPrice  highPrice  lowPrice  tradePrice  \\\n",
       "0    2021-06-12T17:30:00+09:00          23.3       23.3      23.2        23.2   \n",
       "1    2021-06-12T17:00:00+09:00          23.6       23.7      23.0        23.2   \n",
       "2    2021-06-12T16:30:00+09:00          24.1       24.2      23.5        23.6   \n",
       "3    2021-06-12T16:00:00+09:00          24.4       24.8      24.1        24.2   \n",
       "4    2021-06-12T15:30:00+09:00          24.2       24.8      23.8        24.3   \n",
       "..                         ...           ...        ...       ...         ...   \n",
       "556  2021-06-01T02:00:00+09:00          52.6       52.7      52.3        52.4   \n",
       "557  2021-06-01T01:30:00+09:00          52.4       52.7      52.3        52.6   \n",
       "558  2021-06-01T01:00:00+09:00          52.4       52.8      52.2        52.4   \n",
       "559  2021-06-01T00:30:00+09:00          52.5       52.7      52.2        52.5   \n",
       "560  2021-06-01T00:00:00+09:00          52.1       52.6      52.1        52.5   \n",
       "\n",
       "     candleAccTradeVolume  candleAccTradePrice      timestamp  unit  \n",
       "0            5.035514e+05         1.168697e+07  1623486762789    30  \n",
       "1            1.245662e+07         2.899820e+08  1623486570740    30  \n",
       "2            6.990977e+06         1.668503e+08  1623484796015    30  \n",
       "3            5.337817e+06         1.301828e+08  1623482993449    30  \n",
       "4            1.150076e+07         2.804744e+08  1623481199456    30  \n",
       "..                    ...                  ...            ...   ...  \n",
       "556          7.925233e+05         4.158999e+07  1622482168004    30  \n",
       "557          6.720946e+05         3.527668e+07  1622480397914    30  \n",
       "558          1.788808e+06         9.389585e+07  1622478547916    30  \n",
       "559          4.414198e+05         2.315340e+07  1622476737626    30  \n",
       "560          6.038288e+05         3.162739e+07  1622474932902    30  \n",
       "\n",
       "[561 rows x 11 columns]"
      ],
      "text/html": "<div>\n<style scoped>\n    .dataframe tbody tr th:only-of-type {\n        vertical-align: middle;\n    }\n\n    .dataframe tbody tr th {\n        vertical-align: top;\n    }\n\n    .dataframe thead th {\n        text-align: right;\n    }\n</style>\n<table border=\"1\" class=\"dataframe\">\n  <thead>\n    <tr style=\"text-align: right;\">\n      <th></th>\n      <th>code</th>\n      <th>candleDateTime</th>\n      <th>candleDateTimeKst</th>\n      <th>openingPrice</th>\n      <th>highPrice</th>\n      <th>lowPrice</th>\n      <th>tradePrice</th>\n      <th>candleAccTradeVolume</th>\n      <th>candleAccTradePrice</th>\n      <th>timestamp</th>\n      <th>unit</th>\n    </tr>\n  </thead>\n  <tbody>\n    <tr>\n      <th>0</th>\n      <td>CRIX.UPBIT.KRW-QTCON</td>\n      <td>2021-06-12T08:30:00+00:00</td>\n      <td>2021-06-12T17:30:00+09:00</td>\n      <td>23.3</td>\n      <td>23.3</td>\n      <td>23.2</td>\n      <td>23.2</td>\n      <td>5.035514e+05</td>\n      <td>1.168697e+07</td>\n      <td>1623486762789</td>\n      <td>30</td>\n    </tr>\n    <tr>\n      <th>1</th>\n      <td>CRIX.UPBIT.KRW-QTCON</td>\n      <td>2021-06-12T08:00:00+00:00</td>\n      <td>2021-06-12T17:00:00+09:00</td>\n      <td>23.6</td>\n      <td>23.7</td>\n      <td>23.0</td>\n      <td>23.2</td>\n      <td>1.245662e+07</td>\n      <td>2.899820e+08</td>\n      <td>1623486570740</td>\n      <td>30</td>\n    </tr>\n    <tr>\n      <th>2</th>\n      <td>CRIX.UPBIT.KRW-QTCON</td>\n      <td>2021-06-12T07:30:00+00:00</td>\n      <td>2021-06-12T16:30:00+09:00</td>\n      <td>24.1</td>\n      <td>24.2</td>\n      <td>23.5</td>\n      <td>23.6</td>\n      <td>6.990977e+06</td>\n      <td>1.668503e+08</td>\n      <td>1623484796015</td>\n      <td>30</td>\n    </tr>\n    <tr>\n      <th>3</th>\n      <td>CRIX.UPBIT.KRW-QTCON</td>\n      <td>2021-06-12T07:00:00+00:00</td>\n      <td>2021-06-12T16:00:00+09:00</td>\n      <td>24.4</td>\n      <td>24.8</td>\n      <td>24.1</td>\n      <td>24.2</td>\n      <td>5.337817e+06</td>\n      <td>1.301828e+08</td>\n      <td>1623482993449</td>\n      <td>30</td>\n    </tr>\n    <tr>\n      <th>4</th>\n      <td>CRIX.UPBIT.KRW-QTCON</td>\n      <td>2021-06-12T06:30:00+00:00</td>\n      <td>2021-06-12T15:30:00+09:00</td>\n      <td>24.2</td>\n      <td>24.8</td>\n      <td>23.8</td>\n      <td>24.3</td>\n      <td>1.150076e+07</td>\n      <td>2.804744e+08</td>\n      <td>1623481199456</td>\n      <td>30</td>\n    </tr>\n    <tr>\n      <th>...</th>\n      <td>...</td>\n      <td>...</td>\n      <td>...</td>\n      <td>...</td>\n      <td>...</td>\n      <td>...</td>\n      <td>...</td>\n      <td>...</td>\n      <td>...</td>\n      <td>...</td>\n      <td>...</td>\n    </tr>\n    <tr>\n      <th>556</th>\n      <td>CRIX.UPBIT.KRW-QTCON</td>\n      <td>2021-05-31T17:00:00+00:00</td>\n      <td>2021-06-01T02:00:00+09:00</td>\n      <td>52.6</td>\n      <td>52.7</td>\n      <td>52.3</td>\n      <td>52.4</td>\n      <td>7.925233e+05</td>\n      <td>4.158999e+07</td>\n      <td>1622482168004</td>\n      <td>30</td>\n    </tr>\n    <tr>\n      <th>557</th>\n      <td>CRIX.UPBIT.KRW-QTCON</td>\n      <td>2021-05-31T16:30:00+00:00</td>\n      <td>2021-06-01T01:30:00+09:00</td>\n      <td>52.4</td>\n      <td>52.7</td>\n      <td>52.3</td>\n      <td>52.6</td>\n      <td>6.720946e+05</td>\n      <td>3.527668e+07</td>\n      <td>1622480397914</td>\n      <td>30</td>\n    </tr>\n    <tr>\n      <th>558</th>\n      <td>CRIX.UPBIT.KRW-QTCON</td>\n      <td>2021-05-31T16:00:00+00:00</td>\n      <td>2021-06-01T01:00:00+09:00</td>\n      <td>52.4</td>\n      <td>52.8</td>\n      <td>52.2</td>\n      <td>52.4</td>\n      <td>1.788808e+06</td>\n      <td>9.389585e+07</td>\n      <td>1622478547916</td>\n      <td>30</td>\n    </tr>\n    <tr>\n      <th>559</th>\n      <td>CRIX.UPBIT.KRW-QTCON</td>\n      <td>2021-05-31T15:30:00+00:00</td>\n      <td>2021-06-01T00:30:00+09:00</td>\n      <td>52.5</td>\n      <td>52.7</td>\n      <td>52.2</td>\n      <td>52.5</td>\n      <td>4.414198e+05</td>\n      <td>2.315340e+07</td>\n      <td>1622476737626</td>\n      <td>30</td>\n    </tr>\n    <tr>\n      <th>560</th>\n      <td>CRIX.UPBIT.KRW-QTCON</td>\n      <td>2021-05-31T15:00:00+00:00</td>\n      <td>2021-06-01T00:00:00+09:00</td>\n      <td>52.1</td>\n      <td>52.6</td>\n      <td>52.1</td>\n      <td>52.5</td>\n      <td>6.038288e+05</td>\n      <td>3.162739e+07</td>\n      <td>1622474932902</td>\n      <td>30</td>\n    </tr>\n  </tbody>\n</table>\n<p>561 rows × 11 columns</p>\n</div>"
     },
     "metadata": {},
     "execution_count": 2
    }
   ],
   "source": [
    "\n",
    "while (1) :\n",
    "    last_date = get_upbit_data(url, last_date, to_date)\n",
    "    tmp1 = last_date.split('T')\n",
    "    if tmp1[0]  < to_date :\n",
    "        break\n",
    "    tmp2 = tmp1[1].split('+')\n",
    "    target_date = tmp1[0] + ' ' + tmp2[0]\n",
    "    url = basic_url + '&to=' + target_date    #to=2019-11-27 04:01:00\n",
    "    time.sleep(2)\n",
    "\n",
    "idx_todate = df.index[(df.candleDateTimeKst == '{}T00:00:00+09:00'.format(to_date))].tolist()[0]+1\n",
    "idx_todate\n",
    "\n",
    "df = df.drop(df.index[idx_todate:])\n",
    "df"
   ]
  },
  {
   "cell_type": "code",
   "execution_count": 3,
   "metadata": {},
   "outputs": [],
   "source": [
    "df['Date'] = 0\n",
    "df['hour'] = 0\n",
    "df['minute'] = 0"
   ]
  },
  {
   "cell_type": "code",
   "execution_count": 4,
   "metadata": {},
   "outputs": [
    {
     "output_type": "execute_result",
     "data": {
      "text/plain": [
       "'2021-06-12'"
      ]
     },
     "metadata": {},
     "execution_count": 4
    }
   ],
   "source": [
    "df['Date'][0] = df['candleDateTimeKst'][0].split('T')\n",
    "df['Date'][0][0]\n"
   ]
  },
  {
   "cell_type": "code",
   "execution_count": 5,
   "metadata": {
    "tags": []
   },
   "outputs": [],
   "source": [
    "for i in range(len(df)):\n",
    "    df['Date'] [i] = df['candleDateTimeKst'][i].split('T')\n",
    "    df['hour'] [i] = df['Date'][i][1].split('+')[0]\n",
    "    df['minute'] [i] = df['hour'][i].split(':')[1]\n",
    "    df['hour'] [i] = df['hour'][i].split(':')[0]\n",
    "    df['Date'] [i] = df['Date'][i][0]\n"
   ]
  },
  {
   "cell_type": "code",
   "execution_count": 6,
   "metadata": {},
   "outputs": [
    {
     "output_type": "execute_result",
     "data": {
      "text/plain": [
       "                     code             candleDateTime  \\\n",
       "0    CRIX.UPBIT.KRW-QTCON  2021-06-12T08:30:00+00:00   \n",
       "1    CRIX.UPBIT.KRW-QTCON  2021-06-12T08:00:00+00:00   \n",
       "2    CRIX.UPBIT.KRW-QTCON  2021-06-12T07:30:00+00:00   \n",
       "3    CRIX.UPBIT.KRW-QTCON  2021-06-12T07:00:00+00:00   \n",
       "4    CRIX.UPBIT.KRW-QTCON  2021-06-12T06:30:00+00:00   \n",
       "..                    ...                        ...   \n",
       "556  CRIX.UPBIT.KRW-QTCON  2021-05-31T17:00:00+00:00   \n",
       "557  CRIX.UPBIT.KRW-QTCON  2021-05-31T16:30:00+00:00   \n",
       "558  CRIX.UPBIT.KRW-QTCON  2021-05-31T16:00:00+00:00   \n",
       "559  CRIX.UPBIT.KRW-QTCON  2021-05-31T15:30:00+00:00   \n",
       "560  CRIX.UPBIT.KRW-QTCON  2021-05-31T15:00:00+00:00   \n",
       "\n",
       "             candleDateTimeKst  openingPrice  highPrice  lowPrice  tradePrice  \\\n",
       "0    2021-06-12T17:30:00+09:00          23.3       23.3      23.2        23.2   \n",
       "1    2021-06-12T17:00:00+09:00          23.6       23.7      23.0        23.2   \n",
       "2    2021-06-12T16:30:00+09:00          24.1       24.2      23.5        23.6   \n",
       "3    2021-06-12T16:00:00+09:00          24.4       24.8      24.1        24.2   \n",
       "4    2021-06-12T15:30:00+09:00          24.2       24.8      23.8        24.3   \n",
       "..                         ...           ...        ...       ...         ...   \n",
       "556  2021-06-01T02:00:00+09:00          52.6       52.7      52.3        52.4   \n",
       "557  2021-06-01T01:30:00+09:00          52.4       52.7      52.3        52.6   \n",
       "558  2021-06-01T01:00:00+09:00          52.4       52.8      52.2        52.4   \n",
       "559  2021-06-01T00:30:00+09:00          52.5       52.7      52.2        52.5   \n",
       "560  2021-06-01T00:00:00+09:00          52.1       52.6      52.1        52.5   \n",
       "\n",
       "     candleAccTradeVolume  candleAccTradePrice      timestamp  unit  \\\n",
       "0            5.035514e+05         1.168697e+07  1623486762789    30   \n",
       "1            1.245662e+07         2.899820e+08  1623486570740    30   \n",
       "2            6.990977e+06         1.668503e+08  1623484796015    30   \n",
       "3            5.337817e+06         1.301828e+08  1623482993449    30   \n",
       "4            1.150076e+07         2.804744e+08  1623481199456    30   \n",
       "..                    ...                  ...            ...   ...   \n",
       "556          7.925233e+05         4.158999e+07  1622482168004    30   \n",
       "557          6.720946e+05         3.527668e+07  1622480397914    30   \n",
       "558          1.788808e+06         9.389585e+07  1622478547916    30   \n",
       "559          4.414198e+05         2.315340e+07  1622476737626    30   \n",
       "560          6.038288e+05         3.162739e+07  1622474932902    30   \n",
       "\n",
       "           Date hour  minute  \n",
       "0    2021-06-12   17      30  \n",
       "1    2021-06-12   17       0  \n",
       "2    2021-06-12   16      30  \n",
       "3    2021-06-12   16       0  \n",
       "4    2021-06-12   15      30  \n",
       "..          ...  ...     ...  \n",
       "556  2021-06-01   02       0  \n",
       "557  2021-06-01   01      30  \n",
       "558  2021-06-01   01       0  \n",
       "559  2021-06-01   00      30  \n",
       "560  2021-06-01   00       0  \n",
       "\n",
       "[561 rows x 14 columns]"
      ],
      "text/html": "<div>\n<style scoped>\n    .dataframe tbody tr th:only-of-type {\n        vertical-align: middle;\n    }\n\n    .dataframe tbody tr th {\n        vertical-align: top;\n    }\n\n    .dataframe thead th {\n        text-align: right;\n    }\n</style>\n<table border=\"1\" class=\"dataframe\">\n  <thead>\n    <tr style=\"text-align: right;\">\n      <th></th>\n      <th>code</th>\n      <th>candleDateTime</th>\n      <th>candleDateTimeKst</th>\n      <th>openingPrice</th>\n      <th>highPrice</th>\n      <th>lowPrice</th>\n      <th>tradePrice</th>\n      <th>candleAccTradeVolume</th>\n      <th>candleAccTradePrice</th>\n      <th>timestamp</th>\n      <th>unit</th>\n      <th>Date</th>\n      <th>hour</th>\n      <th>minute</th>\n    </tr>\n  </thead>\n  <tbody>\n    <tr>\n      <th>0</th>\n      <td>CRIX.UPBIT.KRW-QTCON</td>\n      <td>2021-06-12T08:30:00+00:00</td>\n      <td>2021-06-12T17:30:00+09:00</td>\n      <td>23.3</td>\n      <td>23.3</td>\n      <td>23.2</td>\n      <td>23.2</td>\n      <td>5.035514e+05</td>\n      <td>1.168697e+07</td>\n      <td>1623486762789</td>\n      <td>30</td>\n      <td>2021-06-12</td>\n      <td>17</td>\n      <td>30</td>\n    </tr>\n    <tr>\n      <th>1</th>\n      <td>CRIX.UPBIT.KRW-QTCON</td>\n      <td>2021-06-12T08:00:00+00:00</td>\n      <td>2021-06-12T17:00:00+09:00</td>\n      <td>23.6</td>\n      <td>23.7</td>\n      <td>23.0</td>\n      <td>23.2</td>\n      <td>1.245662e+07</td>\n      <td>2.899820e+08</td>\n      <td>1623486570740</td>\n      <td>30</td>\n      <td>2021-06-12</td>\n      <td>17</td>\n      <td>0</td>\n    </tr>\n    <tr>\n      <th>2</th>\n      <td>CRIX.UPBIT.KRW-QTCON</td>\n      <td>2021-06-12T07:30:00+00:00</td>\n      <td>2021-06-12T16:30:00+09:00</td>\n      <td>24.1</td>\n      <td>24.2</td>\n      <td>23.5</td>\n      <td>23.6</td>\n      <td>6.990977e+06</td>\n      <td>1.668503e+08</td>\n      <td>1623484796015</td>\n      <td>30</td>\n      <td>2021-06-12</td>\n      <td>16</td>\n      <td>30</td>\n    </tr>\n    <tr>\n      <th>3</th>\n      <td>CRIX.UPBIT.KRW-QTCON</td>\n      <td>2021-06-12T07:00:00+00:00</td>\n      <td>2021-06-12T16:00:00+09:00</td>\n      <td>24.4</td>\n      <td>24.8</td>\n      <td>24.1</td>\n      <td>24.2</td>\n      <td>5.337817e+06</td>\n      <td>1.301828e+08</td>\n      <td>1623482993449</td>\n      <td>30</td>\n      <td>2021-06-12</td>\n      <td>16</td>\n      <td>0</td>\n    </tr>\n    <tr>\n      <th>4</th>\n      <td>CRIX.UPBIT.KRW-QTCON</td>\n      <td>2021-06-12T06:30:00+00:00</td>\n      <td>2021-06-12T15:30:00+09:00</td>\n      <td>24.2</td>\n      <td>24.8</td>\n      <td>23.8</td>\n      <td>24.3</td>\n      <td>1.150076e+07</td>\n      <td>2.804744e+08</td>\n      <td>1623481199456</td>\n      <td>30</td>\n      <td>2021-06-12</td>\n      <td>15</td>\n      <td>30</td>\n    </tr>\n    <tr>\n      <th>...</th>\n      <td>...</td>\n      <td>...</td>\n      <td>...</td>\n      <td>...</td>\n      <td>...</td>\n      <td>...</td>\n      <td>...</td>\n      <td>...</td>\n      <td>...</td>\n      <td>...</td>\n      <td>...</td>\n      <td>...</td>\n      <td>...</td>\n      <td>...</td>\n    </tr>\n    <tr>\n      <th>556</th>\n      <td>CRIX.UPBIT.KRW-QTCON</td>\n      <td>2021-05-31T17:00:00+00:00</td>\n      <td>2021-06-01T02:00:00+09:00</td>\n      <td>52.6</td>\n      <td>52.7</td>\n      <td>52.3</td>\n      <td>52.4</td>\n      <td>7.925233e+05</td>\n      <td>4.158999e+07</td>\n      <td>1622482168004</td>\n      <td>30</td>\n      <td>2021-06-01</td>\n      <td>02</td>\n      <td>0</td>\n    </tr>\n    <tr>\n      <th>557</th>\n      <td>CRIX.UPBIT.KRW-QTCON</td>\n      <td>2021-05-31T16:30:00+00:00</td>\n      <td>2021-06-01T01:30:00+09:00</td>\n      <td>52.4</td>\n      <td>52.7</td>\n      <td>52.3</td>\n      <td>52.6</td>\n      <td>6.720946e+05</td>\n      <td>3.527668e+07</td>\n      <td>1622480397914</td>\n      <td>30</td>\n      <td>2021-06-01</td>\n      <td>01</td>\n      <td>30</td>\n    </tr>\n    <tr>\n      <th>558</th>\n      <td>CRIX.UPBIT.KRW-QTCON</td>\n      <td>2021-05-31T16:00:00+00:00</td>\n      <td>2021-06-01T01:00:00+09:00</td>\n      <td>52.4</td>\n      <td>52.8</td>\n      <td>52.2</td>\n      <td>52.4</td>\n      <td>1.788808e+06</td>\n      <td>9.389585e+07</td>\n      <td>1622478547916</td>\n      <td>30</td>\n      <td>2021-06-01</td>\n      <td>01</td>\n      <td>0</td>\n    </tr>\n    <tr>\n      <th>559</th>\n      <td>CRIX.UPBIT.KRW-QTCON</td>\n      <td>2021-05-31T15:30:00+00:00</td>\n      <td>2021-06-01T00:30:00+09:00</td>\n      <td>52.5</td>\n      <td>52.7</td>\n      <td>52.2</td>\n      <td>52.5</td>\n      <td>4.414198e+05</td>\n      <td>2.315340e+07</td>\n      <td>1622476737626</td>\n      <td>30</td>\n      <td>2021-06-01</td>\n      <td>00</td>\n      <td>30</td>\n    </tr>\n    <tr>\n      <th>560</th>\n      <td>CRIX.UPBIT.KRW-QTCON</td>\n      <td>2021-05-31T15:00:00+00:00</td>\n      <td>2021-06-01T00:00:00+09:00</td>\n      <td>52.1</td>\n      <td>52.6</td>\n      <td>52.1</td>\n      <td>52.5</td>\n      <td>6.038288e+05</td>\n      <td>3.162739e+07</td>\n      <td>1622474932902</td>\n      <td>30</td>\n      <td>2021-06-01</td>\n      <td>00</td>\n      <td>0</td>\n    </tr>\n  </tbody>\n</table>\n<p>561 rows × 14 columns</p>\n</div>"
     },
     "metadata": {},
     "execution_count": 6
    }
   ],
   "source": [
    "df"
   ]
  },
  {
   "cell_type": "code",
   "execution_count": 7,
   "metadata": {},
   "outputs": [
    {
     "output_type": "execute_result",
     "data": {
      "text/plain": [
       "  hour  minute  tradePrice  highPrice  lowPrice  candleAccTradeVolume\n",
       "0   17      30        23.2       23.3      23.2          5.035514e+05\n",
       "1   17       0        23.2       23.7      23.0          1.245662e+07\n",
       "2   16      30        23.6       24.2      23.5          6.990977e+06\n",
       "3   16       0        24.2       24.8      24.1          5.337817e+06\n",
       "4   15      30        24.3       24.8      23.8          1.150076e+07"
      ],
      "text/html": "<div>\n<style scoped>\n    .dataframe tbody tr th:only-of-type {\n        vertical-align: middle;\n    }\n\n    .dataframe tbody tr th {\n        vertical-align: top;\n    }\n\n    .dataframe thead th {\n        text-align: right;\n    }\n</style>\n<table border=\"1\" class=\"dataframe\">\n  <thead>\n    <tr style=\"text-align: right;\">\n      <th></th>\n      <th>hour</th>\n      <th>minute</th>\n      <th>tradePrice</th>\n      <th>highPrice</th>\n      <th>lowPrice</th>\n      <th>candleAccTradeVolume</th>\n    </tr>\n  </thead>\n  <tbody>\n    <tr>\n      <th>0</th>\n      <td>17</td>\n      <td>30</td>\n      <td>23.2</td>\n      <td>23.3</td>\n      <td>23.2</td>\n      <td>5.035514e+05</td>\n    </tr>\n    <tr>\n      <th>1</th>\n      <td>17</td>\n      <td>0</td>\n      <td>23.2</td>\n      <td>23.7</td>\n      <td>23.0</td>\n      <td>1.245662e+07</td>\n    </tr>\n    <tr>\n      <th>2</th>\n      <td>16</td>\n      <td>30</td>\n      <td>23.6</td>\n      <td>24.2</td>\n      <td>23.5</td>\n      <td>6.990977e+06</td>\n    </tr>\n    <tr>\n      <th>3</th>\n      <td>16</td>\n      <td>0</td>\n      <td>24.2</td>\n      <td>24.8</td>\n      <td>24.1</td>\n      <td>5.337817e+06</td>\n    </tr>\n    <tr>\n      <th>4</th>\n      <td>15</td>\n      <td>30</td>\n      <td>24.3</td>\n      <td>24.8</td>\n      <td>23.8</td>\n      <td>1.150076e+07</td>\n    </tr>\n  </tbody>\n</table>\n</div>"
     },
     "metadata": {},
     "execution_count": 7
    }
   ],
   "source": [
    "\n",
    "drops= ['Date','unit','candleAccTradePrice','openingPrice','code','candleDateTime','timestamp','candleDateTimeKst']\n",
    "df=df.drop(drops,axis=1)\n",
    "df=df[['hour','minute','tradePrice','highPrice','lowPrice','candleAccTradeVolume']]\n",
    "df.head()"
   ]
  },
  {
   "cell_type": "code",
   "execution_count": 8,
   "metadata": {},
   "outputs": [
    {
     "output_type": "execute_result",
     "data": {
      "text/plain": [
       "23.2"
      ]
     },
     "metadata": {},
     "execution_count": 8
    }
   ],
   "source": [
    "df['tradePrice'][0]"
   ]
  },
  {
   "cell_type": "code",
   "execution_count": 9,
   "metadata": {
    "tags": []
   },
   "outputs": [],
   "source": [
    "# df['rsi_ud'] = 0\n",
    "\n",
    "# for j in range(2):\n",
    "#     upper = 0\n",
    "#     down = 0\n",
    "#     for i in range(14):\n",
    "#         if df['tradePrice'][i+j] > df['tradePrice'][i+j+1]:\n",
    "#             upper += (df['tradePrice'][i+j] - df['tradePrice'][i+j+1])\n",
    "#             print(upper)\n",
    "#         elif df['tradePrice'][i+j] < df['tradePrice'][i+j+1]:\n",
    "#             down += df['tradePrice'][i+j+1] - df['tradePrice'][i+j]\n",
    "#             print(down)\n",
    "#         else:\n",
    "#             continue\n",
    "#     print(upper,down)\n",
    "#     AU = upper/14\n",
    "#     AD = down/14\n",
    "#     RS = AU / AD\n",
    "#     # print(RS)\n",
    "#     RSI = (RS/(1+RS))\n",
    "#     # print(RSI)"
   ]
  },
  {
   "cell_type": "code",
   "execution_count": 10,
   "metadata": {},
   "outputs": [],
   "source": [
    "def EMA_RSI(n,m,list): # n 참고데이터수 m 알고싶은 데이터수\n",
    "    a = 1/(n+1)\n",
    "    upper = 0\n",
    "    down = 0\n",
    "    for j in range(m):\n",
    "        for i in range(n):\n",
    "            if df['tradePrice'][i+j] > df['tradePrice'][i+j+1]:\n",
    "                upper += a*((1-a)**i)*(df['tradePrice'][i+j] - df['tradePrice'][i+j+1])\n",
    "                # print(upper)\n",
    "            elif df['tradePrice'][i+j] < df['tradePrice'][i+j+1]:\n",
    "                down += a*((1-a)**i)*(df['tradePrice'][i+j+1] - df['tradePrice'][i+j])\n",
    "                # print(down)\n",
    "            else:\n",
    "                continue\n",
    "        print(upper,down)\n",
    "        rs = upper/down\n",
    "        print(rs)\n",
    "        thx = (rs/(1+rs))*100\n",
    "        print(thx , j)\n",
    "    \n",
    "            "
   ]
  },
  {
   "cell_type": "code",
   "execution_count": 11,
   "metadata": {},
   "outputs": [
    {
     "output_type": "stream",
     "name": "stdout",
     "text": [
      "0.07439397382148746 0.1325686020285235\n0.5611734051889665\n35.94561650382722 0\n0.15410180291593834 0.3126704291834569\n0.49285697825143654\n33.01434668100044 1\n0.24765962821725637 0.477065243992314\n0.5191315681367189\n34.17291688391786 2\n0.3479001553258114 0.6484094419833194\n0.536543937826805\n34.91888026226314 3\n0.4553007200849775 0.9825435310807769\n0.46338987096496015\n31.665510344102664 4\n0.5632298966126553 1.3677329403046454\n0.41179815153622235\n29.168344716143146 5\n0.6360111571780247 1.834813077711975\n0.3466353956726399\n25.7408498830893 6\n0.713991079212349 2.3318458075818946\n0.3061913771874788\n23.44154023178266 7\n0.7689695671062676 2.8643808752996653\n0.26845925894049255\n21.164200351592594 8\n0.827875089849752 3.427119890449858\n0.24156583846300214\n19.45654680399783 9\n0.8909881499320566 4.052819151820746\n0.21984404350531567\n18.022307415100123 10\n0.9586092857345258 4.739524377261223\n0.20225854103285923\n16.82321515130174 11\n0.9882033598085999 5.475279975947449\n0.180484534882182\n15.289021545732934 12\n1.0056255820308222 6.263589545968404\n0.1605510026879234\n13.834032482508327 13\n1.0242922486974888 6.993921228133715\n0.14645464472450384\n12.774569443145941 14\n1.0497299685928074 7.67641945902512\n0.13674734349731843\n12.029704250427486 15\n1.0555560970520774 8.413105283446946\n0.12546569447180436\n11.147891498433191 16\n1.06995495738713 9.102411523898903\n0.11754631776182631\n10.51825019630891 17\n1.085382307746115 9.451137949626359\n0.11484144168999508\n10.30114574103975 18\n1.1019116117021703 9.753344834334346\n0.11297781739687403\n10.150949608422208 19\n1.1223404401741746 9.934280782235762\n0.11297651684872008\n10.150844616973737 20\n1.1659793502611675 10.09956929784442\n0.11544842318276145\n10.349956195495533 21\n1.2453616447262854 10.276664135996556\n0.12118345294209805\n10.808530274336505 22\n1.3412895428724059 10.430694319730987\n0.1285906289416598\n11.393912517441878 23\n1.4495071536385682 10.517155230875021\n0.13782312058904259\n12.11287748465619 24\n1.579048893483467 10.566934778529342\n0.14943301218172483\n13.000584688105299 25\n1.7232813346411766 10.620270008158972\n0.16226342016891038\n13.9609848639415 26\n1.8778160930244374 10.707322356472112\n0.1753768150904114\n14.920901351701513 27\n2.0433890484350736 10.819624749298377\n0.1888595118391312\n15.885772032640846 28\n2.2065029292321836 10.95082418140287\n0.2014919509875207\n16.770145719404283 29\n"
     ]
    }
   ],
   "source": [
    "EMA_RSI(14,30,df['tradePrice'])\n"
   ]
  },
  {
   "cell_type": "code",
   "execution_count": null,
   "metadata": {},
   "outputs": [],
   "source": []
  }
 ]
}
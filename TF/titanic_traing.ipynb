{
 "metadata": {
  "language_info": {
   "codemirror_mode": {
    "name": "ipython",
    "version": 3
   },
   "file_extension": ".py",
   "mimetype": "text/x-python",
   "name": "python",
   "nbconvert_exporter": "python",
   "pygments_lexer": "ipython3",
   "version": "3.9.2-final"
  },
  "orig_nbformat": 2,
  "kernelspec": {
   "name": "python392jvsc74a57bd063fd5069d213b44bf678585dea6b12cceca9941eaf7f819626cde1f2670de90d",
   "display_name": "Python 3.9.2 64-bit"
  },
  "metadata": {
   "interpreter": {
    "hash": "63fd5069d213b44bf678585dea6b12cceca9941eaf7f819626cde1f2670de90d"
   }
  }
 },
 "nbformat": 4,
 "nbformat_minor": 2,
 "cells": [
  {
   "cell_type": "code",
   "execution_count": null,
   "metadata": {},
   "outputs": [],
   "source": [
    "#work flow for machine learning\n",
    "\n",
    "#1. 데이터 분류 -> human's work\n",
    "#2. 연관성 찾기 -> 입력값과 예측값의 연관성을 파악한 후 기계에 넣을 자료 정제\n",
    "#3. 텍스트 변환 -> 데이터를 숫자로 변환\n",
    "#4. 빠진값 보완 -> 비어있는 데이터 보완\n",
    "#5. 차트 만들기 -> 도표를 그려 데이터 한눈에 보기\n",
    "#6.  모델 제출  -> 만들어진 모델 제출 만들어진 알고리즘을 따라 결과값 확인."
   ]
  },
  {
   "cell_type": "code",
   "execution_count": null,
   "metadata": {},
   "outputs": [],
   "source": [
    "import pandas as pd \n",
    "import numpy as np \n",
    "\n",
    "import seaborn as sns\n",
    "import matplotlib.pyplot as plt\n",
    "\n",
    "#머신러닝 툴\n",
    "from sklearn.linear_model import LogisticRegression\n",
    "from sklearn.linear_model import SGDClassifier\n",
    "from sklearn.linear_model import Perceptron\n",
    "from sklearn.svm import SVC,LinearSVC\n",
    "from sklearn.ensemble import RandomForestClassifier\n",
    "from sklearn.naive_bayes import  GaussianNB\n",
    "from sklearn.tree import  DecisionTreeClassifier\n",
    "from sklearn.neighbors import KNeighborsClassifier"
   ]
  },
  {
   "cell_type": "code",
   "execution_count": null,
   "metadata": {},
   "outputs": [],
   "source": [
    "# 세트 두개 불러오기\n",
    "# 패널 데이터 분석 도구로 불러오기.\n",
    "\n",
    "train = pd.read_csv('data/train.csv')\n",
    "test = pd.read_csv('data/test.csv')"
   ]
  },
  {
   "cell_type": "code",
   "execution_count": null,
   "metadata": {},
   "outputs": [],
   "source": [
    "train.head(5)"
   ]
  },
  {
   "cell_type": "code",
   "execution_count": null,
   "metadata": {},
   "outputs": [],
   "source": [
    "# passenger Id : 승객번호 // sex : 성별 // Age : 나이 // SibSp : 같이 승선한 가족수\n",
    "# Ticket : 표 이름 ( 단순 이름으로 중요하지 않음 )\n",
    "# Fare : 요금 -> 비싼 티켓값과의 연관관계 확인해 볼 필요 있음.\n",
    "# Cabin : 객실 // Pclass : 객실 등급 (Fare 과 연관되어 좋은 객실과 연결 될 것)\n",
    "# Embarked : 탑승 위치\n",
    "# train csv 에서는 11개의 column 이 있음.  test 에서는 survived 가 빠진 10개가 있음"
   ]
  },
  {
   "cell_type": "code",
   "execution_count": null,
   "metadata": {},
   "outputs": [],
   "source": [
    "train.info()\n",
    "print('-'*100)\n",
    "test.info()"
   ]
  },
  {
   "cell_type": "code",
   "execution_count": null,
   "metadata": {},
   "outputs": [],
   "source": [
    "# 데이터의 양은 훈련 > 테스트 일것\n",
    "# 훈련세트엔 891개 entry , 12 column 존재\n",
    "# test 엔 418 개 entry , 11 column 존재\n",
    "train.isnull().sum()\n",
    "\n",
    "# 빠진 값 : 나이 177개 , 객실 687개, 탑승지 2개\n",
    "#자료를 알아보기 위해 컬럼 분류\n",
    "\n",
    "#손가락으로 셀 수 있는 범위가 나와있는 cartegorical(엑셀처럼 나오니 간단히 파악) / numeric (시각화 자료를 통해 파악해야 함)\n",
    "# 데이터의 양은 훈련 > 테스트 일것\n",
    "# 훈련세트엔 891개 entry , 12 column 존재\n",
    "# test 엔 418 개 entry , 11 column 존재\n",
    "train.isnull().sum()\n",
    "\n",
    "# 빠진 값 : 나이 177개 , 객실 687개, 탑승지 2개\n",
    "#자료를 알아보기 위해 컬럼 분류\n"
   ]
  },
  {
   "cell_type": "code",
   "execution_count": null,
   "metadata": {},
   "outputs": [],
   "source": [
    "#손가락으로 셀 수 있는 범위가 나와있는 cartegorical(엑셀처럼 나오니 간단히 파악) / numeric (시각화 자료를 통해 파악해야 함)\n",
    "# describe 설명해줘 기계야!\n",
    "train.describe()"
   ]
  },
  {
   "cell_type": "code",
   "execution_count": null,
   "metadata": {},
   "outputs": [],
   "source": [
    "# 1. 총 2,224명 중 훈련샘플은 891개 이다 -> 총 데이터 중 40%가 제공됨.\n",
    "# 2. 살았는지 죽었는지는 1 과 0으로 구분\n",
    "# 3. 타이타닉 실제 생존률은 32% 이다. -> describe 의 평균 생존률은 38%로 제공됨. -> 실제 데이터가 아닌 훈련용 데이터임.\n",
    "# 4. Parch 항목 보면 max 0~75% 는 0이다? -> 0 = 혼자탐 -> 혼자 탄 사람이 75% 이상이다.\n",
    "# 5. SibSp 항목 75% 이상의 값은 1인데 MAX 값에 몰려있다 -> 형제 자매 배우자와 같이 탄 사람. \n",
    "# 6. 나이 항목 : 최소 0.42 최대 80 이지만, 평균 28세정도이다 -> 젊은 편\n",
    "# 7. Pclass : 50% 이상이 3등선실에 타고있다.\n"
   ]
  },
  {
   "cell_type": "code",
   "execution_count": 16,
   "metadata": {},
   "outputs": [
    {
     "output_type": "execute_result",
     "data": {
      "text/plain": [
       "                                   Name   Sex Ticket        Cabin Embarked\n",
       "count                               891   891    891          204      889\n",
       "unique                              891     2    681          147        3\n",
       "top     Bryhl, Mr. Kurt Arnold Gottfrid  male   1601  C23 C25 C27        S\n",
       "freq                                  1   577      7            4      644"
      ],
      "text/html": "<div>\n<style scoped>\n    .dataframe tbody tr th:only-of-type {\n        vertical-align: middle;\n    }\n\n    .dataframe tbody tr th {\n        vertical-align: top;\n    }\n\n    .dataframe thead th {\n        text-align: right;\n    }\n</style>\n<table border=\"1\" class=\"dataframe\">\n  <thead>\n    <tr style=\"text-align: right;\">\n      <th></th>\n      <th>Name</th>\n      <th>Sex</th>\n      <th>Ticket</th>\n      <th>Cabin</th>\n      <th>Embarked</th>\n    </tr>\n  </thead>\n  <tbody>\n    <tr>\n      <th>count</th>\n      <td>891</td>\n      <td>891</td>\n      <td>891</td>\n      <td>204</td>\n      <td>889</td>\n    </tr>\n    <tr>\n      <th>unique</th>\n      <td>891</td>\n      <td>2</td>\n      <td>681</td>\n      <td>147</td>\n      <td>3</td>\n    </tr>\n    <tr>\n      <th>top</th>\n      <td>Bryhl, Mr. Kurt Arnold Gottfrid</td>\n      <td>male</td>\n      <td>1601</td>\n      <td>C23 C25 C27</td>\n      <td>S</td>\n    </tr>\n    <tr>\n      <th>freq</th>\n      <td>1</td>\n      <td>577</td>\n      <td>7</td>\n      <td>4</td>\n      <td>644</td>\n    </tr>\n  </tbody>\n</table>\n</div>"
     },
     "metadata": {},
     "execution_count": 16
    }
   ],
   "source": [
    "# 글자로 된 데이터 보기\n",
    "# 글자 -> object 포함 include->\n",
    "train.describe(include='O')\n",
    "\n",
    "# 동명이인이 없다는 사실을 알 수 있음.\n",
    "# 21세기에는 여러 성별이 존재하지만 사고 당시에는 딱 2개의 성별.\n",
    "# top-sex  : male  남자가 더 많이 탔다 // freq 값이 577로 남자가 577명이다.\n",
    "# Cabin 객실 값을 보자하니, 일반적으로 생각해보면 모든 승객은 1인실을 탈 수 없음. -> 객실 공유는 필수불가결 친구끼리의 객실 이름은 같을 것.\n",
    "# 즉 대체적으로 승객들은 같은 객실에 탔을 확률이 높았다.\n",
    "# 승선지는 S 에서 탄 사람이 가장 많다. 644명\n",
    "# unique row 는 내생각엔 변수의 수라고 보여짐. sex 2개 Embarked 3개 등.\n",
    "# top 은 최고로 꼽힌 값(최대값) freq 은 top 값의 수 male - 577 // s - 644\n"
   ]
  },
  {
   "cell_type": "code",
   "execution_count": null,
   "metadata": {},
   "outputs": [],
   "source": [
    "# 데이터 의미 파악 끝.\n",
    "\n",
    "#survived 값을 더 정확하게 파악하기 위해 데이터 엔지니어링을 해보고자 함.\n"
   ]
  }
 ]
}